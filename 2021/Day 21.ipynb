{
 "cells": [
  {
   "cell_type": "markdown",
   "metadata": {},
   "source": [
    "# Day 21 - Round and round we go...\n",
    "\n",
    "Ok, I've skipped straight from Day 17 to Day 21, because both 18 and 19 looks horrid and 20 looks like a fair amount of work (but I have good ideas for that one).\n",
    "\n",
    "Day 21 requires us to track a pawns progress on a circular board (which means modular arithmatic) rolling a deterministic die.\n",
    "\n",
    "So each roll of hte die will be a 1 then a 2 then a 3 and so on.\n",
    "\n",
    "Each player gets 3 rolls, and then applies the rolls to their piece, and then adds the place they land on their score.\n",
    "\n",
    "I'm going to use a combination of functional and pythonic programming here, using a generator for the die, and feeding that into an advance state function.  The current game is going to be a deterministic state machine that keeps track of the scores, the current positions and gets fed with a die generator.  It will end when the first player gets to 1000 and return the losing player and the current die roll.\n",
    "\n",
    "Note that I suspect that part two will require implementing a new die that generates seemingly random numbers, so I want to push the die out to an externalised generator so that it's separate to the board"
   ]
  },
  {
   "cell_type": "code",
   "execution_count": 4,
   "metadata": {},
   "outputs": [],
   "source": [
    "## Import ipytest and get it setup for use in Python Notebook\n",
    "import pytest\n",
    "import ipytest\n",
    "ipytest.autoconfig()\n",
    "import itertools\n",
    "import more_itertools"
   ]
  },
  {
   "cell_type": "code",
   "execution_count": 5,
   "metadata": {},
   "outputs": [],
   "source": [
    "from enum import Enum\n",
    "from itertools import cycle\n",
    "from more_itertools import always_iterable, take\n",
    "\n",
    "def deterministic_die(rolls=100):\n",
    "    return cycle(always_iterable(range(1,rolls+1)))\n",
    "\n",
    "def playgame(die, p1start, p2start, debug=False):\n",
    "    currentplayer = 0\n",
    "    currentroll = 0\n",
    "    totalrolls = 0\n",
    "    scores = [0,0]\n",
    "    location =[p1start, p2start]\n",
    "    for roll in die:\n",
    "        location[currentplayer] += roll\n",
    "        while location[currentplayer] > 10: location[currentplayer] -= 10\n",
    "        totalrolls += 1\n",
    "        currentroll += 1\n",
    "        if currentroll == 3:\n",
    "            scores[currentplayer] += location[currentplayer]\n",
    "            if debug: print(f\"Roll {roll} - Player1@{location[0]}={scores[0]}, Player2@{location[1]}={scores[1]}\")\n",
    "            if scores[currentplayer] >= 1000:\n",
    "                return scores,totalrolls\n",
    "            currentplayer = (currentplayer+1) % 2\n",
    "            currentroll = 0\n",
    "    return scores,totalrolls\n",
    "\n",
    "assert ([10,0],3) == playgame(take(3,deterministic_die()), 4, 8)\n",
    "assert ([10,3],6) == playgame(take(6,deterministic_die()), 4, 8)\n",
    "assert ([14,3],9) == playgame(take(9,deterministic_die()), 4, 8)\n",
    "assert ([14,9],12) == playgame(take(12,deterministic_die()), 4, 8)\n",
    "assert ([20,9],15) == playgame(take(15,deterministic_die()), 4, 8)\n",
    "assert ([26,22],24) == playgame(take(24,deterministic_die()), 4, 8)\n",
    "assert ([1000,745],993) == playgame(deterministic_die(), 4, 8)\n",
    "\n"
   ]
  },
  {
   "cell_type": "markdown",
   "metadata": {},
   "source": [
    "Ok, that was slightly more complex than I thought, but mostly because I had an off-by-one error.\n",
    "\n",
    "Annoyingly, the test data covers the first 24 rolls, but doesn't make clear or give good tests for what happens at roll 100.\n",
    "By the time we get to roll 993, my off by one error was repeated 9 times, which is enough to completely throw everything out.\n",
    "\n",
    "What was the off by one?  `cycle(always_iterable(range(1,100)))` handles a range from 1 to 99, not 1 to 100!\n",
    "\n",
    "Anyway, that done, lets see what the production data says"
   ]
  },
  {
   "cell_type": "code",
   "execution_count": 6,
   "metadata": {},
   "outputs": [
    {
     "name": "stdout",
     "output_type": "stream",
     "text": [
      "([1008, 784], 861)\n",
      "675024\n"
     ]
    }
   ],
   "source": [
    "results = playgame(deterministic_die(), 7, 4)\n",
    "print(results)\n",
    "print(min(results[0])*results[1])"
   ]
  },
  {
   "cell_type": "markdown",
   "metadata": {},
   "source": [
    "# Part 2 - The trouser legs of time\n",
    "\n",
    "OMG, I was not expecting that!  The first clue here is that we're talking thousands of trillions of answers, 10^15 or so more or less, which is a big enough number that brute force isn't going to help us.\n",
    "\n",
    "We could create a generator and return multiple generators for each roll, and then advance them all, creating endless new generators and running them until we get to 21.\n",
    "\n",
    "A better option might be to start thinking of the rolls as a tree structure.  From the first node, at the starting positions, there's 3 onward nodes, one where p1 roles a 1, 2, or 3.  Each tree node represents a game move.  We can build this tree, and then traverse it.  The problem is that if our order of magnitude calculations are right, it would be about a petabyte in size.\n",
    "\n",
    "I suspect the answer is related to the fact that although there are thousand of billions of combiations, many of them are the same.  After all, rolling a 1 and then a 2 is the same as rolling a 2 and then a 1.  Caching is probably the solution, but I'd need to rewrite the first half significantly.\n",
    "\n",
    "Might come back to this later"
   ]
  }
 ],
 "metadata": {
  "kernelspec": {
   "display_name": "Python 3 (ipykernel)",
   "language": "python",
   "name": "python3"
  },
  "language_info": {
   "codemirror_mode": {
    "name": "ipython",
    "version": 3
   },
   "file_extension": ".py",
   "mimetype": "text/x-python",
   "name": "python",
   "nbconvert_exporter": "python",
   "pygments_lexer": "ipython3",
   "version": "3.8.6"
  },
  "orig_nbformat": 4
 },
 "nbformat": 4,
 "nbformat_minor": 2
}
