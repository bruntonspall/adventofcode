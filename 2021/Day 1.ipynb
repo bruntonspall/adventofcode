{
 "cells": [
  {
   "cell_type": "markdown",
   "id": "76cee0aa",
   "metadata": {},
   "source": [
    "# Day 1\n",
    "\n",
    "We've got a list of depth readings.  We need to loop over all the numbers, counting those that are greater than the one before.\n",
    "We need to make sure that we don't count the first number as increasing from \"nothing\"."
   ]
  },
  {
   "cell_type": "code",
   "execution_count": 1,
   "id": "c7fed1de",
   "metadata": {},
   "outputs": [],
   "source": [
    "## Import ipytest and get it setup for use in Python Notebook\n",
    "import pytest\n",
    "import ipytest\n",
    "ipytest.autoconfig()"
   ]
  },
  {
   "cell_type": "markdown",
   "id": "6990b292",
   "metadata": {},
   "source": [
    "We are going to need a function that can iterate over a list of numbers, and count them if they are greater.\n",
    "\n",
    "It's going to keep track of the last number we looked at. We need to ensure that it starts at the first reading, which we do by setting the \"last number\" to be equal to the starting number.  If we wanted to track the depth increasing with the first number, we'd just start last number at 0 instead."
   ]
  },
  {
   "cell_type": "code",
   "execution_count": 2,
   "id": "6f46a262",
   "metadata": {},
   "outputs": [],
   "source": [
    "def count_increases(l):\n",
    "    count = 0\n",
    "    lastnumber = l[0]\n",
    "    for num in l:\n",
    "        if num > lastnumber:\n",
    "            count = count + 1\n",
    "        lastnumber = num\n",
    "    return count"
   ]
  },
  {
   "cell_type": "code",
   "execution_count": 3,
   "id": "74183619",
   "metadata": {},
   "outputs": [],
   "source": [
    "test_list = [199, 200, 208, 210, 200, 207, 240, 269, 260, 263]\n",
    "assert count_increases(test_list) == 7"
   ]
  },
  {
   "cell_type": "markdown",
   "id": "cfcd20a8",
   "metadata": {},
   "source": [
    "Great, that works.  Let's try that on the real list.\n",
    "\n",
    "That means we are going to want to read the lines in from a file and turn them into numbers.  This is a common thing for the advent of code, so there's a pretty common pattern that I tend to use.\n",
    "\n",
    "We need to strip the whitespace like line endings off of each line, and then turn it into an integer."
   ]
  },
  {
   "cell_type": "code",
   "execution_count": 4,
   "id": "a703a913",
   "metadata": {},
   "outputs": [],
   "source": [
    "data = [int(line.strip()) for line in open(\"day1.txt\").readlines()]"
   ]
  },
  {
   "cell_type": "code",
   "execution_count": 5,
   "id": "c5ac4ef1",
   "metadata": {},
   "outputs": [],
   "source": [
    "assert count_increases(data) == 1624"
   ]
  },
  {
   "cell_type": "markdown",
   "id": "65607033",
   "metadata": {},
   "source": [
    "Great, we've got the answer for part 1, it's 1624 for my dataset!\n",
    "\n",
    "Onto...\n",
    "\n",
    "## Part 2"
   ]
  },
  {
   "cell_type": "markdown",
   "id": "965c8154",
   "metadata": {},
   "source": [
    "We now need a 3 measurement window instead of just the individual readings.  We then sum the window and compare the window sums with each other, still looking for an increase in depth.\n",
    "\n",
    "So for list a, b, c, d, e, we need something that can return (a,b,c) and then (b,c,d) and so on.\n",
    "\n",
    "We need to end when the start reaches the total - 2, so we get (total-2, total-1, total)\n",
    "\n",
    "We'll write a window function that returns just the relevant subset of the list.  Because it returns a list itself, we can use the sum function to get the total of adding the three numbers together."
   ]
  },
  {
   "cell_type": "code",
   "execution_count": 7,
   "id": "7fca53ed",
   "metadata": {},
   "outputs": [],
   "source": [
    "def window(l, start):\n",
    "    return l[start:start+3]\n",
    "\n",
    "assert window(test_list, 0) == [199, 200, 208]\n",
    "assert window(test_list, 1) == [200, 208, 210]\n",
    "assert window(test_list, 7) == [269, 260, 263]\n",
    "\n",
    "assert sum(window(test_list,0)) == 607"
   ]
  },
  {
   "cell_type": "markdown",
   "id": "2858859e",
   "metadata": {},
   "source": [
    "We are going to need a new version of count increases that uses the sliding windows properly.\n",
    "\n",
    "Most importantly, we need to set the lastnumber equivalent to be the same as the very first window, and we need to make sure that we end 2 before the total number of readings, because we don't want partial windows returned."
   ]
  },
  {
   "cell_type": "code",
   "execution_count": 8,
   "id": "2719d486",
   "metadata": {},
   "outputs": [],
   "source": [
    "def count_increases_sliding(l):\n",
    "    count = 0\n",
    "    lastsum = sum(window(l,0))\n",
    "    for index in range(len(l)-2):\n",
    "        winsum = sum(window(l, index))\n",
    "        if winsum > lastsum:\n",
    "            count = count + 1\n",
    "        lastsum = winsum\n",
    "    return count"
   ]
  },
  {
   "cell_type": "code",
   "execution_count": 9,
   "id": "bba05f9c",
   "metadata": {},
   "outputs": [],
   "source": [
    "assert count_increases_sliding(test_list) == 5\n",
    "assert count_increases_sliding(data) == 1653"
   ]
  }
 ],
 "metadata": {
  "kernelspec": {
   "display_name": "Python 3 (ipykernel)",
   "language": "python",
   "name": "python3"
  },
  "language_info": {
   "codemirror_mode": {
    "name": "ipython",
    "version": 3
   },
   "file_extension": ".py",
   "mimetype": "text/x-python",
   "name": "python",
   "nbconvert_exporter": "python",
   "pygments_lexer": "ipython3",
   "version": "3.9.6"
  }
 },
 "nbformat": 4,
 "nbformat_minor": 5
}
