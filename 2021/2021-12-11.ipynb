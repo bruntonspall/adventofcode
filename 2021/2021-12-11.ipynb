{
 "cells": [
  {
   "cell_type": "markdown",
   "metadata": {},
   "source": [
    "# Day 11 - Flashes of inspiration\n",
    "\n",
    "This is a problem around having a grid of octopuses that build up energy and flash.  That's a fairly simple simulation, the tricky part is that when an octopus flashes it's light, it adds energy to all of its neighbours.\n",
    "\n",
    "We're going to have to process the octopuses carefully to avoid infinite loops, and to make sure that we've caught all of them.\n",
    "\n",
    "Luckily, this is problem is almost exactly the same as the problem from a few days ago, and a flood fill algorithm should manage most of it.  What we need to be careful of in this case is that an octopus affects its neighbours, so a given octopus can be visited multiple times by the flood fill (which doesn't happen for our previous flood fill), but that it can only flash the once.\n",
    "\n",
    "The way that I'm going to deal with this is the same flood fill algorithm that we used before, visit all the octopuses (octopi?) that have reached a flash threshold, and for each octopus, we'll add energy to the neighbours.  If any have reached flash threshold, we'll add them to teh list.  But critically, we won't reset those counters yet, we'll let them keep building up.  This means that we should only visit each octopus to make it flash itself if it reached exactly 9, so when we get from 9 to 10, we add the energy but don't add it to the visit list.\n",
    "\n",
    "So the algorithm will look like:\n",
    "\n",
    "```\n",
    "Start with a tovisit list that is all the octopuses that have 9 energy\n",
    "Start with an empty  visited list\n",
    "While theres an octopus in the tovisit list\n",
    "  Make the octopus flash by adding it to visited list\n",
    "  Go to each of the neighbours of the octopus adding 1 to their energy level\n",
    "  If their energy level is now exactly 9, add them to the tovisit list\n",
    "  Remove the octopus from the tovisit list\n",
    "Now go through all octopuses that have a value 9 or greater, and set them to 0\n",
    "return the list of octopuses that flashed\n",
    "```\n",
    "\n",
    "Lets give it a try\n"
   ]
  },
  {
   "cell_type": "code",
   "execution_count": 1,
   "metadata": {},
   "outputs": [],
   "source": [
    "## Import ipytest and get it setup for use in Python Notebook\n",
    "import pytest\n",
    "import ipytest\n",
    "ipytest.autoconfig()"
   ]
  },
  {
   "cell_type": "code",
   "execution_count": 42,
   "metadata": {},
   "outputs": [],
   "source": [
    "import collections\n",
    "import IPython.display\n",
    "Coord = collections.namedtuple(\"Coord\", [\"x\", \"y\"])\n",
    "\n",
    "class Grid:\n",
    "    def __init__(self, width, height, cells):\n",
    "        self.width = width\n",
    "        self.height = height\n",
    "        self.cells = cells\n",
    "\n",
    "    def get_neighbours(self, coord):\n",
    "        return [Coord(coord.x+d.x, coord.y+d.y) for d in [Coord(-1,-1), Coord(0, -1), Coord(1, -1), Coord(-1, 0), Coord(1, 0), Coord(-1, 1), Coord(0, 1), Coord(1, 1)] if Coord(coord.x+d.x, coord.y+d.y) in self.cells]\n",
    "\n",
    "    def execute_step(self):\n",
    "        tovisit = []\n",
    "        visited = []\n",
    "        for coord in self.cells:\n",
    "            self.cells[coord] += 1\n",
    "            if self.cells[coord] > 9:\n",
    "                tovisit.append(coord)\n",
    "        while tovisit:\n",
    "            coord = tovisit.pop()\n",
    "            visited.append(coord)\n",
    "            for neighbour in self.get_neighbours(coord):\n",
    "                self.cells[neighbour] += 1\n",
    "                if self.cells[neighbour] == 10:\n",
    "                    tovisit.append(neighbour)\n",
    "        for coord in visited:\n",
    "            self.cells[coord] = 0\n",
    "\n",
    "        return visited\n",
    "            \n",
    "    def display(self, flashes=[]):\n",
    "        for y in range(self.height):\n",
    "            s = \"\"\n",
    "            for x in range(self.width):\n",
    "                if Coord(x,y) in flashes:\n",
    "                    s += f\" **{self.cells[Coord(x,y)]}** \"\n",
    "                else:\n",
    "                    s += f\" {self.cells[Coord(x,y)]} \"\n",
    "            IPython.display.display(IPython.display.Markdown(s))\n",
    "        IPython.display.display(\"\")   \n",
    "\n",
    "\n",
    "\n",
    "def parse_input(lines):\n",
    "    cells = {}\n",
    "    width = len(lines[0])\n",
    "    height = len(lines)\n",
    "    for y, line in enumerate(lines):\n",
    "        for x, octopus in enumerate(line):\n",
    "            cells[Coord(x,y)] = int(octopus)\n",
    "    return Grid(width, height, cells)\n",
    "\n"
   ]
  },
  {
   "cell_type": "code",
   "execution_count": 43,
   "metadata": {
    "scrolled": true
   },
   "outputs": [
    {
     "data": {
      "text/markdown": [
       " 1  1  1  1  1 "
      ],
      "text/plain": [
       "<IPython.core.display.Markdown object>"
      ]
     },
     "metadata": {},
     "output_type": "display_data"
    },
    {
     "data": {
      "text/markdown": [
       " 1  9  9  9  1 "
      ],
      "text/plain": [
       "<IPython.core.display.Markdown object>"
      ]
     },
     "metadata": {},
     "output_type": "display_data"
    },
    {
     "data": {
      "text/markdown": [
       " 1  9  1  9  1 "
      ],
      "text/plain": [
       "<IPython.core.display.Markdown object>"
      ]
     },
     "metadata": {},
     "output_type": "display_data"
    },
    {
     "data": {
      "text/markdown": [
       " 1  9  9  9  1 "
      ],
      "text/plain": [
       "<IPython.core.display.Markdown object>"
      ]
     },
     "metadata": {},
     "output_type": "display_data"
    },
    {
     "data": {
      "text/markdown": [
       " 1  1  1  1  1 "
      ],
      "text/plain": [
       "<IPython.core.display.Markdown object>"
      ]
     },
     "metadata": {},
     "output_type": "display_data"
    },
    {
     "data": {
      "text/plain": [
       "''"
      ]
     },
     "metadata": {},
     "output_type": "display_data"
    },
    {
     "data": {
      "text/markdown": [
       " 3  4  5  4  3 "
      ],
      "text/plain": [
       "<IPython.core.display.Markdown object>"
      ]
     },
     "metadata": {},
     "output_type": "display_data"
    },
    {
     "data": {
      "text/markdown": [
       " 4  **0**  **0**  **0**  4 "
      ],
      "text/plain": [
       "<IPython.core.display.Markdown object>"
      ]
     },
     "metadata": {},
     "output_type": "display_data"
    },
    {
     "data": {
      "text/markdown": [
       " 5  **0**  **0**  **0**  5 "
      ],
      "text/plain": [
       "<IPython.core.display.Markdown object>"
      ]
     },
     "metadata": {},
     "output_type": "display_data"
    },
    {
     "data": {
      "text/markdown": [
       " 4  **0**  **0**  **0**  4 "
      ],
      "text/plain": [
       "<IPython.core.display.Markdown object>"
      ]
     },
     "metadata": {},
     "output_type": "display_data"
    },
    {
     "data": {
      "text/markdown": [
       " 3  4  5  4  3 "
      ],
      "text/plain": [
       "<IPython.core.display.Markdown object>"
      ]
     },
     "metadata": {},
     "output_type": "display_data"
    },
    {
     "data": {
      "text/plain": [
       "''"
      ]
     },
     "metadata": {},
     "output_type": "display_data"
    },
    {
     "data": {
      "text/markdown": [
       " 4  5  6  5  4 "
      ],
      "text/plain": [
       "<IPython.core.display.Markdown object>"
      ]
     },
     "metadata": {},
     "output_type": "display_data"
    },
    {
     "data": {
      "text/markdown": [
       " 5  1  1  1  5 "
      ],
      "text/plain": [
       "<IPython.core.display.Markdown object>"
      ]
     },
     "metadata": {},
     "output_type": "display_data"
    },
    {
     "data": {
      "text/markdown": [
       " 6  1  1  1  6 "
      ],
      "text/plain": [
       "<IPython.core.display.Markdown object>"
      ]
     },
     "metadata": {},
     "output_type": "display_data"
    },
    {
     "data": {
      "text/markdown": [
       " 5  1  1  1  5 "
      ],
      "text/plain": [
       "<IPython.core.display.Markdown object>"
      ]
     },
     "metadata": {},
     "output_type": "display_data"
    },
    {
     "data": {
      "text/markdown": [
       " 4  5  6  5  4 "
      ],
      "text/plain": [
       "<IPython.core.display.Markdown object>"
      ]
     },
     "metadata": {},
     "output_type": "display_data"
    },
    {
     "data": {
      "text/plain": [
       "''"
      ]
     },
     "metadata": {},
     "output_type": "display_data"
    }
   ],
   "source": [
    "\n",
    "octopuses = parse_input(\"\"\"11111\n",
    "19991\n",
    "19191\n",
    "19991\n",
    "11111\"\"\".split(\"\\n\"))\n",
    "\n",
    "octopuses.display()\n",
    "assert 1 == octopuses.cells[Coord(0,0)]\n",
    "assert 9 == octopuses.cells[Coord(1,1)]\n",
    "assert 1 == octopuses.cells[Coord(2,2)]\n",
    "assert 1 == octopuses.cells[Coord(4,4)]\n",
    "\n",
    "assert [Coord(1,0), Coord(0,1), Coord(1,1)] == octopuses.get_neighbours(Coord(0,0))\n",
    "\n",
    "\n",
    "flashes = octopuses.execute_step()\n",
    "octopuses.display(flashes)\n",
    "assert 3 == octopuses.cells[Coord(0,0)]\n",
    "assert 0 == octopuses.cells[Coord(1,1)]\n",
    "assert 0 == octopuses.cells[Coord(2,2)]\n",
    "assert 4 == octopuses.cells[Coord(1,0)]\n",
    "assert 5 == octopuses.cells[Coord(2,0)]\n",
    "assert 9 == len(flashes)\n",
    "\n",
    "flashes = octopuses.execute_step()\n",
    "octopuses.display(flashes)\n",
    "assert 4 == octopuses.cells[Coord(0,0)]\n",
    "assert 1 == octopuses.cells[Coord(1,1)]\n",
    "assert 1 == octopuses.cells[Coord(2,2)]\n",
    "assert 5 == octopuses.cells[Coord(1,0)]\n",
    "assert 6 == octopuses.cells[Coord(2,0)]\n",
    "assert 0 == len(flashes)"
   ]
  },
  {
   "cell_type": "markdown",
   "metadata": {},
   "source": [
    "Cool, that works on the simple input, lets try it on the test input"
   ]
  },
  {
   "cell_type": "code",
   "execution_count": 46,
   "metadata": {},
   "outputs": [],
   "source": [
    "octopuses = parse_input(\"\"\"5483143223\n",
    "2745854711\n",
    "5264556173\n",
    "6141336146\n",
    "6357385478\n",
    "4167524645\n",
    "2176841721\n",
    "6882881134\n",
    "4846848554\n",
    "5283751526\"\"\".split(\"\\n\"))\n",
    "\n",
    "count = 0\n",
    "for x in range(10):\n",
    "    flashes = octopuses.execute_step()\n",
    "    count += len(flashes)\n",
    "assert 204 == count\n",
    "for x in range(90):\n",
    "    flashes = octopuses.execute_step()\n",
    "    count += len(flashes)\n",
    "assert 1656 == count"
   ]
  },
  {
   "cell_type": "markdown",
   "metadata": {},
   "source": [
    "That worked, and somewhat to my surprise, I didn't get the numbers wrong in those range arguments.  I was expecting at least 1 off by one error!\n",
    "\n",
    "Onto production input"
   ]
  },
  {
   "cell_type": "code",
   "execution_count": 47,
   "metadata": {},
   "outputs": [
    {
     "name": "stdout",
     "output_type": "stream",
     "text": [
      "1785\n"
     ]
    }
   ],
   "source": [
    "octopuses = parse_input([line.strip() for line in open(\"day11.txt\").readlines()])\n",
    "count = 0\n",
    "for x in range(100):\n",
    "    flashes = octopuses.execute_step()\n",
    "    count += len(flashes)\n",
    "print(count)\n"
   ]
  },
  {
   "cell_type": "markdown",
   "metadata": {},
   "source": [
    "Ok, onto part 2.\n",
    "\n",
    "I think the easiest way to do this, via brute force, is to keep looping the execute step until we get a flashes that returns us the length of the input, 100."
   ]
  },
  {
   "cell_type": "code",
   "execution_count": 48,
   "metadata": {},
   "outputs": [],
   "source": [
    "octopuses = parse_input(\"\"\"5483143223\n",
    "2745854711\n",
    "5264556173\n",
    "6141336146\n",
    "6357385478\n",
    "4167524645\n",
    "2176841721\n",
    "6882881134\n",
    "4846848554\n",
    "5283751526\"\"\".split(\"\\n\"))\n",
    "\n",
    "steps = 0\n",
    "while True:\n",
    "    steps += 1\n",
    "    flashes = octopuses.execute_step()\n",
    "    if len(flashes) == 100:\n",
    "        break\n",
    "assert 195 == steps"
   ]
  },
  {
   "cell_type": "markdown",
   "metadata": {},
   "source": [
    "Ok, lets try that on prod data"
   ]
  },
  {
   "cell_type": "code",
   "execution_count": 49,
   "metadata": {},
   "outputs": [
    {
     "name": "stdout",
     "output_type": "stream",
     "text": [
      "354\n"
     ]
    }
   ],
   "source": [
    "octopuses = parse_input([line.strip() for line in open(\"day11.txt\").readlines()])\n",
    "steps = 0\n",
    "while True:\n",
    "    steps += 1\n",
    "    flashes = octopuses.execute_step()\n",
    "    if len(flashes) == 100:\n",
    "        break\n",
    "print(steps)\n"
   ]
  }
 ],
 "metadata": {
  "kernelspec": {
   "display_name": "Python 3 (ipykernel)",
   "language": "python",
   "name": "python3"
  },
  "language_info": {
   "codemirror_mode": {
    "name": "ipython",
    "version": 3
   },
   "file_extension": ".py",
   "mimetype": "text/x-python",
   "name": "python",
   "nbconvert_exporter": "python",
   "pygments_lexer": "ipython3",
   "version": "3.10.1"
  }
 },
 "nbformat": 4,
 "nbformat_minor": 2
}
