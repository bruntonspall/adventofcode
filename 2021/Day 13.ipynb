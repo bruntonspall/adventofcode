{
 "cells": [
  {
   "cell_type": "markdown",
   "metadata": {},
   "source": [
    "# Day 13 - Folding like a pro\n",
    "\n",
    "Right, I've missed about 5 days in a row due to log4j so the explanations are going to be shorter.\n",
    "\n",
    "We've got a series of fold along instructions.  At that point what we're going to have to do is take all the marked dots that are beyond the x or y foldline, and duplicate them below the line.\n",
    "\n",
    "We're going to use a set of coordinates to indicate each of the (x,y) coords.\n",
    "\n",
    "When we fold, we'll go through each coordinate and if it's beynd the fold, we create a new coordinate at the equivalent new location.\n",
    "If we hold all the coords in a set (because order doesn't matter), then it will automatically deduplicate the coordinates.\n",
    "\n",
    "Make sense?  Let's describe that with code"
   ]
  },
  {
   "cell_type": "code",
   "execution_count": 1,
   "metadata": {},
   "outputs": [],
   "source": [
    "## Import ipytest and get it setup for use in Python Notebook\n",
    "import pytest\n",
    "import ipytest\n",
    "ipytest.autoconfig()"
   ]
  },
  {
   "cell_type": "code",
   "execution_count": 2,
   "metadata": {},
   "outputs": [
    {
     "name": "stdout",
     "output_type": "stream",
     "text": [
      "...#..#..#.\n",
      "....#......\n",
      "...........\n",
      "#..........\n",
      "...#....#.#\n",
      "...........\n",
      "...........\n",
      "...........\n",
      "...........\n",
      "...........\n",
      ".#....#.##.\n",
      "....#......\n",
      "......#...#\n",
      "#..........\n",
      "#.#........\n",
      "\n",
      "#.##..#..#.\n",
      "#...#......\n",
      "......#...#\n",
      "#...#......\n",
      ".#.#..#.###\n",
      "\n",
      "#####\n",
      "#...#\n",
      "#...#\n",
      "#...#\n",
      "#####\n",
      "\n"
     ]
    }
   ],
   "source": [
    "from collections import namedtuple\n",
    "Coord = namedtuple('Coord', ['x', 'y'])\n",
    "\n",
    "def foldAt(axis, value, coords):\n",
    "    newcoords = set()\n",
    "    for coord in coords:\n",
    "        x = coord.x\n",
    "        y = coord.y\n",
    "        if axis == \"x\" and x > value:\n",
    "            x = value-(x-value)\n",
    "        if axis == \"y\" and y > value:\n",
    "            y = value-(y-value)\n",
    "        newcoords.add(Coord(x,y))\n",
    "    return newcoords\n",
    "\n",
    "def render(coords):\n",
    "    maxy = max(coords, key=lambda a: a.y).y\n",
    "    maxx = max(coords, key=lambda a: a.x).x\n",
    "    s=\"\"\n",
    "    for y in range(maxy+1):\n",
    "        for x in range(maxx+1):\n",
    "            if Coord(x,y) in coords: s+=\"#\"\n",
    "            else: s+=\".\"\n",
    "        s+=\"\\n\"\n",
    "    print(s)\n",
    "\n",
    "# Map a coordinate based on a fold line\n",
    "coords = {Coord(6,10), Coord(6,12), Coord(6,0)}\n",
    "assert foldAt(\"y\", 7, coords) == {Coord(6,2), Coord(6,4), Coord(6,0) }\n",
    "test_coords = {Coord(6,10), Coord(0,14), Coord(9,10), Coord(0,3), Coord(10,4), Coord(4,11), Coord(6,0), Coord(6,12), Coord(4,1), Coord(0,13), Coord(10,12), Coord(3,4), Coord(3,0), Coord(8,4), Coord(1,10), Coord(2,14), Coord(8,10), Coord(9,0)}\n",
    "render(test_coords)\n",
    "\n",
    "newtest_coords = foldAt(\"y\", 7, test_coords)\n",
    "render(newtest_coords)\n",
    "assert len(newtest_coords) == 17\n",
    "\n",
    "newtest_coords = foldAt(\"x\", 5, newtest_coords)\n",
    "render(newtest_coords)\n",
    "assert len(newtest_coords) == 16\n"
   ]
  },
  {
   "cell_type": "markdown",
   "metadata": {},
   "source": [
    "Ok, let's try that on test data, remembering that in this case, we only want to apply the first fold instruction\n",
    "\n",
    "(We're going to need to parse the instructions anyway I suspect)"
   ]
  },
  {
   "cell_type": "code",
   "execution_count": 3,
   "metadata": {},
   "outputs": [],
   "source": [
    "test_lines = \"\"\"6,10\n",
    "0,14\n",
    "9,10\n",
    "0,3\n",
    "10,4\n",
    "4,11\n",
    "6,0\n",
    "6,12\n",
    "4,1\n",
    "0,13\n",
    "10,12\n",
    "3,4\n",
    "3,0\n",
    "8,4\n",
    "1,10\n",
    "2,14\n",
    "8,10\n",
    "9,0\n",
    "\n",
    "fold along y=7\n",
    "fold along x=5\"\"\".split(\"\\n\")\n",
    "\n",
    "def parse(lines):\n",
    "    coords = set()\n",
    "    instructions = []\n",
    "    i = 0\n",
    "    while lines[i] != \"\":\n",
    "        coords.add(Coord(*[int(n) for n in lines[i].split(\",\")]))\n",
    "        i+=1\n",
    "    i+=1\n",
    "    while i < len(lines):\n",
    "        axis, num = lines[i].split(\"=\")\n",
    "        instructions.append((axis[-1], int(num)))\n",
    "        i+=1\n",
    "    return coords, instructions\n",
    "    \n",
    "coords, instructions = parse(test_lines)\n",
    "assert coords == test_coords\n",
    "assert [(\"y\", 7), (\"x\", 5)] == instructions\n",
    "\n",
    "assert 17 == len(foldAt(instructions[0][0], instructions[0][1], coords))"
   ]
  },
  {
   "cell_type": "markdown",
   "metadata": {},
   "source": [
    "Ok, that works, lets try on prod data"
   ]
  },
  {
   "cell_type": "code",
   "execution_count": 4,
   "metadata": {},
   "outputs": [
    {
     "name": "stdout",
     "output_type": "stream",
     "text": [
      "653\n"
     ]
    }
   ],
   "source": [
    "lines = [line.strip() for line in open(\"day13.txt\").readlines()]\n",
    "coords, instructions = parse(lines)\n",
    "instruction = instructions[0]\n",
    "print(len(foldAt(instruction[0], instruction[1], coords)))"
   ]
  },
  {
   "cell_type": "markdown",
   "metadata": {},
   "source": [
    "## Part 2 Render the Code\n",
    "\n",
    "Somewhat as expected, do all the folds and then render"
   ]
  },
  {
   "cell_type": "code",
   "execution_count": 5,
   "metadata": {},
   "outputs": [
    {
     "name": "stdout",
     "output_type": "stream",
     "text": [
      "#....#..#.###..####.###..###..###..#..#\n",
      "#....#.#..#..#.#....#..#.#..#.#..#.#.#.\n",
      "#....##...#..#.###..###..#..#.#..#.##..\n",
      "#....#.#..###..#....#..#.###..###..#.#.\n",
      "#....#.#..#.#..#....#..#.#....#.#..#.#.\n",
      "####.#..#.#..#.####.###..#....#..#.#..#\n",
      "\n"
     ]
    }
   ],
   "source": [
    "lines = [line.strip() for line in open(\"day13.txt\").readlines()]\n",
    "coords, instructions = parse(lines)\n",
    "for instruction in instructions:\n",
    "    coords = foldAt(instruction[0], instruction[1], coords)\n",
    "render(coords)"
   ]
  }
 ],
 "metadata": {
  "kernelspec": {
   "display_name": "Python 3 (ipykernel)",
   "language": "python",
   "name": "python3"
  },
  "language_info": {
   "codemirror_mode": {
    "name": "ipython",
    "version": 3
   },
   "file_extension": ".py",
   "mimetype": "text/x-python",
   "name": "python",
   "nbconvert_exporter": "python",
   "pygments_lexer": "ipython3",
   "version": "3.10.1"
  },
  "orig_nbformat": 4
 },
 "nbformat": 4,
 "nbformat_minor": 2
}
