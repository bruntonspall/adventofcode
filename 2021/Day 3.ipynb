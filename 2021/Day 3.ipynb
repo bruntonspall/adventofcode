{
 "cells": [
  {
   "cell_type": "markdown",
   "id": "645db15f",
   "metadata": {},
   "source": [
    "# Day 3 - Diagnostics\n",
    "\n",
    "Oh dear, from first glance this is going to be all about binary.  Last year I discovered a python package, `bitstring` that can make it easier to work with bit strings, but it's annoying that Python doesn't handle bitstrings by default.\n",
    "\n",
    "Right, so we're doing two things at once, firstly we're looking for the most common bit in a stream.  Secondly, we're looking at bits in columns rather than each individual word\n",
    "\n",
    "I'm super tempted at this point to transpose the lines around.  Transposition is a way of taking `[1,2,3]` and `[4,5,6]` and turning it into `[1,4],[2,5],[3,6]`.  If we did that, we'd be able to then read along a single list and count frequencies.\n",
    "\n",
    "The other way to do this is to go down the bitstreams, one at a time and keep a count of 1's and 0's in each line.  Since we want to know how many we have, we could treat 1's as +1 and 0's as -1, and then at the end, if the total is positive, it's a 1, and if it's negative it's a 0.\n",
    "\n",
    "Let's try that slightly simpler way instead of fancy transposition"
   ]
  },
  {
   "cell_type": "code",
   "execution_count": 1,
   "id": "1a285206",
   "metadata": {},
   "outputs": [],
   "source": [
    "## Import ipytest and get it setup for use in Python Notebook\n",
    "import pytest\n",
    "import ipytest\n",
    "ipytest.autoconfig()"
   ]
  },
  {
   "cell_type": "code",
   "execution_count": 2,
   "id": "799c8ae6",
   "metadata": {},
   "outputs": [],
   "source": [
    "test_data = [line.strip() for line in \"\"\"00100\n",
    "11110\n",
    "10110\n",
    "10111\n",
    "10101\n",
    "01111\n",
    "00111\n",
    "11100\n",
    "10000\n",
    "11001\n",
    "00010\n",
    "01010\"\"\".split(\"\\n\")]\n",
    "\n",
    "def most_common_bits(lines):\n",
    "    # First we setup the sums as being 0 for each bit in the first line\n",
    "    sums = []\n",
    "    for bit in lines[0]:\n",
    "        sums.append(0)\n",
    "    for line in lines:\n",
    "        for i,bit in enumerate(line):\n",
    "            match bit:\n",
    "                case \"0\": sums[i] -= 1\n",
    "                case \"1\": sums[i] += 1\n",
    "    return [1 if sum >= 0 else 0 for sum in sums]\n",
    "\n",
    "test_result = most_common_bits(test_data)\n",
    "assert [1,0,1,1,0] == test_result"
   ]
  },
  {
   "cell_type": "markdown",
   "id": "da8df75b",
   "metadata": {},
   "source": [
    "Ok, so we can get the most common bits this way.\n",
    "There's two interesting bits in here for new python programmers.\n",
    "\n",
    "Firstly, I've used the new python 3.10 match case functionality.  Discovering pattern matching in Scala a decade or more ago was brilliant, and I've missed it in python.  Looking at other peoples solutions yesterday I remembered that Python 3.10 has gained pattern matching.\n",
    "\n",
    "Pattern matching means you can do `match variable` and then a set of case statements, if the case matches, then the block is executed.  It would have been brilliant for the up, down, forward parsing in day 2!\n",
    "    \n",
    "Secondly, I've used the `1 if sum > 0 else 0` inline if structure.  What's unusual here is that I've used it within a list comprehension.  It's no different than normal, but it looks a bit funky.\n",
    "    \n",
    "Anyway, our next step is to find the gamma rate, which is just the epsilon rate in reverse.  Now we could rerun out algorithm with a different sum at the end.  But we also know that if it's the opposite, then the number will just be the bitwise negation of the result.\n",
    "    \n",
    "Time to break out the bitstring module, which allows us to use the ~ for bitwise negation"
   ]
  },
  {
   "cell_type": "code",
   "execution_count": 3,
   "id": "19f8399b",
   "metadata": {},
   "outputs": [],
   "source": [
    "import bitstring\n",
    "test_bs = bitstring.BitArray(test_result)\n",
    "assert 22 == test_bs.uint\n",
    "assert 9 == (~test_bs).uint"
   ]
  },
  {
   "cell_type": "markdown",
   "id": "b8db3000",
   "metadata": {},
   "source": [
    "Great, that works, let's try it on real data"
   ]
  },
  {
   "cell_type": "code",
   "execution_count": 4,
   "id": "17ca557c",
   "metadata": {},
   "outputs": [
    {
     "name": "stdout",
     "output_type": "stream",
     "text": [
      "845186\n"
     ]
    }
   ],
   "source": [
    "data = [line.strip() for line in open(\"day3.txt\").readlines()]\n",
    "result = most_common_bits(data)\n",
    "bs = bitstring.BitArray(result)\n",
    "assert 218 == bs.uint\n",
    "assert 3877 == (~bs).uint\n",
    "print(bs.uint * (~bs).uint)"
   ]
  },
  {
   "cell_type": "markdown",
   "id": "9f198199",
   "metadata": {},
   "source": [
    "# Part 2 - More complex calculations\n",
    "\n",
    "Now I'm glad that I wrote my loop the way I did, as we're going to want to use similar logic for this searching loop.\n",
    "\n",
    "We're going to want to filter the list of numbers based on the most common and least common bits.  We're going to have to calculate the most_common_bits each time however, as the list gets smaller.\n",
    "\n",
    "So the way it's going to work is we're going to need to search the list for the most common bits.\n",
    "We're then going to look at the nth bit (starting at 0), and filter the list down to only those with the same bit set there\n",
    "Then once we've filtered, we'll increase n, and do it again, until we're left with just one result.\n",
    "\n",
    "Let's try explaining that in code"
   ]
  },
  {
   "cell_type": "code",
   "execution_count": 5,
   "id": "7ce3ba23",
   "metadata": {},
   "outputs": [],
   "source": [
    "def find_oxygen_rating(data):\n",
    "    n = 0;\n",
    "    while (len(data) > 1):\n",
    "        most_common = most_common_bits(data)\n",
    "        data = [item for item in data if int(item[n]) == most_common[n]]\n",
    "        n += 1\n",
    "    return data[0]\n",
    "        \n",
    "assert '10111' == find_oxygen_rating(test_data)\n",
    "\n",
    "def find_co2_rating(data):\n",
    "    n = 0;\n",
    "    while (len(data) > 1):\n",
    "        most_common = most_common_bits(data)\n",
    "        data = [item for item in data if int(item[n]) != most_common[n]]\n",
    "        n += 1\n",
    "    return data[0]\n",
    "\n",
    "assert '01010' == find_co2_rating(test_data)\n"
   ]
  },
  {
   "cell_type": "markdown",
   "id": "8bd1db97",
   "metadata": {},
   "source": [
    "Note: At this point I discovered an error in my most_common_bits.  Originally we had `return [1 if sum > 0 else 0 for sum in sums]`, and because there was never a situation in which there was an equal number of 1s and 0s, it didn't matter than I had a greater_than rather than greater_or_equal.  But my result was coming out wrong for the bits that were equal, so I modified this to be the `>=` instead.\n",
    "\n",
    "So that's not too bad.  We could probably neaten that up a bit, but it'll do, let's calculate numbers on the final production data"
   ]
  },
  {
   "cell_type": "code",
   "execution_count": 6,
   "id": "9017d377",
   "metadata": {},
   "outputs": [
    {
     "name": "stdout",
     "output_type": "stream",
     "text": [
      "4636702\n"
     ]
    }
   ],
   "source": [
    "data = [line.strip() for line in open(\"day3.txt\").readlines()]\n",
    "oxygen = bitstring.BitArray(bin=find_oxygen_rating(data))\n",
    "co2 = bitstring.BitArray(bin=find_co2_rating(data))\n",
    "assert 1459 == oxygen.uint\n",
    "assert 3178 == co2.uint\n",
    "print(oxygen.uint * co2.uint)"
   ]
  }
 ],
 "metadata": {
  "kernelspec": {
   "display_name": "Python 3 (ipykernel)",
   "language": "python",
   "name": "python3"
  },
  "language_info": {
   "codemirror_mode": {
    "name": "ipython",
    "version": 3
   },
   "file_extension": ".py",
   "mimetype": "text/x-python",
   "name": "python",
   "nbconvert_exporter": "python",
   "pygments_lexer": "ipython3",
   "version": "3.10.0"
  }
 },
 "nbformat": 4,
 "nbformat_minor": 5
}
