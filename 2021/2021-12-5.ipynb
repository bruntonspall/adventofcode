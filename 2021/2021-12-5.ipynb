{
 "cells": [
  {
   "cell_type": "markdown",
   "id": "e778e90c",
   "metadata": {},
   "source": [
    "# Day 5 - Overlapping vents\n",
    "\n",
    "Oh boy, more cartesian coordinates.\n",
    "\n",
    "We're going to read in the pairs of coordinates, we can filter at this point for only horizontal or vertical coordinates and then we're loooking for intersecting lines.  There's probably a fancy mathmatical way to do this, but I suspect it's easier to just plot each line on a grid."
   ]
  },
  {
   "cell_type": "code",
   "execution_count": 1,
   "id": "bd68811f",
   "metadata": {},
   "outputs": [],
   "source": [
    "## Import ipytest and get it setup for use in Python Notebook\n",
    "import pytest\n",
    "import ipytest\n",
    "ipytest.autoconfig()"
   ]
  },
  {
   "cell_type": "markdown",
   "id": "851517f3",
   "metadata": {},
   "source": [
    "First, lets parse the input into lines"
   ]
  },
  {
   "cell_type": "code",
   "execution_count": 2,
   "id": "ba5b67bc",
   "metadata": {},
   "outputs": [],
   "source": [
    "from collections import namedtuple\n",
    "import re\n",
    "\n",
    "Coord = namedtuple('Coord', ['x', 'y'])\n",
    "\n",
    "def line_to_numbers(line):\n",
    "    return [int(x) for x in re.match(\"(\\d+),(\\d+) -> (\\d+),(\\d+)\", line).groups()]\n",
    "\n",
    "assert [1,2,3,4] == line_to_numbers(\"1,2 -> 3,4\")\n",
    "assert [100,200,300,400] == line_to_numbers(\"100,200 -> 300,400\")\n",
    "\n",
    "def parse_lines(lines):\n",
    "    coords = []\n",
    "    for line in lines:\n",
    "        a,b,c,d = line_to_numbers(line)\n",
    "        coords.append((Coord(a,b), Coord(c,d)))\n",
    "    return coords\n",
    "\n",
    "test_lines = \"\"\"0,9 -> 5,9\n",
    "8,0 -> 0,8\n",
    "9,4 -> 3,4\n",
    "2,2 -> 2,1\n",
    "7,0 -> 7,4\n",
    "6,4 -> 2,0\n",
    "0,9 -> 2,9\n",
    "3,4 -> 1,4\n",
    "0,0 -> 8,8\n",
    "5,5 -> 8,2\"\"\"\n",
    "\n",
    "test_coords = parse_lines(test_lines.split('\\n'))\n",
    "assert 10 == len(test_coords)\n",
    "assert (Coord(0,9),Coord(5,9)) == test_coords[0]\n",
    "assert (Coord(8,0),Coord(0,8)) == test_coords[1]"
   ]
  },
  {
   "cell_type": "markdown",
   "id": "c57ce1cc",
   "metadata": {},
   "source": [
    "Right, we can turn the numbers into coordinates.  We're going to use the filter command, but we need a function that can spot non-horizontal or vertical lines, so let's write that first"
   ]
  },
  {
   "cell_type": "code",
   "execution_count": 3,
   "id": "4706cee2",
   "metadata": {},
   "outputs": [],
   "source": [
    "def is_vertical_or_horizontal(c):\n",
    "    return c[0].x == c[1].x or c[0].y == c[1].y\n",
    "\n",
    "assert is_vertical_or_horizontal((Coord(2,2), Coord(2,4)))\n",
    "assert is_vertical_or_horizontal((Coord(2,2), Coord(4,2)))\n",
    "assert is_vertical_or_horizontal((Coord(4,2), Coord(2,2)))\n",
    "assert is_vertical_or_horizontal((Coord(2,4), Coord(2,2)))\n",
    "assert not is_vertical_or_horizontal((Coord(2,2), Coord(4,4)))\n",
    "assert not is_vertical_or_horizontal((Coord(2,2), Coord(6,4)))"
   ]
  },
  {
   "cell_type": "markdown",
   "id": "4ef67e50",
   "metadata": {},
   "source": [
    "Now we can filter the list down to just the vertical and horizontal ones"
   ]
  },
  {
   "cell_type": "code",
   "execution_count": 4,
   "id": "e61b7447",
   "metadata": {},
   "outputs": [],
   "source": [
    "hv_test_coords = list(filter(is_vertical_or_horizontal, test_coords))\n",
    "assert 6 == len(hv_test_coords)\n",
    "assert (Coord(0,9),Coord(5,9)) == hv_test_coords[0]\n",
    "assert (Coord(9,4),Coord(3,4)) == hv_test_coords[1]\n",
    "assert (Coord(2,2),Coord(2,1)) == hv_test_coords[2]\n",
    "assert (Coord(7,0),Coord(7,4)) == hv_test_coords[3]"
   ]
  },
  {
   "cell_type": "markdown",
   "id": "3e948e8e",
   "metadata": {},
   "source": [
    "Now we just have to apply those lines to a grid, and then walk the line adding 1 to each number in that coordinate.\n",
    "We're going to need to return a list of coordinates from a start/stop position, and then we're going to want to use some kind of grid object to keep track of the lines.\n",
    "\n",
    "When we're calculating the lines, we need to remmeber that we wont know whether the start point is left or right of the end point.  So we can use min(start.x, stop.x) to find the lowest x, and max(start.x, stop.x) to find the highest x."
   ]
  },
  {
   "cell_type": "code",
   "execution_count": 5,
   "id": "bf7c96fa",
   "metadata": {},
   "outputs": [],
   "source": [
    "def line_from_coords(start, stop):\n",
    "    if start.x == stop.x:\n",
    "        return [Coord(start.x, y) for y in range(min(start.y,stop.y), max(start.y,stop.y)+1)]\n",
    "    else:\n",
    "        return [Coord(x, start.y) for x in range(min(start.x,stop.x), max(start.x,stop.x)+1)]\n",
    "\n",
    "assert [Coord(2,2), Coord(3,2), Coord(4,2)] == line_from_coords(Coord(2,2), Coord(4,2))\n",
    "assert [Coord(2,2), Coord(3,2), Coord(4,2)] == line_from_coords(Coord(4,2), Coord(2,2))\n",
    "assert [Coord(2,2), Coord(2,3), Coord(2,4)] == line_from_coords(Coord(2,2), Coord(2,4))\n",
    "assert [Coord(2,2), Coord(2,3), Coord(2,4)] == line_from_coords(Coord(2,4), Coord(2,2))"
   ]
  },
  {
   "cell_type": "code",
   "execution_count": 6,
   "id": "e5c8b5ce",
   "metadata": {},
   "outputs": [],
   "source": [
    "from collections import defaultdict\n",
    "\n",
    "def apply_lines_to_grid(lines):\n",
    "    grid = defaultdict(int)\n",
    "    for line in lines:\n",
    "        coords = line_from_coords(line[0], line[1])\n",
    "        for coord in coords:\n",
    "            grid[coord] += 1\n",
    "    return grid\n",
    "\n",
    "assert {Coord(2,2):1, Coord(3,2): 1, Coord(4,2): 2, Coord(4,3):1, Coord(4,4):1} == apply_lines_to_grid([(Coord(2,2),Coord(4,2)), (Coord(4,2),Coord(4,4))])\n",
    "\n",
    "test_grid = apply_lines_to_grid(hv_test_coords)\n",
    "assert 5 == len([v for v in test_grid.values() if v > 1])"
   ]
  },
  {
   "cell_type": "markdown",
   "id": "c5d06a48",
   "metadata": {},
   "source": [
    "Ok, that works. We initialise a grid, and then get all the values out, and filter for only the ones greater than 1 and then the length of the list is the number.\n",
    "\n",
    "Let's try this all on some production data"
   ]
  },
  {
   "cell_type": "code",
   "execution_count": 7,
   "id": "bcdebe0f",
   "metadata": {},
   "outputs": [
    {
     "name": "stdout",
     "output_type": "stream",
     "text": [
      "6461\n"
     ]
    }
   ],
   "source": [
    "data = [l.strip() for l in open(\"day5.txt\").readlines()]\n",
    "coords = list(filter(is_vertical_or_horizontal, parse_lines(data)))\n",
    "grid = apply_lines_to_grid(coords)\n",
    "print(len([v for v in grid.values() if v > 1]))"
   ]
  },
  {
   "cell_type": "markdown",
   "id": "8b5b2e38",
   "metadata": {},
   "source": [
    "Boom!  That works.  Now onto\n",
    "\n",
    "## Part 2 - Diagonals\n",
    "\n",
    "This should be fairly easy, we now need to account for diagonal lines.  We're told that we never have to worry about non-45 degree lines, so each line will increase by +/- 1 in each direction.\n",
    "\n",
    "Luckily this just means redefining the line_from_coords, and not filtering the list.\n",
    "\n",
    "Our line_from_coords now needs to handle not just determining if it's horizontal or vertical, but also diagonal."
   ]
  },
  {
   "cell_type": "code",
   "execution_count": 8,
   "id": "e1bb70fd",
   "metadata": {},
   "outputs": [],
   "source": [
    "def line_from_coords(start, stop):\n",
    "    if start.x == stop.x:\n",
    "        return [Coord(start.x, y) for y in range(min(start.y,stop.y), max(start.y,stop.y)+1)]\n",
    "    elif start.y == stop.y:\n",
    "        return [Coord(x, start.y) for x in range(min(start.x,stop.x), max(start.x,stop.x)+1)]\n",
    "    else:\n",
    "        # A diagonal line at 45 degrees is always as long as either x or y difference (and both must be the same)\n",
    "        length = max(start.x,stop.x) - min(start.x, stop.x)\n",
    "        dx = 1 if stop.x > start.x else -1\n",
    "        dy = 1 if stop.y > start.y else -1\n",
    "        return [Coord(start.x+i*dx, start.y+i*dy) for i in range(length+1)]\n",
    "\n",
    "# Horizontal line\n",
    "assert [Coord(2,2), Coord(3,2), Coord(4,2)] == line_from_coords(Coord(2,2), Coord(4,2))\n",
    "assert [Coord(2,2), Coord(3,2), Coord(4,2)] == line_from_coords(Coord(4,2), Coord(2,2))\n",
    "\n",
    "# Vertical line\n",
    "assert [Coord(2,2), Coord(2,3), Coord(2,4)] == line_from_coords(Coord(2,2), Coord(2,4))\n",
    "assert [Coord(2,2), Coord(2,3), Coord(2,4)] == line_from_coords(Coord(2,4), Coord(2,2))\n",
    "\n",
    "# Diagonal line up\n",
    "assert [Coord(2,2), Coord(3,3), Coord(4,4)] == line_from_coords(Coord(2,2), Coord(4,4))\n",
    "assert [Coord(4,4), Coord(3,3), Coord(2,2)] == line_from_coords(Coord(4,4), Coord(2,2))\n",
    "# Diagonal line down\n",
    "assert [Coord(2,4), Coord(3,3), Coord(4,2)] == line_from_coords(Coord(2,4), Coord(4,2))\n",
    "assert [Coord(4,2), Coord(3,3), Coord(2,4)] == line_from_coords(Coord(4,2), Coord(2,4))"
   ]
  },
  {
   "cell_type": "markdown",
   "id": "e8e821ee",
   "metadata": {},
   "source": [
    "That algorithm took a lot of tweaking to get right.  In this case I had optimised myself into a corner that took a bit of thinking to get out of.  Because in the earlier ones, I was using the min(start.x,stop.x) to ensure that the lines always went from left to right or from top to bottom, I had that same thing in here.  But doing that made the algorithm far more complex when trying to work out how to calculate the `i`<sup>th</sup> item.\n",
    "\n",
    "I had to stop and rethink from first principles.  I remembered the old Bresenham's algorithm for drawing straight lines, which uses basic maths to work out the gradient of a line, the length of a line, and then uses a dx and dy to increment the pixel when needed.  (You can find that here: https://en.wikipedia.org/wiki/Bresenham%27s_line_algorithm)\n",
    "\n",
    "In this case, we have a guaranteed easier case, we are only dealing with 45 degree lines, and that means that every movement in one axis will be mirrored in a movement in another.  That means we can just walk the length of the line in any given direction, and work out all of the parts in another direction.  If we were doing that to say 30 degree lines, we'd probably end up with missing bits.\n",
    "\n",
    "Anyway, now we can generate the lines, we can simply take the prod data, not filter it, and run it through our new function and apply the grid again."
   ]
  },
  {
   "cell_type": "code",
   "execution_count": 9,
   "id": "ff8af69f",
   "metadata": {},
   "outputs": [
    {
     "name": "stdout",
     "output_type": "stream",
     "text": [
      "18065\n"
     ]
    }
   ],
   "source": [
    "data = [l.strip() for l in open(\"day5.txt\").readlines()]\n",
    "coords = parse_lines(data)\n",
    "grid = apply_lines_to_grid(coords)\n",
    "print(len([v for v in grid.values() if v > 1]))"
   ]
  }
 ],
 "metadata": {
  "kernelspec": {
   "display_name": "Python 3 (ipykernel)",
   "language": "python",
   "name": "python3"
  },
  "language_info": {
   "codemirror_mode": {
    "name": "ipython",
    "version": 3
   },
   "file_extension": ".py",
   "mimetype": "text/x-python",
   "name": "python",
   "nbconvert_exporter": "python",
   "pygments_lexer": "ipython3",
   "version": "3.10.0"
  }
 },
 "nbformat": 4,
 "nbformat_minor": 5
}
