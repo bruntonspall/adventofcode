{
 "cells": [
  {
   "cell_type": "markdown",
   "id": "af6714b6",
   "metadata": {},
   "source": [
    "# Day 6 Multiplying fish\n",
    "\n",
    "I want to make a one fish, two fish joke here, but can't think of it.\n",
    "\n",
    "This feels like a form of cellular automata.  In this case, we can mostly ignore the fish part, and focus on what we can see.  We have an input, a list of numbers, and each iteration is the result of applying a function to the list of numbers.\n",
    "\n",
    "The rules for the list of numbers is that the next iteration produces:\n",
    "For an item `8-1` => `item-1`\n",
    "For an item `0` => `8` and a `0`\n",
    "\n",
    "So we need a function that can produce 1 or 2 numbers, and then we can iterate over the list, and produce a number 1 or 2 numbers for the next generation for each item in teh current generation."
   ]
  },
  {
   "cell_type": "code",
   "execution_count": 1,
   "id": "2cb99391",
   "metadata": {},
   "outputs": [],
   "source": [
    "## Import ipytest and get it setup for use in Python Notebook\n",
    "import pytest\n",
    "import ipytest\n",
    "ipytest.autoconfig()"
   ]
  },
  {
   "cell_type": "markdown",
   "id": "206234b5",
   "metadata": {},
   "source": [
    "So, I think in this case, I'm going to use Python's new match feature again.  This matches the number and returns either fish-1 in most cases, or when it gets to 0 returns a tuple of (6,8) to represent both the reset of the frequency for the fish and a new fish of value 8."
   ]
  },
  {
   "cell_type": "code",
   "execution_count": 2,
   "id": "8552a11f",
   "metadata": {},
   "outputs": [],
   "source": [
    "def next_for_fish(fish):\n",
    "    match fish:\n",
    "        case 0: return (6,8)\n",
    "        case _: return fish-1\n",
    "\n",
    "assert next_for_fish(6) == 5\n",
    "assert next_for_fish(4) == 3\n",
    "assert next_for_fish(2) == 1\n",
    "assert next_for_fish(0) == (6,8)\n"
   ]
  },
  {
   "cell_type": "markdown",
   "id": "a249303b",
   "metadata": {},
   "source": [
    "That works, we get a 6,8 pair if we have a fish at time 0, and otherwise we get a fish at time-1\n",
    "So now we can take a given generational list, and generate a new list that is all the new generations."
   ]
  },
  {
   "cell_type": "code",
   "execution_count": 3,
   "id": "c45464c7",
   "metadata": {},
   "outputs": [],
   "source": [
    "test_data = [3,4,3,1,2]\n",
    "\n",
    "def get_next_generation(generation):\n",
    "    next_gen = []\n",
    "    for fish in generation:\n",
    "        next_fish = next_for_fish(fish)\n",
    "        if isinstance(next_fish,tuple):\n",
    "            next_gen.extend(next_fish)\n",
    "        else:\n",
    "            next_gen.append(next_fish)\n",
    "    return next_gen\n",
    "\n",
    "assert get_next_generation([3,4,3,1,2]) == [2,3,2,0,1]\n",
    "assert get_next_generation([2,3,2,0,1]) == [1,2,1,6,8,0]"
   ]
  },
  {
   "cell_type": "markdown",
   "id": "584e2c17",
   "metadata": {},
   "source": [
    "That works, it's a bit ugly, and we can tidy it up later.\n",
    "Because we return an integer in one case, and a tuple in the toher, we need to alternate between append and extend.\n",
    "\n",
    "But that should let us see if we can handle the test data and 80 generations."
   ]
  },
  {
   "cell_type": "code",
   "execution_count": 4,
   "id": "9ba86b16",
   "metadata": {},
   "outputs": [
    {
     "name": "stdout",
     "output_type": "stream",
     "text": [
      "26\n",
      "5934\n"
     ]
    }
   ],
   "source": [
    "test_gen = [3,4,3,1,2]\n",
    "for i in range(18):\n",
    "    test_gen = get_next_generation(test_gen)\n",
    "assert 26 == len(test_gen)\n",
    "print(len(test_gen))\n",
    "\n",
    "test_gen = [3,4,3,1,2]\n",
    "for i in range(80):\n",
    "    test_gen = get_next_generation(test_gen)\n",
    "assert 5934 == len(test_gen)\n",
    "print(len(test_gen))"
   ]
  },
  {
   "cell_type": "markdown",
   "id": "e941ade0",
   "metadata": {},
   "source": [
    "That worked!  And far better than I expected it too.  Let's see how it works on the production data.  I'm expecting this to be too slow for production data"
   ]
  },
  {
   "cell_type": "code",
   "execution_count": 5,
   "id": "7bc19df4",
   "metadata": {},
   "outputs": [
    {
     "name": "stdout",
     "output_type": "stream",
     "text": [
      "Starting Generation is [1, 1, 3, 5, 1, 1, 1, 4, 1, 5, 1, 1, 1, 1, 1, 1, 1, 3, 1, 1, 1, 1, 2, 5, 1, 1, 1, 1, 1, 2, 1, 4, 1, 4, 1, 1, 1, 1, 1, 3, 1, 1, 5, 1, 1, 1, 4, 1, 1, 1, 4, 1, 1, 3, 5, 1, 1, 1, 1, 4, 1, 5, 4, 1, 1, 2, 3, 2, 1, 1, 1, 1, 1, 1, 1, 1, 1, 1, 1, 1, 1, 5, 1, 1, 1, 1, 1, 1, 1, 1, 2, 2, 1, 1, 1, 1, 1, 5, 1, 1, 1, 3, 4, 1, 1, 1, 1, 3, 1, 1, 1, 1, 1, 4, 1, 1, 3, 1, 1, 3, 1, 1, 1, 1, 1, 3, 1, 5, 2, 3, 1, 2, 3, 1, 1, 2, 1, 2, 4, 5, 1, 5, 1, 4, 1, 1, 1, 1, 2, 1, 5, 1, 1, 1, 1, 1, 5, 1, 1, 3, 1, 1, 1, 1, 1, 1, 4, 1, 2, 1, 1, 1, 1, 1, 1, 1, 1, 1, 1, 1, 1, 1, 3, 2, 1, 1, 1, 1, 2, 2, 1, 2, 1, 1, 1, 5, 5, 1, 1, 1, 1, 1, 1, 1, 1, 1, 1, 1, 1, 2, 2, 1, 1, 4, 2, 1, 4, 1, 1, 1, 1, 1, 1, 1, 2, 1, 2, 1, 1, 1, 1, 1, 1, 1, 1, 1, 1, 1, 1, 1, 2, 2, 1, 5, 1, 1, 1, 1, 1, 1, 1, 1, 3, 1, 1, 3, 3, 1, 1, 1, 3, 5, 1, 1, 4, 1, 1, 1, 1, 1, 4, 1, 1, 3, 1, 1, 1, 1, 1, 1, 1, 1, 2, 1, 5, 1, 1, 1, 1, 1, 1, 1, 1, 1, 1, 4, 1, 1, 1, 1]\n",
      "\n"
     ]
    }
   ],
   "source": [
    "gen = [int(num) for num in open(\"day6.txt\").readlines()[0].split(\",\")]\n",
    "print(f\"Starting Generation is {gen}\\n\")\n",
    "for i in range(80):\n",
    "    gen = get_next_generation(gen)\n",
    "assert 396210 == len(gen)\n"
   ]
  },
  {
   "cell_type": "markdown",
   "id": "9d164b7b",
   "metadata": {},
   "source": [
    "Wow, that's a lot of numbers!  That took a little while, but not as slow as I thought.\n",
    "\n",
    "I'm pretty confident that part 2 is going to require a lot more time and effort though, and there's some nasty bits in that code.\n",
    "\n",
    "Let's tidy up some of that code then.\n",
    "\n",
    "Firstly, I'm unhappy with the append/extend thing.  It would be far easier if `next_for_fish` returned a tuple of list in each case.  That would also remove some of the complexity from the get_next_generation"
   ]
  },
  {
   "cell_type": "code",
   "execution_count": 6,
   "id": "3d7126e5",
   "metadata": {
    "scrolled": true
   },
   "outputs": [
    {
     "name": "stdout",
     "output_type": "stream",
     "text": [
      "26\n",
      "5934\n"
     ]
    }
   ],
   "source": [
    "def next_for_fish(fish):\n",
    "    match fish:\n",
    "        case 0: return [6,8]\n",
    "        case _: return [fish-1]\n",
    "\n",
    "assert next_for_fish(6) == [5]\n",
    "assert next_for_fish(4) == [3]\n",
    "assert next_for_fish(2) == [1]\n",
    "assert next_for_fish(0) == [6,8]\n",
    "\n",
    "import functools\n",
    "\n",
    "def get_next_generation(generation):\n",
    "    next_gen = []\n",
    "    for fish in generation:\n",
    "        next_gen.extend(next_for_fish(fish))\n",
    "    return next_gen\n",
    "\n",
    "assert get_next_generation([3,4,3,1,2]) == [2,3,2,0,1]\n",
    "assert get_next_generation([2,3,2,0,1]) == [1,2,1,6,8,0]\n",
    "\n",
    "test_gen = [3,4,3,1,2]\n",
    "for i in range(18):\n",
    "    test_gen = get_next_generation(test_gen)\n",
    "assert 26 == len(test_gen)\n",
    "print(len(test_gen))\n",
    "\n",
    "test_gen = [3,4,3,1,2]\n",
    "for i in range(80):\n",
    "    test_gen = get_next_generation(test_gen)\n",
    "assert 5934 == len(test_gen)\n",
    "print(len(test_gen))"
   ]
  },
  {
   "cell_type": "markdown",
   "id": "40e1bb3c",
   "metadata": {},
   "source": [
    "Ok, that's better.  I tried to use a list comprehension for get_next_generation, but because the extend function modifies its called rather than returning a new list, I couldn't work out how to get it to work.\n",
    "I also tried to use map and reduce here.  This feels like a problem that should be intrinsically solvable with a really nice functional foldLeft or reduce call, because it's running the same operation on each generation, and then folding them together, but I couldn't get it to work in the way my functions operate, and this is good enough"
   ]
  },
  {
   "cell_type": "markdown",
   "id": "85e35239",
   "metadata": {},
   "source": [
    "# Part 2 - How fast is your code?\n",
    "\n",
    "Let's try for 256 days"
   ]
  },
  {
   "cell_type": "code",
   "execution_count": 7,
   "id": "ca51b4ef",
   "metadata": {},
   "outputs": [
    {
     "name": "stdout",
     "output_type": "stream",
     "text": [
      "462751\n"
     ]
    }
   ],
   "source": [
    "def get_next_generation(generation):\n",
    "    next_gen = []\n",
    "    for fish in generation:\n",
    "        if fish == 0:\n",
    "            next_gen.append(6)\n",
    "            next_gen.append(8)\n",
    "        else:\n",
    "            next_gen.append(fish-1)\n",
    "    return next_gen\n",
    "\n",
    "assert get_next_generation([3,4,3,1,2]) == [2,3,2,0,1]\n",
    "assert get_next_generation([2,3,2,0,1]) == [1,2,1,6,8,0]\n",
    "\n",
    "test_gen = [3,4,3,1,2]\n",
    "for i in range(130):\n",
    "    test_gen = get_next_generation(test_gen)\n",
    "assert 462751 == len(test_gen)\n",
    "print(len(test_gen))"
   ]
  },
  {
   "cell_type": "markdown",
   "id": "319f5138",
   "metadata": {},
   "source": [
    "No matter how I optimise this, that list is getting really big, and very slow, and we're not even halfway to 256 days.  Beyond around 140 days or so, the duration starts running into seconds, and it's doubling everytime I add a generation, so this is way way too slow.  I also note that this list now contains around 1/2 million items.  If we assume it's 1 byte per item, that's 1/2 a megabyte in ram now, and it's going to double each time.  (That's probably part of the cause of the slowdown as well, 10 more of them, and we're talking 1/2Gig of ram and counting)\n",
    "\n",
    "We're going to need a totally different approach for this.\n",
    "\n",
    "What if instead of a list of fish, like 1,2,3,2,3,4, we think of the fish as a dictionary of ages?\n",
    "So we can say there's two fish age 2, two fish age 3, one fish aged 4 and so on.\n",
    "\n",
    "So that would like ```{\n",
    "1:1,\n",
    "2:2,\n",
    "3:2,\n",
    "4:1\n",
    "}```\n",
    "\n",
    "And now we would need a generation function that takes a dictionary and returns a new dictionary based on the ages all dropping by 1 (and new fish being spawned).\n",
    "\n",
    "So we're going to walk over the dictionary, and handle 2 special cases.\n",
    "\n",
    "Firstly, the number of fish aged 6 is the number of fish from the last generation aged 7, plus all the fish that were age 0 that respawned at 6.\n",
    "Secondly, the number of fish aged 8 is equal to the number of fish aged 0 who spawned new fish.\n",
    "Finally, for every other age, it's just equal to the number of fish who were aged `age+1` last generation."
   ]
  },
  {
   "cell_type": "code",
   "execution_count": 8,
   "id": "fca3399d",
   "metadata": {},
   "outputs": [],
   "source": [
    "test_data = {1:1, 2:1, 3:2, 4:1}\n",
    "\n",
    "def dict_next_generation(generation):\n",
    "    next_gen = {}\n",
    "    for age,count in generation.items():\n",
    "        if age == 6:\n",
    "            next_gen[age] = generation[7]+generation[0]\n",
    "        elif age == 8:\n",
    "            next_gen[age] = generation[0]\n",
    "        else:\n",
    "            next_gen[age] = generation[age+1]\n",
    "    return next_gen\n",
    "\n",
    "def list_to_dict(l):\n",
    "    d = {0:0,1:0,2:0,3:0,4:0,5:0,6:0,7:0,8:0}\n",
    "    for item in l:\n",
    "        d[item] += 1\n",
    "    return d\n",
    "\n",
    "assert list_to_dict([3,4,3,1,2]) == {0:0,1:1, 2:1, 3:2, 4:1,5:0,6:0,7:0,8:0}\n",
    "assert dict_next_generation(list_to_dict([3,4,3,1,2])) == list_to_dict([2,3,2,0,1])\n",
    "assert dict_next_generation(list_to_dict([2,3,2,0,1])) == list_to_dict([1,2,1,6,0,8])\n",
    "assert dict_next_generation(list_to_dict([0,1,0,5,6,7,8])) == list_to_dict([6,0,6,4,5,6,7,8,8])\n",
    "\n",
    "test_gen = list_to_dict([3,4,3,1,2])\n",
    "for i in range(18):\n",
    "    test_gen = dict_next_generation(test_gen)\n",
    "assert 26 == sum(test_gen.values())"
   ]
  },
  {
   "cell_type": "markdown",
   "id": "d608fec5",
   "metadata": {},
   "source": [
    "Right.  That's a funky way of doing it, but that seems to be far more memory and CPU friendly, lets try on the longer test cases and then production data.\n",
    "\n",
    "I'll add that I tried mentally adding together the numbers to turn lists into dictionaries, but it was a pain, so I wrote a list_to_dict function as well.  I've got a nagging feeling that something in Python's collections module can do this for me (a countedset or something) but I was heading back to meetings so I just wrote it.\n",
    "\n",
    "The same is true for the ugly as since ```d = {0:0,1:0,2:0,3:0,4:0,5:0,6:0,7:0,8:0}```.  This is there because I coudn't be bothered to use collections.defaultdict anywhere, and rewriting my code to use d.get(index,default) was a faff.  By starting the dictionary with 0's in all indexes, I just know that there's a number in each slot that can be manipulated."
   ]
  },
  {
   "cell_type": "markdown",
   "id": "b6dbbc1f",
   "metadata": {},
   "source": [
    "Let's have a go on the test data"
   ]
  },
  {
   "cell_type": "code",
   "execution_count": 9,
   "id": "454188fa",
   "metadata": {},
   "outputs": [],
   "source": [
    "test_gen = list_to_dict([3,4,3,1,2])\n",
    "for i in range(80):\n",
    "    test_gen = dict_next_generation(test_gen)\n",
    "assert 5934 == sum(test_gen.values())"
   ]
  },
  {
   "cell_type": "code",
   "execution_count": 10,
   "id": "053e728f",
   "metadata": {},
   "outputs": [],
   "source": [
    "test_gen = list_to_dict([3,4,3,1,2])\n",
    "for i in range(256):\n",
    "    test_gen = dict_next_generation(test_gen)\n",
    "assert 26984457539 == sum(test_gen.values())"
   ]
  },
  {
   "cell_type": "markdown",
   "id": "e8dda74b",
   "metadata": {},
   "source": [
    "Ok, that works and feels really fast, let's try the same on production, first on the part 1, and then on part 2"
   ]
  },
  {
   "cell_type": "code",
   "execution_count": 11,
   "id": "c736e30e",
   "metadata": {},
   "outputs": [
    {
     "name": "stdout",
     "output_type": "stream",
     "text": [
      "Starting Generation is {0: 0, 1: 222, 2: 24, 3: 19, 4: 17, 5: 18, 6: 0, 7: 0, 8: 0}\n",
      "\n",
      "Finished Generation is {0: 13735, 1: 63203, 2: 23096, 3: 56872, 4: 47378, 5: 40300, 6: 83877, 7: 15723, 8: 52026}\n",
      "\n",
      "Starting Generation is {0: 0, 1: 222, 2: 24, 3: 19, 4: 17, 5: 18, 6: 0, 7: 0, 8: 0}\n",
      "\n",
      "Finished Generation is {0: 146712818362, 1: 184289328857, 2: 188786353928, 3: 202168881355, 4: 242460747479, 5: 225357049672, 6: 298390113008, 7: 119908149078, 8: 162750099757}\n",
      "\n"
     ]
    }
   ],
   "source": [
    "gen = list_to_dict([int(num) for num in open(\"day6.txt\").readlines()[0].split(\",\")])\n",
    "print(f\"Starting Generation is {gen}\\n\")\n",
    "for i in range(80):\n",
    "    gen = dict_next_generation(gen)\n",
    "print(f\"Finished Generation is {gen}\\n\")\n",
    "assert 396210 == sum(gen.values())\n",
    "\n",
    "gen = list_to_dict([int(num) for num in open(\"day6.txt\").readlines()[0].split(\",\")])\n",
    "print(f\"Starting Generation is {gen}\\n\")\n",
    "for i in range(256):\n",
    "    gen = dict_next_generation(gen)\n",
    "print(f\"Finished Generation is {gen}\\n\")\n",
    "assert 1770823541496 == sum(gen.values())\n"
   ]
  },
  {
   "cell_type": "markdown",
   "id": "4794aff7",
   "metadata": {},
   "source": [
    "Done it.  I've had better ideas and better implementations.\n",
    "\n",
    "There's something nagging me about this.  It really does feel like it should be solvable in a really simple functional way here, because the result of each generation is simply the same function iterated on the previous generation.  The problem for me is working out the stopping condition, and having time and energy to go rewrite the code to look like that."
   ]
  }
 ],
 "metadata": {
  "kernelspec": {
   "display_name": "Python 3 (ipykernel)",
   "language": "python",
   "name": "python3"
  },
  "language_info": {
   "codemirror_mode": {
    "name": "ipython",
    "version": 3
   },
   "file_extension": ".py",
   "mimetype": "text/x-python",
   "name": "python",
   "nbconvert_exporter": "python",
   "pygments_lexer": "ipython3",
   "version": "3.10.0"
  }
 },
 "nbformat": 4,
 "nbformat_minor": 5
}
