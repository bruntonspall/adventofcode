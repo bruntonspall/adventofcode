{
 "cells": [
  {
   "cell_type": "markdown",
   "metadata": {},
   "source": [
    "# Day 12 - Confusing Caves\n",
    "\n",
    "I'll admit right now that this problem has me confused after 1 reading.  It's taken me a few reads of the example inputs to try to work out what is being asked of us here.\n",
    "\n",
    "The problem goes like this, there's a chaotic confusing cluster of caves through which we must carefully choose a course.\n",
    "\n",
    "We can represent the caves as an n-tree, that's a tree structure where there are n possible paths away from any given node to another node.\n",
    "\n",
    "We've got 2 special nodes, start and end, and we want to find all possible paths from start to end.\n",
    "\n",
    "We've also got two cave types, big caves and little caves, represented by capital letters and lowercase letters.\n",
    "\n",
    "When we are trying to build a potential path, we can only visit any given little cave once.\n",
    "\n",
    "But, to add confusion, we aren't looking for one path, like the longest path, or the shortest path, we are looking for all possible paths.\n",
    "\n",
    "This is going to end up using a similar kind of search algorithm that we've used in the last few days, we're going to have to start with the start node, and then were going to have to enumerate all of the connected nodes and add them to a potential path, and then we can visit each one, and keep repeating until there are no possible paths.\n",
    "\n",
    "But we're going to have to bring some form of memoised path with us, so we don't just want to know that we can visit b, we need to know that we can visit B from start->A, because that's different from visiting from start.  When we get to end, we can then say we've found a potential path, and store it in the list of paths.\n",
    "\n",
    "Someone told me yesterday that writing out the algorithm in the text helped them understand what I was trying to do, so lets try that again\n",
    "```\n",
    "tovisit starts as a list of nodes with just Start in it\n",
    "while tovisit has items\n",
    "  pop next node from tovisit\n",
    "  if node is Finish, add node.path to list of paths\n",
    "  otherwise\n",
    "  for each neighbour of node\n",
    "    path = node.visited + node\n",
    "    if neighbour is small and neighbour is not in node.visited\n",
    "      add neighbour and path to tovisit \n",
    "``` \n",
    "\n",
    "I think that algorithm should do it, it should at the start of our example, add `(A, [start])` and `(b, [start])` to the tovisit.  It then gets `(A, [start])` from the list, and pushes `(c, [start, A])`, `(b, [start, A])`, and `(finish, [start, A])` to the tovisit list.\n",
    "If we then picked the finish one, we'd add `[start, A, finish]` to paths, and pick another.\n",
    "We could then pick c, and that would add `(A, [start, A, c])`, to the list.\n",
    "Now at `(A, [start, A, c])`, when we checked the neighbours, we could add the b route, and the finish route, but when we try the `c` route, we'll see that c is in our path and skip it.\n",
    "\n",
    "My biggest concern here is that if there was a network such that there's an A connected to a B, we'd have an infinite loop.  Looking down the samples, there's no example where a big cave is connected to a big cave, so I'm going to trust that the network has a property such that no big cave is ever connected to another big cave directly.\n",
    "\n",
    "Let's give it a try"
   ]
  },
  {
   "cell_type": "code",
   "execution_count": 1,
   "metadata": {},
   "outputs": [],
   "source": [
    "## Import ipytest and get it setup for use in Python Notebook\n",
    "import pytest\n",
    "import ipytest\n",
    "ipytest.autoconfig()"
   ]
  },
  {
   "cell_type": "markdown",
   "metadata": {},
   "source": [
    "Oh, some quick thoughts on data representations here. \n",
    "\n",
    "We could use objects or namedtuples for this all, but I think in this case, we can probably build something much simpler.\n",
    "Our tree structure doesn't have to be an actual tree.  In C++ or Java, I'd have made a Cave class that had a label, and then a list of pointers to other Caves to indicate connections.\n",
    "\n",
    "But python has a natural built in dictionary type that works quite well in this case.  What we'll have is a dictionary that is a mapping from cave to list of neighbour caves, so like this:\n",
    "```\n",
    "{\n",
    "    \"start\": [\"A\", \"b\"],\n",
    "    \"A\": [\"start\",\"finish\", \"b\"],\n",
    "    \"b\": [\"A\", \"finish\"],\n",
    "    \"finish\": [\"A\", \"b\"]\n",
    "}\n",
    "```\n",
    "\n",
    "Note that we're tracking directions \"bidirectionally\", that's to say that A says it links to b and b says it links to A.  We've not assumed that if A links to b that we can travel backwards, so we're being explicit about it.\n",
    "\n",
    "Secondly, our nodes can be a simple data structure as well.  We're going to store nodes as a tuple of cave name and list of caves visited, so `(\"A\", [\"start\", \"b\", \"A\", \"c\"]).\n",
    "\n",
    "I don't know why I call them nodes, to me they are nodes on the potential search tree, and I have no better name for them than that.  Option maybe?\n"
   ]
  },
  {
   "cell_type": "code",
   "execution_count": 2,
   "metadata": {},
   "outputs": [],
   "source": [
    "import collections\n",
    "\n",
    "def parse_input(lines):\n",
    "    paths = collections.defaultdict(list)\n",
    "    for line in lines:\n",
    "        start,end = line.split(\"-\")\n",
    "        paths[start].append(end)\n",
    "        paths[end].append(start)\n",
    "    return paths\n",
    "\n",
    "assert parse_input([\"A-b\"]) == {\"A\":[\"b\"], \"b\": [\"A\"]}\n",
    "assert parse_input([\"A-b\", \"b-c\"]) == {\"A\":[\"b\"], \"b\": [\"A\", \"c\"], \"c\": [\"b\"]}"
   ]
  },
  {
   "cell_type": "markdown",
   "metadata": {},
   "source": [
    "Ok, we can build up our cave system, lets see if we can find a path through it then"
   ]
  },
  {
   "cell_type": "code",
   "execution_count": 3,
   "metadata": {},
   "outputs": [],
   "source": [
    "def find_all_paths(caves):\n",
    "    paths = []\n",
    "    tovisit = [(\"start\", [])]\n",
    "    while tovisit:\n",
    "        current_node = tovisit.pop()\n",
    "        if current_node[0] == \"end\":\n",
    "            paths.append(current_node[1]+[current_node[0]])\n",
    "        else:\n",
    "            for neighbour in caves[current_node[0]]:\n",
    "                if not neighbour.islower() or neighbour not in current_node[1]:\n",
    "                    tovisit.append((neighbour, current_node[1]+[current_node[0]]))\n",
    "    return [\",\".join(path) for path in paths]\n",
    "\n",
    "test_caves1 = parse_input(\"\"\"start-A\n",
    "start-b\n",
    "A-c\n",
    "A-b\n",
    "b-d\n",
    "A-end\n",
    "b-end\"\"\".split(\"\\n\"))\n",
    "\n",
    "test_paths1 = find_all_paths(test_caves1)\n",
    "assert \"start,A,b,A,c,A,end\" in test_paths1\n",
    "assert \"start,A,b,A,end\" in test_paths1\n",
    "assert \"start,A,end\" in test_paths1\n",
    "assert \"start,A,c,A,end\" in test_paths1\n",
    "assert 10 == len(test_paths1)"
   ]
  },
  {
   "cell_type": "markdown",
   "metadata": {},
   "source": [
    "Right, that seemed to work pretty much first time. I'm not happy about the current_node[1], current_node[0] syntax, but we'll come back and clean that up later on.\n",
    "\n",
    "Let's try the other test cases we've been provided"
   ]
  },
  {
   "cell_type": "code",
   "execution_count": 4,
   "metadata": {},
   "outputs": [],
   "source": [
    "test_caves2 = parse_input(\"\"\"dc-end\n",
    "HN-start\n",
    "start-kj\n",
    "dc-start\n",
    "dc-HN\n",
    "LN-dc\n",
    "HN-end\n",
    "kj-sa\n",
    "kj-HN\n",
    "kj-dc\"\"\".split(\"\\n\"))\n",
    "\n",
    "test_paths2 = find_all_paths(test_caves2)\n",
    "assert \"start,HN,dc,HN,kj,HN,end\" in test_paths2\n",
    "assert \"start,dc,end\" in test_paths2\n",
    "assert \"start,HN,kj,dc,HN,end\" in test_paths2\n",
    "assert 19 == len(test_paths2)"
   ]
  },
  {
   "cell_type": "code",
   "execution_count": 5,
   "metadata": {},
   "outputs": [],
   "source": [
    "test_caves3 = parse_input(\"\"\"fs-end\n",
    "he-DX\n",
    "fs-he\n",
    "start-DX\n",
    "pj-DX\n",
    "end-zg\n",
    "zg-sl\n",
    "zg-pj\n",
    "pj-he\n",
    "RW-he\n",
    "fs-DX\n",
    "pj-RW\n",
    "zg-RW\n",
    "start-pj\n",
    "he-WI\n",
    "zg-he\n",
    "pj-fs\n",
    "start-RW\"\"\".split(\"\\n\"))\n",
    "\n",
    "test_paths3 = find_all_paths(test_caves3)\n",
    "assert 226 == len(test_paths3)"
   ]
  },
  {
   "cell_type": "markdown",
   "metadata": {},
   "source": [
    "Ok, lets try that on production data"
   ]
  },
  {
   "cell_type": "code",
   "execution_count": 6,
   "metadata": {},
   "outputs": [
    {
     "name": "stdout",
     "output_type": "stream",
     "text": [
      "5457\n"
     ]
    }
   ],
   "source": [
    "caves = parse_input([line.strip() for line in open(\"day12.txt\").readlines()])\n",
    "paths = find_all_paths(caves)\n",
    "print(len(paths))"
   ]
  },
  {
   "cell_type": "markdown",
   "metadata": {},
   "source": [
    "## Part 2 Caves of madness\n",
    "\n",
    "Ok, this is going to be a pain to refactor.  We are now allowed to pick a single small cave that we can visit twice, with every other small cave only being allowed to visit once.\n",
    "\n",
    "The best, nastiest way I can think to do this is to do our find paths algorithm, but iterate through each possible small cave and run the algorithm with that small cave as the \"visit twice\" option.  But then we're going to have to merge the possible paths, so we need to find a way to do that.\n",
    "\n",
    "First, on the merging, if we make the algorithm return a set of paths, then we can union them together.  A set is simply an unordered list that can only contain any given item once.  So having a set `set(a, b, c)` and getting the union of that with `set(b,c,d)` should result in `set(a,b,c,d)`.  Sets have other operations, but in this case that's all we want.\n",
    "\n",
    "The main algorithm we've got wont change much.  We'll pass in a \"special cave\", and when we check for whether we can add the cave, we'll check whether the cave is lower and has been visited, as well as if the cave is the special case and has been visited 0 or 1 times.  I'm going to refactor out that logic into a function that can return True or False depending on whether we should be allowed to visit.  I was considering this before since I thought we'd have something involving changing the visiting rules, but decided it was a premature optimisation.\n",
    "\n",
    "First of all, lets prove we can do that refactor without breaking anything, we'll do both the set and the check_visit function."
   ]
  },
  {
   "cell_type": "code",
   "execution_count": 7,
   "metadata": {},
   "outputs": [],
   "source": [
    "def can_visit(caves, neighbour, path):\n",
    "    if neighbour.isupper(): # We can always visit big caves\n",
    "        return True\n",
    "    if neighbour not in path: # We've not been to this small cave before\n",
    "        return True\n",
    "    return False\n",
    "\n",
    "def find_all_paths(caves):\n",
    "    paths = []\n",
    "    tovisit = [(\"start\", [])]\n",
    "    while tovisit:\n",
    "        node, path = tovisit.pop()\n",
    "        path = path+[node]\n",
    "        if node == \"end\":\n",
    "            paths.append(path)\n",
    "        else:\n",
    "            for neighbour in caves[node]:\n",
    "                if can_visit(caves, neighbour, path):\n",
    "                    tovisit.append((neighbour, path))\n",
    "    return set([\",\".join(path) for path in paths])\n",
    "\n",
    "test_caves1 = parse_input(\"\"\"start-A\n",
    "start-b\n",
    "A-c\n",
    "A-b\n",
    "b-d\n",
    "A-end\n",
    "b-end\"\"\".split(\"\\n\"))\n",
    "\n",
    "test_paths1 = find_all_paths(test_caves1)\n",
    "assert 10 == len(test_paths1)\n",
    "test_paths2 = find_all_paths(test_caves2)\n",
    "assert 19 == len(test_paths2)\n",
    "test_paths3 = find_all_paths(test_caves3)\n",
    "assert 226 == len(test_paths3)"
   ]
  },
  {
   "cell_type": "markdown",
   "metadata": {},
   "source": [
    "Ok, so we've refactored that out, and we've turned out paths into a set.  We can now add a parameter to find_all_paths that is a doublevisitnode, and then we can pass that into everything.  Finally we'll need a find_paths_with_double_visits that iterates through all the valid double visit nodes, and merges the paths together."
   ]
  },
  {
   "cell_type": "code",
   "execution_count": 8,
   "metadata": {},
   "outputs": [],
   "source": [
    "def can_visit(caves, neighbour, path, doublevisit):\n",
    "    if neighbour.isupper(): # We can always visit big caves\n",
    "        return True\n",
    "    if neighbour == doublevisit and path.count(doublevisit) < 2:\n",
    "        return True\n",
    "    if neighbour not in path: # We've not been to this small cave before\n",
    "        return True\n",
    "    return False\n",
    "\n",
    "def find_all_paths(caves, doublevisit):\n",
    "    paths = []\n",
    "    tovisit = [(\"start\", [])]\n",
    "    while tovisit:\n",
    "        node, path = tovisit.pop()\n",
    "        path = path+[node]\n",
    "        if node == \"end\":\n",
    "            paths.append(path)\n",
    "        else:\n",
    "            for neighbour in caves[node]:\n",
    "                if can_visit(caves, neighbour, path, doublevisit):\n",
    "                    tovisit.append((neighbour, path))\n",
    "    return set([\",\".join(path) for path in paths])\n",
    "\n",
    "def find_paths_with_double_visits(caves):\n",
    "    paths = set()\n",
    "    for doublevisit in caves:\n",
    "        if doublevisit not in [\"start\", \"end\"]:\n",
    "            paths |= find_all_paths(caves, doublevisit)\n",
    "    return paths\n",
    "\n",
    "test_caves1 = parse_input(\"\"\"start-A\n",
    "start-b\n",
    "A-c\n",
    "A-b\n",
    "b-d\n",
    "A-end\n",
    "b-end\"\"\".split(\"\\n\"))\n",
    "test_paths1 = find_paths_with_double_visits(test_caves1)\n",
    "assert 36 == len(test_paths1)\n",
    "test_paths2 = find_paths_with_double_visits(test_caves2)\n",
    "assert 103 == len(test_paths2)\n",
    "test_paths3 = find_paths_with_double_visits(test_caves3)\n",
    "assert 3509 == len(test_paths3)"
   ]
  },
  {
   "cell_type": "markdown",
   "metadata": {},
   "source": [
    "Ok, lets try once more on production data"
   ]
  },
  {
   "cell_type": "code",
   "execution_count": 9,
   "metadata": {},
   "outputs": [
    {
     "name": "stdout",
     "output_type": "stream",
     "text": [
      "128506\n"
     ]
    }
   ],
   "source": [
    "caves = parse_input([line.strip() for line in open(\"day12.txt\").readlines()])\n",
    "paths = find_paths_with_double_visits(caves)\n",
    "print(len(paths))"
   ]
  }
 ],
 "metadata": {
  "kernelspec": {
   "display_name": "Python 3 (ipykernel)",
   "language": "python",
   "name": "python3"
  },
  "orig_nbformat": 4
 },
 "nbformat": 4,
 "nbformat_minor": 2
}
