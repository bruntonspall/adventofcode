{
 "cells": [
  {
   "cell_type": "markdown",
   "id": "9efed677",
   "metadata": {},
   "source": [
    "# Day 2\n",
    "\n",
    "Great, it's another one of these coordinate puzzles.  We're going to get a set of directions that our boat is going to take.  I like these, as I got my programming career started with games programming, and so anything to do with coordinates, maps, and moving things around is a set of problems for which I already have some of the tools.\n",
    "\n",
    "There's a fun twist on this one.  In previous years, it's often been about rotating, or moving north, east, south and west.  But in this case, we've only got 3 instructions, forward, up and down.  Furthermore, our depth is measured as a distance from the surface of the sea, so going down is going to increase our depth.  i.e. if we're at the surface, we're at depth 0, but going down will take us down to depth 1, and so on.\n",
    "\n",
    "In this case, we need to know what depth we end up with.\n",
    "We can do this the simple to understand, but harder to implement way, or we can do it the mathmatical way, that's easier to implement, but a little harder to understand.\n",
    "\n",
    "Let me explain teh second, and then we'll do it the \"proper\" way.\n",
    "\n",
    "We've got 3 commands, and if we were plotting these on a y,z axis, the commands result in a change to the y axis, or to the z axis.  However, in this case, we've only been asked for the endpoint, which means we don't actually care about any intermediate numbers or steps, we just care about the end total.\n",
    "\n",
    "So we could, for the y axis, simply take all the forwards, add all the numbers together, and that will be the result.\n",
    "We could also take all the down's add them together, and then subtract the total of all the ups, and that would be our resultant depth.\n",
    "\n",
    "However, I suspect we'll want to look more closely at this, and possibily at something like the deepest point we've ever got to, so instead we're going to create a submarine data structure, and then parse each instruction and update the y or z position respectively."
   ]
  },
  {
   "cell_type": "code",
   "execution_count": 1,
   "id": "c11e9c47",
   "metadata": {},
   "outputs": [],
   "source": [
    "## Import ipytest and get it setup for use in Python Notebook\n",
    "import pytest\n",
    "import ipytest\n",
    "ipytest.autoconfig()"
   ]
  },
  {
   "cell_type": "markdown",
   "id": "7748b113",
   "metadata": {},
   "source": [
    "This time, we're going to build our parser first, because I want to turn each line into an instruction, so the parser is more complex.\n",
    "\n",
    "How are we going to do that?\n",
    "\n",
    "We're going to read the line, and if it's \"forward 15\", we'll turn it into a \"vector\".  In this case it'll just be a tuple, although Python has a handy namedtuple class so I'll use that.  We're going to define the y coordinate as starting at 0 and incrementing as the sub goes forward.  The z oordinate will represent the depth from the bottom"
   ]
  },
  {
   "cell_type": "code",
   "execution_count": 2,
   "id": "cf558632",
   "metadata": {},
   "outputs": [],
   "source": [
    "test_data_raw = \"\"\"forward 5\n",
    "down 5\n",
    "forward 8\n",
    "up 3\n",
    "down 8\n",
    "forward 2\"\"\".split(\"\\n\")\n",
    "\n",
    "from collections import namedtuple\n",
    "Sub = namedtuple('Sub', ['y', 'z'])\n",
    "Vector = namedtuple('Vector', ['y', 'z'])"
   ]
  },
  {
   "cell_type": "markdown",
   "id": "163e6334",
   "metadata": {},
   "source": [
    "So we've got two named tuples, one for the sub and one for the Vector.  We'll show later how we can add one to another, but first our parser needs to turn a line of text into a Vector"
   ]
  },
  {
   "cell_type": "code",
   "execution_count": 3,
   "id": "27c03b8b",
   "metadata": {},
   "outputs": [],
   "source": [
    "def parse_line(line):\n",
    "    if line.startswith(\"forward\"):\n",
    "        y = int(line.replace(\"forward \",\"\"))\n",
    "        return Vector(y,0)\n",
    "    if line.startswith(\"down\"):\n",
    "        z = int(line.replace(\"down \",\"\"))\n",
    "        return Vector(0,z)\n",
    "    if line.startswith(\"up\"):\n",
    "        z = -int(line.replace(\"up \",\"\"))\n",
    "        return Vector(0,z)\n",
    "    return None\n",
    "\n",
    "assert parse_line(\"forward 5\") == Vector(5,0)\n",
    "assert parse_line(\"down 5\") == Vector(0,5)\n",
    "assert parse_line(\"up 3\") == Vector(0,-3)"
   ]
  },
  {
   "cell_type": "markdown",
   "id": "21f80d0e",
   "metadata": {},
   "source": [
    "So we can now turn a list of intructions into a list of vectors, let's check that against the test data nad make sure it works."
   ]
  },
  {
   "cell_type": "code",
   "execution_count": 4,
   "id": "114653e6",
   "metadata": {},
   "outputs": [],
   "source": [
    "def parse(lines):\n",
    "    return [parse_line(line) for line in lines]\n",
    "\n",
    "test_data = parse(test_data_raw)\n",
    "assert test_data == [Vector(5,0),Vector(0,5),Vector(8,0),Vector(0,-3),Vector(0,8),Vector(2,0)]"
   ]
  },
  {
   "cell_type": "markdown",
   "id": "6d416a2f",
   "metadata": {},
   "source": [
    "Now that we've got the data into vectors, we can pretty simply move hte submarine by adding the sub and the vector together.  We however need to define to python how that addition works, because by default it will just assume we have tuples, and adding two tuples together is treated like concatonation, rather than fieldwise addition.\n",
    "\n",
    "We need to redefine the Sub class here, because it's a pain to add a method to an existing class, luckily we hadn't really used Sub anywhere yet.  Strike one for the PythonNotebook though, I need to remember not to define things until I need them."
   ]
  },
  {
   "cell_type": "code",
   "execution_count": 5,
   "id": "65ca9727",
   "metadata": {},
   "outputs": [],
   "source": [
    "class Sub(namedtuple('Sub', ['y', 'z'])\n",
    "):\n",
    "    def __add__(self, v):\n",
    "        return Sub(self.y+v.y, self.z+v.z)\n",
    "\n",
    "assert Sub(3,8) == Sub(1,3)+Vector(2,5)"
   ]
  },
  {
   "cell_type": "markdown",
   "id": "4a0fadbc",
   "metadata": {},
   "source": [
    "Now we can walk the list of vectors we got, moving the sub at each point, and we'll get a Sub with end position at the end"
   ]
  },
  {
   "cell_type": "code",
   "execution_count": 6,
   "id": "607bd013",
   "metadata": {},
   "outputs": [],
   "source": [
    "def moveSub(sub, directions):\n",
    "    for movement in directions:\n",
    "        sub = sub + movement\n",
    "    return sub\n",
    "\n",
    "testSub = Sub(0,0)\n",
    "testSub = moveSub(testSub, test_data)\n",
    "assert Sub(15,10) == testSub\n",
    "assert 150 == testSub.y*testSub.z"
   ]
  },
  {
   "cell_type": "markdown",
   "id": "bd90f41b",
   "metadata": {},
   "source": [
    "Let's do it on real data"
   ]
  },
  {
   "cell_type": "code",
   "execution_count": 7,
   "id": "b22b390b",
   "metadata": {},
   "outputs": [],
   "source": [
    "data = parse([line.strip() for line in open(\"day2.txt\").readlines()])\n",
    "sub = moveSub(Sub(0,0), data)\n",
    "assert Sub(1957,955) == sub\n",
    "assert 1868935 == sub.y*sub.z"
   ]
  },
  {
   "cell_type": "markdown",
   "id": "385257be",
   "metadata": {},
   "source": [
    "Cool, onto \n",
    "\n",
    "## Part 2\n",
    "\n",
    "Oh great, so instead of our parsing meaning that we're changing the vector, what we need to do is something slightly more complex, we need our Sub to have an aim.\n",
    "This means we're going to need to store 3 values for our Sub, our y, our z and our aim.\n",
    "When we get a forward command we apply a change to our y and our z, and when we get an up or down command, we can change our aim.\n",
    "\n",
    "We can probably do this without changing our vector, because our parser turns the up and down commands into a positive or negative z, and we can treat that as just a change to aim.\n",
    "\n",
    "Let's build a new sub and demonstrate with the first few test data examples"
   ]
  },
  {
   "cell_type": "code",
   "execution_count": 8,
   "id": "96606301",
   "metadata": {},
   "outputs": [],
   "source": [
    "class Sub(namedtuple('Sub', ['y', 'z', 'aim'])\n",
    "):\n",
    "    def __add__(self, v):\n",
    "        if v.y > 0:\n",
    "            newz = self.z+self.aim*v.y\n",
    "            return Sub(self.y+v.y, newz, self.aim)\n",
    "        return Sub(self.y, self.z, self.aim+v.z)\n",
    "\n",
    "testsub = Sub(0,0,0)\n",
    "testsub = testsub+Vector(5,0)\n",
    "assert Sub(5,0,0) == testsub\n",
    "testsub+=Vector(0,5)\n",
    "assert Sub(5,0,5) == testsub\n",
    "testsub+=Vector(8,0)\n",
    "assert Sub(13,40,5) == testsub\n",
    "testsub+=Vector(0,-3)\n",
    "assert Sub(13,40,2) == testsub\n",
    "testsub+=Vector(0,8)\n",
    "assert Sub(13,40,10) == testsub\n",
    "testsub+=Vector(2,0)\n",
    "assert Sub(15,60,10) == testsub"
   ]
  },
  {
   "cell_type": "markdown",
   "id": "e4268454",
   "metadata": {},
   "source": [
    "Great, that was easier than expected.  If I was doing this in normal python, I'd probably rename the z component of a Vector to be called deltaaim, or aimchange, which would make it more readable.\n",
    "\n",
    "Let's retry running the parsed data on the test data and see what happens"
   ]
  },
  {
   "cell_type": "code",
   "execution_count": 9,
   "id": "814074b4",
   "metadata": {},
   "outputs": [],
   "source": [
    "testSub = Sub(0,0,0)\n",
    "testSub = moveSub(testSub, test_data)\n",
    "assert Sub(15,60,10) == testSub\n",
    "assert 900 == testSub.y*testSub.z"
   ]
  },
  {
   "cell_type": "markdown",
   "id": "240b8fde",
   "metadata": {},
   "source": [
    "Brilliant.  And lets go again on real data"
   ]
  },
  {
   "cell_type": "code",
   "execution_count": 10,
   "id": "27ca025a",
   "metadata": {},
   "outputs": [],
   "source": [
    "sub = moveSub(Sub(0,0,0), data)\n",
    "assert Sub(1957,1004584,955) == sub\n",
    "total = sub.y*sub.z\n",
    "assert 1965970888 == total"
   ]
  }
 ],
 "metadata": {
  "kernelspec": {
   "display_name": "Python 3 (ipykernel)",
   "language": "python",
   "name": "python3"
  },
  "language_info": {
   "codemirror_mode": {
    "name": "ipython",
    "version": 3
   },
   "file_extension": ".py",
   "mimetype": "text/x-python",
   "name": "python",
   "nbconvert_exporter": "python",
   "pygments_lexer": "ipython3",
   "version": "3.9.9"
  }
 },
 "nbformat": 4,
 "nbformat_minor": 5
}
