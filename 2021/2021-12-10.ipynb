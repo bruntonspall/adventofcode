{
 "cells": [
  {
   "cell_type": "markdown",
   "id": "7ede0cb1",
   "metadata": {},
   "source": [
    "# Day 10 Stacks all the way down\n",
    "\n",
    "This one is about matching parenthesis, which means that anyone writing in closure is likely to be able to do this one just by instinct!\n",
    "\n",
    "Ok, we need to match parenthesis in 4 different types.\n",
    "\n",
    "The golden rule here is actually pretty simple, there's a kind of state machine, in which each character on a line should only be one of 4 options, `(`, `{`, `[`, `<` and then the closing parenthesis of whatever type we last opened.\n",
    "So when we see a `(`, the closing type is `)`.\n",
    "\n",
    "But when we do see the closing type, we need to get the next previous one that we saw.\n",
    "\n",
    "This is a stack, like a stack of plates in a canteen.  If you put something on the top of the stack, then when you take it off, whatever was there before is revealed.\n",
    "\n",
    "Python doesn't have a stack data type itself, what it does is provide a set of methods on a list that mean you can treat it as a stack.  Generally a stack has 4 main methods, push, pop, peek, empty?.  These map in pythin to append, pop, `[-1]` and the comparison to `[]`.\n",
    "\n",
    "That combined with the 3.10 match statement should make processing a line pretty simple.\n",
    "\n",
    "Read each character, if it's an open parenthesis, push the matching close onto the stack.  If it's a close, compare it to whats on the stack, if it doesn't match, stop processing and return the character that broke for scoring.\n",
    "If it does match, pop that item off the stack and keep going"
   ]
  },
  {
   "cell_type": "code",
   "execution_count": 13,
   "id": "03677d65",
   "metadata": {},
   "outputs": [],
   "source": [
    "## Import ipytest and get it setup for use in Python Notebook\n",
    "import pytest\n",
    "import ipytest\n",
    "ipytest.autoconfig()"
   ]
  },
  {
   "cell_type": "markdown",
   "id": "266a0236",
   "metadata": {},
   "source": [
    "(2024 update) - pushing this to a static file generator, all the curly parenthesis break the liquid pre-processing of markdown, so we're putting this block here to tell it to stop processesing...\n",
    "{% raw %}"
   ]
  },
  {
   "cell_type": "code",
   "execution_count": 14,
   "id": "8c2855cb",
   "metadata": {},
   "outputs": [],
   "source": [
    "legal_chunks = [\"([])\", \"{()()()}\", \"<([{}])>\", \"[<>({}){}[([])<>]]\", \"(((((((((())))))))))\"]\n",
    "corrupted_chunks = [\n",
    "    (\"(]\",\"]\"), \n",
    "    (\"{()()()>\", \">\"), \n",
    "    (\"(((()))}\",\"}\"), \n",
    "    (\"<([]){()}[{}])\",\")\")]\n",
    "\n",
    "def process_chunks(line):\n",
    "    stack = []\n",
    "    for c in line:\n",
    "        match c:\n",
    "            case \"(\": \n",
    "                stack.append(\")\")\n",
    "            case \"[\":\n",
    "                stack.append(\"]\")\n",
    "            case \"{\":\n",
    "                stack.append(\"}\")\n",
    "            case \"<\":\n",
    "                stack.append(\">\")\n",
    "            case m:\n",
    "                if stack == []:\n",
    "                    return False,m\n",
    "                elif stack[-1] != m:\n",
    "                    return False,m\n",
    "                else:\n",
    "                    assert m == stack.pop()\n",
    "    return True,\"\"\n",
    "\n",
    "for chunk in legal_chunks:\n",
    "    assert (True,\"\") == process_chunks(chunk)\n",
    "for chunk,expected in corrupted_chunks:\n",
    "    assert (False,expected) == process_chunks(chunk)"
   ]
  },
  {
   "cell_type": "markdown",
   "id": "37350024",
   "metadata": {},
   "source": [
    "So that works... let's try it on some of the example lines"
   ]
  },
  {
   "cell_type": "code",
   "execution_count": 15,
   "id": "39bca008",
   "metadata": {},
   "outputs": [],
   "source": [
    "test_lines = \"\"\"[({(<(())[]>[[{[]{<()<>>\n",
    "[(()[<>])]({[<{<<[]>>(\n",
    "{([(<{}[<>[]}>{[]{[(<()>\n",
    "(((({<>}<{<{<>}{[]{[]{}\n",
    "[[<[([]))<([[{}[[()]]]\n",
    "[{[{({}]{}}([{[{{{}}([]\n",
    "{<[[]]>}<{[{[{[]{()[[[]\n",
    "[<(<(<(<{}))><([]([]()\n",
    "<{([([[(<>()){}]>(<<{{\n",
    "<{([{{}}[<[[[<>{}]]]>[]]\"\"\".split(\"\\n\")\n",
    "\n",
    "results = [process_chunks(line) for line in test_lines]\n",
    "scores = {')':3, ']':57, '}':1197, '>': 25137}\n",
    "total = sum(map(lambda c: scores[c], [result[1] for result in results if not result[0]]))\n",
    "assert total == 26397"
   ]
  },
  {
   "cell_type": "markdown",
   "id": "041ea6f6",
   "metadata": {},
   "source": [
    "The total there is calculated by looking through the results, getting all the corrupted lines and then finding the error, and mapping that to a score."
   ]
  },
  {
   "cell_type": "code",
   "execution_count": 16,
   "id": "f1a84ab7",
   "metadata": {},
   "outputs": [
    {
     "name": "stdout",
     "output_type": "stream",
     "text": [
      "344193\n"
     ]
    }
   ],
   "source": [
    "lines = [line.strip() for line in open('day10.txt').readlines()]\n",
    "results = [process_chunks(line) for line in lines]\n",
    "scores = {')':3, ']':57, '}':1197, '>': 25137}\n",
    "total = sum(map(lambda c: scores[c], [result[1] for result in results if not result[0]]))\n",
    "print(total)"
   ]
  },
  {
   "cell_type": "markdown",
   "id": "74e894cf",
   "metadata": {},
   "source": [
    "# Part 2\n",
    "\n",
    "Ok, unusually for us, part 2 has itself two main parts.  The first is that we need to essentially return the stack.  Those are the letters, in order, that can close all of the open lines.  In our case that part is pretty simple.\n",
    "\n",
    "The second issue however is the unneccesarily complex scoring mechanism.  We'll write a function to take a stack and turn it into a score, and the change in our main code is simply to return the stack when we get to the end of teh line.\n",
    "\n",
    "Note: the stack is a list, in reverse order.  Since we want to process each item, isntead of popping them, we cna simply reverse the list and then iterate over them."
   ]
  },
  {
   "cell_type": "code",
   "execution_count": 17,
   "id": "533d12a5",
   "metadata": {},
   "outputs": [],
   "source": [
    "def score_autocomplete(completion):\n",
    "    scoretable = {')':1, ']':2, '}':3, '>':4}\n",
    "    score = 0\n",
    "    for letter in completion:\n",
    "        score = score * 5\n",
    "        score += scoretable[letter]\n",
    "    return score\n",
    "\n",
    "assert 288957 == score_autocomplete(\"}}]])})]\")\n",
    "assert 5566 == score_autocomplete(\")}>]})\")\n",
    "assert 1480781 == score_autocomplete(\"}}>}>))))\")\n",
    "assert 995444 == score_autocomplete(\"]]}}]}]}>\")\n",
    "assert 294 == score_autocomplete(\"])}>\")"
   ]
  },
  {
   "cell_type": "markdown",
   "id": "76976803",
   "metadata": {},
   "source": [
    "Let's confirm that the changes to the process_chunks can return teh right stacks"
   ]
  },
  {
   "cell_type": "code",
   "execution_count": 18,
   "id": "b797e431",
   "metadata": {},
   "outputs": [],
   "source": [
    "def process_chunks(line):\n",
    "    stack = []\n",
    "    for c in line:\n",
    "        match c:\n",
    "            case \"(\": \n",
    "                stack.append(\")\")\n",
    "            case \"[\":\n",
    "                stack.append(\"]\")\n",
    "            case \"{\":\n",
    "                stack.append(\"}\")\n",
    "            case \"<\":\n",
    "                stack.append(\">\")\n",
    "            case m:\n",
    "                if stack == []:\n",
    "                    return False,m\n",
    "                elif stack[-1] != m:\n",
    "                    return False,m\n",
    "                else:\n",
    "                    assert m == stack.pop()\n",
    "    return True,\"\".join(reversed(stack))\n",
    "\n",
    "results = [process_chunks(line) for line in test_lines]\n",
    "expected = [\"}}]])})]\", \")}>]})\", \"}}>}>))))\", \"]]}}]}]}>\", \"])}>\"]\n",
    "assert expected == [result[1] for result in results if result[0]]"
   ]
  },
  {
   "cell_type": "markdown",
   "id": "54a9b347",
   "metadata": {},
   "source": [
    "Ok, final thing, we don't want the actual score, we want the middle number from the scores once sorted.\n",
    "With a given list of scores, given the constraint that there will always be an odd number of items, the midpoint should be at (len(list)-1)//2."
   ]
  },
  {
   "cell_type": "code",
   "execution_count": 19,
   "id": "961c5b17",
   "metadata": {},
   "outputs": [],
   "source": [
    "scores = sorted(map(score_autocomplete, [result[1] for result in results if result[0]]))\n",
    "assert 288957 == scores[(len(scores)-1)//2]"
   ]
  },
  {
   "cell_type": "markdown",
   "id": "54d63ea6",
   "metadata": {},
   "source": [
    "Let's try that on prod data then"
   ]
  },
  {
   "cell_type": "code",
   "execution_count": 20,
   "id": "74eccee7",
   "metadata": {},
   "outputs": [
    {
     "name": "stdout",
     "output_type": "stream",
     "text": [
      "3241238967\n"
     ]
    }
   ],
   "source": [
    "lines = [line.strip() for line in open('day10.txt').readlines()]\n",
    "results = [process_chunks(line) for line in lines]\n",
    "scores = sorted(map(score_autocomplete, [result[1] for result in results if result[0]]))\n",
    "print(scores[(len(scores)-1)//2])"
   ]
  },
  {
   "cell_type": "markdown",
   "id": "9098a40a",
   "metadata": {},
   "source": [
    "(2024 update) {% endraw %}"
   ]
  }
 ],
 "metadata": {
  "kernelspec": {
   "display_name": "Python 3 (ipykernel)",
   "language": "python",
   "name": "python3"
  },
  "language_info": {
   "codemirror_mode": {
    "name": "ipython",
    "version": 3
   },
   "file_extension": ".py",
   "mimetype": "text/x-python",
   "name": "python",
   "nbconvert_exporter": "python",
   "pygments_lexer": "ipython3",
   "version": "3.10.1"
  }
 },
 "nbformat": 4,
 "nbformat_minor": 5
}
