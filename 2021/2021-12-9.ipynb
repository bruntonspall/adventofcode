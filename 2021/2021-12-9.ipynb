{
 "cells": [
  {
   "cell_type": "markdown",
   "id": "0852f4f2",
   "metadata": {},
   "source": [
    "# Mapping the ocean floor\n",
    "\n",
    "Here's hoping that my games programming past comes back to help me here.\n",
    "\n",
    "First of all, we're going to want to examine the floor.  The critical bit of information we need is that for any given pair of coordinates, (x,y) we should be able to ask it for the heights of its neighbours, which will return a list like `[1,1,2,3]` or `[1,1]`.  If we ask an edge or a corner for its neighbours, we'll just return the 2 or 3 neighbours.\n",
    "\n",
    "Once we have that, we can then iterate over all the neighbours for each cell and ask if they are all greater than the current cell, if they are, we've found a \"local minima\"."
   ]
  },
  {
   "cell_type": "code",
   "execution_count": 2,
   "id": "18bab8b0",
   "metadata": {},
   "outputs": [],
   "source": [
    "## Import ipytest and get it setup for use in Python Notebook\n",
    "import pytest\n",
    "import ipytest\n",
    "ipytest.autoconfig()"
   ]
  },
  {
   "cell_type": "code",
   "execution_count": 3,
   "id": "d493580d",
   "metadata": {},
   "outputs": [],
   "source": [
    "class Grid:\n",
    "    def __init__(self,width,height,cells):\n",
    "        self.width = width\n",
    "        self.height = height\n",
    "        self.cells = cells\n",
    "        \n",
    "    def find_neighbours(self, x,y):\n",
    "        neighbours = []\n",
    "        if y > 0:\n",
    "            neighbours.append(self.cells[(x,y-1)])\n",
    "        if x < self.width-1:\n",
    "            neighbours.append(self.cells[(x+1,y)])\n",
    "        if y < self.height-1:\n",
    "            neighbours.append(self.cells[(x,y+1)])\n",
    "        if x > 0:\n",
    "            neighbours.append(self.cells[(x-1,y)])\n",
    "        return neighbours\n",
    "\n",
    "def grid_from_lines(lines):\n",
    "    height = len(lines)\n",
    "    width = len(lines[0])\n",
    "    cells = {}\n",
    "    for y,line in enumerate(lines):\n",
    "        for x,cell in enumerate(line):\n",
    "            cells[(x,y)] = int(cell)\n",
    "    return Grid(width,height,cells)\n",
    "\n",
    "test_data = \"\"\"2199943210\n",
    "3987894921\n",
    "9856789892\n",
    "8767896789\n",
    "9899965678\"\"\".split(\"\\n\")\n",
    "\n",
    "test_grid = grid_from_lines(test_data)\n",
    "assert 10 == test_grid.width\n",
    "assert 5 == test_grid.height\n",
    "assert 2 == test_grid.cells[(0,0)]\n",
    "assert 1 == test_grid.cells[(1,0)]\n",
    "assert 3 == test_grid.cells[(0,1)]\n",
    "\n",
    "# Implement find_neighbours on Grid class here\n",
    "\n",
    "assert [1,1] == test_grid.find_neighbours(9,0)\n",
    "assert [9,9,2] == test_grid.find_neighbours(1,0)\n",
    "assert [8,6,6,8] == test_grid.find_neighbours(2,2)"
   ]
  },
  {
   "cell_type": "markdown",
   "id": "4bad9807",
   "metadata": {},
   "source": [
    "Right, now we've got a basic grid class, we can find the lowest point.\n",
    "\n",
    "Sadly, due to the way the Jupyter notebook works, we cannot reopen an existing class, so we have to redefine it if we want to add a method, which we do in this case.  Note that we're interested in the heights of the lowest points.\n",
    "\n",
    "We could do this two ways, the longer and more readable way is to make find_lowest_points return a list of coordinates, and then write something that maps those into heights and then adds one to each one to get the risk.  Or we can put that into the Grid class as a find_risk_score.  I'm going to do the latter for speed, but I think we might need to come back and create a find_lowest_points later."
   ]
  },
  {
   "cell_type": "code",
   "execution_count": 4,
   "id": "c54b51ff",
   "metadata": {},
   "outputs": [],
   "source": [
    "class Grid:\n",
    "    def __init__(self,width,height,cells):\n",
    "        self.width = width\n",
    "        self.height = height\n",
    "        self.cells = cells\n",
    "        \n",
    "    def find_neighbours(self, x,y):\n",
    "        neighbours = []\n",
    "        if y > 0:\n",
    "            neighbours.append(self.cells[(x,y-1)])\n",
    "        if x < self.width-1:\n",
    "            neighbours.append(self.cells[(x+1,y)])\n",
    "        if y < self.height-1:\n",
    "            neighbours.append(self.cells[(x,y+1)])\n",
    "        if x > 0:\n",
    "            neighbours.append(self.cells[(x-1,y)])\n",
    "        return neighbours\n",
    "    \n",
    "    def find_risk_score(self):\n",
    "        score = 0\n",
    "        for y in range(self.height):\n",
    "            for x in range(self.width):\n",
    "                if self.cells[(x,y)] < min(self.find_neighbours(x,y)):\n",
    "                    score += self.cells[(x,y)]+1\n",
    "        return score\n",
    "\n",
    "def grid_from_lines(lines):\n",
    "    height = len(lines)\n",
    "    width = len(lines[0])\n",
    "    cells = {}\n",
    "    for y,line in enumerate(lines):\n",
    "        for x,cell in enumerate(line):\n",
    "            cells[(x,y)] = int(cell)\n",
    "    return Grid(width,height,cells)\n",
    "\n",
    "test_grid = grid_from_lines(test_data)\n",
    "\n",
    "assert 15 == test_grid.find_risk_score()"
   ]
  },
  {
   "cell_type": "markdown",
   "id": "ae3f4f32",
   "metadata": {},
   "source": [
    "Great!  Let's try that on prod data"
   ]
  },
  {
   "cell_type": "code",
   "execution_count": 5,
   "id": "0778ee25",
   "metadata": {},
   "outputs": [
    {
     "name": "stdout",
     "output_type": "stream",
     "text": [
      "572\n"
     ]
    }
   ],
   "source": [
    "grid = grid_from_lines([line.strip() for line in open('day9.txt')])\n",
    "print(grid.find_risk_score())"
   ]
  },
  {
   "cell_type": "markdown",
   "id": "a9129ef6",
   "metadata": {},
   "source": [
    "## Part 2 Filling the basin\n",
    "\n",
    "I knew I'd need the find_lowest_points.\n",
    "\n",
    "This is described in a way that makes it look hard, but in fact it's a fairly simple search algorithm.\n",
    "\n",
    "In this case, what they didn't say out loud, but is true when you look at the examples is that basins are enclosed on all sides by either the edge of the map, or by 9's.\n",
    "\n",
    "So what we need to do is calculate a basin score for each lowest point, and then we can order them, take the top 3 and multiply them.\n",
    "\n",
    "How do we calculate a basin score?  Well, we can use a simple open and closed list for coordinates, and then explore.\n",
    "When we explore, we start with the first item from the open list, we put it on teh closed list, and then we look at it's neighbours.  If they are less than 9, we put them on the open list.  If they are 9, they get ignored.  If they are on the closed list they are ignored, if they are already on the open list they are ignored.\n",
    "\n",
    "Then we keep doing that until we run out of coordinates on the open list.\n",
    "\n",
    "Let's describe that with a really simple basin\n",
    "\n",
    "```929\n",
    "919\n",
    "999```\n",
    "\n",
    "We start at 1,1, which is our lowest point, so open = [(1,1)] and closed is [].\n",
    "We put (1,1) on the closed list and remove it from the open list, resulting in open=[], closed=[(1,1)]\n",
    "We evaluate the neighbours of (1,1), (1,0) is 2, so we add it to the open list, (2,1) is a 9, so we skip it, (1,2) is a 9 so we skip it, and (0,1) is a 9 so we skip it.  We now have just (1,0) on the open list.\n",
    "\n",
    "We pop (1,0) on the closed list and remove it from the open list.\n",
    "We examine it's neighbours, (2,0) is a 9, ignore it.  (1,1) is on the closed list, ignore it.  (0,1) is a 9, ignore it.\n",
    "\n",
    "Our open list is now empty, so we return, and the closed list contains all of our basin nodes."
   ]
  },
  {
   "cell_type": "code",
   "execution_count": 6,
   "id": "e117b7a4",
   "metadata": {},
   "outputs": [
    {
     "data": {
      "text/plain": [
       "'**************************************'"
      ]
     },
     "metadata": {},
     "output_type": "display_data"
    },
    {
     "data": {
      "text/markdown": [
       " 2  1  9  9  9  4  3  2  1  0 "
      ],
      "text/plain": [
       "<IPython.core.display.Markdown object>"
      ]
     },
     "metadata": {},
     "output_type": "display_data"
    },
    {
     "data": {
      "text/markdown": [
       " 3  9  8  7  8  9  4  9  2  1 "
      ],
      "text/plain": [
       "<IPython.core.display.Markdown object>"
      ]
     },
     "metadata": {},
     "output_type": "display_data"
    },
    {
     "data": {
      "text/markdown": [
       " 9  8  5  6  7  8  9  8  9  2 "
      ],
      "text/plain": [
       "<IPython.core.display.Markdown object>"
      ]
     },
     "metadata": {},
     "output_type": "display_data"
    },
    {
     "data": {
      "text/markdown": [
       " 8  7  6  7  8  9  6  7  8  9 "
      ],
      "text/plain": [
       "<IPython.core.display.Markdown object>"
      ]
     },
     "metadata": {},
     "output_type": "display_data"
    },
    {
     "data": {
      "text/markdown": [
       " 9  8  9  9  9  6  5  6  7  8 "
      ],
      "text/plain": [
       "<IPython.core.display.Markdown object>"
      ]
     },
     "metadata": {},
     "output_type": "display_data"
    },
    {
     "data": {
      "text/plain": [
       "'**************************************'"
      ]
     },
     "metadata": {},
     "output_type": "display_data"
    },
    {
     "data": {
      "text/plain": [
       "'**************************************'"
      ]
     },
     "metadata": {},
     "output_type": "display_data"
    },
    {
     "data": {
      "text/markdown": [
       " **2**  **1**  9  9  9  4  3  2  1  0 "
      ],
      "text/plain": [
       "<IPython.core.display.Markdown object>"
      ]
     },
     "metadata": {},
     "output_type": "display_data"
    },
    {
     "data": {
      "text/markdown": [
       " **3**  9  8  7  8  9  4  9  2  1 "
      ],
      "text/plain": [
       "<IPython.core.display.Markdown object>"
      ]
     },
     "metadata": {},
     "output_type": "display_data"
    },
    {
     "data": {
      "text/markdown": [
       " 9  8  5  6  7  8  9  8  9  2 "
      ],
      "text/plain": [
       "<IPython.core.display.Markdown object>"
      ]
     },
     "metadata": {},
     "output_type": "display_data"
    },
    {
     "data": {
      "text/markdown": [
       " 8  7  6  7  8  9  6  7  8  9 "
      ],
      "text/plain": [
       "<IPython.core.display.Markdown object>"
      ]
     },
     "metadata": {},
     "output_type": "display_data"
    },
    {
     "data": {
      "text/markdown": [
       " 9  8  9  9  9  6  5  6  7  8 "
      ],
      "text/plain": [
       "<IPython.core.display.Markdown object>"
      ]
     },
     "metadata": {},
     "output_type": "display_data"
    },
    {
     "data": {
      "text/plain": [
       "'**************************************'"
      ]
     },
     "metadata": {},
     "output_type": "display_data"
    },
    {
     "name": "stdout",
     "output_type": "stream",
     "text": [
      "3\n"
     ]
    },
    {
     "data": {
      "text/plain": [
       "'**************************************'"
      ]
     },
     "metadata": {},
     "output_type": "display_data"
    },
    {
     "data": {
      "text/markdown": [
       " 2  1  9  9  9  4  3  2  1  0 "
      ],
      "text/plain": [
       "<IPython.core.display.Markdown object>"
      ]
     },
     "metadata": {},
     "output_type": "display_data"
    },
    {
     "data": {
      "text/markdown": [
       " 3  9  **8**  **7**  **8**  9  4  9  2  1 "
      ],
      "text/plain": [
       "<IPython.core.display.Markdown object>"
      ]
     },
     "metadata": {},
     "output_type": "display_data"
    },
    {
     "data": {
      "text/markdown": [
       " 9  **8**  **5**  **6**  **7**  **8**  9  8  9  2 "
      ],
      "text/plain": [
       "<IPython.core.display.Markdown object>"
      ]
     },
     "metadata": {},
     "output_type": "display_data"
    },
    {
     "data": {
      "text/markdown": [
       " **8**  **7**  **6**  **7**  **8**  9  6  7  8  9 "
      ],
      "text/plain": [
       "<IPython.core.display.Markdown object>"
      ]
     },
     "metadata": {},
     "output_type": "display_data"
    },
    {
     "data": {
      "text/markdown": [
       " 9  **8**  9  9  9  6  5  6  7  8 "
      ],
      "text/plain": [
       "<IPython.core.display.Markdown object>"
      ]
     },
     "metadata": {},
     "output_type": "display_data"
    },
    {
     "data": {
      "text/plain": [
       "'**************************************'"
      ]
     },
     "metadata": {},
     "output_type": "display_data"
    },
    {
     "name": "stdout",
     "output_type": "stream",
     "text": [
      "14\n"
     ]
    },
    {
     "data": {
      "text/plain": [
       "'**************************************'"
      ]
     },
     "metadata": {},
     "output_type": "display_data"
    },
    {
     "data": {
      "text/markdown": [
       " 2  1  9  9  9  4  3  2  1  0 "
      ],
      "text/plain": [
       "<IPython.core.display.Markdown object>"
      ]
     },
     "metadata": {},
     "output_type": "display_data"
    },
    {
     "data": {
      "text/markdown": [
       " 3  9  8  7  8  9  4  9  2  1 "
      ],
      "text/plain": [
       "<IPython.core.display.Markdown object>"
      ]
     },
     "metadata": {},
     "output_type": "display_data"
    },
    {
     "data": {
      "text/markdown": [
       " 9  8  5  6  7  8  9  **8**  9  2 "
      ],
      "text/plain": [
       "<IPython.core.display.Markdown object>"
      ]
     },
     "metadata": {},
     "output_type": "display_data"
    },
    {
     "data": {
      "text/markdown": [
       " 8  7  6  7  8  9  **6**  **7**  **8**  9 "
      ],
      "text/plain": [
       "<IPython.core.display.Markdown object>"
      ]
     },
     "metadata": {},
     "output_type": "display_data"
    },
    {
     "data": {
      "text/markdown": [
       " 9  8  9  9  9  **6**  **5**  **6**  **7**  **8** "
      ],
      "text/plain": [
       "<IPython.core.display.Markdown object>"
      ]
     },
     "metadata": {},
     "output_type": "display_data"
    },
    {
     "data": {
      "text/plain": [
       "'**************************************'"
      ]
     },
     "metadata": {},
     "output_type": "display_data"
    },
    {
     "name": "stdout",
     "output_type": "stream",
     "text": [
      "9\n"
     ]
    },
    {
     "data": {
      "text/plain": [
       "'**************************************'"
      ]
     },
     "metadata": {},
     "output_type": "display_data"
    },
    {
     "data": {
      "text/markdown": [
       " 2  1  9  9  9  **4**  **3**  **2**  **1**  **0** "
      ],
      "text/plain": [
       "<IPython.core.display.Markdown object>"
      ]
     },
     "metadata": {},
     "output_type": "display_data"
    },
    {
     "data": {
      "text/markdown": [
       " 3  9  8  7  8  9  **4**  9  **2**  **1** "
      ],
      "text/plain": [
       "<IPython.core.display.Markdown object>"
      ]
     },
     "metadata": {},
     "output_type": "display_data"
    },
    {
     "data": {
      "text/markdown": [
       " 9  8  5  6  7  8  9  8  9  **2** "
      ],
      "text/plain": [
       "<IPython.core.display.Markdown object>"
      ]
     },
     "metadata": {},
     "output_type": "display_data"
    },
    {
     "data": {
      "text/markdown": [
       " 8  7  6  7  8  9  6  7  8  9 "
      ],
      "text/plain": [
       "<IPython.core.display.Markdown object>"
      ]
     },
     "metadata": {},
     "output_type": "display_data"
    },
    {
     "data": {
      "text/markdown": [
       " 9  8  9  9  9  6  5  6  7  8 "
      ],
      "text/plain": [
       "<IPython.core.display.Markdown object>"
      ]
     },
     "metadata": {},
     "output_type": "display_data"
    },
    {
     "data": {
      "text/plain": [
       "'**************************************'"
      ]
     },
     "metadata": {},
     "output_type": "display_data"
    },
    {
     "name": "stdout",
     "output_type": "stream",
     "text": [
      "9\n"
     ]
    }
   ],
   "source": [
    "import operator\n",
    "\n",
    "class Grid:\n",
    "    def __init__(self,width,height,cells):\n",
    "        self.width = width\n",
    "        self.height = height\n",
    "        self.cells = cells\n",
    "        \n",
    "    def get_cell(self, coord):\n",
    "        return self.cells[coord]\n",
    "        \n",
    "    def find_neighbours(self, x,y):\n",
    "        neighbours = []\n",
    "        if y > 0:\n",
    "            neighbours.append((x,y-1))\n",
    "        if x < self.width-1:\n",
    "            neighbours.append((x+1,y))\n",
    "        if y < self.height-1:\n",
    "            neighbours.append((x,y+1))\n",
    "        if x > 0:\n",
    "            neighbours.append((x-1,y))\n",
    "        return neighbours\n",
    "    \n",
    "    def find_risk_score(self):\n",
    "        return sum(map(lambda c: self.cells[(c[0],c[1])]+1, self.find_lowest_points()))\n",
    "    \n",
    "    def find_lowest_points(self):\n",
    "        return [(x,y) for x in range(self.width) for y in range(self.height) if self.cells[(x,y)] < min(map(self.get_cell, self.find_neighbours(x,y)))]\n",
    "    \n",
    "    def find_basins(self):\n",
    "        basins = []\n",
    "        for point in self.find_lowest_points():\n",
    "            open = [point]\n",
    "            closed = []\n",
    "            while open:\n",
    "                point = open.pop()\n",
    "                closed.append(point)\n",
    "                for neighbour in self.find_neighbours(*point):\n",
    "                    if neighbour not in closed and neighbour not in open and self.cells[neighbour] != 9:\n",
    "                        open.append(neighbour)\n",
    "            basins.append(closed)\n",
    "        return basins\n",
    "    \n",
    "    def display(self, highlights=[]):\n",
    "        import IPython.display\n",
    "        IPython.display.display(\"**************************************\")\n",
    "        for y in range(self.height):\n",
    "            line = \"\"\n",
    "            for x in range(self.width):\n",
    "                if (x,y) in highlights:\n",
    "                    line += f\" **{self.get_cell((x,y))}** \"\n",
    "                else:\n",
    "                    line += f\" {self.get_cell((x,y))} \"\n",
    "            IPython.display.display(IPython.display.Markdown(line))   \n",
    "        IPython.display.display(\"**************************************\")\n",
    "        \n",
    "def grid_from_lines(lines):\n",
    "    height = len(lines)\n",
    "    width = len(lines[0])\n",
    "    cells = {}\n",
    "    for y,line in enumerate(lines):\n",
    "        for x,cell in enumerate(line):\n",
    "            cells[(x,y)] = int(cell)\n",
    "    return Grid(width,height,cells)\n",
    "\n",
    "test_grid = grid_from_lines(test_data)\n",
    "test_grid.display()\n",
    "\n",
    "assert 15 == test_grid.find_risk_score()\n",
    "\n",
    "test_basins = test_grid.find_basins()\n",
    "for basin in test_basins:\n",
    "    test_grid.display(basin)\n",
    "    print(len(basin))\n",
    "\n",
    "    assert 4 == len(test_basins)\n",
    "assert sorted([(0,0),(1,0),(0,1)]) == sorted(test_basins[0])\n",
    "test_basin_sizes = sorted(map(len, test_basins))\n",
    "assert [3,9,9,14] == test_basin_sizes\n",
    "assert 1134 == test_basin_sizes[-3]*test_basin_sizes[-2]*test_basin_sizes[-1]"
   ]
  },
  {
   "cell_type": "markdown",
   "id": "dcbccd50",
   "metadata": {},
   "source": [
    "That works, let's do this"
   ]
  },
  {
   "cell_type": "code",
   "execution_count": 7,
   "id": "bb5982de",
   "metadata": {},
   "outputs": [
    {
     "name": "stdout",
     "output_type": "stream",
     "text": [
      "847044\n"
     ]
    }
   ],
   "source": [
    "grid = grid_from_lines([line.strip() for line in open('day9.txt')])\n",
    "basins = grid.find_basins()\n",
    "basin_sizes = sorted(map(len, basins))\n",
    "print(basin_sizes[-3]*basin_sizes[-2]*basin_sizes[-1])"
   ]
  },
  {
   "cell_type": "markdown",
   "id": "e57d6cc0",
   "metadata": {},
   "source": [
    "For fun, I'd added a printing method, so let's print out the production basic.  What would be nice would be if I could work out how to get Python notebook to render this as markdown, but I've got work to do today... maybe at lunch"
   ]
  },
  {
   "cell_type": "code",
   "execution_count": 8,
   "id": "95ec7bbc",
   "metadata": {},
   "outputs": [
    {
     "data": {
      "text/plain": [
       "'**************************************'"
      ]
     },
     "metadata": {},
     "output_type": "display_data"
    },
    {
     "data": {
      "text/markdown": [
       " **5**  **7**  9  **6**  **7**  9  **8**  **6**  **2**  **1**  **2**  **3**  **7**  9  9  **5**  **4**  9  **8**  **7**  **6**  **5**  **4**  **3**  **4**  **5**  **6**  **7**  9  **8**  **7**  **5**  **4**  **2**  9  9  9  **7**  **6**  **5**  **6**  **7**  9  9  **8**  **7**  **5**  **4**  **5**  **6**  **7**  9  **1**  **0**  9  **8**  **7**  **8**  9  9  9  **8**  **7**  **7**  **8**  9  9  **7**  **8**  9  **8**  **7**  **6**  **5**  **3**  **2**  **1**  **2**  **3**  **4**  **5**  **6**  9  9  **8**  9  9  9  **8**  **7**  **6**  **8**  **8**  **7**  **8**  9  9  9  **2**  **1** "
      ],
      "text/plain": [
       "<IPython.core.display.Markdown object>"
      ]
     },
     "metadata": {},
     "output_type": "display_data"
    },
    {
     "data": {
      "text/markdown": [
       " **4**  **6**  **4**  **5**  9  **7**  **6**  **4**  **3**  **4**  **4**  **5**  **6**  **7**  **8**  9  **3**  **4**  9  **6**  **5**  **4**  **3**  **2**  **1**  **2**  9  **8**  9  9  **7**  **6**  **7**  9  **8**  9  **8**  **6**  **5**  **4**  **6**  9  **8**  9  **8**  **7**  **6**  **3**  **5**  **6**  **7**  **8**  9  9  **8**  **7**  **6**  **7**  **8**  9  **7**  **6**  **5**  **6**  **7**  **8**  9  **6**  9  **8**  **7**  **6**  **5**  **4**  **3**  **2**  **0**  **1**  **2**  **3**  **4**  **7**  **8**  9  **7**  **8**  9  9  **8**  **6**  **5**  **6**  **7**  **6**  **7**  9  **8**  **7**  9  9 "
      ],
      "text/plain": [
       "<IPython.core.display.Markdown object>"
      ]
     },
     "metadata": {},
     "output_type": "display_data"
    },
    {
     "data": {
      "text/markdown": [
       " **3**  **2**  **3**  **4**  9  **8**  **7**  **5**  **4**  **5**  9  **7**  **8**  9  9  **3**  **2**  9  **8**  **7**  9  **5**  **4**  **1**  **0**  9  **8**  9  9  9  **8**  9  **8**  9  **7**  **8**  9  **5**  **4**  **3**  **2**  **5**  **6**  **8**  9  **7**  **6**  **4**  **6**  **7**  **8**  9  **4**  9  **8**  **7**  **5**  **6**  **7**  **8**  9  **5**  **4**  **6**  **8**  9  **6**  **5**  **7**  9  **8**  **7**  **7**  **8**  **4**  **2**  **1**  **2**  **3**  **4**  **5**  **6**  9  **7**  **6**  **7**  **8**  9  9  **5**  **4**  **3**  **4**  **5**  9  **8**  **5**  **6**  **7**  **8** "
      ],
      "text/plain": [
       "<IPython.core.display.Markdown object>"
      ]
     },
     "metadata": {},
     "output_type": "display_data"
    },
    {
     "data": {
      "text/markdown": [
       " **4**  **3**  **5**  **6**  **7**  9  **8**  **6**  **7**  9  9  **8**  9  9  9  9  **0**  **1**  9  9  **8**  **7**  **3**  **2**  9  **8**  **7**  **8**  9  9  9  **7**  9  **8**  **6**  **7**  9  **7**  **6**  **5**  **3**  **4**  **5**  **6**  **8**  9  **8**  **5**  **6**  9  9  **1**  **2**  9  **6**  **5**  **4**  **5**  **8**  9  **0**  **1**  **3**  **4**  **7**  **8**  9  **4**  **6**  **7**  9  9  **8**  9  **5**  **6**  **8**  9  9  9  **6**  **7**  **8**  9  **5**  **6**  9  **8**  **6**  **4**  **3**  **2**  **3**  9  **8**  **7**  **4**  **5**  **7**  9 "
      ],
      "text/plain": [
       "<IPython.core.display.Markdown object>"
      ]
     },
     "metadata": {},
     "output_type": "display_data"
    },
    {
     "data": {
      "text/markdown": [
       " **6**  **4**  **6**  **7**  9  9  9  **7**  **8**  9  9  9  9  **8**  9  **8**  9  **3**  **4**  9  **7**  **6**  **5**  9  **8**  9  **6**  **7**  9  **8**  **7**  **6**  **7**  **6**  **5**  **6**  **8**  9  9  **6**  **4**  **5**  **7**  9  9  9  9  **6**  **7**  9  9  9  9  **8**  **7**  **6**  **3**  **6**  **7**  **8**  9  **3**  **4**  **5**  **6**  9  **1**  **3**  **4**  **6**  **7**  **8**  9  **7**  **6**  9  9  **8**  **7**  **8**  9  **8**  9  **3**  **4**  9  **8**  **7**  **6**  **5**  **1**  **0**  9  **8**  **7**  **6**  **3**  **4**  **5**  **6** "
      ],
      "text/plain": [
       "<IPython.core.display.Markdown object>"
      ]
     },
     "metadata": {},
     "output_type": "display_data"
    },
    {
     "data": {
      "text/markdown": [
       " **7**  **5**  9  **8**  9  9  **7**  9  9  9  9  **8**  **7**  **7**  9  **6**  **8**  9  9  9  **8**  9  9  **8**  **7**  9  **5**  9  **8**  **7**  **6**  **5**  **4**  **3**  **4**  **5**  **6**  **7**  **8**  9  **5**  **6**  9  **8**  9  **8**  9  9  **8**  9  9  **8**  **7**  **6**  **5**  **1**  **2**  **5**  **6**  **7**  **8**  9  **5**  **6**  9  **1**  **0**  **2**  9  **8**  **8**  9  9  **8**  9  **8**  **7**  **7**  **6**  **7**  9  9  **1**  **2**  **3**  9  9  **8**  **8**  **6**  **2**  9  **8**  **7**  **6**  **5**  **2**  **3**  **4**  **5** "
      ],
      "text/plain": [
       "<IPython.core.display.Markdown object>"
      ]
     },
     "metadata": {},
     "output_type": "display_data"
    },
    {
     "data": {
      "text/markdown": [
       " **8**  **7**  **8**  9  **8**  **7**  **6**  **7**  **8**  9  **8**  **6**  **5**  **6**  **8**  **5**  **5**  **7**  **8**  9  9  9  **8**  **7**  **6**  **6**  **4**  **5**  9  **8**  **7**  **6**  **6**  **5**  **5**  **6**  **7**  9  9  **8**  **6**  **8**  9  **6**  **5**  **6**  **7**  **8**  9  **8**  **7**  **6**  **5**  **5**  **4**  **0**  **3**  **4**  **8**  9  9  9  9  9  **8**  9  **1**  9  **8**  9  9  9  **8**  9  **8**  **7**  **5**  **6**  **4**  **6**  **7**  9  **0**  9  9  **7**  **8**  9  **8**  **7**  9  **8**  **7**  **6**  **5**  **4**  **3**  **4**  **5**  **6** "
      ],
      "text/plain": [
       "<IPython.core.display.Markdown object>"
      ]
     },
     "metadata": {},
     "output_type": "display_data"
    },
    {
     "data": {
      "text/markdown": [
       " 9  **8**  9  **8**  **7**  **6**  **5**  **4**  9  **8**  9  **7**  **4**  **3**  **2**  **4**  **4**  **5**  **6**  **7**  9  9  **8**  **6**  **5**  **5**  **3**  **4**  **5**  9  **8**  **7**  **8**  **6**  **7**  **8**  **8**  9  9  **8**  **7**  9  **8**  **6**  **4**  **5**  **8**  **8**  9  9  **8**  **5**  **4**  **3**  **2**  **1**  **2**  **6**  9  **5**  **4**  9  **8**  **7**  **7**  **8**  9  **8**  **7**  **8**  9  **8**  **7**  **6**  **5**  **4**  **3**  **2**  **3**  **5**  **6**  **7**  9  **8**  **8**  **6**  9  **8**  9  **8**  9  9  **8**  **7**  **6**  **6**  **4**  **6**  **7**  **8** "
      ],
      "text/plain": [
       "<IPython.core.display.Markdown object>"
      ]
     },
     "metadata": {},
     "output_type": "display_data"
    },
    {
     "data": {
      "text/markdown": [
       " 9  9  **8**  9  9  9  **7**  9  **8**  **7**  **5**  **4**  **3**  **2**  **1**  **2**  **3**  **6**  **7**  9  **8**  **7**  **6**  **5**  **4**  **3**  **2**  **3**  **4**  **5**  9  **8**  9  **7**  **8**  9  9  **5**  **4**  9  **8**  9  **5**  **4**  **3**  **4**  **5**  **6**  9  **8**  **7**  **6**  **5**  **5**  **6**  **4**  **3**  **7**  **8**  9  9  **8**  **7**  **6**  **5**  9  9  9  **6**  **7**  9  9  **6**  **5**  **4**  **3**  **2**  **1**  **2**  **4**  **5**  9  **8**  **7**  **6**  **5**  **8**  **7**  **8**  9  **8**  9  9  **8**  **7**  9  **8**  **7**  **8**  9 "
      ],
      "text/plain": [
       "<IPython.core.display.Markdown object>"
      ]
     },
     "metadata": {},
     "output_type": "display_data"
    },
    {
     "data": {
      "text/markdown": [
       " 9  **8**  **7**  **7**  9  **8**  9  9  9  **7**  **6**  **6**  **2**  **1**  **0**  **1**  **4**  **5**  **6**  **7**  9  **8**  **7**  **6**  **5**  **4**  **3**  **4**  **5**  **6**  **7**  9  9  **8**  9  **6**  **7**  9  **3**  **2**  9  **8**  **7**  **6**  **2**  **4**  **7**  **7**  **8**  9  **8**  9  **7**  **8**  **7**  **5**  **4**  **8**  9  9  9  9  **8**  9  **6**  **7**  9  **4**  **5**  9  9  **8**  **7**  **6**  **8**  **7**  **3**  **0**  **1**  **3**  **4**  9  **8**  **7**  **5**  **4**  **5**  **6**  9  **6**  **7**  **8**  9  9  **8**  9  9  **8**  9  **3** "
      ],
      "text/plain": [
       "<IPython.core.display.Markdown object>"
      ]
     },
     "metadata": {},
     "output_type": "display_data"
    },
    {
     "data": {
      "text/markdown": [
       " **8**  **7**  **6**  **5**  **6**  **7**  **8**  9  9  **8**  9  **8**  **3**  **2**  **3**  **2**  **3**  **6**  **7**  **8**  9  9  **8**  9  **6**  **7**  **6**  **5**  **7**  **8**  **8**  9  **3**  9  **3**  **4**  **6**  **8**  9  **1**  **2**  9  **5**  **4**  **3**  **4**  9  9  9  9  9  9  **8**  9  9  **6**  **5**  9  **8**  **7**  9  **6**  9  9  **8**  9  **4**  **3**  **4**  9  **8**  9  9  **7**  9  **6**  **5**  **3**  **2**  **6**  **5**  **6**  9  **5**  **4**  **3**  **4**  **4**  **7**  **5**  **6**  9  **1**  **0**  9  **2**  **3**  9  **6**  **4** "
      ],
      "text/plain": [
       "<IPython.core.display.Markdown object>"
      ]
     },
     "metadata": {},
     "output_type": "display_data"
    },
    {
     "data": {
      "text/markdown": [
       " 9  **8**  **7**  **4**  **7**  **8**  9  **0**  **1**  9  **8**  9  **4**  **3**  **4**  **3**  **4**  **5**  **6**  **7**  **8**  9  9  **4**  9  **8**  **7**  **8**  9  9  9  **3**  **2**  **1**  **2**  **3**  **5**  **7**  9  9  9  **8**  **7**  **5**  **4**  **5**  **6**  **7**  **8**  9  **4**  **5**  9  9  **8**  **7**  **7**  **8**  9  **6**  **4**  **5**  **7**  **8**  9  **4**  **2**  **1**  **3**  9  **7**  **6**  9  **8**  9  **8**  **5**  **4**  **3**  **7**  **6**  9  **8**  **4**  **3**  **2**  **1**  **2**  **3**  **4**  **5**  **8**  9  **1**  9  **4**  9  **7**  **6**  **5** "
      ],
      "text/plain": [
       "<IPython.core.display.Markdown object>"
      ]
     },
     "metadata": {},
     "output_type": "display_data"
    },
    {
     "data": {
      "text/markdown": [
       " **7**  9  **6**  **5**  **6**  **7**  **8**  9  9  **8**  **7**  **6**  **5**  **7**  **6**  **4**  **5**  **6**  **7**  **8**  9  **3**  **4**  **3**  **3**  9  **8**  9  **8**  **7**  **6**  **5**  **4**  **2**  **3**  **4**  **6**  9  **8**  **7**  **8**  9  **8**  **6**  **5**  **6**  **7**  **8**  9  **2**  **3**  **6**  **7**  9  9  **8**  **8**  9  **6**  **5**  **3**  9  **8**  9  9  **4**  **3**  **2**  9  **8**  **6**  **5**  **2**  9  9  9  **6**  **7**  **8**  9  **8**  9  **7**  **5**  **4**  **5**  **2**  **3**  **4**  **5**  **6**  **7**  **8**  9  **8**  9  **8**  9  **7**  **6** "
      ],
      "text/plain": [
       "<IPython.core.display.Markdown object>"
      ]
     },
     "metadata": {},
     "output_type": "display_data"
    },
    {
     "data": {
      "text/markdown": [
       " **6**  **5**  9  **8**  **7**  **8**  9  **1**  **0**  9  9  **7**  **6**  9  **7**  **5**  **6**  9  **8**  9  **2**  **1**  **0**  **1**  **2**  **3**  9  **8**  9  9  9  **7**  **6**  **3**  **4**  **5**  **7**  **8**  9  **6**  **5**  **5**  9  **8**  **6**  **7**  9  9  **7**  **6**  **4**  **7**  9  **8**  9  9  9  **8**  **7**  9  9  **8**  9  9  **8**  **7**  **4**  **5**  **6**  9  **5**  **4**  **1**  **0**  9  **8**  **7**  9  9  **7**  9  **8**  **7**  **6**  **5**  **6**  **7**  **6**  **5**  **7**  9  **8**  9  **6**  **6**  **8**  **7**  **8**  9  **7** "
      ],
      "text/plain": [
       "<IPython.core.display.Markdown object>"
      ]
     },
     "metadata": {},
     "output_type": "display_data"
    },
    {
     "data": {
      "text/markdown": [
       " **5**  **4**  **3**  9  **8**  9  **8**  9  **2**  9  9  **8**  9  9  **8**  9  **7**  **8**  9  9  **6**  **2**  **1**  **2**  **3**  **4**  **5**  **7**  **8**  9  9  **8**  9  **4**  **5**  **6**  **8**  9  **8**  9  **4**  **3**  **5**  9  9  **8**  9  9  **8**  **7**  9  9  **8**  **7**  **8**  9  9  9  9  **8**  9  **7**  9  **8**  **7**  **6**  **5**  **7**  9  **8**  **4**  **3**  **2**  **1**  **4**  9  **8**  9  **8**  **6**  **4**  9  9  **8**  **7**  **7**  **8**  **7**  **8**  9  9  9  **6**  **5**  **4**  **5**  **6**  9  **8**  9 "
      ],
      "text/plain": [
       "<IPython.core.display.Markdown object>"
      ]
     },
     "metadata": {},
     "output_type": "display_data"
    },
    {
     "data": {
      "text/markdown": [
       " **5**  **2**  **1**  **2**  9  **8**  **7**  **8**  9  **8**  9  9  9  9  9  9  **8**  9  9  **8**  **5**  **4**  **3**  **3**  **6**  **5**  **6**  **8**  9  9  9  9  **8**  9  **8**  **7**  9  9  **7**  9  **3**  **2**  **6**  **5**  **6**  9  **1**  **0**  9  9  **8**  9  **5**  **6**  **7**  **8**  9  **8**  **8**  **7**  9  **6**  **8**  9  **8**  **7**  **8**  9  **8**  **7**  **5**  **4**  **4**  **2**  **3**  **4**  9  9  **5**  **4**  **3**  **4**  **5**  9  9  **8**  9  **8**  9  9  9  **8**  **7**  **4**  **3**  **4**  **5**  **6**  **7**  9 "
      ],
      "text/plain": [
       "<IPython.core.display.Markdown object>"
      ]
     },
     "metadata": {},
     "output_type": "display_data"
    },
    {
     "data": {
      "text/markdown": [
       " **4**  **3**  **0**  9  **8**  **7**  **5**  9  **8**  **7**  9  9  9  **8**  **7**  **6**  9  9  **8**  **7**  **6**  **5**  **6**  **8**  **7**  **6**  **7**  9  9  **8**  9  **8**  **7**  **8**  9  9  **8**  **7**  **6**  **5**  **4**  **1**  **2**  **4**  **5**  **8**  9  **2**  9  **8**  **7**  **5**  **4**  **6**  **7**  9  **8**  **7**  **8**  **5**  **4**  **5**  9  9  9  **8**  9  **6**  9  **8**  9  **5**  **5**  **6**  **7**  9  9  **8**  9  **3**  **2**  **3**  **4**  **5**  9  9  **7**  9  **8**  9  9  9  9  **3**  **2**  **1**  **4**  **5**  **8**  9 "
      ],
      "text/plain": [
       "<IPython.core.display.Markdown object>"
      ]
     },
     "metadata": {},
     "output_type": "display_data"
    },
    {
     "data": {
      "text/markdown": [
       " **5**  9  9  **6**  9  **5**  **4**  **6**  **7**  **6**  **7**  9  9  9  **8**  **4**  **3**  **2**  9  **8**  **7**  **7**  **7**  **8**  **8**  9  **8**  9  **8**  **7**  **8**  9  **6**  9  **8**  9  9  **8**  **7**  **4**  **3**  **2**  **4**  **5**  **6**  **7**  **8**  9  9  **7**  **6**  **5**  **3**  **5**  9  **8**  **7**  **6**  **7**  **4**  **3**  **4**  **8**  9  9  9  **6**  **5**  **4**  9  **8**  **7**  **7**  **7**  **8**  9  **8**  **7**  **8**  9  **1**  **2**  **3**  9  **8**  **7**  **6**  **7**  **7**  **8**  9  9  **8**  **4**  **3**  **2**  **3**  **4**  **5**  **6** "
      ],
      "text/plain": [
       "<IPython.core.display.Markdown object>"
      ]
     },
     "metadata": {},
     "output_type": "display_data"
    },
    {
     "data": {
      "text/markdown": [
       " 9  **8**  **7**  **5**  **4**  **3**  **2**  **5**  **4**  **5**  **7**  **8**  9  **7**  **4**  **3**  **2**  **1**  **2**  9  **8**  9  **8**  9  9  9  9  **8**  9  **6**  **7**  **6**  **5**  9  **7**  **8**  9  9  **8**  **5**  **5**  9  **5**  **6**  **7**  **8**  9  9  **8**  **8**  **6**  **8**  **2**  **4**  9  9  **6**  **5**  **3**  **1**  **2**  **6**  **7**  9  **8**  **6**  **5**  **4**  **3**  **5**  9  9  **8**  **8**  9  **8**  **7**  **6**  **7**  **8**  9  9  **5**  9  **8**  9  **5**  **4**  **6**  9  **8**  **7**  **6**  **5**  **4**  **6**  **7**  **5**  **6**  **7** "
      ],
      "text/plain": [
       "<IPython.core.display.Markdown object>"
      ]
     },
     "metadata": {},
     "output_type": "display_data"
    },
    {
     "data": {
      "text/markdown": [
       " **2**  9  9  **4**  **3**  **2**  **1**  **0**  **3**  **6**  **8**  9  **7**  **6**  **5**  **4**  **1**  **0**  **1**  9  9  **6**  9  **3**  **6**  9  **8**  **7**  **6**  **5**  **4**  **5**  **4**  **3**  **6**  **7**  9  9  9  9  9  **8**  9  **7**  **8**  9  9  9  **7**  **8**  **5**  **4**  **1**  9  **8**  **7**  **6**  **4**  **3**  **0**  **1**  **5**  **6**  9  9  **7**  9  **4**  **2**  **3**  **4**  **5**  9  9  9  9  9  **5**  **4**  **6**  **7**  **8**  9  9  **7**  **6**  **4**  **3**  **7**  **8**  9  9  **7**  **8**  **5**  **7**  **8**  9  **7**  **8** "
      ],
      "text/plain": [
       "<IPython.core.display.Markdown object>"
      ]
     },
     "metadata": {},
     "output_type": "display_data"
    },
    {
     "data": {
      "text/markdown": [
       " **0**  9  **8**  **7**  **4**  **3**  **2**  **1**  **2**  **8**  9  9  **8**  **7**  **6**  **3**  **2**  **1**  9  **8**  **7**  **5**  **4**  **2**  **4**  **6**  9  **8**  **7**  **6**  **3**  **2**  **1**  **2**  **4**  **7**  **8**  9  9  **8**  9  **7**  **8**  9  9  9  **8**  **7**  **6**  **5**  **4**  **3**  **2**  9  **8**  **7**  **7**  **3**  **2**  **1**  **2**  **4**  **5**  **8**  9  9  **8**  9  **0**  **1**  **2**  **6**  **7**  **8**  9  **8**  **7**  **6**  **7**  **8**  **8**  9  **5**  9  **8**  **7**  **3**  **2**  **3**  **4**  **5**  9  **8**  **8**  **7**  **8**  9  9  **8**  9 "
      ],
      "text/plain": [
       "<IPython.core.display.Markdown object>"
      ]
     },
     "metadata": {},
     "output_type": "display_data"
    },
    {
     "data": {
      "text/markdown": [
       " 9  **8**  **7**  **6**  **5**  **4**  **4**  **3**  **4**  **6**  **7**  **8**  9  9  **7**  9  **3**  **2**  9  **8**  **7**  **6**  **5**  **1**  **2**  **3**  **4**  9  9  9  **8**  **4**  **0**  **1**  **5**  **6**  9  **8**  9  **7**  **5**  **6**  9  **2**  **3**  **4**  9  **8**  **7**  9  9  **4**  9  **8**  **7**  **6**  **5**  **4**  **3**  **4**  **3**  **4**  **5**  **7**  **8**  9  **7**  **8**  9  **2**  **4**  **7**  **8**  9  9  9  **8**  **7**  **8**  9  9  **3**  **3**  **4**  9  **8**  9  **1**  **2**  **3**  **4**  **8**  9  9  9  9  **8**  **6**  9  **5** "
      ],
      "text/plain": [
       "<IPython.core.display.Markdown object>"
      ]
     },
     "metadata": {},
     "output_type": "display_data"
    },
    {
     "data": {
      "text/markdown": [
       " 9  9  **8**  9  **8**  **7**  **5**  **6**  **7**  9  **8**  9  9  **8**  9  **8**  9  **3**  9  9  **8**  **4**  **7**  **0**  **1**  **4**  **5**  9  **8**  **8**  **6**  **2**  **1**  **2**  **3**  9  **8**  **7**  **8**  **6**  **4**  **5**  **6**  9  **4**  **6**  **7**  9  9  **8**  **8**  9  9  9  **8**  **7**  9  **5**  **4**  **6**  **4**  **5**  **6**  **7**  **8**  9  **6**  **7**  **8**  9  9  **8**  9  **8**  9  **6**  9  9  9  **3**  **2**  **1**  **2**  **3**  **4**  9  **8**  9  **3**  **4**  **5**  **6**  **7**  **8**  9  **8**  **7**  **5**  **4**  **4** "
      ],
      "text/plain": [
       "<IPython.core.display.Markdown object>"
      ]
     },
     "metadata": {},
     "output_type": "display_data"
    },
    {
     "data": {
      "text/markdown": [
       " 9  9  9  **7**  9  **8**  **7**  **8**  **8**  9  9  9  **8**  **7**  9  **7**  9  9  **8**  **7**  **4**  **3**  **2**  **1**  **2**  **5**  9  **8**  **7**  **6**  **5**  **3**  **2**  **3**  9  **8**  **7**  **6**  **5**  **4**  **3**  9  **7**  **8**  9  9  9  **8**  9  **7**  **7**  **8**  9  9  9  9  **8**  9  9  **7**  **8**  **6**  **7**  9  9  **4**  **5**  **6**  9  **8**  9  9  9  **7**  **6**  **5**  **6**  **7**  **8**  9  **3**  **0**  **3**  **4**  9  **8**  **7**  **8**  9  **5**  **6**  9  9  9  **8**  9  **8**  **4**  **3**  **3** "
      ],
      "text/plain": [
       "<IPython.core.display.Markdown object>"
      ]
     },
     "metadata": {},
     "output_type": "display_data"
    },
    {
     "data": {
      "text/markdown": [
       " **8**  9  **8**  **6**  **7**  9  **8**  9  9  9  9  **8**  **7**  **6**  **7**  **6**  **7**  **8**  9  **6**  **5**  **5**  **3**  **2**  9  **6**  **7**  9  **8**  **7**  **6**  **4**  **3**  9  **8**  **7**  **6**  **5**  **4**  **1**  **2**  **8**  9  9  9  **8**  **8**  **7**  **8**  **6**  **5**  **6**  **8**  9  9  **8**  **6**  **7**  **8**  9  **8**  **7**  9  **1**  **2**  **3**  9  9  **5**  **6**  **7**  9  9  9  **5**  **4**  **3**  **4**  **5**  9  **5**  9  **4**  9  9  **8**  **6**  **7**  **8**  9  **7**  **8**  9  9  **7**  **6**  **5**  **3**  **2**  **1** "
      ],
      "text/plain": [
       "<IPython.core.display.Markdown object>"
      ]
     },
     "metadata": {},
     "output_type": "display_data"
    },
    {
     "data": {
      "text/markdown": [
       " **7**  **8**  **4**  **5**  **6**  **7**  9  **2**  **1**  9  **8**  **7**  **8**  **5**  **6**  **5**  **6**  **7**  **8**  9  **7**  **6**  **5**  9  **8**  9  9  9  9  **8**  **7**  **5**  **5**  **6**  9  9  **8**  **7**  **3**  **2**  **3**  **7**  **8**  9  9  **7**  **6**  **6**  **7**  **5**  **4**  **5**  **7**  9  **8**  **6**  **5**  **6**  **7**  **8**  9  **8**  9  **2**  **3**  9  **8**  **7**  **4**  **5**  9  9  9  **7**  **6**  **5**  **2**  **3**  **7**  **8**  9  **8**  9  **8**  **7**  **6**  **5**  **6**  **7**  **8**  9  9  9  **8**  **6**  **5**  **4**  **3**  **1**  **0** "
      ],
      "text/plain": [
       "<IPython.core.display.Markdown object>"
      ]
     },
     "metadata": {},
     "output_type": "display_data"
    },
    {
     "data": {
      "text/markdown": [
       " **6**  **4**  **3**  **4**  **7**  9  **8**  9  9  **8**  **7**  **6**  **5**  **4**  **5**  **4**  **5**  **6**  **7**  **8**  9  **7**  9  **8**  **7**  **8**  9  **8**  **7**  9  **8**  **6**  **7**  **7**  **8**  9  9  **5**  **4**  **3**  **4**  **6**  **7**  **8**  9  **6**  **5**  **5**  **3**  **2**  **3**  **4**  9  **8**  **7**  **5**  **4**  **5**  **8**  **7**  **8**  9  **8**  9  **4**  9  9  **6**  **3**  **6**  **8**  **7**  **8**  9  9  **2**  **1**  **5**  **6**  9  **8**  **7**  9  **7**  **5**  **3**  **4**  **5**  **8**  9  9  **2**  **1**  9  9  **6**  **4**  **3**  **2**  **4** "
      ],
      "text/plain": [
       "<IPython.core.display.Markdown object>"
      ]
     },
     "metadata": {},
     "output_type": "display_data"
    },
    {
     "data": {
      "text/markdown": [
       " **0**  **1**  **2**  **3**  9  **8**  **7**  9  9  9  **8**  **7**  **4**  **3**  **4**  **3**  **4**  **5**  **6**  **7**  **8**  9  **8**  **7**  **6**  **7**  9  9  **5**  **4**  9  **7**  **8**  9  9  **8**  **7**  **6**  **5**  **4**  **5**  9  **8**  9  9  **8**  **4**  **2**  **1**  **0**  **5**  **6**  9  **8**  9  **4**  **3**  **4**  **7**  **6**  **7**  **8**  **7**  9  9  **7**  **6**  **5**  **2**  **1**  **7**  **6**  **7**  9  **8**  9  **2**  **4**  9  **8**  **7**  **6**  **5**  **4**  **3**  **2**  **3**  **4**  9  9  **8**  9  **0**  9  **8**  **7**  **8**  **4**  **3**  **4** "
      ],
      "text/plain": [
       "<IPython.core.display.Markdown object>"
      ]
     },
     "metadata": {},
     "output_type": "display_data"
    },
    {
     "data": {
      "text/markdown": [
       " **4**  **3**  **3**  9  **8**  **7**  **6**  **7**  9  **8**  9  **5**  **5**  **1**  **0**  **2**  **3**  **6**  **7**  **8**  9  **8**  9  **8**  **5**  **6**  **7**  **8**  9  **3**  9  **8**  9  **1**  **0**  9  9  9  **6**  **7**  **8**  9  9  **8**  **7**  **6**  **5**  **4**  **2**  **1**  **5**  9  **8**  **7**  **5**  **3**  **2**  **3**  **8**  **5**  **4**  **5**  **6**  **8**  9  **6**  **5**  **4**  **1**  **0**  **1**  **5**  **6**  9  **7**  **8**  9  **5**  **6**  9  9  **7**  **6**  **8**  **4**  **4**  **5**  **6**  **7**  9  **7**  **8**  9  9  9  **8**  9  **5**  **4**  **5** "
      ],
      "text/plain": [
       "<IPython.core.display.Markdown object>"
      ]
     },
     "metadata": {},
     "output_type": "display_data"
    },
    {
     "data": {
      "text/markdown": [
       " **5**  **4**  9  **8**  **7**  **6**  **5**  9  **8**  **6**  **5**  **4**  **3**  **2**  **3**  **4**  **4**  **8**  **8**  9  **8**  **7**  **8**  9  **4**  **7**  9  9  **0**  **1**  **2**  9  9  9  **1**  **2**  9  **8**  **7**  **8**  9  9  9  9  **8**  **7**  **6**  **5**  **3**  **2**  **4**  9  9  **8**  **6**  **2**  **1**  **0**  **1**  **2**  **3**  **4**  **6**  **7**  **8**  9  **4**  **3**  **2**  **1**  **2**  **4**  9  **7**  **6**  9  **7**  **6**  **7**  **8**  9  **8**  **7**  9  **5**  **8**  **6**  **7**  9  **5**  **6**  **7**  **8**  9  **1**  9  9  **6**  **5**  **6** "
      ],
      "text/plain": [
       "<IPython.core.display.Markdown object>"
      ]
     },
     "metadata": {},
     "output_type": "display_data"
    },
    {
     "data": {
      "text/markdown": [
       " **6**  **5**  9  9  **7**  **5**  **4**  **3**  9  **7**  **6**  **5**  **4**  **5**  **4**  **5**  **5**  **8**  9  9  9  **6**  **7**  **8**  9  **8**  9  9  9  9  **3**  9  9  **8**  9  **4**  9  9  9  9  9  9  **8**  **7**  9  9  **7**  **6**  **7**  9  9  **8**  9  **7**  **5**  **3**  **5**  **1**  **2**  **3**  **7**  9  9  **8**  9  9  **5**  **4**  **3**  **2**  **3**  9  **8**  **7**  **5**  **8**  9  9  **8**  9  **8**  9  9  **8**  **6**  **7**  **8**  **8**  9  **4**  **6**  9  9  9  **0**  9  **8**  **7**  **8**  9 "
      ],
      "text/plain": [
       "<IPython.core.display.Markdown object>"
      ]
     },
     "metadata": {},
     "output_type": "display_data"
    },
    {
     "data": {
      "text/markdown": [
       " **7**  9  **8**  **8**  **7**  **3**  **2**  **1**  9  **8**  **7**  **6**  **5**  **6**  **5**  **7**  **6**  **7**  **8**  9  **7**  **5**  **6**  9  **8**  9  9  9  **8**  **7**  9  **8**  **7**  **6**  **8**  9  **8**  9  **4**  **6**  9  9  9  **5**  **4**  **4**  9  **7**  9  **8**  **7**  **7**  9  **8**  9  **8**  **7**  **6**  **4**  **5**  **6**  **7**  **8**  9  9  **8**  **7**  **6**  **4**  **3**  **4**  **5**  9  **6**  **4**  **7**  **8**  9  9  **8**  **7**  **6**  **0**  9  **7**  **8**  9  9  **5**  **3**  **4**  **8**  **7**  **8**  9  9  9  **8**  9  9 "
      ],
      "text/plain": [
       "<IPython.core.display.Markdown object>"
      ]
     },
     "metadata": {},
     "output_type": "display_data"
    },
    {
     "data": {
      "text/markdown": [
       " 9  **8**  **7**  **6**  **5**  **4**  **6**  **0**  **1**  9  **8**  **7**  **8**  **7**  **6**  **7**  **8**  **8**  9  9  **8**  **4**  **5**  **6**  **7**  **8**  9  9  9  **6**  **8**  **7**  **6**  **5**  **6**  **6**  **7**  9  **3**  9  **8**  9  **6**  **5**  **3**  **2**  9  **8**  9  9  **6**  **6**  **5**  9  **2**  9  **8**  **7**  **8**  **8**  **7**  **8**  9  **3**  **2**  9  **8**  **7**  **5**  **4**  **5**  9  **8**  **7**  **5**  **6**  **7**  **8**  9  9  **6**  **5**  **1**  9  **8**  9  9  **7**  **3**  **2**  **3**  **4**  **5**  **6**  **7**  9  9  9  **8**  9 "
      ],
      "text/plain": [
       "<IPython.core.display.Markdown object>"
      ]
     },
     "metadata": {},
     "output_type": "display_data"
    },
    {
     "data": {
      "text/markdown": [
       " **0**  9  9  **8**  **7**  **5**  **7**  **8**  9  **8**  9  **8**  9  **8**  9  9  9  9  **2**  **0**  9  9  **7**  **8**  9  9  **8**  **8**  **7**  **5**  **4**  **5**  **4**  **3**  **4**  **5**  **7**  **8**  9  **8**  **7**  **8**  9  **5**  **4**  **0**  **1**  9  9  **8**  **5**  **4**  **3**  **0**  **1**  **2**  9  **8**  9  9  **8**  9  **8**  **4**  **1**  **2**  9  **8**  **6**  **6**  **7**  **8**  9  9  9  **8**  9  9  9  9  **5**  **4**  **2**  **4**  9  9  **8**  **6**  **4**  **1**  **2**  **3**  **4**  **5**  **8**  9  9  **8**  **7**  **8** "
      ],
      "text/plain": [
       "<IPython.core.display.Markdown object>"
      ]
     },
     "metadata": {},
     "output_type": "display_data"
    },
    {
     "data": {
      "text/markdown": [
       " **1**  **2**  9  9  **8**  9  **8**  9  **8**  **7**  **6**  9  9  9  **5**  **4**  9  **5**  **4**  **2**  9  9  9  9  9  **8**  **7**  **6**  **5**  **4**  **3**  **2**  **1**  **2**  **3**  **4**  **8**  9  **8**  **7**  **6**  9  **8**  9  **2**  **1**  **5**  9  **8**  **7**  **6**  **3**  **2**  **1**  **2**  **3**  **4**  9  9  9  9  **8**  **7**  **3**  **2**  **3**  **4**  9  **7**  **7**  9  9  **5**  **6**  **7**  9  **4**  **3**  9  **7**  **6**  **5**  **3**  **5**  **6**  **8**  9  **7**  **6**  **0**  **1**  **2**  **3**  **4**  9  **8**  **8**  **7**  **6**  **7** "
      ],
      "text/plain": [
       "<IPython.core.display.Markdown object>"
      ]
     },
     "metadata": {},
     "output_type": "display_data"
    },
    {
     "data": {
      "text/markdown": [
       " **2**  9  **8**  9  9  9  9  **8**  **7**  **6**  **5**  **6**  9  9  9  9  **8**  9  **5**  9  **8**  9  9  **8**  **6**  9  **8**  **7**  **6**  **5**  **4**  **1**  **0**  **3**  **4**  **6**  **7**  **8**  9  **6**  **5**  **6**  **7**  **8**  9  **2**  **3**  **4**  9  **8**  **5**  **4**  **3**  **3**  **4**  **5**  **6**  **8**  9  **8**  9  9  **6**  **4**  **3**  **4**  **5**  **6**  9  **8**  9  **3**  **4**  **6**  **7**  **8**  9  **2**  **1**  9  **7**  **6**  **8**  9  **7**  9  9  **6**  **5**  **3**  **2**  **3**  **4**  9  **8**  **7**  **5**  **7**  **5**  **6** "
      ],
      "text/plain": [
       "<IPython.core.display.Markdown object>"
      ]
     },
     "metadata": {},
     "output_type": "display_data"
    },
    {
     "data": {
      "text/markdown": [
       " 9  **8**  **7**  9  **8**  9  9  9  **8**  **8**  **6**  9  **8**  9  **8**  **8**  **7**  **8**  9  **8**  **7**  **8**  9  9  **5**  **4**  9  **8**  9  **7**  **6**  **2**  **1**  **5**  9  **8**  9  9  9  **5**  **4**  **5**  **6**  **7**  **8**  9  **4**  9  **8**  9  9  9  9  **6**  **5**  **6**  **8**  9  **8**  **7**  9  **8**  9  9  **4**  **5**  **6**  **7**  **8**  9  **3**  **2**  **3**  **5**  **6**  **7**  **8**  9  **0**  **1**  9  **7**  9  9  **8**  9  **8**  **7**  **6**  **5**  **6**  **7**  **5**  **6**  9  9  **4**  **3**  **4**  **5** "
      ],
      "text/plain": [
       "<IPython.core.display.Markdown object>"
      ]
     },
     "metadata": {},
     "output_type": "display_data"
    },
    {
     "data": {
      "text/markdown": [
       " **8**  **7**  **6**  **5**  **6**  **7**  **7**  **8**  9  9  9  **8**  **7**  **6**  **7**  **7**  **6**  9  **7**  **6**  **6**  **7**  **8**  9  **6**  **3**  **2**  9  **8**  **6**  **5**  **4**  **2**  **3**  **4**  9  9  9  **8**  9  9  9  **7**  9  9  **5**  9  **8**  **7**  **8**  **7**  **8**  **8**  9  **7**  **7**  9  **8**  **7**  **6**  **8**  **7**  **7**  **8**  9  **6**  **8**  **8**  9  **5**  **4**  **3**  **8**  **6**  **7**  **8**  9  9  **1**  **2**  9  **8**  9  **6**  9  **3**  9  **8**  9  **6**  **7**  **8**  9  9  **8**  **7**  **3**  **2**  **0**  **1** "
      ],
      "text/plain": [
       "<IPython.core.display.Markdown object>"
      ]
     },
     "metadata": {},
     "output_type": "display_data"
    },
    {
     "data": {
      "text/markdown": [
       " **8**  **6**  **5**  **4**  **5**  **4**  **6**  **7**  **8**  9  **7**  **6**  **6**  **5**  **6**  **3**  **4**  **5**  9  **5**  **4**  **8**  9  9  **4**  **2**  **1**  9  **8**  **7**  **6**  **5**  **3**  **4**  **5**  **7**  **8**  9  **7**  **7**  **7**  **8**  9  **1**  **0**  **4**  9  **8**  **6**  **5**  **6**  **7**  **7**  **8**  9  9  **4**  9  **6**  **5**  **4**  **5**  **6**  **7**  **8**  9  9  9  **7**  **6**  **6**  **5**  **7**  **8**  9  9  **7**  **8**  9  **3**  **4**  9  **5**  **4**  **3**  **2**  **1**  9  9  **8**  **8**  9  **3**  **2**  9  **6**  **5**  **4**  **1**  **2** "
      ],
      "text/plain": [
       "<IPython.core.display.Markdown object>"
      ]
     },
     "metadata": {},
     "output_type": "display_data"
    },
    {
     "data": {
      "text/markdown": [
       " **8**  **6**  **4**  **3**  **4**  **3**  **7**  **8**  9  9  **8**  **5**  **4**  **3**  **1**  **2**  9  9  **8**  **4**  **3**  **5**  **6**  **8**  9  **1**  **0**  **1**  9  **8**  **7**  **6**  **4**  **5**  **6**  **8**  9  **6**  **6**  **5**  **6**  **7**  9  **3**  **2**  **3**  9  **7**  **5**  **3**  **4**  **5**  **6**  **7**  **8**  9  **5**  9  **8**  **6**  **8**  **7**  **7**  **8**  9  **5**  **7**  9  **8**  **7**  **7**  9  **8**  9  **3**  **4**  **6**  **7**  9  9  **5**  9  **6**  **5**  **4**  **3**  **0**  **1**  **2**  9  9  **5**  **4**  9  **8**  **7**  **6**  **7**  **2**  **3** "
      ],
      "text/plain": [
       "<IPython.core.display.Markdown object>"
      ]
     },
     "metadata": {},
     "output_type": "display_data"
    },
    {
     "data": {
      "text/markdown": [
       " **6**  **5**  **3**  **2**  **1**  **2**  **6**  **7**  **7**  **8**  9  **6**  9  **4**  **0**  9  **8**  **7**  **6**  **4**  **2**  **4**  **5**  **7**  **8**  9  **1**  **2**  **4**  9  **8**  **7**  **5**  **6**  **7**  9  **6**  **5**  **5**  **3**  **5**  **6**  **8**  9  **3**  9  **8**  **6**  **3**  **2**  **0**  **3**  **4**  **5**  **6**  **8**  9  9  9  **7**  9  9  **8**  9  **6**  **4**  **6**  **7**  9  9  **8**  9  9  **0**  **1**  **2**  **5**  **6**  **7**  **8**  9  **8**  9  **7**  **6**  **4**  **3**  **2**  **3**  **5**  **8**  9  **5**  **6**  9  **8**  **7**  **8**  9  **4** "
      ],
      "text/plain": [
       "<IPython.core.display.Markdown object>"
      ]
     },
     "metadata": {},
     "output_type": "display_data"
    },
    {
     "data": {
      "text/markdown": [
       " **8**  **5**  **4**  **4**  **4**  **3**  **4**  **5**  **6**  **7**  9  9  **8**  9  **1**  **2**  9  9  **8**  **5**  **3**  **5**  **6**  **8**  9  **8**  **4**  **3**  **5**  **6**  9  **8**  **6**  **7**  9  **8**  9  **4**  **3**  **2**  **4**  **5**  9  9  **4**  9  9  **5**  **4**  **2**  **1**  **2**  **5**  **6**  **8**  9  9  9  9  **8**  9  **5**  9  **4**  **5**  **3**  **5**  **7**  9  **8**  9  **8**  9  **1**  **2**  **3**  **4**  **6**  **7**  9  **8**  **7**  9  **7**  **6**  **5**  **6**  **3**  **5**  **6**  **7**  9  **6**  9  **7**  9  9  9  **8**  **5** "
      ],
      "text/plain": [
       "<IPython.core.display.Markdown object>"
      ]
     },
     "metadata": {},
     "output_type": "display_data"
    },
    {
     "data": {
      "text/markdown": [
       " 9  **6**  **5**  **5**  **5**  **6**  **6**  **7**  **8**  9  **8**  9  **7**  **8**  9  **3**  **4**  **7**  9  **6**  9  **7**  **8**  9  **7**  **6**  **5**  **4**  **5**  **6**  **7**  9  **7**  9  **8**  **7**  9  **4**  **2**  **1**  **2**  **6**  **7**  **8**  9  **8**  **7**  **6**  **7**  **3**  **4**  **3**  **4**  **6**  **7**  **8**  9  **8**  **7**  9  **5**  **4**  **4**  **3**  **1**  **2**  **3**  **4**  9  **7**  **6**  **7**  9  9  **3**  **5**  **6**  **7**  9  **8**  **7**  **6**  **8**  9  9  **6**  **7**  **4**  **7**  **8**  9  9  9  **7**  **6**  **5**  9  **8**  **7**  **6** "
      ],
      "text/plain": [
       "<IPython.core.display.Markdown object>"
      ]
     },
     "metadata": {},
     "output_type": "display_data"
    },
    {
     "data": {
      "text/markdown": [
       " 9  **7**  **7**  **6**  **7**  **8**  9  9  9  **8**  **6**  **5**  **6**  **7**  9  9  **5**  **6**  **7**  9  **8**  9  9  9  **8**  **7**  **6**  **5**  **6**  **7**  **8**  9  9  **8**  9  **6**  **7**  9  9  **2**  **3**  **4**  9  9  **2**  9  **8**  **7**  **6**  **5**  **5**  **6**  **5**  **7**  **8**  9  **8**  **7**  **6**  **5**  **4**  **3**  **2**  **1**  **0**  **1**  **2**  9  **8**  9  **5**  **6**  **7**  **8**  9  **6**  **7**  9  **8**  **7**  **6**  **5**  **6**  **7**  **8**  9  **8**  **5**  9  9  9  **8**  **7**  **6**  **6**  **4**  **2**  9  **8**  9 "
      ],
      "text/plain": [
       "<IPython.core.display.Markdown object>"
      ]
     },
     "metadata": {},
     "output_type": "display_data"
    },
    {
     "data": {
      "text/markdown": [
       " 9  9  **8**  **8**  **8**  9  9  **8**  **7**  **5**  **4**  **3**  **4**  **6**  **7**  **8**  9  **7**  9  **8**  **7**  **8**  9  9  9  **8**  **7**  9  **8**  **8**  9  9  **8**  **7**  **6**  **5**  **7**  **8**  **8**  9  **4**  **5**  **8**  9  **1**  9  9  9  **7**  9  **6**  **7**  **6**  **8**  9  **7**  9  **8**  **8**  **6**  **5**  **4**  **5**  **2**  **1**  9  9  **8**  **6**  **7**  **4**  **5**  **6**  9  **8**  **7**  9  **8**  **7**  **6**  **5**  **4**  **5**  **6**  **7**  **8**  9  **6**  **7**  9  **8**  **7**  **6**  **5**  **4**  **3**  **1**  **0**  9  **6** "
      ],
      "text/plain": [
       "<IPython.core.display.Markdown object>"
      ]
     },
     "metadata": {},
     "output_type": "display_data"
    },
    {
     "data": {
      "text/markdown": [
       " **8**  **7**  9  9  9  **4**  **3**  9  **8**  9  **5**  **4**  **5**  **7**  **8**  9  9  9  9  **8**  **6**  **8**  **7**  9  9  9  **8**  9  9  9  9  **8**  **7**  **6**  **5**  **4**  **5**  **6**  **7**  **8**  9  **6**  **7**  **8**  9  **8**  **7**  **8**  9  **8**  9  **8**  **7**  9  **7**  **6**  **5**  9  9  **7**  9  **8**  **7**  **4**  9  **8**  **7**  **6**  **5**  **4**  **3**  **4**  **7**  **8**  9  9  9  9  9  **7**  **5**  **3**  **4**  **5**  9  9  **8**  **7**  9  **7**  9  **8**  **7**  **6**  **5**  **3**  **2**  **1**  **4**  **5** "
      ],
      "text/plain": [
       "<IPython.core.display.Markdown object>"
      ]
     },
     "metadata": {},
     "output_type": "display_data"
    },
    {
     "data": {
      "text/markdown": [
       " **7**  **6**  **7**  9  9  **6**  9  9  9  **8**  **6**  **5**  **6**  **7**  **8**  9  9  **8**  **7**  **6**  **5**  **7**  **6**  **7**  **8**  9  9  **4**  **3**  **2**  **3**  9  **6**  **5**  **4**  **3**  **2**  **7**  **8**  9  9  **7**  9  9  **8**  **7**  **6**  **7**  9  **7**  **8**  9  **8**  9  **6**  **5**  **3**  **5**  9  **8**  9  9  9  **5**  9  9  **8**  **3**  **2**  **1**  **2**  **3**  **4**  **5**  **6**  **8**  9  **3**  9  **8**  9  **4**  **5**  **6**  **7**  **8**  9  9  **7**  **6**  **4**  9  **8**  **7**  **6**  **8**  **7**  **2**  **3**  **6** "
      ],
      "text/plain": [
       "<IPython.core.display.Markdown object>"
      ]
     },
     "metadata": {},
     "output_type": "display_data"
    },
    {
     "data": {
      "text/markdown": [
       " **7**  **5**  **6**  **7**  **8**  9  **8**  9  **5**  9  **7**  **6**  **7**  **8**  9  **3**  9  **7**  **6**  **5**  **4**  **3**  **4**  **6**  **7**  9  9  **5**  9  **0**  9  **8**  **7**  **6**  **6**  **4**  **5**  **6**  **7**  **8**  9  **8**  9  9  9  **6**  **5**  **4**  **5**  **6**  **7**  **8**  9  **6**  **5**  **4**  **2**  **3**  **5**  9  9  9  **8**  9  **8**  9  9  **7**  **5**  **4**  **3**  **5**  9  **6**  **7**  9  **4**  **2**  **1**  9  **8**  **6**  **7**  **8**  9  9  **6**  **8**  9  **7**  **3**  **1**  9  9  **8**  **7**  **5**  **3**  **4**  **5** "
      ],
      "text/plain": [
       "<IPython.core.display.Markdown object>"
      ]
     },
     "metadata": {},
     "output_type": "display_data"
    },
    {
     "data": {
      "text/markdown": [
       " **3**  **4**  **6**  **7**  9  **8**  **7**  **6**  **4**  **4**  9  **7**  **8**  9  **1**  **2**  9  **8**  **7**  **7**  **8**  **4**  9  **8**  9  **8**  **7**  9  **8**  9  9  9  **8**  **7**  **8**  **5**  **6**  **7**  **8**  9  9  9  9  9  **8**  **7**  **4**  **3**  **4**  **5**  **6**  9  **6**  **5**  **3**  **2**  **1**  **3**  **6**  **7**  9  **8**  **7**  **6**  **7**  **8**  9  **8**  **6**  **6**  **4**  **6**  **8**  **7**  **8**  9  **4**  **3**  9  **8**  9  **8**  9  9  **3**  **4**  **5**  9  **7**  9  **2**  **0**  **1**  **2**  9  **8**  9  **4**  **6**  **6** "
      ],
      "text/plain": [
       "<IPython.core.display.Markdown object>"
      ]
     },
     "metadata": {},
     "output_type": "display_data"
    },
    {
     "data": {
      "text/markdown": [
       " **6**  **5**  **6**  9  9  9  9  **5**  **3**  **3**  9  **8**  9  9  9  9  **7**  9  **8**  **8**  9  **6**  **7**  9  **7**  **8**  **6**  **7**  **7**  **8**  9  **8**  9  **8**  9  **8**  **7**  **8**  9  **7**  9  9  9  **8**  **7**  **6**  **4**  **2**  **4**  **6**  **7**  **8**  9  **6**  **2**  **1**  **0**  **2**  **3**  9  **8**  **7**  **6**  **5**  **8**  9  **8**  9  **7**  **7**  **5**  **7**  **8**  9  9  **6**  **5**  9  **8**  **7**  **6**  9  **3**  **2**  **2**  **3**  **7**  **5**  **6**  **7**  9  9  **3**  **3**  **4**  9  **6**  **5**  **7**  **8** "
      ],
      "text/plain": [
       "<IPython.core.display.Markdown object>"
      ]
     },
     "metadata": {},
     "output_type": "display_data"
    },
    {
     "data": {
      "text/markdown": [
       " **8**  **6**  **7**  **8**  9  9  **8**  9  **2**  **1**  **2**  9  **6**  **7**  **8**  9  **6**  **7**  9  9  **8**  **7**  **8**  9  **6**  **5**  **4**  **5**  **6**  9  **8**  **7**  **6**  9  **3**  9  9  9  **8**  **6**  **7**  **8**  9  **7**  **6**  **4**  **3**  **1**  **2**  **3**  9  **8**  9  9  **3**  9  **2**  **3**  **4**  9  9  **6**  **5**  **4**  **5**  **6**  **7**  **8**  9  **7**  **6**  **8**  9  **3**  9  **8**  9  9  9  9  **5**  **4**  **2**  **0**  **1**  **2**  **3**  **4**  **5**  **6**  **7**  **8**  9  **4**  9  **8**  **7**  **6**  **8**  9 "
      ],
      "text/plain": [
       "<IPython.core.display.Markdown object>"
      ]
     },
     "metadata": {},
     "output_type": "display_data"
    },
    {
     "data": {
      "text/markdown": [
       " 9  **7**  9  9  **8**  **6**  **7**  **8**  9  **0**  **1**  **4**  **5**  **6**  **7**  9  **5**  **4**  **2**  9  9  **8**  9  **8**  **7**  **8**  9  **6**  **7**  **8**  9  9  **5**  **4**  **2**  **3**  **4**  9  9  **5**  **6**  9  **8**  **7**  **6**  **5**  **1**  **0**  **1**  **2**  **5**  **6**  **7**  **8**  9  **8**  9  **4**  9  **8**  **7**  **5**  **4**  **3**  **4**  **5**  **8**  9  9  9  **7**  9  **1**  **2**  **4**  9  **8**  9  9  **8**  9  **5**  **3**  **1**  **2**  **3**  **4**  **7**  **8**  9  9  9  9  **5**  **7**  9  **8**  **7**  **8**  9 "
      ],
      "text/plain": [
       "<IPython.core.display.Markdown object>"
      ]
     },
     "metadata": {},
     "output_type": "display_data"
    },
    {
     "data": {
      "text/markdown": [
       " **2**  9  **8**  **8**  **6**  **5**  **6**  **8**  9  **1**  **2**  **3**  **7**  **7**  **8**  9  **8**  **6**  9  **8**  **7**  9  9  9  **8**  9  9  **8**  9  9  **6**  **8**  9  **5**  9  9  9  **8**  **7**  **6**  **7**  **8**  9  **8**  **6**  **4**  **2**  **1**  **2**  **3**  **4**  **5**  9  9  **6**  **7**  **8**  9  9  **8**  **7**  **6**  **5**  **2**  **3**  **7**  **7**  **8**  9  9  9  **1**  **0**  **2**  9  9  **7**  **5**  **6**  **7**  **8**  9  **4**  **3**  **6**  **5**  **5**  **6**  **7**  9  9  9  **8**  9  9  9  9  **8**  9  **0** "
      ],
      "text/plain": [
       "<IPython.core.display.Markdown object>"
      ]
     },
     "metadata": {},
     "output_type": "display_data"
    },
    {
     "data": {
      "text/markdown": [
       " **3**  9  **7**  **7**  **5**  **4**  **5**  **7**  **8**  9  **3**  **4**  **7**  **8**  9  9  9  9  **8**  **7**  **6**  **7**  **8**  9  9  9  **8**  9  **4**  **3**  **4**  9  9  9  **8**  **7**  9  9  **8**  9  **8**  9  **8**  9  **8**  **7**  **4**  **2**  **3**  **4**  **6**  **7**  **8**  9  **5**  **6**  **7**  **8**  9  9  **3**  **2**  **1**  **0**  **4**  **6**  **6**  **7**  **8**  9  **3**  **2**  **1**  9  **8**  **7**  **6**  **4**  **5**  **6**  **7**  9  9  **8**  **7**  **8**  **6**  **7**  9  **8**  9  **7**  **6**  **7**  **8**  9  9  9  **2**  **1** "
      ],
      "text/plain": [
       "<IPython.core.display.Markdown object>"
      ]
     },
     "metadata": {},
     "output_type": "display_data"
    },
    {
     "data": {
      "text/markdown": [
       " 9  **8**  **6**  **5**  **4**  **3**  **7**  **8**  9  **6**  **5**  **5**  **6**  **7**  **8**  9  9  9  9  9  **4**  **6**  **7**  9  9  **8**  **7**  **6**  **5**  **4**  **5**  9  9  **8**  **7**  **6**  **7**  9  9  9  9  **8**  **7**  9  **7**  **6**  **5**  **3**  **4**  **7**  **8**  9  9  **5**  **4**  **5**  **8**  9  9  9  **7**  **6**  **2**  **1**  **2**  **4**  **5**  **6**  **7**  9  **4**  **5**  9  **8**  **7**  **6**  **4**  **3**  **7**  **8**  9  **8**  **7**  9  **8**  9  **7**  9  **8**  **7**  **6**  **5**  **4**  **5**  9  **7**  **8**  9  **4**  **3** "
      ],
      "text/plain": [
       "<IPython.core.display.Markdown object>"
      ]
     },
     "metadata": {},
     "output_type": "display_data"
    },
    {
     "data": {
      "text/markdown": [
       " 9  9  **7**  **6**  **5**  **4**  **5**  **7**  **8**  9  **6**  9  **7**  **8**  9  9  9  **8**  **7**  **8**  **3**  **4**  **6**  **8**  9  9  **8**  9  **6**  9  9  **7**  **6**  **7**  **6**  **5**  **6**  **8**  9  9  **8**  **7**  **6**  9  **8**  9  **6**  **7**  **5**  **6**  **7**  **8**  9  **3**  **2**  **6**  **7**  9  **8**  **7**  **6**  **4**  **3**  **2**  **5**  **5**  **6**  **7**  **8**  9  **5**  9  **8**  9  **4**  **3**  **2**  **1**  **8**  9  9  **7**  **6**  **5**  9  9  **8**  9  **7**  **6**  **5**  **4**  **3**  **4**  **5**  **6**  **7**  **8**  9  **4** "
      ],
      "text/plain": [
       "<IPython.core.display.Markdown object>"
      ]
     },
     "metadata": {},
     "output_type": "display_data"
    },
    {
     "data": {
      "text/markdown": [
       " 9  9  **8**  9  **8**  **6**  **7**  **8**  9  9  9  **8**  9  9  9  9  9  **8**  **6**  **5**  **4**  **5**  **6**  **7**  **8**  9  9  **5**  9  **8**  **7**  **6**  **5**  **4**  **5**  **4**  **5**  9  9  **8**  9  **6**  **5**  **4**  9  **8**  **7**  9  **7**  **8**  **8**  9  **3**  **2**  **1**  9  9  **6**  9  9  **7**  **5**  **4**  **3**  **4**  **5**  **7**  **8**  9  **8**  **7**  9  **7**  **6**  **5**  **4**  **3**  **2**  **3**  **7**  **8**  9  9  **4**  **3**  **5**  9  **6**  9  **8**  **6**  **5**  **4**  **6**  **7**  **8**  9  9  **6**  **5** "
      ],
      "text/plain": [
       "<IPython.core.display.Markdown object>"
      ]
     },
     "metadata": {},
     "output_type": "display_data"
    },
    {
     "data": {
      "text/markdown": [
       " **8**  **8**  9  **6**  9  **7**  **8**  9  9  9  **8**  **7**  9  **8**  **7**  **8**  9  9  **7**  **6**  **6**  **8**  **7**  **8**  9  **2**  **1**  **3**  9  **8**  **6**  **5**  **4**  **3**  **2**  **3**  **4**  9  **8**  **7**  **8**  9  **4**  **3**  **4**  9  **8**  9  **8**  9  9  **6**  **5**  **4**  9  **8**  **7**  **5**  **6**  9  **8**  **6**  **6**  **5**  **6**  **7**  **8**  9  **0**  9  9  9  **8**  9  **6**  **5**  **5**  **3**  **4**  **5**  **6**  **7**  **8**  9  **2**  **3**  **4**  **5**  **6**  9  **7**  **6**  **5**  **6**  **7**  9  **8**  9  **8**  **7** "
      ],
      "text/plain": [
       "<IPython.core.display.Markdown object>"
      ]
     },
     "metadata": {},
     "output_type": "display_data"
    },
    {
     "data": {
      "text/markdown": [
       " **7**  **6**  **4**  **5**  9  **8**  9  **8**  9  **8**  **7**  **6**  **5**  **6**  **5**  **5**  **6**  **8**  9  **7**  **7**  9  **8**  9  **8**  9  **0**  **1**  9  **8**  **7**  **6**  **6**  **2**  **1**  **2**  9  **8**  **7**  **6**  **7**  **8**  9  **2**  **3**  **4**  9  **8**  9  9  9  **8**  **6**  9  **8**  9  **5**  **4**  **5**  **3**  9  9  **8**  **7**  **8**  9  9  9  **1**  9  **8**  **7**  9  **8**  **7**  **7**  **6**  **4**  **5**  **6**  **8**  9  9  **3**  **1**  **2**  **5**  **7**  **8**  9  **8**  **7**  **6**  **7**  9  **6**  **7**  **8**  9  9 "
      ],
      "text/plain": [
       "<IPython.core.display.Markdown object>"
      ]
     },
     "metadata": {},
     "output_type": "display_data"
    },
    {
     "data": {
      "text/markdown": [
       " 9  **8**  **6**  9  9  9  **8**  **7**  **8**  9  9  **6**  **4**  **3**  **3**  **4**  **5**  **7**  **8**  9  9  **5**  9  **3**  **7**  **8**  9  **2**  **3**  9  **7**  **6**  **5**  **4**  **3**  9  **8**  9  **4**  **5**  **6**  **8**  9  **3**  **4**  **5**  **6**  **7**  **8**  9  **7**  9  9  **8**  **7**  **6**  **4**  **3**  **0**  **1**  **2**  **3**  9  **8**  9  **6**  **7**  **8**  9  **8**  **7**  **6**  **7**  9  9  **8**  **7**  **7**  **6**  **7**  9  **8**  **8**  9  **0**  **2**  **3**  **4**  9  9  9  **8**  9  **8**  9  **5**  **7**  **8**  9  **8** "
      ],
      "text/plain": [
       "<IPython.core.display.Markdown object>"
      ]
     },
     "metadata": {},
     "output_type": "display_data"
    },
    {
     "data": {
      "text/markdown": [
       " **6**  9  9  **8**  **7**  **8**  9  **6**  **7**  9  **8**  9  **2**  **1**  **2**  **3**  **4**  **5**  **7**  **8**  9  **4**  **3**  **2**  **5**  9  **4**  **3**  **4**  9  **8**  **7**  **6**  **5**  9  **8**  **7**  **8**  **3**  **4**  **5**  **6**  **8**  9  **5**  **6**  **8**  **8**  9  **4**  **6**  **7**  **8**  9  **8**  9  **5**  **2**  **1**  **3**  **4**  **5**  **7**  9  **6**  **5**  **6**  **8**  9  9  **6**  **5**  **6**  **5**  **4**  9  **8**  **8**  **7**  **8**  9  **7**  **7**  **8**  9  **6**  **5**  **6**  **7**  9  9  9  9  9  **5**  **4**  **6**  **4**  **5**  **7** "
      ],
      "text/plain": [
       "<IPython.core.display.Markdown object>"
      ]
     },
     "metadata": {},
     "output_type": "display_data"
    },
    {
     "data": {
      "text/markdown": [
       " **5**  9  **8**  **7**  **6**  **5**  **4**  **5**  9  **7**  **6**  **5**  **1**  **0**  **1**  **2**  **3**  **4**  9  9  **7**  **5**  **4**  **3**  **4**  **7**  9  9  **5**  **7**  9  9  **8**  9  **8**  **6**  **5**  **4**  **2**  **3**  **5**  **6**  **7**  **8**  9  **7**  9  9  **2**  **3**  **7**  **8**  9  9  9  **7**  **6**  **3**  **2**  **4**  **5**  **6**  **7**  **8**  9  **4**  **7**  9  9  9  **7**  **4**  **3**  **4**  **3**  **5**  9  9  **8**  9  9  **6**  **5**  **4**  9  **7**  **6**  **7**  9  **8**  **7**  9  **8**  9  **4**  **3**  **2**  **3**  **4**  **7** "
      ],
      "text/plain": [
       "<IPython.core.display.Markdown object>"
      ]
     },
     "metadata": {},
     "output_type": "display_data"
    },
    {
     "data": {
      "text/markdown": [
       " **4**  **3**  9  **8**  **7**  **5**  **3**  **2**  9  9  **8**  **4**  **3**  **1**  **2**  **3**  **4**  **5**  **7**  **8**  9  **6**  **5**  **4**  **5**  **6**  **7**  **8**  9  9  **2**  **0**  9  9  **6**  **5**  **4**  **5**  **1**  **2**  **4**  **5**  **5**  **7**  **8**  9  **2**  **0**  9  9  **8**  9  **3**  9  **8**  **7**  **5**  **4**  **3**  **5**  **6**  **7**  **8**  9  **4**  **3**  9  **8**  **7**  9  **8**  **4**  **2**  **1**  **2**  **4**  9  9  9  9  **8**  **7**  **6**  **3**  **8**  9  **8**  9  **8**  **7**  **6**  **6**  **7**  **8**  9  **5**  **4**  **4**  **5**  **6** "
      ],
      "text/plain": [
       "<IPython.core.display.Markdown object>"
      ]
     },
     "metadata": {},
     "output_type": "display_data"
    },
    {
     "data": {
      "text/markdown": [
       " **1**  **2**  **3**  9  **8**  **5**  **4**  9  **8**  **7**  **6**  **5**  **3**  **2**  **3**  **8**  **7**  **6**  **8**  9  9  **8**  9  **5**  **6**  9  9  9  9  **8**  9  **2**  9  **8**  **7**  **4**  **3**  **1**  **0**  **1**  **2**  **3**  **4**  **6**  **7**  **8**  9  9  **8**  9  9  **4**  **2**  9  **8**  **7**  **6**  **5**  **7**  **6**  **8**  **8**  9  9  **5**  9  **8**  **7**  **6**  **5**  **4**  **3**  **1**  **0**  **2**  9  **8**  9  **2**  **1**  9  **6**  **5**  **4**  **7**  **8**  9  **8**  9  **6**  **5**  **4**  **6**  **6**  **7**  9  **5**  **5**  **6**  **7** "
      ],
      "text/plain": [
       "<IPython.core.display.Markdown object>"
      ]
     },
     "metadata": {},
     "output_type": "display_data"
    },
    {
     "data": {
      "text/markdown": [
       " **0**  **1**  **2**  **3**  9  9  **5**  **7**  9  9  **7**  **6**  **8**  **5**  **4**  **5**  **6**  **7**  **8**  9  **6**  9  **8**  **6**  9  **8**  **7**  **8**  9  **7**  9  **3**  **4**  9  **5**  **4**  **3**  **2**  **1**  **3**  **4**  **5**  **5**  **7**  **8**  9  9  9  **7**  **8**  9  9  **1**  **0**  9  9  **7**  **6**  **7**  **7**  9  9  9  **8**  **7**  **8**  9  9  **8**  **7**  **5**  **3**  **2**  **1**  **3**  9  **7**  **8**  9  9  **8**  **7**  **6**  **5**  **6**  9  **8**  **7**  **6**  **5**  **4**  **3**  **4**  **5**  **7**  **8**  9  9  **7**  9 "
      ],
      "text/plain": [
       "<IPython.core.display.Markdown object>"
      ]
     },
     "metadata": {},
     "output_type": "display_data"
    },
    {
     "data": {
      "text/markdown": [
       " **3**  **2**  **3**  **5**  9  **8**  **6**  9  9  9  **8**  **7**  9  **6**  **5**  **6**  **7**  **8**  9  **7**  **5**  **6**  9  9  9  **8**  **6**  **7**  **6**  **6**  **8**  9  **5**  **6**  9  **7**  **5**  **4**  **3**  **4**  **6**  9  **6**  **8**  9  9  9  **8**  **6**  9  **8**  **7**  9  **1**  **2**  9  **8**  **7**  **8**  9  9  9  9  9  **8**  9  **4**  **6**  9  **7**  **6**  **4**  **3**  **2**  9  **8**  **6**  **7**  **8**  9  9  9  9  **8**  **7**  **8**  9  **8**  **5**  **4**  **3**  **2**  **3**  **4**  **5**  **6**  **7**  **8**  9  **8** "
      ],
      "text/plain": [
       "<IPython.core.display.Markdown object>"
      ]
     },
     "metadata": {},
     "output_type": "display_data"
    },
    {
     "data": {
      "text/markdown": [
       " 9  9  **4**  **5**  **7**  9  9  **8**  **7**  **6**  9  9  **8**  **7**  9  **8**  **8**  9  **7**  **6**  **4**  **5**  9  **8**  **7**  **6**  **5**  **4**  **4**  **5**  **6**  **8**  9  9  **8**  **7**  **6**  **5**  9  **5**  9  **8**  9  9  **8**  9  **7**  **6**  **5**  9  **7**  **6**  **8**  9  9  9  9  **8**  9  9  9  **8**  **8**  **6**  9  **8**  9  9  **8**  **7**  **6**  **5**  9  9  **8**  **7**  **5**  **6**  **7**  9  9  **8**  9  9  **8**  9  9  9  **8**  **6**  **4**  **3**  **6**  **5**  **7**  **8**  **8**  9  **7**  **7** "
      ],
      "text/plain": [
       "<IPython.core.display.Markdown object>"
      ]
     },
     "metadata": {},
     "output_type": "display_data"
    },
    {
     "data": {
      "text/markdown": [
       " **8**  **7**  9  9  **8**  9  **5**  9  9  **5**  **4**  **3**  9  **8**  9  9  9  **8**  **6**  **5**  **3**  **4**  **5**  9  **8**  **7**  **3**  **2**  **3**  **6**  **7**  9  **6**  **8**  9  **8**  **8**  9  **8**  9  **8**  **7**  **8**  9  **7**  9  9  **5**  **4**  **6**  9  **5**  **6**  **7**  **8**  9  **1**  9  9  9  **8**  **7**  **8**  **5**  **4**  **6**  **8**  9  9  **8**  **7**  9  **8**  **7**  **6**  **6**  **4**  **5**  **6**  9  9  **7**  **8**  9  9  **8**  9  **8**  **7**  **6**  **5**  **4**  **7**  9  **8**  9  9  **7**  **6**  **6** "
      ],
      "text/plain": [
       "<IPython.core.display.Markdown object>"
      ]
     },
     "metadata": {},
     "output_type": "display_data"
    },
    {
     "data": {
      "text/markdown": [
       " **5**  **6**  **7**  **8**  9  **2**  **3**  9  9  **4**  **3**  **2**  **3**  9  9  9  **8**  **7**  **6**  **5**  **4**  **5**  9  **8**  **7**  **5**  **4**  **3**  **4**  **7**  **8**  9  **5**  **7**  9  9  9  9  **7**  **6**  **5**  **5**  **6**  **7**  **6**  **7**  **8**  9  **3**  **2**  **5**  **4**  **5**  **8**  9  **1**  **0**  **1**  9  **8**  **7**  **6**  **7**  **4**  **3**  **7**  **8**  **7**  **8**  9  **8**  9  9  **8**  **5**  **4**  **3**  **4**  9  **8**  **7**  **6**  **7**  9  9  **6**  **4**  9  **8**  **7**  **6**  **6**  **7**  **8**  9  **8**  **7**  **6**  **4**  **5** "
      ],
      "text/plain": [
       "<IPython.core.display.Markdown object>"
      ]
     },
     "metadata": {},
     "output_type": "display_data"
    },
    {
     "data": {
      "text/markdown": [
       " **4**  **5**  **6**  **7**  9  **1**  9  **8**  **7**  **6**  **2**  **1**  **4**  **8**  9  9  9  **8**  **7**  **6**  **8**  9  9  9  **8**  9  **5**  **4**  9  **8**  9  **5**  **4**  **6**  **8**  9  **8**  **7**  **6**  **5**  **4**  **3**  **2**  **3**  **5**  **6**  **7**  **8**  9  **1**  **2**  **3**  **6**  **7**  **8**  9  **1**  9  9  **8**  **6**  **5**  **4**  **3**  **2**  **4**  **5**  **6**  **7**  9  9  9  **8**  **7**  **6**  **5**  **4**  **6**  **7**  9  **6**  **5**  **6**  **7**  **8**  9  9  9  9  **8**  **7**  **7**  **8**  9  **2**  9  **8**  **7**  **5**  **6** "
      ],
      "text/plain": [
       "<IPython.core.display.Markdown object>"
      ]
     },
     "metadata": {},
     "output_type": "display_data"
    },
    {
     "data": {
      "text/markdown": [
       " **3**  **4**  **6**  **7**  **8**  9  **8**  **7**  **6**  **5**  **4**  **3**  **6**  **7**  **8**  9  9  9  **8**  9  9  **8**  9  9  9  **8**  **7**  9  9  9  **5**  **4**  **3**  **4**  9  9  9  **8**  9  **6**  **5**  **2**  **1**  **2**  **3**  **7**  **8**  9  **5**  **0**  **1**  9  **7**  **8**  9  9  9  **8**  9  9  **7**  **5**  **3**  **2**  **1**  **3**  **5**  9  9  **8**  **8**  9  9  9  **7**  **7**  **5**  **6**  9  **8**  **7**  **6**  **7**  **8**  9  9  **8**  **8**  **7**  9  **8**  9  9  **2**  **1**  **0**  9  **8**  **6**  **7** "
      ],
      "text/plain": [
       "<IPython.core.display.Markdown object>"
      ]
     },
     "metadata": {},
     "output_type": "display_data"
    },
    {
     "data": {
      "text/markdown": [
       " **2**  **3**  **6**  9  9  **2**  9  **8**  **7**  **6**  **5**  **4**  **5**  **6**  9  9  9  9  9  9  **8**  **7**  **8**  9  9  9  9  9  **8**  **7**  **6**  **5**  **4**  **5**  **6**  **8**  9  9  **4**  **3**  **2**  **1**  **0**  **2**  **3**  **5**  9  9  **4**  **2**  9  **8**  9  9  9  9  9  **7**  9  **8**  9  9  **4**  9  **2**  **3**  9  **8**  **7**  **6**  **7**  **8**  9  9  **8**  9  **7**  **7**  **8**  9  **8**  9  **8**  9  9  9  **7**  **6**  **5**  **6**  9  9  9  **3**  **2**  9  **8**  9  **8**  9 "
      ],
      "text/plain": [
       "<IPython.core.display.Markdown object>"
      ]
     },
     "metadata": {},
     "output_type": "display_data"
    },
    {
     "data": {
      "text/markdown": [
       " **3**  **4**  **5**  **8**  9  **1**  **0**  9  9  **7**  **6**  **7**  **6**  **7**  **8**  9  **8**  9  9  **8**  **7**  **6**  9  **8**  9  **2**  **1**  **2**  9  **8**  **7**  **6**  **7**  **6**  **8**  9  9  **6**  **5**  **6**  **4**  **3**  **2**  **3**  **4**  **6**  **7**  **8**  9  9  **8**  **7**  **8**  **8**  9  **8**  **8**  **6**  9  **7**  9  **8**  9  **8**  9  **4**  9  9  **6**  **5**  **6**  **7**  9  9  9  9  **8**  9  9  9  9  **8**  9  9  **8**  **6**  **6**  **5**  **4**  **7**  **8**  9  **8**  9  9  **8**  **7**  **8**  9  **7** "
      ],
      "text/plain": [
       "<IPython.core.display.Markdown object>"
      ]
     },
     "metadata": {},
     "output_type": "display_data"
    },
    {
     "data": {
      "text/markdown": [
       " **4**  **5**  **6**  **7**  **8**  9  9  9  9  **8**  **7**  **8**  **7**  **8**  9  **5**  **7**  9  **8**  **7**  **6**  **5**  **6**  **7**  **8**  9  **2**  **3**  **5**  9  **8**  **7**  **8**  9  9  9  **8**  **7**  **8**  9  **5**  **4**  **5**  **4**  9  **7**  **8**  9  9  9  9  **6**  **7**  **7**  9  **7**  **6**  **5**  **7**  **6**  **5**  **7**  **8**  **7**  **8**  9  **8**  **7**  **6**  **4**  **5**  **6**  **7**  **8**  **7**  **8**  9  **2**  **1**  9  **8**  **7**  9  9  9  **5**  **4**  **3**  **2**  **8**  9  **5**  **6**  **7**  9  **7**  **6**  **5**  **4**  **6** "
      ],
      "text/plain": [
       "<IPython.core.display.Markdown object>"
      ]
     },
     "metadata": {},
     "output_type": "display_data"
    },
    {
     "data": {
      "text/markdown": [
       " **6**  **8**  **7**  **8**  9  **7**  **8**  9  9  9  **8**  9  **8**  9  **3**  **4**  9  **8**  9  **8**  9  **4**  **5**  **6**  9  **6**  **5**  **4**  **5**  **8**  9  **8**  9  **0**  **2**  **4**  9  **8**  9  9  **8**  **7**  **6**  **5**  **6**  9  9  9  9  **8**  **8**  **4**  **5**  **6**  **8**  9  **5**  **4**  **6**  **5**  **4**  **6**  **5**  **6**  9  **8**  9  **8**  **4**  **3**  **4**  **5**  **8**  9  **6**  **7**  **8**  9  9  **8**  **7**  **6**  9  9  **8**  9  9  **2**  **1**  **2**  **3**  **4**  **5**  **8**  9  9  **7**  9  9  **7** "
      ],
      "text/plain": [
       "<IPython.core.display.Markdown object>"
      ]
     },
     "metadata": {},
     "output_type": "display_data"
    },
    {
     "data": {
      "text/markdown": [
       " **7**  9  **8**  9  **5**  **6**  9  **8**  9  9  9  **1**  9  **1**  **2**  9  **8**  **7**  **8**  9  **8**  9  **6**  **7**  **8**  9  **7**  9  **6**  **7**  **8**  9  **3**  **1**  **2**  **3**  9  9  **6**  **4**  9  9  **8**  9  **7**  **8**  9  9  **8**  **7**  **6**  **3**  **4**  **7**  **7**  9  **4**  **3**  **2**  **1**  **2**  **3**  **4**  9  **8**  **7**  9  9  **3**  **2**  **1**  **2**  **3**  **4**  **5**  **8**  9  9  **8**  **7**  **6**  **5**  **8**  **7**  **6**  **7**  **8**  9  **0**  **1**  **2**  **5**  **6**  **7**  9  **1**  9  9  **8**  9 "
      ],
      "text/plain": [
       "<IPython.core.display.Markdown object>"
      ]
     },
     "metadata": {},
     "output_type": "display_data"
    },
    {
     "data": {
      "text/markdown": [
       " **8**  9  9  **1**  **3**  **5**  **6**  **7**  **7**  9  9  **0**  9  **0**  **1**  9  **7**  **6**  **7**  **6**  **7**  **8**  9  **8**  9  9  **8**  9  **8**  9  9  **8**  **4**  **2**  **4**  9  **8**  **6**  **4**  **3**  **2**  **3**  9  9  **8**  9  9  **8**  **7**  **5**  **4**  **2**  **3**  **5**  **6**  **7**  9  9  **3**  **0**  **2**  **3**  **4**  **5**  9  **6**  **5**  **4**  **3**  **1**  **0**  **1**  **4**  **5**  **6**  **8**  9  **1**  9  9  **5**  **4**  **3**  **4**  **5**  **6**  9  **2**  **1**  **3**  9  **8**  9  **8**  9  **2**  9  **8**  **7**  9 "
      ],
      "text/plain": [
       "<IPython.core.display.Markdown object>"
      ]
     },
     "metadata": {},
     "output_type": "display_data"
    },
    {
     "data": {
      "text/markdown": [
       " 9  **4**  **1**  **0**  **1**  **2**  **4**  **5**  **6**  **7**  **8**  9  **8**  9  9  **8**  **6**  **5**  **4**  **5**  **6**  **7**  **8**  9  **1**  **2**  9  **4**  9  9  **8**  **7**  **5**  **3**  **6**  **7**  9  **6**  **5**  **4**  **1**  **3**  **4**  **6**  9  9  **8**  **7**  **6**  **5**  **2**  **1**  **2**  **4**  **5**  **6**  **7**  **8**  9  **1**  **3**  **4**  **5**  9  **8**  **7**  **6**  **4**  **3**  **2**  **3**  **2**  **3**  **5**  **8**  9  **1**  **0**  9  **7**  **6**  **5**  **4**  **5**  **7**  **7**  **8**  9  **2**  **5**  **6**  **7**  9  9  **5**  9  **8**  **7**  **6**  **7** "
      ],
      "text/plain": [
       "<IPython.core.display.Markdown object>"
      ]
     },
     "metadata": {},
     "output_type": "display_data"
    },
    {
     "data": {
      "text/markdown": [
       " **4**  **3**  **2**  **1**  **2**  **6**  **7**  **8**  9  **8**  9  **8**  **7**  **5**  **4**  9  **8**  **7**  **6**  **8**  9  9  9  **1**  **0**  **1**  **2**  **3**  9  **8**  **7**  **6**  **5**  **4**  **5**  9  **8**  **7**  **6**  **3**  **2**  **4**  **5**  **6**  9  **8**  **7**  **7**  **6**  **4**  **1**  **0**  **2**  **3**  **4**  **5**  **6**  9  **8**  **6**  **5**  **5**  **6**  **7**  9  9  **7**  9  **4**  **3**  **4**  **3**  **4**  **5**  **7**  **8**  9  9  9  9  **8**  **8**  **7**  **6**  **7**  **8**  9  9  **7**  **6**  **7**  **8**  9  **5**  **3**  **4**  9  **6**  **5**  **4** "
      ],
      "text/plain": [
       "<IPython.core.display.Markdown object>"
      ]
     },
     "metadata": {},
     "output_type": "display_data"
    },
    {
     "data": {
      "text/markdown": [
       " **6**  **5**  **3**  **2**  **3**  **5**  **6**  **7**  **8**  9  **8**  **7**  **6**  **4**  **3**  **4**  9  **8**  **7**  **8**  9  **8**  9  **4**  **3**  **2**  **3**  **5**  **6**  9  **8**  **7**  **6**  **5**  **6**  **7**  9  **8**  **5**  **4**  **6**  **5**  9  9  **8**  **7**  **6**  **5**  **4**  **3**  **2**  **1**  **3**  **4**  **5**  **6**  **7**  **8**  9  **7**  **6**  **7**  **7**  **8**  9  9  9  **8**  9  **4**  **5**  **6**  **5**  **6**  **8**  9  9  **8**  9  9  9  9  **8**  **7**  **8**  9  **4**  9  **8**  **7**  **8**  9  **4**  **3**  **2**  9  **8**  **7**  **6**  **5** "
      ],
      "text/plain": [
       "<IPython.core.display.Markdown object>"
      ]
     },
     "metadata": {},
     "output_type": "display_data"
    },
    {
     "data": {
      "text/markdown": [
       " **7**  **6**  **5**  **6**  **4**  **6**  **7**  **8**  9  **3**  9  **8**  **7**  **5**  **4**  **5**  9  9  **8**  9  **6**  **7**  **8**  9  **6**  **5**  **4**  **5**  **6**  9  9  **8**  **8**  **7**  9  9  **8**  **7**  **6**  **7**  9  9  **8**  9  9  **8**  **7**  **6**  **5**  **4**  **3**  **2**  **4**  **5**  **6**  **8**  **8**  9  9  **8**  **8**  9  9  9  9  9  **8**  **7**  **8**  9  **6**  **8**  9  **7**  **8**  9  **8**  **7**  **8**  9  **8**  9  9  9  9  **4**  **3**  **2**  9  **8**  9  **7**  **5**  **2**  **1**  **2**  9  9  **7**  **6** "
      ],
      "text/plain": [
       "<IPython.core.display.Markdown object>"
      ]
     },
     "metadata": {},
     "output_type": "display_data"
    },
    {
     "data": {
      "text/markdown": [
       " **8**  **7**  **6**  **7**  **5**  **8**  9  9  **5**  **4**  **8**  9  9  **7**  **5**  **6**  **8**  9  9  **4**  **5**  9  9  **8**  **7**  **7**  **5**  **6**  9  **8**  9  9  9  **8**  9  **1**  9  **8**  **7**  9  **8**  9  **7**  **8**  9  9  **8**  **7**  **6**  **5**  **4**  **8**  **6**  **6**  **8**  9  9  **4**  **5**  9  9  9  **8**  9  9  **8**  **7**  **6**  **7**  **8**  9  9  9  **8**  9  **8**  **7**  **6**  9  **8**  **7**  **8**  9  9  **7**  **6**  **4**  **3**  **4**  9  **6**  **5**  **4**  **3**  **2**  **3**  **4**  9  **8**  **8** "
      ],
      "text/plain": [
       "<IPython.core.display.Markdown object>"
      ]
     },
     "metadata": {},
     "output_type": "display_data"
    },
    {
     "data": {
      "text/markdown": [
       " 9  **8**  **7**  9  **6**  **7**  **8**  9  **7**  **5**  **7**  9  **8**  9  **6**  **7**  9  **8**  **7**  **5**  9  **8**  9  9  9  **8**  9  9  **8**  **7**  **8**  9  **5**  9  **1**  **0**  **2**  9  9  **8**  **7**  **6**  **6**  9  9  9  9  **8**  **8**  **7**  **6**  **7**  **8**  9  9  **1**  **2**  **3**  **6**  **7**  **8**  9  **7**  **8**  9  **8**  **6**  **5**  **6**  **7**  **8**  9  **4**  9  **8**  **7**  **6**  **5**  **3**  9  **6**  **7**  **8**  9  **8**  **7**  **6**  **5**  **7**  **8**  9  **7**  **5**  9  **4**  **4**  9  9  9  9 "
      ],
      "text/plain": [
       "<IPython.core.display.Markdown object>"
      ]
     },
     "metadata": {},
     "output_type": "display_data"
    },
    {
     "data": {
      "text/markdown": [
       " **2**  9  **8**  9  **7**  **8**  9  9  9  **6**  9  **8**  **7**  **8**  9  **8**  9  9  **8**  9  **8**  **7**  **8**  9  9  9  **5**  **4**  9  **6**  9  **6**  **4**  **3**  **2**  **1**  **3**  **4**  **5**  9  9  **4**  **5**  **7**  **8**  9  **7**  9  9  **8**  **7**  **8**  9  **4**  **3**  **2**  **3**  9  9  **8**  9  **8**  **6**  **5**  **4**  **5**  **4**  **4**  **7**  **8**  9  **2**  **3**  9  **8**  **6**  **5**  **4**  **2**  **6**  **5**  **6**  9  **4**  9  **8**  9  **6**  **8**  9  9  **8**  9  **8**  9  9  **8**  9  **3**  **1** "
      ],
      "text/plain": [
       "<IPython.core.display.Markdown object>"
      ]
     },
     "metadata": {},
     "output_type": "display_data"
    },
    {
     "data": {
      "text/markdown": [
       " **1**  **2**  9  9  **8**  9  9  9  **8**  9  **7**  **7**  **6**  9  9  9  **1**  **2**  9  9  **7**  **6**  **8**  9  9  **7**  **6**  9  **8**  **7**  **8**  9  **6**  **5**  **4**  **2**  **5**  **6**  **7**  **8**  9  9  **6**  9  9  9  **6**  **5**  **6**  9  **8**  9  9  **6**  **5**  **3**  9  **8**  **7**  9  **8**  **7**  **5**  **4**  **3**  **4**  **2**  **3**  **4**  9  **4**  **3**  **5**  9  **6**  **5**  **4**  **2**  **1**  **2**  **4**  **8**  9  **5**  **6**  9  9  **7**  **8**  9  9  9  **8**  **7**  **6**  **8**  **7**  **8**  9  9 "
      ],
      "text/plain": [
       "<IPython.core.display.Markdown object>"
      ]
     },
     "metadata": {},
     "output_type": "display_data"
    },
    {
     "data": {
      "text/markdown": [
       " **0**  **4**  **6**  **7**  9  9  9  **8**  **7**  **6**  **5**  **4**  **5**  **7**  **8**  9  **0**  9  **8**  **8**  **6**  **5**  **6**  **8**  9  **8**  **7**  9  9  **8**  9  **8**  **7**  **6**  **5**  **6**  **6**  **7**  **8**  9  9  **8**  **7**  **8**  9  **8**  **7**  **6**  **8**  9  9  **7**  **8**  9  **7**  9  **8**  **7**  **6**  **5**  9  9  **8**  **3**  **2**  **1**  **0**  **4**  **5**  **6**  9  **4**  9  **8**  **7**  **8**  **5**  **4**  **3**  **3**  **6**  **7**  **8**  9  9  **8**  9  **8**  9  9  9  **8**  **7**  **6**  **5**  **4**  **6**  **7**  9  **7** "
      ],
      "text/plain": [
       "<IPython.core.display.Markdown object>"
      ]
     },
     "metadata": {},
     "output_type": "display_data"
    },
    {
     "data": {
      "text/markdown": [
       " **2**  **3**  **7**  **8**  9  **8**  **8**  9  **6**  **5**  **4**  **3**  **4**  **6**  **7**  **8**  9  **8**  **7**  **6**  **7**  **4**  **7**  **7**  **8**  9  9  **8**  9  9  9  9  9  **8**  9  **8**  **7**  **8**  9  **3**  **5**  9  **8**  9  9  9  **8**  **7**  9  **8**  **7**  **6**  **7**  9  **8**  9  **6**  **5**  **4**  **3**  **4**  9  **7**  **5**  **6**  **7**  **2**  **5**  **6**  9  **8**  9  **8**  9  **8**  **7**  **6**  **6**  **5**  **4**  **5**  **6**  **7**  **8**  9  **7**  **8**  9  9  9  **8**  **6**  9  **5**  **4**  **3**  **5**  **8**  9  **6** "
      ],
      "text/plain": [
       "<IPython.core.display.Markdown object>"
      ]
     },
     "metadata": {},
     "output_type": "display_data"
    },
    {
     "data": {
      "text/markdown": [
       " **4**  **4**  9  9  **8**  **7**  **7**  9  9  **4**  **3**  **2**  **3**  **5**  **6**  9  **8**  **7**  **6**  **5**  **2**  **3**  **4**  **6**  **7**  **8**  9  **7**  9  **8**  **8**  9  9  9  9  9  9  9  **1**  **2**  **4**  **5**  9  9  9  9  9  **8**  9  9  **6**  **5**  **6**  **8**  9  **8**  9  **6**  **3**  **2**  **3**  **4**  9  **7**  **8**  **8**  **3**  **4**  **7**  9  **7**  **6**  **7**  9  9  9  **7**  **8**  **7**  **5**  **7**  **8**  9  9  **5**  **6**  **7**  9  **8**  **7**  **6**  **5**  **6**  **4**  **3**  **2**  **6**  **3**  **4**  **5** "
      ],
      "text/plain": [
       "<IPython.core.display.Markdown object>"
      ]
     },
     "metadata": {},
     "output_type": "display_data"
    },
    {
     "data": {
      "text/markdown": [
       " 9  9  **8**  **7**  **6**  **5**  **6**  **7**  **8**  9  **2**  **1**  **2**  **4**  **8**  9  9  **8**  **6**  **3**  **1**  **3**  **5**  **6**  **8**  9  **6**  **6**  **7**  **6**  **7**  **8**  9  **7**  **8**  9  9  **1**  **0**  **6**  **5**  9  **8**  9  **8**  9  9  9  9  9  **8**  **4**  **8**  **7**  **8**  **7**  **8**  9  **2**  **1**  **2**  **5**  9  **8**  9  **6**  **5**  9  9  **8**  9  **5**  **6**  **7**  9  9  **8**  9  **8**  9  **8**  9  **6**  **6**  **4**  **8**  **6**  **8**  9  **7**  **5**  **4**  **3**  **2**  **1**  **0**  **1**  **2**  **3**  **4** "
      ],
      "text/plain": [
       "<IPython.core.display.Markdown object>"
      ]
     },
     "metadata": {},
     "output_type": "display_data"
    },
    {
     "data": {
      "text/markdown": [
       " **8**  **7**  9  **8**  **8**  **7**  **8**  9  9  **4**  **3**  **2**  **3**  **4**  **7**  **8**  9  **6**  **5**  **4**  **2**  **3**  **4**  **5**  9  9  **5**  **4**  **4**  **5**  **6**  9  **8**  **6**  **7**  9  **8**  9  **1**  9  9  **8**  **7**  **6**  **7**  **8**  9  9  9  **8**  **7**  **3**  **1**  **6**  **5**  **6**  **7**  **8**  9  **4**  **3**  **6**  **7**  9  **8**  **7**  9  **8**  **7**  **6**  **5**  **4**  **5**  **6**  **8**  9  9  **3**  9  9  9  **6**  **5**  **4**  **3**  **4**  **5**  9  **8**  **7**  **6**  **8**  **7**  **5**  **2**  **1**  **2**  **3**  **4**  **5** "
      ],
      "text/plain": [
       "<IPython.core.display.Markdown object>"
      ]
     },
     "metadata": {},
     "output_type": "display_data"
    },
    {
     "data": {
      "text/markdown": [
       " 9  **6**  **5**  9  9  **8**  9  **7**  **6**  **5**  **4**  **3**  **4**  **5**  **6**  **8**  9  **7**  **6**  **7**  9  **6**  **5**  **6**  **7**  **8**  9  **3**  **2**  9  9  **7**  **6**  **5**  9  **8**  **7**  **8**  9  **8**  **7**  **6**  **5**  **5**  **6**  9  **8**  9  **8**  **7**  **6**  **2**  **0**  **5**  **4**  **5**  **6**  **7**  **8**  9  **4**  **5**  **7**  **8**  9  9  **8**  **7**  **6**  **5**  **4**  **3**  **4**  **6**  9  **6**  **5**  **4**  9  9  **8**  **7**  **6**  **5**  **4**  **6**  **6**  **7**  9  9  **8**  9  9  **4**  **3**  **2**  **3**  **4**  **7**  **6** "
      ],
      "text/plain": [
       "<IPython.core.display.Markdown object>"
      ]
     },
     "metadata": {},
     "output_type": "display_data"
    },
    {
     "data": {
      "text/markdown": [
       " **8**  9  **3**  **4**  **5**  9  9  **8**  **7**  9  **8**  **7**  **6**  **8**  9  9  9  9  **7**  **8**  9  **8**  **8**  **7**  9  9  **5**  **4**  9  **8**  **7**  **6**  **5**  **4**  **4**  9  **6**  9  **8**  **7**  **6**  **5**  **4**  **3**  **4**  **6**  **7**  **8**  9  9  **4**  **3**  **1**  **2**  **3**  **4**  **8**  9  9  **6**  **5**  **6**  **7**  9  **5**  **3**  9  **8**  **5**  **4**  **3**  **2**  **3**  **5**  **8**  9  9  9  **8**  9  9  **8**  **7**  **6**  **7**  **8**  9  **8**  9  **8**  9  **8**  **8**  9  **4**  **5**  **6**  **5**  **6**  **7** "
      ],
      "text/plain": [
       "<IPython.core.display.Markdown object>"
      ]
     },
     "metadata": {},
     "output_type": "display_data"
    },
    {
     "data": {
      "text/markdown": [
       " **7**  **8**  9  **5**  **6**  **7**  **8**  9  9  **8**  9  **8**  **7**  **8**  9  9  9  9  **8**  9  9  9  9  9  **8**  **7**  **6**  9  **8**  **7**  **6**  **5**  **4**  **3**  **3**  **4**  **5**  **7**  9  **8**  **7**  **6**  **5**  **7**  **6**  **7**  **8**  9  **8**  **8**  9  **4**  **3**  **4**  **4**  **5**  **6**  **7**  **8**  9  **6**  **7**  **8**  9  **3**  **2**  9  **8**  **7**  **5**  **4**  **3**  **4**  **5**  **6**  **7**  **8**  9  **7**  **6**  **8**  9  9  9  **8**  9  9  9  **8**  **7**  **8**  **7**  **7**  **8**  9  **6**  **7**  **6**  **7**  **8** "
      ],
      "text/plain": [
       "<IPython.core.display.Markdown object>"
      ]
     },
     "metadata": {},
     "output_type": "display_data"
    },
    {
     "data": {
      "text/markdown": [
       " **6**  **7**  9  **6**  9  **8**  9  9  **8**  **7**  **6**  9  **8**  9  **6**  9  **7**  9  9  9  9  **8**  **7**  **8**  9  **8**  **7**  **8**  9  9  **8**  **6**  **3**  **2**  **1**  **3**  **4**  **8**  9  9  **8**  **7**  **8**  9  9  **8**  9  **4**  **6**  **7**  9  9  **4**  **6**  **5**  **6**  **7**  9  9  **8**  **7**  **8**  9  **8**  9  **1**  9  9  **8**  **7**  **6**  **4**  **5**  **6**  **7**  9  9  **7**  **6**  **5**  **7**  **8**  9  9  9  **0**  9  **8**  **7**  **6**  **7**  **6**  **6**  9  **8**  9  **8**  **7**  9  9 "
      ],
      "text/plain": [
       "<IPython.core.display.Markdown object>"
      ]
     },
     "metadata": {},
     "output_type": "display_data"
    },
    {
     "data": {
      "text/markdown": [
       " **5**  **7**  **8**  9  9  9  **5**  **7**  9  9  **5**  **4**  9  **3**  **4**  **7**  **6**  **8**  9  9  **8**  **7**  **6**  **7**  **8**  9  9  9  9  **8**  **6**  **7**  **2**  **1**  **0**  **2**  **3**  9  9  9  9  9  9  **7**  **6**  9  **4**  **3**  **4**  **8**  **7**  **8**  9  **8**  **7**  9  **8**  9  9  9  **8**  9  **6**  **7**  **8**  9  **8**  9  9  **8**  **7**  **6**  **7**  9  **8**  9  **7**  **8**  **7**  **4**  **5**  9  9  **8**  9  **2**  9  **8**  **6**  **5**  **3**  **4**  **5**  **6**  **7**  **8**  9  9  **1**  **0** "
      ],
      "text/plain": [
       "<IPython.core.display.Markdown object>"
      ]
     },
     "metadata": {},
     "output_type": "display_data"
    },
    {
     "data": {
      "text/markdown": [
       " **4**  **5**  **6**  **7**  **8**  9  **4**  **6**  9  **8**  **4**  **3**  **2**  **1**  **3**  **4**  **5**  **6**  **7**  9  **8**  **8**  **5**  **6**  **6**  **7**  **8**  9  **8**  **7**  **5**  **4**  **3**  **2**  **3**  **3**  **5**  **6**  9  **8**  **7**  9  **8**  **6**  **5**  **3**  **2**  **1**  **2**  9  **6**  **7**  9  9  9  9  9  **7**  **8**  **5**  9  **4**  **5**  **6**  9  **8**  **7**  **6**  **7**  9  **8**  **7**  **8**  9  9  **8**  **6**  **4**  **3**  **2**  **1**  **2**  **5**  **7**  **8**  9  **8**  **7**  **8**  **3**  **2**  **3**  **4**  **5**  **6**  **7**  9  **8**  9  **1** "
      ],
      "text/plain": [
       "<IPython.core.display.Markdown object>"
      ]
     },
     "metadata": {},
     "output_type": "display_data"
    },
    {
     "data": {
      "text/markdown": [
       " **3**  **7**  **7**  9  9  9  **2**  9  **7**  **6**  **5**  **5**  **3**  **2**  **3**  **5**  **6**  **7**  9  9  **7**  **7**  **4**  **5**  **5**  **6**  9  **8**  9  9  **8**  **7**  **6**  **5**  **4**  **8**  **7**  9  **8**  **7**  **6**  **8**  9  **8**  **6**  **4**  **3**  **4**  **3**  **4**  **5**  **8**  9  9  9  **8**  **7**  **6**  **5**  **4**  **3**  **2**  **3**  **7**  **8**  9  **7**  **5**  **6**  9  9  **8**  9  **7**  9  **7**  **6**  **5**  **2**  **1**  **0**  **1**  **4**  **5**  9  **8**  **7**  **6**  **5**  **4**  **3**  **4**  **5**  **6**  **7**  **8**  9  **7**  **8**  9 "
      ],
      "text/plain": [
       "<IPython.core.display.Markdown object>"
      ]
     },
     "metadata": {},
     "output_type": "display_data"
    },
    {
     "data": {
      "text/markdown": [
       " 9  **8**  **8**  9  **6**  **8**  9  9  **8**  **7**  **6**  **6**  **4**  **3**  **4**  **6**  **7**  9  **8**  **7**  **6**  **5**  **3**  **2**  **3**  **4**  **5**  **6**  **7**  **8**  9  **8**  **8**  **7**  **5**  **6**  9  **8**  **7**  **6**  **5**  9  **8**  **7**  **6**  **5**  **4**  **5**  **4**  **5**  **6**  9  9  **8**  **6**  9  **8**  **7**  **6**  **5**  **2**  **1**  **4**  **5**  **7**  **8**  9  **6**  9  **8**  **7**  9  **5**  **6**  9  **8**  **7**  **6**  **8**  **8**  9  **2**  **3**  **6**  **8**  9  **8**  **7**  9  **5**  **6**  **5**  **6**  **7**  **8**  9  **5**  **6**  **7**  **8** "
      ],
      "text/plain": [
       "<IPython.core.display.Markdown object>"
      ]
     },
     "metadata": {},
     "output_type": "display_data"
    },
    {
     "data": {
      "text/markdown": [
       " **4**  9  9  **4**  **5**  **6**  **7**  **8**  9  9  **8**  **6**  **5**  **4**  **5**  **7**  9  9  9  9  **7**  **4**  **3**  **1**  **3**  **3**  **4**  **5**  **6**  9  9  9  9  **8**  **7**  9  **8**  **7**  **6**  **5**  **4**  **3**  9  **8**  **7**  9  **8**  **7**  **5**  **6**  **7**  **8**  9  **5**  **5**  **6**  9  **8**  **7**  **6**  **7**  **2**  **3**  **4**  9  9  9  9  **8**  **7**  **6**  **5**  **4**  **2**  **2**  9  **8**  **7**  **8**  **7**  **6**  **5**  **4**  **5**  **6**  **7**  9  9  **7**  **6**  **7**  **8**  **7**  **8**  9  **3**  **4**  **5**  **8**  9 "
      ],
      "text/plain": [
       "<IPython.core.display.Markdown object>"
      ]
     },
     "metadata": {},
     "output_type": "display_data"
    },
    {
     "data": {
      "text/markdown": [
       " **2**  **1**  **2**  **3**  **4**  **5**  **6**  9  9  9  **8**  **7**  **6**  **5**  **6**  **7**  **8**  9  9  **8**  **7**  **5**  **1**  **0**  **1**  **2**  **5**  **6**  **7**  **8**  9  **1**  **0**  9  9  9  9  9  **8**  **4**  **3**  **2**  **1**  9  **8**  9  9  **8**  9  **8**  9  9  **5**  **4**  **3**  **2**  **4**  9  **8**  **7**  **8**  9  **4**  **5**  **6**  **7**  **8**  9  9  **6**  **5**  **4**  **2**  **1**  **0**  **1**  9  **8**  9  **8**  **7**  **7**  **6**  **6**  **7**  **8**  9  9  **8**  **7**  **8**  9  **8**  9  **1**  **2**  **3**  **6**  9  9 "
      ],
      "text/plain": [
       "<IPython.core.display.Markdown object>"
      ]
     },
     "metadata": {},
     "output_type": "display_data"
    },
    {
     "data": {
      "text/plain": [
       "'**************************************'"
      ]
     },
     "metadata": {},
     "output_type": "display_data"
    }
   ],
   "source": [
    "grid.display([coord for basin in basins for coord in basin])"
   ]
  }
 ],
 "metadata": {
  "kernelspec": {
   "display_name": "Python 3 (ipykernel)",
   "language": "python",
   "name": "python3"
  },
  "language_info": {
   "codemirror_mode": {
    "name": "ipython",
    "version": 3
   },
   "file_extension": ".py",
   "mimetype": "text/x-python",
   "name": "python",
   "nbconvert_exporter": "python",
   "pygments_lexer": "ipython3",
   "version": "3.8.5"
  }
 },
 "nbformat": 4,
 "nbformat_minor": 5
}
