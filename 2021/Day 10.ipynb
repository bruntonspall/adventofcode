{
 "cells": [
  {
   "cell_type": "markdown",
   "id": "7ede0cb1",
   "metadata": {},
   "source": [
    "# Day 10 Stacks all the way down\n",
    "\n",
    "This one is about matching parenthesis, which means that anyone writing in closure is likely to be able to do this one just by instinct!\n",
    "\n",
    "Ok, we need to match parenthesis in 4 different types.\n",
    "\n",
    "The golden rule here is actually pretty simple, there's a kind of state machine, in which each character on a line should only be one of 4 options, `(`, `{`, `[`, `<` and then the closing parenthesis of whatever type we last opened.\n",
    "So when we see a `(`, the closing type is `)`.\n",
    "\n",
    "But when we do see the closing type, we need to get the next previous one that we saw.\n",
    "\n",
    "This is a stack, like a stack of plates in a canteen.  If you put something on the top of the stack, then when you take it off, whatever was there before is revealed.\n",
    "\n",
    "Python doesn't have a stack data type itself, what it does is provide a set of methods on a list that mean you can treat it as a stack.  Generally a stack has 4 main methods, push, pop, peek, empty?.  These map in pythin to append, pop, `[-1]` and the comparison to `[]`.\n",
    "\n",
    "That combined with the 3.10 match statement should make processing a line pretty simple.\n",
    "\n",
    "Read each character, if it's an open parenthesis, push the matching close onto the stack.  If it's a close, compare it to whats on the stack, if it doesn't match, stop processing and return the character that broke for scoring.\n",
    "If it does match, pop that item off the stack and keep going"
   ]
  },
  {
   "cell_type": "code",
   "execution_count": 2,
   "id": "03677d65",
   "metadata": {},
   "outputs": [],
   "source": [
    "## Import ipytest and get it setup for use in Python Notebook\n",
    "import pytest\n",
    "import ipytest\n",
    "ipytest.autoconfig()"
   ]
  },
  {
   "cell_type": "code",
   "execution_count": 4,
   "id": "8c2855cb",
   "metadata": {},
   "outputs": [],
   "source": [
    "legal_chunks = [\"([])\", \"{()()()}\", \"<([{}])>\", \"[<>({}){}[([])<>]]\", \"(((((((((())))))))))\"]\n",
    "corrupted_chunks = [\n",
    "    (\"(]\",\"]\"), \n",
    "    (\"{()()()>\", \">\"), \n",
    "    (\"(((()))}\",\"}\"), \n",
    "    (\"<([]){()}[{}])\",\")\")]\n",
    "\n",
    "def process_chunks(line):\n",
    "    stack = []\n",
    "    for c in line:\n",
    "        match c:\n",
    "            case \"(\": \n",
    "                stack.append(\")\")\n",
    "            case \"[\":\n",
    "                stack.append(\"]\")\n",
    "            case \"{\":\n",
    "                stack.append(\"}\")\n",
    "            case \"<\":\n",
    "                stack.append(\">\")\n",
    "            case m:\n",
    "                if stack == []:\n",
    "                    return False,m\n",
    "                elif stack[-1] != m:\n",
    "                    return False,m\n",
    "                else:\n",
    "                    assert m == stack.pop()\n",
    "    return True,\"\"\n",
    "\n",
    "for chunk in legal_chunks:\n",
    "    assert (True,\"\") == process_chunks(chunk)\n",
    "for chunk,expected in corrupted_chunks:\n",
    "    assert (False,expected) == process_chunks(chunk)"
   ]
  },
  {
   "cell_type": "markdown",
   "id": "fb405b50",
   "metadata": {},
   "source": [
    "So that works... let's try it on some of the example lines"
   ]
  },
  {
   "cell_type": "code",
   "execution_count": 7,
   "id": "10d28c85",
   "metadata": {},
   "outputs": [],
   "source": [
    "test_lines = \"\"\"[({(<(())[]>[[{[]{<()<>>\n",
    "[(()[<>])]({[<{<<[]>>(\n",
    "{([(<{}[<>[]}>{[]{[(<()>\n",
    "(((({<>}<{<{<>}{[]{[]{}\n",
    "[[<[([]))<([[{}[[()]]]\n",
    "[{[{({}]{}}([{[{{{}}([]\n",
    "{<[[]]>}<{[{[{[]{()[[[]\n",
    "[<(<(<(<{}))><([]([]()\n",
    "<{([([[(<>()){}]>(<<{{\n",
    "<{([{{}}[<[[[<>{}]]]>[]]\"\"\".split(\"\\n\")\n",
    "\n",
    "results = [process_chunks(line) for line in test_lines]\n",
    "scores = {')':3, ']':57, '}':1197, '>': 25137}\n",
    "total = sum(map(lambda c: scores[c], [result[1] for result in results if not result[0]]))\n",
    "assert total == 26397"
   ]
  },
  {
   "cell_type": "markdown",
   "id": "90e224f6",
   "metadata": {},
   "source": [
    "The total there is calculated by looking through the results, getting all the corrupted lines and then finding the error, and mapping that to a score."
   ]
  },
  {
   "cell_type": "code",
   "execution_count": 8,
   "id": "4f57d6c3",
   "metadata": {},
   "outputs": [
    {
     "name": "stdout",
     "output_type": "stream",
     "text": [
      "344193\n"
     ]
    }
   ],
   "source": [
    "lines = [line.strip() for line in open('day10.txt').readlines()]\n",
    "results = [process_chunks(line) for line in lines]\n",
    "scores = {')':3, ']':57, '}':1197, '>': 25137}\n",
    "total = sum(map(lambda c: scores[c], [result[1] for result in results if not result[0]]))\n",
    "print(total)"
   ]
  }
 ],
 "metadata": {
  "kernelspec": {
   "display_name": "Python 3 (ipykernel)",
   "language": "python",
   "name": "python3"
  },
  "language_info": {
   "codemirror_mode": {
    "name": "ipython",
    "version": 3
   },
   "file_extension": ".py",
   "mimetype": "text/x-python",
   "name": "python",
   "nbconvert_exporter": "python",
   "pygments_lexer": "ipython3",
   "version": "3.10.1"
  }
 },
 "nbformat": 4,
 "nbformat_minor": 5
}
