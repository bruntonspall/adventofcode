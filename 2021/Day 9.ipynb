{
 "cells": [
  {
   "cell_type": "markdown",
   "id": "6a6a1626",
   "metadata": {},
   "source": [
    "# Mapping the ocean floor\n",
    "\n",
    "Here's hoping that my games programming past comes back to help me here.\n",
    "\n",
    "First of all, we're going to want to examine the floor.  The critical bit of information we need is that for any given pair of coordinates, (x,y) we should be able to ask it for the heights of its neighbours, which will return a list like `[1,1,2,3]` or `[1,1]`.  If we ask an edge or a corner for its neighbours, we'll just return the 2 or 3 neighbours.\n",
    "\n",
    "Once we have that, we can then iterate over all the neighbours for each cell and ask if they are all greater than the current cell, if they are, we've found a \"local minima\"."
   ]
  },
  {
   "cell_type": "code",
   "execution_count": 1,
   "id": "4dc765e9",
   "metadata": {},
   "outputs": [],
   "source": [
    "## Import ipytest and get it setup for use in Python Notebook\n",
    "import pytest\n",
    "import ipytest\n",
    "ipytest.autoconfig()"
   ]
  },
  {
   "cell_type": "code",
   "execution_count": 15,
   "id": "a3a2bade",
   "metadata": {},
   "outputs": [],
   "source": [
    "class Grid:\n",
    "    def __init__(self,width,height,cells):\n",
    "        self.width = width\n",
    "        self.height = height\n",
    "        self.cells = cells\n",
    "        \n",
    "    def find_neighbours(self, x,y):\n",
    "        neighbours = []\n",
    "        if y > 0:\n",
    "            neighbours.append(self.cells[(x,y-1)])\n",
    "        if x < self.width-1:\n",
    "            neighbours.append(self.cells[(x+1,y)])\n",
    "        if y < self.height-1:\n",
    "            neighbours.append(self.cells[(x,y+1)])\n",
    "        if x > 0:\n",
    "            neighbours.append(self.cells[(x-1,y)])\n",
    "        return neighbours\n",
    "\n",
    "def grid_from_lines(lines):\n",
    "    height = len(lines)\n",
    "    width = len(lines[0])\n",
    "    cells = {}\n",
    "    for y,line in enumerate(lines):\n",
    "        for x,cell in enumerate(line):\n",
    "            cells[(x,y)] = int(cell)\n",
    "    return Grid(width,height,cells)\n",
    "\n",
    "test_data = \"\"\"2199943210\n",
    "3987894921\n",
    "9856789892\n",
    "8767896789\n",
    "9899965678\"\"\".split(\"\\n\")\n",
    "\n",
    "test_grid = grid_from_lines(test_data)\n",
    "assert 10 == test_grid.width\n",
    "assert 5 == test_grid.height\n",
    "assert 2 == test_grid.cells[(0,0)]\n",
    "assert 1 == test_grid.cells[(1,0)]\n",
    "assert 3 == test_grid.cells[(0,1)]\n",
    "\n",
    "# Implement find_neighbours on Grid class here\n",
    "\n",
    "assert [1,1] == test_grid.find_neighbours(9,0)\n",
    "assert [9,9,2] == test_grid.find_neighbours(1,0)\n",
    "assert [8,6,6,8] == test_grid.find_neighbours(2,2)"
   ]
  },
  {
   "cell_type": "markdown",
   "id": "984679f3",
   "metadata": {},
   "source": [
    "Right, now we've got a basic grid class, we can find the lowest point.\n",
    "\n",
    "Sadly, due to the way the Jupyter notebook works, we cannot reopen an existing class, so we have to redefine it if we want to add a method, which we do in this case.  Note that we're interested in the heights of the lowest points.\n",
    "\n",
    "We could do this two ways, the longer and more readable way is to make find_lowest_points return a list of coordinates, and then write something that maps those into heights and then adds one to each one to get the risk.  Or we can put that into the Grid class as a find_risk_score.  I'm going to do the latter for speed, but I think we might need to come back and create a find_lowest_points later."
   ]
  },
  {
   "cell_type": "code",
   "execution_count": 18,
   "id": "c1a62d1b",
   "metadata": {},
   "outputs": [],
   "source": [
    "class Grid:\n",
    "    def __init__(self,width,height,cells):\n",
    "        self.width = width\n",
    "        self.height = height\n",
    "        self.cells = cells\n",
    "        \n",
    "    def find_neighbours(self, x,y):\n",
    "        neighbours = []\n",
    "        if y > 0:\n",
    "            neighbours.append(self.cells[(x,y-1)])\n",
    "        if x < self.width-1:\n",
    "            neighbours.append(self.cells[(x+1,y)])\n",
    "        if y < self.height-1:\n",
    "            neighbours.append(self.cells[(x,y+1)])\n",
    "        if x > 0:\n",
    "            neighbours.append(self.cells[(x-1,y)])\n",
    "        return neighbours\n",
    "    \n",
    "    def find_risk_score(self):\n",
    "        score = 0\n",
    "        for y in range(self.height):\n",
    "            for x in range(self.width):\n",
    "                if self.cells[(x,y)] < min(self.find_neighbours(x,y)):\n",
    "                    score += self.cells[(x,y)]+1\n",
    "        return score\n",
    "\n",
    "def grid_from_lines(lines):\n",
    "    height = len(lines)\n",
    "    width = len(lines[0])\n",
    "    cells = {}\n",
    "    for y,line in enumerate(lines):\n",
    "        for x,cell in enumerate(line):\n",
    "            cells[(x,y)] = int(cell)\n",
    "    return Grid(width,height,cells)\n",
    "\n",
    "test_grid = grid_from_lines(test_data)\n",
    "\n",
    "assert 15 == test_grid.find_risk_score()"
   ]
  },
  {
   "cell_type": "markdown",
   "id": "4280245d",
   "metadata": {},
   "source": [
    "Great!  Let's try that on prod data"
   ]
  },
  {
   "cell_type": "code",
   "execution_count": null,
   "id": "41e7e10a",
   "metadata": {},
   "outputs": [],
   "source": [
    "grid = grid_from_lines([line.strip() for line in open('day9.txt')])"
   ]
  }
 ],
 "metadata": {
  "kernelspec": {
   "display_name": "Python 3 (ipykernel)",
   "language": "python",
   "name": "python3"
  },
  "language_info": {
   "codemirror_mode": {
    "name": "ipython",
    "version": 3
   },
   "file_extension": ".py",
   "mimetype": "text/x-python",
   "name": "python",
   "nbconvert_exporter": "python",
   "pygments_lexer": "ipython3",
   "version": "3.8.5"
  }
 },
 "nbformat": 4,
 "nbformat_minor": 5
}
