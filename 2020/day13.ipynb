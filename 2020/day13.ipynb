{
 "cells": [
  {
   "cell_type": "markdown",
   "metadata": {},
   "source": [
    "# Reading timetables\n",
    "\n",
    "This is one of those where I think, it can't possibly be this easy.\n",
    "\n",
    "We have a set of busses, each is on a looping timetable that loops every n minutes.\n",
    "The question is at minute x, which is the next bus to arrive and how long until it leaves.\n",
    "\n",
    "If we assume each bus is simply modular arithmatic (or clock arithmatic), then all we need to do is iterate over all the buses for the given time and see what the lowest value is.  Whatever that is, is the next bus to arrive"
   ]
  },
  {
   "cell_type": "code",
   "execution_count": 6,
   "metadata": {},
   "outputs": [],
   "source": [
    "import ipytest\n",
    "ipytest.autoconfig()\n",
    "\n",
    "bus = [7,13,59,31,19]\n",
    "\n",
    "def bus_at_time(buslist, time):\n",
    "    return [time % bus for bus in buslist]\n",
    "\n",
    "assert bus_at_time(bus, 939) == [1, 3, 54, 9, 8]"
   ]
  },
  {
   "cell_type": "markdown",
   "metadata": {},
   "source": [
    "Except that's not right, because the answer we want is the third bus.... \n",
    "\n",
    "We need to work out distance to next stop, which is simply bus number - time % bus"
   ]
  },
  {
   "cell_type": "code",
   "execution_count": 8,
   "metadata": {},
   "outputs": [],
   "source": [
    "def bus_at_time(buslist, time):\n",
    "    return [bus - (time % bus) for bus in buslist]\n",
    "\n",
    "assert bus_at_time(bus, 939) == [6, 10, 5, 22, 11]"
   ]
  },
  {
   "cell_type": "markdown",
   "metadata": {},
   "source": [
    "Great, solving for the lowest time to distance gets us the right answer, now all we need to do is multiply it by the original bus number.  That's probably easier if we zip the answers together to make tuples before finding the minimum"
   ]
  },
  {
   "cell_type": "code",
   "execution_count": 13,
   "metadata": {},
   "outputs": [],
   "source": [
    "def find_next_bus(buslist, time):\n",
    "    nextdue = bus_at_time(buslist, time)\n",
    "    pairs = zip(nextdue,buslist)\n",
    "    return min(pairs)\n",
    "\n",
    "t,i = find_next_bus(bus, 939)\n",
    "assert t*i == 295"
   ]
  },
  {
   "cell_type": "markdown",
   "metadata": {},
   "source": [
    "Now to try the same on the real data"
   ]
  },
  {
   "cell_type": "code",
   "execution_count": 19,
   "metadata": {},
   "outputs": [],
   "source": [
    "f = open(\"day13.txt\").readlines()\n",
    "time = int(f[0].strip())\n",
    "bustable = [int(b) for b in f[1].split(\",\") if b != \"x\"]\n",
    "t,i = find_next_bus(bustable, time)\n",
    "assert t*i == 2935"
   ]
  },
  {
   "cell_type": "markdown",
   "metadata": {},
   "source": [
    "## Part 2 - Like orbiting planets\n",
    "\n",
    "Part 1 was simpler than I thought.  Part 2 means working out something more mathmatically complicated.  Those who did last years will remember a puzzle where one had to find the point at which orbiting planets line up, which was a very similar problem, since our buses are orbiting the station and coming back every n minutes as well.\n",
    "\n",
    "If we think of them as orbits\n"
   ]
  }
 ],
 "metadata": {
  "kernelspec": {
   "display_name": "Python 3",
   "language": "python",
   "name": "python3"
  },
  "language_info": {
   "codemirror_mode": {
    "name": "ipython",
    "version": 3
   },
   "file_extension": ".py",
   "mimetype": "text/x-python",
   "name": "python",
   "nbconvert_exporter": "python",
   "pygments_lexer": "ipython3",
   "version": "3.8.5"
  }
 },
 "nbformat": 4,
 "nbformat_minor": 4
}
