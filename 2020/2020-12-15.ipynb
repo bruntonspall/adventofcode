{
 "cells": [
  {
   "cell_type": "markdown",
   "metadata": {},
   "source": [
    "# Day 15 - Automata\n",
    "\n",
    "Elves count and keep track of when they last said something.  This feels like a fairly simple cellular automata.  We want to set it up with the right rules, set it going and stop when it reaches 2020.  I'm sure there's a maths way to solve it, but I don't have that kind of brain, so lets make it simple.\n",
    "\n",
    "We keep track of the game state, which is a dictionary of numbers spoken, and both the turn they were spoken at most recently, and the turn before.\n",
    "\n",
    "Each turn, we look at the last number spoken, \n",
    "if it's never been seen, we set next number to 0, and set the last seen for the number to the turn id.\n",
    "If it had been spoken before, then we calculate the difference, set the last seen for the number to be the turn_id, and set the next number to the difference\n",
    "\n",
    "We don't need to keep track of all the numnbers spoken, we just need to keep a lookup table for each number spoken that records the last time it was spoken.  However, I think we're going to need to store the last 2 times, or the logic will get really messy\n",
    "\n",
    "I don't normally use classes in this kind of python coding, I think classes can create some ugly behaviour, but in this case, I think the memory might make a good class (plus a chance to show off hte encapsulation benefits)."
   ]
  },
  {
   "cell_type": "code",
   "execution_count": 9,
   "metadata": {},
   "outputs": [
    {
     "name": "stdout",
     "output_type": "stream",
     "text": [
      "{0: deque([1], maxlen=2), 3: deque([2], maxlen=2), 6: deque([3], maxlen=2)}\n"
     ]
    }
   ],
   "source": [
    "import ipytest\n",
    "ipytest.autoconfig()\n",
    "from collections import defaultdict, deque\n",
    "\n",
    "class Memory(object):\n",
    "    def __init__(self, initial):\n",
    "        self.spoken = {}\n",
    "        for i,v in enumerate(initial):\n",
    "            self.add(i+1,v)\n",
    "    def __repr__(self):\n",
    "        return repr(self.spoken)\n",
    "    def add(self, i, v):\n",
    "        if not v in self.spoken:\n",
    "            self.spoken[v] = deque([i], 2)\n",
    "        else:\n",
    "            self.spoken[v].append(i)\n",
    "    def age(self,v):\n",
    "        if v not in self.spoken:\n",
    "            return 0\n",
    "        elif len(self.spoken[v]) == 1:\n",
    "            return 0\n",
    "        else:\n",
    "            return self.spoken[v][1] - self.spoken[v][0]\n",
    "            \n",
    "test_mem = Memory([0, 3, 6])\n",
    "print(test_mem)\n",
    "assert test_mem.age(6) == 0\n",
    "test_mem.add(4,0)\n",
    "assert test_mem.age(0) == 3\n",
    "test_mem.add(5,3)\n",
    "assert test_mem.age(3) == 3\n",
    "test_mem.add(6,3)\n",
    "assert test_mem.age(3) == 1\n",
    "test_mem.add(7,1)\n",
    "assert test_mem.age(1) == 0\n",
    "test_mem.add(8,0)"
   ]
  },
  {
   "cell_type": "markdown",
   "metadata": {},
   "source": [
    "That class seems to keep track, so let's write a function that takes an initial set of numbers, and a number of iterations, and then returns the last number spoken"
   ]
  },
  {
   "cell_type": "code",
   "execution_count": 19,
   "metadata": {},
   "outputs": [],
   "source": [
    "def play_game(initial, rounds):\n",
    "    mem = Memory(initial)\n",
    "    last = initial[-1]\n",
    "    for x in range(len(initial), rounds):\n",
    "        last = mem.age(last)\n",
    "        mem.add(x+1,last)\n",
    "    return last\n",
    "\n",
    "assert play_game([0,3,6], 4) == 0\n",
    "assert play_game([0,3,6], 5) == 3\n",
    "assert play_game([0,3,6], 6) == 3\n",
    "assert play_game([0,3,6], 7) == 1\n",
    "assert play_game([0,3,6], 8) == 0\n",
    "\n",
    "# Other examples\n",
    "assert play_game([0,3,6], 10) == 0\n",
    "assert play_game([0,3,6], 2020) == 436\n",
    "\n",
    "assert play_game([1,3,2], 2020) == 1\n",
    "assert play_game([2,1,3], 2020) == 10\n",
    "assert play_game([1,2,3], 2020) == 27\n",
    "assert play_game([2,3,1], 2020) == 78\n",
    "assert play_game([3,2,1], 2020) == 438\n",
    "assert play_game([3,1,2], 2020) == 1836"
   ]
  },
  {
   "cell_type": "code",
   "execution_count": 20,
   "metadata": {},
   "outputs": [
    {
     "name": "stdout",
     "output_type": "stream",
     "text": [
      "234\n"
     ]
    }
   ],
   "source": [
    "print(play_game([0,13,1,16,6,17], 2020))"
   ]
  },
  {
   "cell_type": "markdown",
   "metadata": {},
   "source": [
    "## Part 2 Big numbers\n",
    "\n",
    "Well this is a surprise, I think that the code should just work, we just need to iterate more times... lets try it"
   ]
  },
  {
   "cell_type": "code",
   "execution_count": 23,
   "metadata": {},
   "outputs": [],
   "source": [
    "assert play_game([1,3,2], 30000000) == 2578\n"
   ]
  },
  {
   "cell_type": "markdown",
   "metadata": {},
   "source": [
    "Slow, very slow, but works... lets try the real number"
   ]
  },
  {
   "cell_type": "code",
   "execution_count": 22,
   "metadata": {},
   "outputs": [
    {
     "name": "stdout",
     "output_type": "stream",
     "text": [
      "8984\n"
     ]
    }
   ],
   "source": [
    "print(play_game([0,13,1,16,6,17], 30000000))"
   ]
  }
 ],
 "metadata": {
  "kernelspec": {
   "display_name": "Python 3",
   "language": "python",
   "name": "python3"
  },
  "language_info": {
   "codemirror_mode": {
    "name": "ipython",
    "version": 3
   },
   "file_extension": ".py",
   "mimetype": "text/x-python",
   "name": "python",
   "nbconvert_exporter": "python",
   "pygments_lexer": "ipython3",
   "version": "3.8.5"
  }
 },
 "nbformat": 4,
 "nbformat_minor": 4
}
