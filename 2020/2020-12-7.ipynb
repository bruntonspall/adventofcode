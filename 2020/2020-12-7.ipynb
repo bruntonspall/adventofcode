{
 "cells": [
  {
   "cell_type": "markdown",
   "metadata": {},
   "source": [
    "## Day 7 Finding bags in bags\n",
    "\n",
    "Oh my, what a challange.  I can see 2 immediate challanges.  Firstly, parsing out the bags is going to tricky.  It looks a lot like parsing english, which is very hard.  Luckily there is some structure to the words, which makes it a little easier to extract them out.  We can probably hardcode something based on the number of spaces.\n",
    "\n",
    "Secondly is the data structures required to store the information.\n",
    "\n",
    "The first thought is to build some kind of tree or lookup structure, so turning this into a dictionary or something.  Given that in part 1, we don't need the quantities (that'll come up in part 2), we can probably do something in parsing that results in something like this\n",
    "`{\n",
    "\"light red\": [\"bright white\", \"muted yellow\"],\n",
    "\"dark orange\": [\"bright white\", \"muted yellow\"],\n",
    "\"dark red\": [\"light red\", \"dark orange\"]\n",
    "}`\n",
    "\n",
    "Given that this uses just strings, we don't need to understand the strucutre or parse in a certain order.\n",
    "However, that structure doesn't necessarily make it that simple to answer our question.\n",
    "We'd have to write a search algorithm that can find all of the instances of say \"muted yellow\", add their parents to a search list, and then keep popping the first parent from the search list and repeat.\n",
    "\n",
    "Let's give that a go, first, let's parse"
   ]
  },
  {
   "cell_type": "code",
   "execution_count": 1,
   "metadata": {},
   "outputs": [],
   "source": [
    "import ipytest\n",
    "ipytest.autoconfig()\n",
    "import re\n",
    "\n",
    "lineregex = re.compile(\"\\d+ (\\w+ \\w+) bags?\")\n",
    "\n",
    "def parse_lines_to_tree(lines):\n",
    "    result = {}\n",
    "    for line in lines:\n",
    "        key = \" \".join(line.split()[:2])\n",
    "        result[key] = [l.group(1) for l in lineregex.finditer(line)]\n",
    "    return result\n",
    "        \n",
    "\n",
    "testlines = [\n",
    "    \"light red bags contain 1 bright white bag, 2 muted yellow bags, 4 light puce bags.\",\n",
    "\"dark orange bags contain 3 bright white bags, 4 muted yellow bags.\"\n",
    "]\n",
    "\n",
    "assert parse_lines_to_tree(testlines) == {\n",
    "    \"light red\": [\"bright white\", \"muted yellow\", \"light puce\"],\n",
    "    \"dark orange\": [\"bright white\", \"muted yellow\"],\n",
    "}"
   ]
  },
  {
   "cell_type": "markdown",
   "metadata": {},
   "source": [
    "Ok, let's try that on the example dataset"
   ]
  },
  {
   "cell_type": "code",
   "execution_count": 2,
   "metadata": {},
   "outputs": [],
   "source": [
    "import util\n",
    "\n",
    "testlines = \"\"\"light red bags contain 1 bright white bag, 2 muted yellow bags.\n",
    "dark orange bags contain 3 bright white bags, 4 muted yellow bags.\n",
    "bright white bags contain 1 shiny gold bag.\n",
    "muted yellow bags contain 2 shiny gold bags, 9 faded blue bags.\n",
    "shiny gold bags contain 1 dark olive bag, 2 vibrant plum bags.\n",
    "dark olive bags contain 3 faded blue bags, 4 dotted black bags.\n",
    "vibrant plum bags contain 5 faded blue bags, 6 dotted black bags.\n",
    "faded blue bags contain no other bags.\n",
    "dotted black bags contain no other bags.\"\"\"\n",
    "\n",
    "test_tree = parse_lines_to_tree([l.strip() for l in testlines.split('\\n')])\n",
    "\n",
    "assert test_tree == {\n",
    "    \"light red\": [\"bright white\", \"muted yellow\"],\n",
    "    \"dark orange\": [\"bright white\", \"muted yellow\"],\n",
    "    \"bright white\": [\"shiny gold\"],\n",
    "    \"muted yellow\": [\"shiny gold\", \"faded blue\"],\n",
    "    \"shiny gold\": [\"dark olive\", \"vibrant plum\"],\n",
    "    \"dark olive\": [\"faded blue\", \"dotted black\"],\n",
    "    \"vibrant plum\": [\"faded blue\", \"dotted black\"],\n",
    "    \"faded blue\": [],\n",
    "    \"dotted black\": []\n",
    "}"
   ]
  },
  {
   "cell_type": "markdown",
   "metadata": {},
   "source": [
    "Now we've got the parsing done, we can work on an algorithm to find the parents.\n",
    "We have a start node, which we put in the open set, and then we repeat the following:\n",
    "\n",
    "We take a node from the open set.\n",
    "We put the node in the closed set\n",
    "We look it up in all of the values in that dictionary.\n",
    "As we find results, we get the key and add it to the open set.\n",
    "We keep doing this until the open set is empty\n",
    "When that's done, the closed set should include every node that we've looked up, including the first set, so we need to remove the starting item to answer the question properly.\n",
    "\n",
    "Why use a set?  There's repeats in here, so dotted black appears in both vibrant plum and in dark olive.  We don't want to add dotted black twice, or anything weird, so sets will handle any repeats."
   ]
  },
  {
   "cell_type": "code",
   "execution_count": 3,
   "metadata": {},
   "outputs": [],
   "source": [
    "def find_parents(start, tree):\n",
    "    closedset = set()\n",
    "    openset = set([start])\n",
    "    while openset:\n",
    "        item = openset.pop()\n",
    "        closedset.add(item)\n",
    "        for k,v in tree.items():\n",
    "            if item in v:\n",
    "                openset.add(k)\n",
    "    \n",
    "    closedset.remove(start)\n",
    "    return closedset\n",
    "\n",
    "assert find_parents(\"light red\", test_tree) == set()\n",
    "assert find_parents(\"muted yellow\", test_tree) == set([\"light red\", \"dark orange\"])\n",
    "assert find_parents(\"shiny gold\", test_tree) == set([\"light red\", \"dark orange\", \"bright white\", \"muted yellow\"])"
   ]
  },
  {
   "cell_type": "markdown",
   "metadata": {},
   "source": [
    "That seems to work, so we can try this with real data"
   ]
  },
  {
   "cell_type": "code",
   "execution_count": 4,
   "metadata": {},
   "outputs": [
    {
     "name": "stdout",
     "output_type": "stream",
     "text": [
      "{'muted chartreuse', 'striped lime', 'clear blue', 'posh lime', 'wavy olive', 'posh orange', 'faded brown', 'dotted magenta', 'plaid red', 'drab cyan', 'dotted turquoise', 'pale purple', 'vibrant brown', 'wavy blue', 'mirrored violet', 'plaid white', 'wavy purple', 'dim olive', 'clear cyan', 'bright aqua', 'dull orange', 'dotted red', 'light plum', 'shiny silver', 'drab lime', 'dull lime', 'dull indigo', 'striped bronze', 'dim gold', 'dark lime', 'faded gold', 'wavy plum', 'striped blue', 'mirrored gold', 'muted lime', 'dark turquoise', 'shiny red', 'bright orange', 'muted blue', 'striped olive', 'dim orange', 'drab fuchsia', 'dark plum', 'faded bronze', 'dark green', 'dim red', 'mirrored turquoise', 'faded olive', 'dim tomato', 'plaid crimson', 'mirrored plum', 'bright black', 'shiny yellow', 'dark violet', 'faded purple', 'shiny fuchsia', 'dull green', 'dotted orange', 'light violet', 'faded chartreuse', 'wavy tomato', 'dim turquoise', 'shiny maroon', 'striped orange', 'muted fuchsia', 'clear brown', 'light fuchsia', 'dark cyan', 'drab red', 'wavy cyan', 'dim crimson', 'dotted black', 'vibrant tomato', 'pale blue', 'bright red', 'faded red', 'plaid lavender', 'vibrant teal', 'muted black', 'posh blue', 'dull coral', 'pale plum', 'wavy tan', 'drab gold', 'wavy red', 'drab orange', 'faded lime', 'bright green', 'plaid teal', 'muted maroon', 'muted coral', 'dotted fuchsia', 'dotted green', 'dull salmon', 'dim coral', 'drab tan', 'dull violet', 'dark fuchsia', 'dim silver', 'faded beige', 'drab chartreuse', 'dotted gray', 'shiny chartreuse', 'muted green', 'dim maroon', 'wavy violet', 'dull brown', 'light red', 'wavy black', 'wavy white', 'drab indigo', 'faded orange', 'dim bronze', 'striped indigo', 'clear orange', 'shiny blue', 'drab gray', 'drab blue', 'mirrored tan', 'striped fuchsia', 'bright indigo', 'pale maroon', 'vibrant fuchsia', 'dotted beige', 'pale magenta', 'pale tomato', 'dark coral', 'clear green', 'dull chartreuse', 'dark tan', 'dull teal', 'light blue', 'faded crimson', 'light green', 'dim purple', 'posh teal', 'posh violet', 'wavy gold', 'light gray', 'dull tan', 'light indigo', 'muted crimson', 'vibrant maroon', 'faded magenta', 'vibrant bronze', 'drab white', 'wavy chartreuse', 'vibrant yellow', 'plaid salmon', 'muted indigo', 'muted bronze', 'light brown', 'bright lime', 'clear crimson', 'mirrored teal', 'drab turquoise', 'muted turquoise', 'pale salmon', 'pale white', 'shiny brown', 'dull magenta', 'mirrored orange', 'clear tan', 'dull aqua', 'posh magenta', 'bright blue', 'pale fuchsia', 'dim blue', 'shiny olive', 'dim magenta', 'plaid violet', 'bright tan', 'light crimson', 'dark crimson', 'faded fuchsia', 'wavy salmon', 'posh bronze', 'bright beige', 'dotted tomato', 'dotted bronze', 'clear lavender', 'dull gold', 'mirrored green', 'clear teal', 'dotted maroon', 'clear chartreuse', 'plaid orange', 'light teal', 'dotted cyan', 'striped teal', 'plaid tomato', 'dotted white', 'striped brown', 'shiny magenta', 'mirrored cyan', 'shiny violet', 'shiny purple', 'dark black', 'vibrant magenta', 'light salmon', 'pale aqua', 'posh fuchsia', 'plaid blue', 'plaid black', 'dark tomato', 'posh gold', 'dark teal', 'drab silver', 'clear gray', 'shiny tan', 'posh crimson', 'wavy aqua', 'faded green', 'clear plum', 'drab purple', 'plaid bronze', 'dim lavender', 'dark maroon', 'shiny white', 'clear aqua', 'faded black', 'dim violet', 'vibrant black', 'muted purple', 'bright chartreuse', 'faded maroon', 'pale turquoise', 'striped tomato', 'dim yellow', 'dull black', 'clear turquoise', 'mirrored beige', 'vibrant chartreuse', 'mirrored white', 'plaid plum', 'posh aqua', 'drab maroon', 'wavy lime', 'pale violet', 'pale chartreuse', 'drab plum', 'dark gray', 'clear olive', 'striped gray', 'plaid brown', 'plaid coral', 'pale lavender', 'wavy silver', 'shiny black', 'vibrant plum', 'mirrored brown', 'dull red', 'vibrant coral', 'wavy gray'}\n",
      "254\n"
     ]
    }
   ],
   "source": [
    "real_data = [line.strip() for line in open('day7.txt').readlines()]\n",
    "real_tree = parse_lines_to_tree(real_data)\n",
    "parents = find_parents(\"shiny gold\", real_tree)\n",
    "print(parents)\n",
    "print(len(parents))"
   ]
  },
  {
   "cell_type": "markdown",
   "metadata": {},
   "source": [
    "## Part 2 Counting the bags\n",
    "\n",
    "I knew that we'd need the numbers, and now we do, in a way that should have been obvious.\n",
    "This time we are going the other way through the tree, instead of up, we need to go down the tree.\n",
    "\n",
    "If we switch around our dictionary to contain other dictionaries, with the list of numbers, then we can see how we'd do the math:\n",
    "\n",
    "`\"light red\": {\"bright white\":1, \"muted yellow\":2},\n",
    "\"dark orange\": {\"bright white\":3, \"muted yellow\":4},\n",
    "\"dark red\": {\"light red\":5, \"dark orange\":6},\n",
    "\"bright white\": {},\n",
    "\"muted yellow\": {}\n",
    "}`\n",
    "\n",
    "We can see that this is a proper tree structure, and we should be able to assume that leaf nodes have value 1.\n",
    "\n",
    "Therefore light red would have 1*1 + 2*1.\n",
    "\n",
    "More defined, we start at a node, and we want to multiply the subtotal of each bag by the number of those bags.  We cab \n",
    "\n",
    "We could probably preprocess the whole tree, but all we need to do for this is make it work once (the beauty of Advent of Code).  So we probably want to make a function that can recurse down the list.  Python can manage a reasonable recusion depth, so lets give that a try.\n",
    "\n",
    "Note that we'll almost certainly want to build a lookup cache as well, to avoid conducting the same work repeatedly."
   ]
  },
  {
   "cell_type": "code",
   "execution_count": 5,
   "metadata": {},
   "outputs": [],
   "source": [
    "lineregex = re.compile(\"(\\d+) (\\w+ \\w+) bags?\")\n",
    "\n",
    "def parse_lines_to_tree(lines):\n",
    "    result = {}\n",
    "    for line in lines:\n",
    "        key = \" \".join(line.split()[:2])\n",
    "        result[key] = {l.group(2):int(l.group(1)) for l in lineregex.finditer(line)}\n",
    "    return result\n",
    "        \n",
    "\n",
    "testlines2 = [\n",
    "    \"light red bags contain 1 bright white bag, 2 muted yellow bags, 4 light puce bags.\",\n",
    "\"dark orange bags contain 3 bright white bags, 4 muted yellow bags.\"\n",
    "]\n",
    "\n",
    "assert parse_lines_to_tree(testlines2) == {\n",
    "    \"light red\": {\"bright white\":1, \"muted yellow\":2, \"light puce\":4},\n",
    "    \"dark orange\": {\"bright white\":3, \"muted yellow\":4},\n",
    "}"
   ]
  },
  {
   "cell_type": "code",
   "execution_count": 6,
   "metadata": {},
   "outputs": [],
   "source": [
    "def bagsize(bag, treelist):\n",
    "    child_cache = {}\n",
    "    def intbagsize(bag, treelist):\n",
    "        size = 0\n",
    "        if bag in child_cache:\n",
    "            return child_cache[bag]\n",
    "        for k,v in treelist[bag].items():\n",
    "            size += (intbagsize(k, treelist) + 1)*v\n",
    "        child_cache[bag] = size\n",
    "        return size\n",
    "    \n",
    "    return intbagsize(bag, treelist)\n",
    "\n",
    "test_tree = parse_lines_to_tree([l.strip() for l in testlines.split('\\n')]) # Reparse the test set\n",
    "assert bagsize(\"faded blue\", test_tree) == 0\n",
    "assert bagsize(\"dark olive\", test_tree) == 7\n",
    "assert bagsize(\"shiny gold\", test_tree) == 32"
   ]
  },
  {
   "cell_type": "markdown",
   "metadata": {},
   "source": [
    "There's a slightly more hostile test data set in the text, so let's try that."
   ]
  },
  {
   "cell_type": "code",
   "execution_count": 7,
   "metadata": {},
   "outputs": [],
   "source": [
    "test_tree2 = parse_lines_to_tree([\"shiny gold bags contain 2 dark red bags.\",\n",
    "\"dark red bags contain 2 dark orange bags.\",\n",
    "                                \"dark orange bags contain 2 dark yellow bags.\",\n",
    "\"dark yellow bags contain 2 dark green bags.\",\n",
    "\"dark green bags contain 2 dark blue bags.\",\n",
    "\"dark blue bags contain 2 dark violet bags.\",\n",
    "\"dark violet bags contain no other bags.\"])\n",
    "\n",
    "assert bagsize(\"shiny gold\", test_tree2) == 126"
   ]
  },
  {
   "cell_type": "markdown",
   "metadata": {},
   "source": [
    "That seems to work, let's try the real data"
   ]
  },
  {
   "cell_type": "code",
   "execution_count": 8,
   "metadata": {},
   "outputs": [
    {
     "name": "stdout",
     "output_type": "stream",
     "text": [
      "6006\n"
     ]
    }
   ],
   "source": [
    "real_data = [line.strip() for line in open('day7.txt').readlines()]\n",
    "real_tree = parse_lines_to_tree(real_data)\n",
    "print(bagsize(\"shiny gold\", real_tree))"
   ]
  }
 ],
 "metadata": {
  "kernelspec": {
   "display_name": "Python 3",
   "language": "python",
   "name": "python3"
  },
  "language_info": {
   "codemirror_mode": {
    "name": "ipython",
    "version": 3
   },
   "file_extension": ".py",
   "mimetype": "text/x-python",
   "name": "python",
   "nbconvert_exporter": "python",
   "pygments_lexer": "ipython3",
   "version": "3.9.0"
  }
 },
 "nbformat": 4,
 "nbformat_minor": 4
}
