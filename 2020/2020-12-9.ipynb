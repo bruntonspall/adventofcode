{
 "cells": [
  {
   "cell_type": "markdown",
   "metadata": {},
   "source": [
    "# Day 9 - Pairwise sums\n",
    "\n",
    "Another one where the description of the problem makes the problem sound far more complex than it actually is.\n",
    "In this case, we can ignore most of the text, and simply focus on the problem.\n",
    "Given a sliding window of `n` numbers (25 for real, 5 in test), determine if n+1 is equal to any pairwise sum of the current sliding window.\n",
    "\n",
    "We can do this the hard way, which is to recalculate the sums each time, or we can try to optimise it a bit, by storing all possible sums for each new number in the window, and invalidating the last and adding the new one as we slide.  \n",
    "\n",
    "That second sounds easier and faster, and might be useful in part 2.\n",
    "\n",
    "So the plan is:\n",
    "build our sliding window...\n",
    "set our index to n+1\n",
    "look through the sliding windows set of sums, and see if our n+1 is in the sliding window\n",
    "add the number at n+1 to the sliding window, removing the oldest number\n",
    "Keep going until we find a missing number.\n",
    "\n",
    "Building the sliding window will be the same, except we won't do the check... which feels like duplicated code..."
   ]
  },
  {
   "cell_type": "code",
   "execution_count": 1,
   "metadata": {},
   "outputs": [],
   "source": [
    "import ipytest\n",
    "ipytest.autoconfig()"
   ]
  },
  {
   "cell_type": "code",
   "execution_count": 2,
   "metadata": {},
   "outputs": [],
   "source": [
    "import itertools\n",
    "\n",
    "def calculate_sums(window):\n",
    "    # This could be more efficient!\n",
    "    for d in window[\"data\"]:\n",
    "        d[1].clear()\n",
    "        for y in window[\"data\"]:\n",
    "            if d[0] != y[0]:\n",
    "                d[1].add(d[0]+y[0])\n",
    "        \n",
    "        \n",
    "def window_add(window, value):\n",
    "    if len(window[\"data\"]) == window[\"size\"]:\n",
    "        window[\"data\"].pop(0)\n",
    "    window[\"data\"].append((value, set()))\n",
    "    calculate_sums(window)"
   ]
  },
  {
   "cell_type": "code",
   "execution_count": 3,
   "metadata": {},
   "outputs": [],
   "source": [
    "window = {\n",
    "    \"size\": 3,\n",
    "    \"data\": []\n",
    "}\n",
    "\n",
    "window_add(window,3)\n",
    "assert window[\"data\"] == [(3, set())]\n",
    "window_add(window,5)\n",
    "assert window[\"data\"] == [(3, {8}), (5, {8})]\n",
    "window_add(window,7)\n",
    "assert window[\"data\"] == [(3,{8, 10}), (5, {8, 12}), (7, {10, 12})]\n",
    "window_add(window,9)\n",
    "assert window[\"data\"] == [(5, {12, 14}), (7, {12, 16}), (9, {14, 16})]\n",
    "window_add(window,11)\n",
    "assert window[\"data\"] == [(7, {16,18}), (9, {16,20}), (11, {18,20})]"
   ]
  },
  {
   "cell_type": "markdown",
   "metadata": {},
   "source": [
    "Right, so our window contains mutating data (and not in the efficient manner I wanted, it recalculates each time at the moment)\n",
    "\n",
    "Let's write something that inserts the prefix values, and then progresses through the list looking for a value that makes no sense"
   ]
  },
  {
   "cell_type": "markdown",
   "metadata": {},
   "source": [
    "But first, we need to test whether a number is valid..."
   ]
  },
  {
   "cell_type": "code",
   "execution_count": 4,
   "metadata": {},
   "outputs": [],
   "source": [
    "def window_contains(window, i):\n",
    "    for item in window[\"data\"]:\n",
    "        if i in item[1]:\n",
    "            return True\n",
    "    return False\n",
    "\n",
    "assert window_contains(window, 16)\n",
    "assert window_contains(window, 20)\n",
    "assert not window_contains(window, 10)"
   ]
  },
  {
   "cell_type": "code",
   "execution_count": 5,
   "metadata": {},
   "outputs": [],
   "source": [
    "testdata = [35,\n",
    "20,\n",
    "15,\n",
    "25,\n",
    "47,\n",
    "40,\n",
    "62,\n",
    "55,\n",
    "65,\n",
    "95,\n",
    "102,\n",
    "117,\n",
    "150,\n",
    "182,\n",
    "127,\n",
    "219,\n",
    "299,\n",
    "277,\n",
    "309,\n",
    "576]\n",
    "\n",
    "def find_invalid(data, prefix):\n",
    "    window = {\n",
    "        \"size\": prefix,\n",
    "        \"data\": []\n",
    "    }\n",
    "    for i in range(prefix):\n",
    "        window_add(window, data[i])\n",
    "    i+=1\n",
    "    while True:\n",
    "        if window_contains(window, data[i]):\n",
    "            window_add(window, data[i])\n",
    "        else:\n",
    "            return data[i]\n",
    "        i += 1\n",
    "        \n",
    "assert find_invalid(testdata, 5) == 127"
   ]
  },
  {
   "cell_type": "markdown",
   "metadata": {},
   "source": [
    "Ok, that seems to work, so lets try on real data"
   ]
  },
  {
   "cell_type": "code",
   "execution_count": 6,
   "metadata": {},
   "outputs": [
    {
     "name": "stdout",
     "output_type": "stream",
     "text": [
      "1930745883\n"
     ]
    }
   ],
   "source": [
    "data = [int(l.strip()) for l in open(\"day9.txt\")]\n",
    "print(find_invalid(data, 25))"
   ]
  },
  {
   "cell_type": "markdown",
   "metadata": {},
   "source": [
    "## Part 2 - Find arbitrary length sequences\n",
    "\n",
    "So now we can find a number, we need to find all abitrary length sequences of all the numbers up to that point.\n",
    "This feels like a nice recursive challenge again, becuase we know that sequence `[i..j],k` should be the answer for `[i..j]`+k.  We can use the `i,j` as the key for the sum...\n",
    "\n",
    "After the last time, I saw that functools has a new cached decorator that should create a nice cachable memoisation easily, so we'll try that too.\n",
    "\n",
    "Let's try that"
   ]
  },
  {
   "cell_type": "code",
   "execution_count": 7,
   "metadata": {},
   "outputs": [],
   "source": [
    "import functools\n",
    "\n",
    "sequence = []\n",
    "@functools.cache\n",
    "def sum_sequence(i, j):\n",
    "    return sum(sequence[i:j])\n",
    "\n",
    "sequence = [1, 2, 3, 4, 5, 6]\n",
    "assert sum_sequence(0,2) == 3\n",
    "assert sum_sequence(0,6) == 21\n",
    "assert sum_sequence(2,4) == 7\n"
   ]
  },
  {
   "cell_type": "markdown",
   "metadata": {},
   "source": [
    "Annoyingly functools.cache needs to memoize all of the arguments, but the list itself is not hashable, so we need to externalise the list.  Let's try that as a class or something where we can embed the memoised list"
   ]
  },
  {
   "cell_type": "code",
   "execution_count": 8,
   "metadata": {},
   "outputs": [],
   "source": [
    "class SummableSequence:\n",
    "    def __init__(self, sequence):\n",
    "        self.sequence = sequence\n",
    "        \n",
    "    @functools.cache\n",
    "    def sum(self,i,j):\n",
    "        return sum(self.sequence[i:j])\n",
    "    \n",
    "sequence = SummableSequence([1, 2, 3, 4, 5, 6])\n",
    "assert sequence.sum(0,2) == 3\n",
    "assert sequence.sum(0,6) == 21\n",
    "assert sequence.sum(2,4) == 7"
   ]
  },
  {
   "cell_type": "markdown",
   "metadata": {},
   "source": [
    "Great, so the next step is to find all of the subseqeuences of the sequence and sum them.\n",
    "We can stop at the point where we find a sum that matches the expected total (although it should probably finish properly given a sequence that doesn;t meet the expected total)"
   ]
  },
  {
   "cell_type": "code",
   "execution_count": 9,
   "metadata": {},
   "outputs": [],
   "source": [
    "def find_subsequence(seq, target):\n",
    "    sumseq = SummableSequence(seq)\n",
    "    for length in range(2, len(seq)): #Lengths from 2 up to the total length of the sequence\n",
    "        for index in range(len(seq)-length): #From the first node, up to the last possible start node for that length\n",
    "            total = sumseq.sum(index,index+length)\n",
    "            if total == target:\n",
    "                return seq[index:index+length]\n",
    "    return False\n",
    "            \n",
    "assert find_subsequence(testdata, 0) == False\n",
    "assert find_subsequence(testdata, 127) == [15,25,47,40]\n",
    "result = find_subsequence(testdata, 127)\n",
    "\n",
    "assert min(result)+max(result) == 62"
   ]
  },
  {
   "cell_type": "markdown",
   "metadata": {},
   "source": [
    "Grand, lets do it on the real data"
   ]
  },
  {
   "cell_type": "code",
   "execution_count": 10,
   "metadata": {},
   "outputs": [
    {
     "name": "stdout",
     "output_type": "stream",
     "text": [
      "[83841781, 74402958, 116169518, 77082886, 102781248, 86284499, 92846520, 105616776, 120072345, 97901172, 144897174, 111088938, 115778483, 118861719, 121721947, 166922616, 194475303]\n",
      "268878261\n"
     ]
    }
   ],
   "source": [
    "result = find_subsequence(data, 1930745883)\n",
    "print(result)\n",
    "print(min(result)+max(result))"
   ]
  }
 ],
 "metadata": {
  "kernelspec": {
   "display_name": "Python 3",
   "language": "python",
   "name": "python3"
  },
  "language_info": {
   "codemirror_mode": {
    "name": "ipython",
    "version": 3
   },
   "file_extension": ".py",
   "mimetype": "text/x-python",
   "name": "python",
   "nbconvert_exporter": "python",
   "pygments_lexer": "ipython3",
   "version": "3.9.0"
  }
 },
 "nbformat": 4,
 "nbformat_minor": 4
}
