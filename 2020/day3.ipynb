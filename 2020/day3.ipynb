{
 "cells": [
  {
   "cell_type": "markdown",
   "metadata": {},
   "source": [
    "### Advent of Code Day 3\n",
    "\n",
    "We have to take a string that represents a tobogan run, trees and then plot a route down the tobogan run.\n",
    "\n",
    "Key things to note today:\n",
    "1. The run extends horizontally infinitely\n",
    "2. Each tree will repeat as the run repeats\n",
    "3. We need to parse a kind of map to work out where the trees are\n",
    "\n",
    "So, if we start with the assumption that we'll parse the array, and caclulate something that looks like:\n",
    "`{\n",
    "0: [2, 3]\n",
    "1: [5, 9]\n",
    "}` as the tree data, indicating that in row 0, there are trees at x=2, and x=3, then in row 1 there are trees at x=5, and x=9.\n",
    "\n",
    "Given the additional data of how often to repeat (the stride of the run), and you'll have a tree at x=2, x=2+repeat, x=2+repeat+repeat etc...\n",
    "It's helpful to realise that you don't need to count repeats, that's the same as `x % stride`, or x mod stride.  Remember, mobular arithmatic is like a clock, each time you reach the mod limit, you reset to 0, so `2 % 10 == 12 % 10 == 22 % 10 == 282 % 10`\n",
    "\n",
    "Now we don't need to calculate all of these, we just need a function that can say \"For point `x,y`, is there a tree\"...\n",
    "\n",
    "So lets start there"
   ]
  },
  {
   "cell_type": "code",
   "execution_count": 1,
   "metadata": {},
   "outputs": [],
   "source": [
    "import pytest\n",
    "import ipytest\n",
    "ipytest.autoconfig()"
   ]
  },
  {
   "cell_type": "markdown",
   "metadata": {},
   "source": [
    "Let's define our lookup function assuming test data like that"
   ]
  },
  {
   "cell_type": "code",
   "execution_count": 2,
   "metadata": {},
   "outputs": [],
   "source": [
    "def is_tree_at(trees, x,y):\n",
    "    return (x % trees[\"stride\"]) in trees[\"rows\"][y]"
   ]
  },
  {
   "cell_type": "code",
   "execution_count": 3,
   "metadata": {},
   "outputs": [],
   "source": [
    "testdata = {\n",
    "    \"rows\":{\n",
    "        0: [2, 3],\n",
    "        1: [5, 9]\n",
    "    },\n",
    "    \"stride\": 10,\n",
    "    \"height\":3\n",
    "}\n",
    "\n",
    "assert is_tree_at(testdata, 2,0)\n",
    "assert is_tree_at(testdata, 3,0)\n",
    "assert not is_tree_at(testdata, 4,0)\n",
    "assert is_tree_at(testdata, 12,0)\n",
    "assert is_tree_at(testdata, 13,0)\n",
    "assert is_tree_at(testdata, 22,0)\n",
    "\n",
    "assert is_tree_at(testdata, 5,1)\n",
    "assert not is_tree_at(testdata, 7,1)\n",
    "assert is_tree_at(testdata, 15,1)"
   ]
  },
  {
   "cell_type": "markdown",
   "metadata": {},
   "source": [
    "Great, so we can turn our data structure into a simple function, now we need to draw a path.  Note that we start at top left, which I've called 0,0 (X=0, Y=0).\n",
    "\n",
    "there's two ways we can do this, if we know that we are going to follow a simple rational slope of right 3, down 1 (which is what my puzzle input says), then we can define that as `dx=3, dy=1`, and simply iterate doing `x=x+dx, y=y+dy` until `dy > height`.  That's probbaly the easiest.  I have a strong suspicion that part 2 will either require us to count trees inbetween, or will need us to test a range of slopes, so lets make a function that counts the trees for a given slope in dx,dy and see what happens"
   ]
  },
  {
   "cell_type": "code",
   "execution_count": 4,
   "metadata": {},
   "outputs": [],
   "source": [
    "def count_trees(startx,starty, dx,dy, trees):\n",
    "    x,y = startx,starty\n",
    "    count = 0\n",
    "    while y < trees[\"height\"]:\n",
    "        if is_tree_at(trees, x,y):\n",
    "            count += 1\n",
    "        x,y = x+dx,y+dy\n",
    "    return count"
   ]
  },
  {
   "cell_type": "code",
   "execution_count": 5,
   "metadata": {},
   "outputs": [],
   "source": [
    "testdata = {\n",
    "    \"rows\":{\n",
    "        0: [2, 3],\n",
    "        1: [3, 9],\n",
    "        2: [6, 9]\n",
    "    },\n",
    "    \"stride\": 10,\n",
    "    \"height\": 3\n",
    "}\n",
    "\n",
    "assert count_trees(0,0,3,1,testdata) == 2"
   ]
  },
  {
   "cell_type": "markdown",
   "metadata": {},
   "source": [
    "OK, so that worked first time, so lets try with the test data that the Advent of Code gave me.\n",
    "This requires parsing the lines.  Given how I want the data, this isn't too hard, ignore the `.`'s and just count the `#`'s\n",
    "\n",
    "Handy tip, defaultdict is a dictionary that if you ask for a key that doesn't exist, will create a new item instead of erroring.  So if your dictionary is empty calling d[\"foo\"] will return you the new default object.  If those are empty lists, you can just call append on it, and modify the list in place, and the code is the same regardless of whether you've seen an element before.  No more \"if has X, new list, else append to list\" gubbins"
   ]
  },
  {
   "cell_type": "code",
   "execution_count": 6,
   "metadata": {},
   "outputs": [],
   "source": [
    "from collections import defaultdict\n",
    "\n",
    "def parse_trees(lines):\n",
    "    d = {}\n",
    "    d[\"rows\"] = defaultdict(list)\n",
    "    d[\"stride\"] = len(lines[0])\n",
    "    d[\"height\"] = len(lines)\n",
    "    for y,line in enumerate(lines):\n",
    "        for x,c in enumerate(line):\n",
    "            if c == \"#\":\n",
    "                d[\"rows\"][y].append(x)\n",
    "    return d\n",
    "\n",
    "testdata = [\n",
    "    \"..##.......\",\n",
    "\"#...#...#..\",\n",
    "\".#....#..#.\",\n",
    "\"..#.#...#.#\",\n",
    "\".#...##..#.\",\n",
    "\"..#.##.....\",\n",
    "\".#.#.#....#\",\n",
    "\".#........#\",\n",
    "\"#.##...#...\",\n",
    "\"#...##....#\",\n",
    "\".#..#...#.#\"\n",
    "]\n",
    "\n",
    "treedata = parse_trees(testdata)\n",
    "assert 7 == count_trees(0,0,3,1,treedata)"
   ]
  },
  {
   "cell_type": "code",
   "execution_count": 7,
   "metadata": {},
   "outputs": [
    {
     "data": {
      "text/plain": [
       "60"
      ]
     },
     "execution_count": 7,
     "metadata": {},
     "output_type": "execute_result"
    }
   ],
   "source": [
    "part1_treedata = parse_trees(open(\"day3.txt\").readlines())\n",
    "count_trees(0,0,3,1,part1_treedata)"
   ]
  },
  {
   "cell_type": "markdown",
   "metadata": {},
   "source": [
    "That's not working for some reason, so lets do it the other way.  I'm expecting this to fail for part 2, but lets go try it from the original text instead.  Lots more hard coding, but we'll compare it"
   ]
  },
  {
   "cell_type": "code",
   "execution_count": 8,
   "metadata": {},
   "outputs": [
    {
     "name": "stdout",
     "output_type": "stream",
     "text": [
      "7\n",
      "184\n"
     ]
    }
   ],
   "source": [
    "def is_a_tree(line, x):\n",
    "    return line[x%len(line)]=='#'\n",
    "\n",
    "def count(lines):\n",
    "    x = 0\n",
    "    count = 0\n",
    "    for row in lines:\n",
    "        if is_a_tree(row, x):\n",
    "            count += 1\n",
    "        x += 3\n",
    "    return count\n",
    "\n",
    "print(count(testdata))\n",
    "lines = [line.strip() for line in open(\"day3.txt\").readlines()]\n",
    "print(count(lines))"
   ]
  },
  {
   "cell_type": "markdown",
   "metadata": {},
   "source": [
    "So, turns out the issue is because I am an idiot.  open().readlines() returns a set of lines, including the trailing newline.\n",
    "\n",
    "Let's try again with the correct input"
   ]
  },
  {
   "cell_type": "code",
   "execution_count": 9,
   "metadata": {},
   "outputs": [
    {
     "name": "stdout",
     "output_type": "stream",
     "text": [
      "184\n"
     ]
    }
   ],
   "source": [
    "part1_treedata = parse_trees([line.strip() for line in open(\"day3.txt\").readlines()])\n",
    "print(count_trees(0,0,3,1,part1_treedata))"
   ]
  },
  {
   "cell_type": "markdown",
   "metadata": {},
   "source": [
    "Outstanding, my code works, I just had the wrong input!\n",
    "\n",
    "### Part 2\n",
    "\n",
    "Now, as expected, we have to check multiple slopes and then multiply them together.  Easy with the code we wrote from the beginning, so we can solve that really quickly!"
   ]
  },
  {
   "cell_type": "code",
   "execution_count": 10,
   "metadata": {},
   "outputs": [
    {
     "name": "stdout",
     "output_type": "stream",
     "text": [
      "62 184 80 74 36\n",
      "2431272960\n"
     ]
    }
   ],
   "source": [
    "r1d1 = count_trees(0,0,1,1,part1_treedata)\n",
    "r3d1 = count_trees(0,0,3,1,part1_treedata)\n",
    "r5d1 = count_trees(0,0,5,1,part1_treedata)\n",
    "r7d1 = count_trees(0,0,7,1,part1_treedata)\n",
    "r1d2 = count_trees(0,0,1,2,part1_treedata)\n",
    "\n",
    "print(r1d1,r3d1,r5d1,r7d1,r1d2)\n",
    "print(r1d1*r3d1*r5d1*r7d1*r1d2)"
   ]
  }
 ],
 "metadata": {
  "kernelspec": {
   "display_name": "Python 3",
   "language": "python",
   "name": "python3"
  },
  "language_info": {
   "codemirror_mode": {
    "name": "ipython",
    "version": 3
   },
   "file_extension": ".py",
   "mimetype": "text/x-python",
   "name": "python",
   "nbconvert_exporter": "python",
   "pygments_lexer": "ipython3",
   "version": "3.8.5"
  }
 },
 "nbformat": 4,
 "nbformat_minor": 4
}
