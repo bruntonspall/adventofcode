{
 "cells": [
  {
   "cell_type": "markdown",
   "metadata": {},
   "source": [
    "# Day16 - Checking tickets\n",
    "\n",
    "Part 1 needs us to find tickets that are invalid.  That means building up a set of rules that have a minimum and a maximum.\n",
    "Because we don't care about our ticket, values, or anything else, all we need is a big list of rules, and collect any value that passes all of the rules."
   ]
  },
  {
   "cell_type": "code",
   "execution_count": 15,
   "metadata": {},
   "outputs": [],
   "source": [
    "import ipytest\n",
    "ipytest.autoconfig()\n",
    "import re\n",
    "\n",
    "rule = re.compile(r\"[\\w ]+: (\\d+)-(\\d+) or (\\d+)-(\\d+)\")\n",
    "\n",
    "def parse_rules(lines):\n",
    "    rules = []\n",
    "    for line in lines:\n",
    "        g = [int(x) for x in rule.match(line).groups()]\n",
    "        rules.append(g)\n",
    "    return rules\n",
    "\n",
    "test_rules_input = \"\"\"class: 1-3 or 5-7\n",
    "row: 6-11 or 33-44\n",
    "seat: 13-40 or 45-50\"\"\"\n",
    "test_rules = parse_rules(test_rules_input.split(\"\\n\"))\n",
    "assert test_rules == [[1,3,5,7],[6,11,33,44],[13,40,45,50]]"
   ]
  },
  {
   "cell_type": "code",
   "execution_count": 16,
   "metadata": {},
   "outputs": [],
   "source": [
    "def test_number(rules, value):\n",
    "    meets = False\n",
    "    for mn1,mx1,mn2,mx2 in rules:\n",
    "        if mn1 <= value <= mx1 or mn2 <= value <= mx2:\n",
    "            meets = True\n",
    "    return meets\n",
    "\n",
    "assert test_number(test_rules, 7)\n",
    "assert test_number(test_rules, 47)\n",
    "assert test_number(test_rules, 40)\n",
    "assert not test_number(test_rules, 4)\n",
    "assert not test_number(test_rules, 55)\n",
    "\n",
    "def parse_ticket(line):\n",
    "    return [int(x) for x in line.split(',')]"
   ]
  },
  {
   "cell_type": "code",
   "execution_count": 17,
   "metadata": {},
   "outputs": [],
   "source": [
    "def parse_input(lines):\n",
    "    rules = []\n",
    "    myticket = None\n",
    "    tickets = []\n",
    "    tlines = []\n",
    "    mode = 0\n",
    "    for line in lines:\n",
    "        if line != \"\":\n",
    "            tlines.append(line)\n",
    "        else:\n",
    "            if mode == 0:\n",
    "                rules = parse_rules(tlines)\n",
    "                tlines = []\n",
    "                mode = 1\n",
    "            elif mode == 1:\n",
    "                myticket = parse_ticket(tlines[1])\n",
    "                tlines = []\n",
    "                mode = 2\n",
    "    tickets = [parse_ticket(t) for t in tlines[1:]]\n",
    "    return rules, myticket, tickets\n",
    "\n",
    "test_input = \"\"\"class: 1-3 or 5-7\n",
    "row: 6-11 or 33-44\n",
    "seat: 13-40 or 45-50\n",
    "\n",
    "your ticket:\n",
    "7,1,14\n",
    "\n",
    "nearby tickets:\n",
    "7,3,47\n",
    "40,4,50\n",
    "55,2,20\n",
    "38,6,12\"\"\"\n",
    "\n",
    "t1,t2,t3 = parse_input(test_input.split(\"\\n\"))\n",
    "assert t1 == test_rules\n",
    "assert t2 == [7,1,14]\n",
    "assert t3 == [[7,3,47],[40,4,50],[55,2,20],[38,6,12]]\n",
    "\n",
    "import itertools\n",
    "# Check which ticket numbers are invalid...\n",
    "assert 71 == sum(itertools.filterfalse(lambda x: test_number(test_rules, x), [i for l in t3 for i in l]))"
   ]
  },
  {
   "cell_type": "code",
   "execution_count": 18,
   "metadata": {},
   "outputs": [
    {
     "name": "stdout",
     "output_type": "stream",
     "text": [
      "20058\n"
     ]
    }
   ],
   "source": [
    "data = [line.strip() for line in open(\"day16.txt\").readlines()]\n",
    "rules, _, tickets = parse_input(data)\n",
    "print(sum(itertools.filterfalse(lambda x: test_number(rules, x), [i for l in tickets for i in l])))"
   ]
  },
  {
   "cell_type": "markdown",
   "metadata": {},
   "source": [
    "## Part 2 exploring the fields\n",
    "\n",
    "We need to get the list of fields, and work out which ones are valid for a given column of values.\n",
    "i.e. given the tickets '[7,3,47],[40,4,50],[55,2,20],[38,6,12]', we need to work out which field is valid for '[7,40,55,38],[3,4,2,6],[47,50,20,12]'.\n",
    "\n",
    "This is a bit like solving a soduku, so we need to work out, for each field, possible columns.\n",
    "Based on the example:\n",
    "'class: 0-1 or 4-19\n",
    "row: 0-5 or 8-19\n",
    "seat: 0-13 or 16-19\n",
    "\n",
    "your ticket:\n",
    "11,12,13\n",
    "\n",
    "nearby tickets:\n",
    "3,9,18\n",
    "15,1,5\n",
    "5,14,9'\n",
    "\n",
    "We can check '[3,15,5]' against the rules for class, for row and for seat.\n",
    "3 cannot be in class, and 15 cannot be in seat, so we'll look up class in the fields list, and remove field class and seat from the list, leaving just row.\n",
    "'[9,1,14]' could be in class or row, but cannot be in seat, so `fields[1]=[\"class\",\"row\"]`.\n",
    "`[18,5,9]` can be in any field, so `fields[2]=[\"class\", \"row\", \"seat\"]`\n",
    "\n",
    "Now we know that `fields[1]=[2]`, so we must assign Row to column 2, and we can therefore remove \"row\" from every other field.\n",
    "We then note that 1 is now just class, so we can remove class form every other field, leaving fields 2 set to Seat."
   ]
  },
  {
   "cell_type": "code",
   "execution_count": 52,
   "metadata": {},
   "outputs": [],
   "source": [
    "class Rule:\n",
    "    def __init__(self, mn, mx):\n",
    "        self.mn = mn\n",
    "        self.mx = mx\n",
    "    def valid(self, value):\n",
    "        return self.mn <= value <= self.mx\n",
    "    def __repr__(self):\n",
    "        return f\"Rule({self.mn}-{self.mx})\"\n",
    "    def __eq__(self, other):\n",
    "        if isinstance(other, self.__class__):\n",
    "            return self.__dict__ == other.__dict__\n",
    "        else:\n",
    "            return False\n",
    "    \n",
    "rule = re.compile(r\"([\\w ]+): (\\d+)-(\\d+) or (\\d+)-(\\d+)\")\n",
    "\n",
    "def parse_rules(lines):\n",
    "    rules = {}\n",
    "    for line in lines:\n",
    "        g = rule.match(line).groups()\n",
    "        rules[g[0]] = [Rule(int(g[1]), int(g[2])), Rule(int(g[3]), int(g[4]))]\n",
    "    return rules\n",
    "\n",
    "test_rules_input = \"\"\"class: 1-3 or 5-7\n",
    "row: 6-11 or 33-44\n",
    "seat: 13-40 or 45-50\"\"\"\n",
    "test_rules = parse_rules(test_rules_input.split(\"\\n\"))\n",
    "assert test_rules == {\"class\":[Rule(1,3),Rule(5,7)],\"row\":[Rule(6,11),Rule(33,44)],\"seat\":[Rule(13,40),Rule(45,50)]}\n",
    "\n",
    "def tickets_to_columns(tickets):\n",
    "    return list(zip(*tickets))\n",
    "\n",
    "assert tickets_to_columns([[1,2,3], [4,5,6]]) == [(1,4), (2,5), (3,6)]\n",
    "assert tickets_to_columns([[1,2,3], [4,5,6], [7,8,9]]) == [(1,4,7), (2,5,8), (3,6,9)]\n",
    "\n",
    "def isvalidnumber(rules, number):\n",
    "    meets = False\n",
    "    for name,rules in rules.items():\n",
    "        for rule in rules:\n",
    "            if rule.valid(number):\n",
    "                return True\n",
    "    return False\n",
    "\n",
    "assert isvalidnumber(test_rules, 1)\n",
    "assert isvalidnumber(test_rules, 3)\n",
    "assert not isvalidnumber(test_rules, 4)\n",
    "assert isvalidnumber(test_rules, 5)\n",
    "assert isvalidnumber(test_rules, 7)\n",
    "assert isvalidnumber(test_rules, 33)\n",
    "assert isvalidnumber(test_rules, 44)\n",
    "assert not isvalidnumber(test_rules, 55)\n",
    "            \n",
    "def isvalidticket(rules, ticket):\n",
    "    for i in ticket:\n",
    "        if not isvalidnumber(rules, i):\n",
    "            return False\n",
    "    return True\n",
    "\n",
    "assert isvalidticket(test_rules, [7,3,47])\n",
    "assert not isvalidticket(test_rules, [40,4,50])\n",
    "assert not isvalidticket(test_rules, [55,2,20])\n",
    "assert not isvalidticket(test_rules, [38,6,12])\n",
    "\n",
    "def filter_tickets(rules, tickets):\n",
    "    return [ticket for ticket in tickets if isvalidticket(rules, ticket)]\n",
    "\n",
    "assert [[7,3,47]] == filter_tickets(test_rules, t3)"
   ]
  },
  {
   "cell_type": "markdown",
   "metadata": {},
   "source": [
    "Wow, that's a lot of code just to parse and filter the tickets!\n",
    "\n",
    "Let's see if we can turn tickets into columns, and then assign to fields based on the rules"
   ]
  },
  {
   "cell_type": "code",
   "execution_count": 54,
   "metadata": {},
   "outputs": [
    {
     "ename": "AssertionError",
     "evalue": "assert [[3, 15, 5], [9, 1, 14], [18, 5, 9]] == [(7,), (3,), (47,)]\n +  where [(7,), (3,), (47,)] = <function columns at 0x109603430>([[7, 3, 47]])\n +    where [[7, 3, 47]] = <function filter_tickets at 0x1095d3ca0>({'class': [Rule(1-3), Rule(5-7)], 'row': [Rule(6-11), Rule(33-44)], 'seat': [Rule(13-40), Rule(45-50)]}, [[7, 3, 47], [40, 4, 50], [55, 2, 20], [38, 6, 12]])",
     "output_type": "error",
     "traceback": [
      "\u001b[0;31m---------------------------------------------------------------------------\u001b[0m",
      "\u001b[0;31mAssertionError\u001b[0m                            Traceback (most recent call last)",
      "\u001b[0;32m<ipython-input-54-8178e956e46f>\u001b[0m in \u001b[0;36m<module>\u001b[0;34m\u001b[0m\n\u001b[1;32m     15\u001b[0m \u001b[0;34m\u001b[0m\u001b[0m\n\u001b[1;32m     16\u001b[0m \u001b[0mtest_rules\u001b[0m\u001b[0;34m,\u001b[0m\u001b[0mmyticket\u001b[0m\u001b[0;34m,\u001b[0m\u001b[0mtest_tickets\u001b[0m \u001b[0;34m=\u001b[0m \u001b[0mparse_input\u001b[0m\u001b[0;34m(\u001b[0m\u001b[0mtest_input\u001b[0m\u001b[0;34m.\u001b[0m\u001b[0msplit\u001b[0m\u001b[0;34m(\u001b[0m\u001b[0;34m\"\\n\"\u001b[0m\u001b[0;34m)\u001b[0m\u001b[0;34m)\u001b[0m\u001b[0;34m\u001b[0m\u001b[0;34m\u001b[0m\u001b[0m\n\u001b[0;32m---> 17\u001b[0;31m \u001b[0;32massert\u001b[0m \u001b[0;34m[\u001b[0m\u001b[0;34m[\u001b[0m\u001b[0;36m3\u001b[0m\u001b[0;34m,\u001b[0m\u001b[0;36m15\u001b[0m\u001b[0;34m,\u001b[0m\u001b[0;36m5\u001b[0m\u001b[0;34m]\u001b[0m\u001b[0;34m,\u001b[0m \u001b[0;34m[\u001b[0m\u001b[0;36m9\u001b[0m\u001b[0;34m,\u001b[0m\u001b[0;36m1\u001b[0m\u001b[0;34m,\u001b[0m\u001b[0;36m14\u001b[0m\u001b[0;34m]\u001b[0m\u001b[0;34m,\u001b[0m \u001b[0;34m[\u001b[0m\u001b[0;36m18\u001b[0m\u001b[0;34m,\u001b[0m\u001b[0;36m5\u001b[0m\u001b[0;34m,\u001b[0m\u001b[0;36m9\u001b[0m\u001b[0;34m]\u001b[0m\u001b[0;34m]\u001b[0m \u001b[0;34m==\u001b[0m \u001b[0mcolumns\u001b[0m\u001b[0;34m(\u001b[0m\u001b[0mfilter_tickets\u001b[0m\u001b[0;34m(\u001b[0m\u001b[0mtest_rules\u001b[0m\u001b[0;34m,\u001b[0m \u001b[0mtest_tickets\u001b[0m\u001b[0;34m)\u001b[0m\u001b[0;34m)\u001b[0m\u001b[0;34m\u001b[0m\u001b[0;34m\u001b[0m\u001b[0m\n\u001b[0m",
      "\u001b[0;31mAssertionError\u001b[0m: assert [[3, 15, 5], [9, 1, 14], [18, 5, 9]] == [(7,), (3,), (47,)]\n +  where [(7,), (3,), (47,)] = <function columns at 0x109603430>([[7, 3, 47]])\n +    where [[7, 3, 47]] = <function filter_tickets at 0x1095d3ca0>({'class': [Rule(1-3), Rule(5-7)], 'row': [Rule(6-11), Rule(33-44)], 'seat': [Rule(13-40), Rule(45-50)]}, [[7, 3, 47], [40, 4, 50], [55, 2, 20], [38, 6, 12]])"
     ]
    }
   ],
   "source": [
    "def columns(tickets):\n",
    "    return list(zip(*tickets))\n",
    "\n",
    "test_data = \"\"\"class: 0-1 or 4-19\n",
    "row: 0-5 or 8-19\n",
    "seat: 0-13 or 16-19\n",
    "\n",
    "your ticket:\n",
    "11,12,13\n",
    "\n",
    "nearby tickets:\n",
    "3,9,18\n",
    "15,1,5\n",
    "5,14,9\"\"\"\n",
    "\n",
    "test_rules,myticket,test_tickets = parse_input(test_input.split(\"\\n\"))\n",
    "assert [[3,15,5], [9,1,14], [18,5,9]] == columns(filter_tickets(test_rules, test_tickets))"
   ]
  }
 ],
 "metadata": {
  "kernelspec": {
   "display_name": "Python 3",
   "language": "python",
   "name": "python3"
  },
  "language_info": {
   "codemirror_mode": {
    "name": "ipython",
    "version": 3
   },
   "file_extension": ".py",
   "mimetype": "text/x-python",
   "name": "python",
   "nbconvert_exporter": "python",
   "pygments_lexer": "ipython3",
   "version": "3.9.0"
  }
 },
 "nbformat": 4,
 "nbformat_minor": 4
}
