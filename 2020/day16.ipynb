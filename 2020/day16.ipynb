{
 "cells": [
  {
   "cell_type": "markdown",
   "metadata": {},
   "source": [
    "# Day16 - Checking tickets\n",
    "\n",
    "Part 1 needs us to find tickets that are invalid.  That means building up a set of rules that have a minimum and a maximum.\n",
    "Because we don't care about our ticket, values, or anything else, all we need is a big list of rules, and collect any value that passes all of the rules."
   ]
  },
  {
   "cell_type": "code",
   "execution_count": 15,
   "metadata": {},
   "outputs": [],
   "source": [
    "import ipytest\n",
    "ipytest.autoconfig()\n",
    "import re\n",
    "\n",
    "rule = re.compile(r\"[\\w ]+: (\\d+)-(\\d+) or (\\d+)-(\\d+)\")\n",
    "\n",
    "def parse_rules(lines):\n",
    "    rules = []\n",
    "    for line in lines:\n",
    "        g = [int(x) for x in rule.match(line).groups()]\n",
    "        rules.append(g)\n",
    "    return rules\n",
    "\n",
    "test_rules_input = \"\"\"class: 1-3 or 5-7\n",
    "row: 6-11 or 33-44\n",
    "seat: 13-40 or 45-50\"\"\"\n",
    "test_rules = parse_rules(test_rules_input.split(\"\\n\"))\n",
    "assert test_rules == [[1,3,5,7],[6,11,33,44],[13,40,45,50]]"
   ]
  },
  {
   "cell_type": "code",
   "execution_count": 16,
   "metadata": {},
   "outputs": [],
   "source": [
    "def test_number(rules, value):\n",
    "    meets = False\n",
    "    for mn1,mx1,mn2,mx2 in rules:\n",
    "        if mn1 <= value <= mx1 or mn2 <= value <= mx2:\n",
    "            meets = True\n",
    "    return meets\n",
    "\n",
    "assert test_number(test_rules, 7)\n",
    "assert test_number(test_rules, 47)\n",
    "assert test_number(test_rules, 40)\n",
    "assert not test_number(test_rules, 4)\n",
    "assert not test_number(test_rules, 55)\n",
    "\n",
    "def parse_ticket(line):\n",
    "    return [int(x) for x in line.split(',')]"
   ]
  },
  {
   "cell_type": "code",
   "execution_count": 17,
   "metadata": {},
   "outputs": [],
   "source": [
    "def parse_input(lines):\n",
    "    rules = []\n",
    "    myticket = None\n",
    "    tickets = []\n",
    "    tlines = []\n",
    "    mode = 0\n",
    "    for line in lines:\n",
    "        if line != \"\":\n",
    "            tlines.append(line)\n",
    "        else:\n",
    "            if mode == 0:\n",
    "                rules = parse_rules(tlines)\n",
    "                tlines = []\n",
    "                mode = 1\n",
    "            elif mode == 1:\n",
    "                myticket = parse_ticket(tlines[1])\n",
    "                tlines = []\n",
    "                mode = 2\n",
    "    tickets = [parse_ticket(t) for t in tlines[1:]]\n",
    "    return rules, myticket, tickets\n",
    "\n",
    "test_input = \"\"\"class: 1-3 or 5-7\n",
    "row: 6-11 or 33-44\n",
    "seat: 13-40 or 45-50\n",
    "\n",
    "your ticket:\n",
    "7,1,14\n",
    "\n",
    "nearby tickets:\n",
    "7,3,47\n",
    "40,4,50\n",
    "55,2,20\n",
    "38,6,12\"\"\"\n",
    "\n",
    "t1,t2,t3 = parse_input(test_input.split(\"\\n\"))\n",
    "assert t1 == test_rules\n",
    "assert t2 == [7,1,14]\n",
    "assert t3 == [[7,3,47],[40,4,50],[55,2,20],[38,6,12]]\n",
    "\n",
    "import itertools\n",
    "# Check which ticket numbers are invalid...\n",
    "assert 71 == sum(itertools.filterfalse(lambda x: test_number(test_rules, x), [i for l in t3 for i in l]))"
   ]
  },
  {
   "cell_type": "code",
   "execution_count": 18,
   "metadata": {},
   "outputs": [
    {
     "name": "stdout",
     "output_type": "stream",
     "text": [
      "20058\n"
     ]
    }
   ],
   "source": [
    "data = [line.strip() for line in open(\"day16.txt\").readlines()]\n",
    "rules, _, tickets = parse_input(data)\n",
    "print(sum(itertools.filterfalse(lambda x: test_number(rules, x), [i for l in tickets for i in l])))"
   ]
  },
  {
   "cell_type": "code",
   "execution_count": null,
   "metadata": {},
   "outputs": [],
   "source": []
  }
 ],
 "metadata": {
  "kernelspec": {
   "display_name": "Python 3",
   "language": "python",
   "name": "python3"
  },
  "language_info": {
   "codemirror_mode": {
    "name": "ipython",
    "version": 3
   },
   "file_extension": ".py",
   "mimetype": "text/x-python",
   "name": "python",
   "nbconvert_exporter": "python",
   "pygments_lexer": "ipython3",
   "version": "3.9.0"
  }
 },
 "nbformat": 4,
 "nbformat_minor": 4
}
