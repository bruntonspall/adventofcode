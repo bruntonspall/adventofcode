{
 "cells": [
  {
   "cell_type": "markdown",
   "metadata": {},
   "source": [
    "# Day 14 Bitmasks\n",
    "Bit masks are fun things, especially in this case.\n",
    "\n",
    "We have a fairly simple concept here, create a sparse memory array, and then go through the instructions, writing to memory every instruction, and passing the memory blob through a bitmask modification function.\n",
    "\n",
    "Python has some nice tools for bit arrays, so this shouldn't be too hard, but the modification needs to take the number in decimal, turn it into a bit array, and then go through the bit array replacing bits as needed.\n",
    "A ternary array would be more useful than a binary array here, but that would be horribly complex to implement, so instead we'll turn the bit array into a sequence of bits to toggle, and apply that to the binary form of the value to write."
   ]
  },
  {
   "cell_type": "code",
   "execution_count": 14,
   "metadata": {},
   "outputs": [],
   "source": [
    "import ipytest\n",
    "ipytest.autoconfig()\n",
    "import bitstring\n",
    "\n",
    "def create_converter(bitarray):\n",
    "    values = {}\n",
    "    for i,b in enumerate(bitarray[::-1]):\n",
    "        if b != \"X\":\n",
    "            values[i] = int(b)\n",
    "    return values\n",
    "\n",
    "def convert(value, converter):\n",
    "    bits = bitstring.BitArray(uint=value,length=36)\n",
    "    for i,b in converter.items():\n",
    "        bits[-i-1] = b\n",
    "    return bits.uint\n",
    "\n",
    "test_converter = create_converter(\"XXXXXXXXXXXXXXXXXXXXXXXXXXXXX1XXXX0X\")\n",
    "assert 73 == convert(11, test_converter)\n",
    "assert 101 == convert(101, test_converter)\n",
    "assert 64 == convert(0, test_converter)"
   ]
  },
  {
   "cell_type": "markdown",
   "metadata": {},
   "source": [
    "Grand, that seems to work sensibly.\n",
    "\n",
    "Now looking at the data, it looks like we'll have to parse the instructions, and that there will be lots of mask= calls to change the mask, so I think we'll just step through line by line and then set the memory, and validate that it did the right thing"
   ]
  },
  {
   "cell_type": "code",
   "execution_count": 19,
   "metadata": {},
   "outputs": [],
   "source": [
    "import re\n",
    "mem_re = re.compile(\"mem\\[(\\d+)\\] = (\\d+)\")\n",
    "def process_lines(lines):\n",
    "    mem = {}\n",
    "    converter = None\n",
    "    for line in lines:\n",
    "        if line.startswith(\"mask = \"):\n",
    "            converter = create_converter(line[7:])\n",
    "        if line.startswith(\"mem\"):\n",
    "            nums = [int(x) for x in mem_re.match(line).groups()]\n",
    "            mem[nums[0]]=convert(nums[1], converter)\n",
    "    return mem\n",
    "        \n",
    "test_lines=\"\"\"mask = XXXXXXXXXXXXXXXXXXXXXXXXXXXXX1XXXX0X\n",
    "mem[8] = 11\n",
    "mem[7] = 101\n",
    "mem[8] = 0\"\"\".split(\"\\n\")\n",
    "test_mem = process_lines(test_lines)\n",
    "assert test_mem[8] == 64\n",
    "assert test_mem[7] == 101\n",
    "assert sum(test_mem.values()) == 165"
   ]
  },
  {
   "cell_type": "markdown",
   "metadata": {},
   "source": [
    "That works better than I thought....\n",
    "Let's see if it works on real data"
   ]
  },
  {
   "cell_type": "code",
   "execution_count": 20,
   "metadata": {},
   "outputs": [
    {
     "name": "stdout",
     "output_type": "stream",
     "text": [
      "17028179706934\n"
     ]
    }
   ],
   "source": [
    "mem = process_lines([line.strip() for line in open(\"day14.txt\")])\n",
    "print(sum(mem.values()))"
   ]
  },
  {
   "cell_type": "markdown",
   "metadata": {},
   "source": [
    "## Part 2 - Floating addresses\n",
    "\n",
    "Ok, so the part 2 is probably a complete rewrite.  This time, when we apply a mask to a number, we want to generate a set of every possible number that it could be, and then write the value to all of those numbers.\n",
    "\n",
    "That's going to make our dictionary much less sparse... I wonder if we could invert our storage, and store for each integer value, which memory locations are set to that value.  Given that we have only around 500 lines of input, that's at most 500 values, but we're talking a lot more memory addresses this way.\n",
    "\n",
    "It sounds stupid, because in this case, we don't actually care about which memory location is which, it doesn't matter that's it's a highly inefficient structure for real like, it'll be far more efficient for the set we want.  Besides the convert code is the same, as we still need a set of numbers for a bitfield."
   ]
  },
  {
   "cell_type": "code",
   "execution_count": 65,
   "metadata": {},
   "outputs": [],
   "source": [
    "def convert(value, converter):\n",
    "    nums = set()\n",
    "    l = converter.count(\"X\")\n",
    "    for i in range(2**l):\n",
    "        replacebits = bitstring.BitArray(uint=i,length=l)\n",
    "        it = replacebits.cut(1)\n",
    "        target = bitstring.BitArray(uint=value,length=36)\n",
    "#         print(target.bin,replacebits.bin)\n",
    "        for j,b in enumerate(converter):\n",
    "            if b == \"0\":\n",
    "                pass # unchanged\n",
    "            if b == \"1\":\n",
    "                target[j] = 1\n",
    "            if b == \"X\":\n",
    "                target[j] = it.__next__()\n",
    "        nums.add(target.uint)    \n",
    "    return nums\n",
    "\n",
    "assert {26,27,58,59} == convert(40, \"000000000000000000000000000000X1001X\")\n",
    "assert {16,17,18,19,24,25,26,27} == convert(26, \"00000000000000000000000000000000X0XX\")"
   ]
  },
  {
   "cell_type": "markdown",
   "metadata": {},
   "source": [
    "Urgh, that's horrid, but it seems to work...\n",
    "\n",
    "Let's work on the switched memory and the test data"
   ]
  },
  {
   "cell_type": "code",
   "execution_count": 71,
   "metadata": {},
   "outputs": [
    {
     "ename": "AssertionError",
     "evalue": "assert 408 == 208\n +  where 408 = <function sum_mem at 0x7ff8d00b08b0>(defaultdict(<class 'set'>, {100: {59, 26, 27, 58}, 1: {16, 17, 18, 19, 24, 25, 26, 27}}))",
     "output_type": "error",
     "traceback": [
      "\u001b[0;31m---------------------------------------------------------------------------\u001b[0m",
      "\u001b[0;31mAssertionError\u001b[0m                            Traceback (most recent call last)",
      "\u001b[0;32m<ipython-input-71-ed2e81130a93>\u001b[0m in \u001b[0;36m<module>\u001b[0;34m\u001b[0m\n\u001b[1;32m     25\u001b[0m         \u001b[0msum\u001b[0m \u001b[0;34m+=\u001b[0m \u001b[0mkey\u001b[0m \u001b[0;34m*\u001b[0m \u001b[0mlen\u001b[0m\u001b[0;34m(\u001b[0m\u001b[0mmem\u001b[0m\u001b[0;34m[\u001b[0m\u001b[0mkey\u001b[0m\u001b[0;34m]\u001b[0m\u001b[0;34m)\u001b[0m\u001b[0;34m\u001b[0m\u001b[0;34m\u001b[0m\u001b[0m\n\u001b[1;32m     26\u001b[0m     \u001b[0;32mreturn\u001b[0m \u001b[0msum\u001b[0m\u001b[0;34m\u001b[0m\u001b[0;34m\u001b[0m\u001b[0m\n\u001b[0;32m---> 27\u001b[0;31m \u001b[0;32massert\u001b[0m \u001b[0msum_mem\u001b[0m\u001b[0;34m(\u001b[0m\u001b[0mtest_mem\u001b[0m\u001b[0;34m)\u001b[0m \u001b[0;34m==\u001b[0m \u001b[0;36m208\u001b[0m\u001b[0;34m\u001b[0m\u001b[0;34m\u001b[0m\u001b[0m\n\u001b[0m",
      "\u001b[0;31mAssertionError\u001b[0m: assert 408 == 208\n +  where 408 = <function sum_mem at 0x7ff8d00b08b0>(defaultdict(<class 'set'>, {100: {59, 26, 27, 58}, 1: {16, 17, 18, 19, 24, 25, 26, 27}}))"
     ]
    }
   ],
   "source": [
    "import collections\n",
    "\n",
    "def process_lines(lines):\n",
    "    mem = collections.defaultdict(set)\n",
    "    mask=None\n",
    "    for line in lines:\n",
    "        if line.startswith(\"mask = \"):\n",
    "            mask = line[7:]\n",
    "        if line.startswith(\"mem\"):\n",
    "            nums = [int(x) for x in mem_re.match(line).groups()]\n",
    "            mem[nums[1]] = convert(nums[0], mask)\n",
    "    return mem\n",
    "        \n",
    "test_lines=\"\"\"mask = 000000000000000000000000000000X1001X\n",
    "mem[42] = 100\n",
    "mask = 00000000000000000000000000000000X0XX\n",
    "mem[26] = 1\"\"\".split(\"\\n\")\n",
    "test_mem = process_lines(test_lines)\n",
    "assert test_mem[100] == {26,27,58,59}\n",
    "assert test_mem[1] ==  {16,17,18,19,24,25,26,27}\n",
    "\n",
    "def sum_mem(mem):\n",
    "    sum = 0\n",
    "    for key in mem:\n",
    "        sum += key * len(mem[key])\n",
    "    return sum\n",
    "# assert sum_mem(test_mem) == 208"
   ]
  },
  {
   "cell_type": "markdown",
   "metadata": {},
   "source": [
    "Oooh, that doesn't work.  The idea is sound, but the sums gets awful complex, because lines can overwrite other memory locations (of course it can, why didn't I think of it).\n",
    "Back to the original idea"
   ]
  },
  {
   "cell_type": "code",
   "execution_count": 73,
   "metadata": {},
   "outputs": [],
   "source": [
    "import collections\n",
    "\n",
    "def process_lines(lines):\n",
    "    mem = {}\n",
    "    mask=None\n",
    "    for line in lines:\n",
    "        if line.startswith(\"mask = \"):\n",
    "            mask = line[7:]\n",
    "        if line.startswith(\"mem\"):\n",
    "            nums = [int(x) for x in mem_re.match(line).groups()]\n",
    "            for addr in  convert(nums[0], mask):\n",
    "                mem[addr] = nums[1]\n",
    "    return mem\n",
    "        \n",
    "test_lines=\"\"\"mask = 000000000000000000000000000000X1001X\n",
    "mem[42] = 100\n",
    "mask = 00000000000000000000000000000000X0XX\n",
    "mem[26] = 1\"\"\".split(\"\\n\")\n",
    "test_mem = process_lines(test_lines)\n",
    "assert test_mem[58] == 100\n",
    "assert test_mem[59] == 100\n",
    "assert test_mem[16] == 1 \n",
    "assert test_mem[17] == 1 \n",
    "assert test_mem[18] == 1 \n",
    "assert test_mem[19] == 1 \n",
    "assert test_mem[26] == 1\n",
    "assert test_mem[27] == 1\n",
    "assert sum(test_mem.values()) == 208"
   ]
  },
  {
   "cell_type": "markdown",
   "metadata": {},
   "source": [
    "Let's do the real file"
   ]
  },
  {
   "cell_type": "code",
   "execution_count": 74,
   "metadata": {},
   "outputs": [
    {
     "name": "stdout",
     "output_type": "stream",
     "text": [
      "3683236147222\n"
     ]
    }
   ],
   "source": [
    "mem = process_lines([line.strip() for line in open(\"day14.txt\")])\n",
    "print(sum(mem.values()))"
   ]
  },
  {
   "cell_type": "markdown",
   "metadata": {},
   "source": [
    "Slow, very slow, but it gave me the correct answer!"
   ]
  }
 ],
 "metadata": {
  "kernelspec": {
   "display_name": "Python 3",
   "language": "python",
   "name": "python3"
  },
  "language_info": {
   "codemirror_mode": {
    "name": "ipython",
    "version": 3
   },
   "file_extension": ".py",
   "mimetype": "text/x-python",
   "name": "python",
   "nbconvert_exporter": "python",
   "pygments_lexer": "ipython3",
   "version": "3.8.5"
  }
 },
 "nbformat": 4,
 "nbformat_minor": 4
}
