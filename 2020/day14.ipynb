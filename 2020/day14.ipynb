{
 "cells": [
  {
   "cell_type": "markdown",
   "metadata": {},
   "source": [
    "# Day 14 Bitmasks\n",
    "Bit masks are fun things, especially in this case.\n",
    "\n",
    "We have a fairly simple concept here, create a sparse memory array, and then go through the instructions, writing to memory every instruction, and passing the memory blob through a bitmask modification function.\n",
    "\n",
    "Python has some nice tools for bit arrays, so this shouldn't be too hard, but the modification needs to take the number in decimal, turn it into a bit array, and then go through the bit array replacing bits as needed.\n",
    "A ternary array would be more useful than a binary array here, but that would be horribly complex to implement, so instead we'll turn the bit array into a sequence of bits to toggle, and apply that to the binary form of the value to write."
   ]
  },
  {
   "cell_type": "code",
   "execution_count": 14,
   "metadata": {},
   "outputs": [],
   "source": [
    "import ipytest\n",
    "ipytest.autoconfig()\n",
    "import bitstring\n",
    "\n",
    "def create_converter(bitarray):\n",
    "    values = {}\n",
    "    for i,b in enumerate(bitarray[::-1]):\n",
    "        if b != \"X\":\n",
    "            values[i] = int(b)\n",
    "    return values\n",
    "\n",
    "def convert(value, converter):\n",
    "    bits = bitstring.BitArray(uint=value,length=36)\n",
    "    for i,b in converter.items():\n",
    "        bits[-i-1] = b\n",
    "    return bits.uint\n",
    "\n",
    "test_converter = create_converter(\"XXXXXXXXXXXXXXXXXXXXXXXXXXXXX1XXXX0X\")\n",
    "assert 73 == convert(11, test_converter)\n",
    "assert 101 == convert(101, test_converter)\n",
    "assert 64 == convert(0, test_converter)"
   ]
  },
  {
   "cell_type": "markdown",
   "metadata": {},
   "source": [
    "Grand, that seems to work sensibly.\n",
    "\n",
    "Now looking at the data, it looks like we'll have to parse the instructions, and that there will be lots of mask= calls to change the mask, so I think we'll just step through line by line and then set the memory, and validate that it did the right thing"
   ]
  },
  {
   "cell_type": "code",
   "execution_count": 19,
   "metadata": {},
   "outputs": [],
   "source": [
    "import re\n",
    "mem_re = re.compile(\"mem\\[(\\d+)\\] = (\\d+)\")\n",
    "def process_lines(lines):\n",
    "    mem = {}\n",
    "    converter = None\n",
    "    for line in lines:\n",
    "        if line.startswith(\"mask = \"):\n",
    "            converter = create_converter(line[7:])\n",
    "        if line.startswith(\"mem\"):\n",
    "            nums = [int(x) for x in mem_re.match(line).groups()]\n",
    "            mem[nums[0]]=convert(nums[1], converter)\n",
    "    return mem\n",
    "        \n",
    "test_lines=\"\"\"mask = XXXXXXXXXXXXXXXXXXXXXXXXXXXXX1XXXX0X\n",
    "mem[8] = 11\n",
    "mem[7] = 101\n",
    "mem[8] = 0\"\"\".split(\"\\n\")\n",
    "test_mem = process_lines(test_lines)\n",
    "assert test_mem[8] == 64\n",
    "assert test_mem[7] == 101\n",
    "assert sum(test_mem.values()) == 165"
   ]
  },
  {
   "cell_type": "markdown",
   "metadata": {},
   "source": [
    "That works better than I thought....\n",
    "Let's see if it works on real data"
   ]
  },
  {
   "cell_type": "code",
   "execution_count": 20,
   "metadata": {},
   "outputs": [
    {
     "name": "stdout",
     "output_type": "stream",
     "text": [
      "17028179706934\n"
     ]
    }
   ],
   "source": [
    "mem = process_lines([line.strip() for line in open(\"day14.txt\")])\n",
    "print(sum(mem.values()))"
   ]
  }
 ],
 "metadata": {
  "kernelspec": {
   "display_name": "Python 3",
   "language": "python",
   "name": "python3"
  },
  "language_info": {
   "codemirror_mode": {
    "name": "ipython",
    "version": 3
   },
   "file_extension": ".py",
   "mimetype": "text/x-python",
   "name": "python",
   "nbconvert_exporter": "python",
   "pygments_lexer": "ipython3",
   "version": "3.8.5"
  }
 },
 "nbformat": 4,
 "nbformat_minor": 4
}
