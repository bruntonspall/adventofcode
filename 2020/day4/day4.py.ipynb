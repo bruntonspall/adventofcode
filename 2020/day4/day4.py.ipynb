{
 "cells": [
  {
   "cell_type": "markdown",
   "metadata": {},
   "source": [
    "## Day 4 - The Passport Scanner\n",
    "\n",
    "So we have to read a set of passport data and validate whether there are any missing fields.\n",
    "We can do this the hard way or the easy way.\n",
    "\n",
    "The hard way involves setting up a data structure, filling it in as we parse the fields, and then validating that all values have been filled in.\n",
    "\n",
    "The slightly easier way is to recognise in this case that the passport scanner doesn't care about the values, and is instead just interested in the key names.  We can simply hold a set or list of field titles, remove them as we see them and validate that the set is empty or contains cid.\n",
    "\n",
    "Undoubtably, the next step will require rewriting it if we do this, but lets give it a try"
   ]
  },
  {
   "cell_type": "code",
   "execution_count": 1,
   "metadata": {},
   "outputs": [],
   "source": [
    "import pytest\n",
    "import ipytest\n",
    "ipytest.autoconfig()"
   ]
  },
  {
   "cell_type": "code",
   "execution_count": 47,
   "metadata": {},
   "outputs": [],
   "source": [
    "def is_valid_passport(line):\n",
    "    expected = set([\"byr\", \"iyr\", \"eyr\", \"hgt\", \"hcl\", \"ecl\", \"pid\", \"cid\"])\n",
    "    seen = set([\"cid\"])\n",
    "    for kv in line.split():\n",
    "        token = kv.split(\":\")[0]\n",
    "        seen.add(token)\n",
    "    return seen==expected\n",
    "\n",
    "def count_passports(lines):\n",
    "    count = 0\n",
    "    for line in lines:\n",
    "        if is_valid_passport(line):\n",
    "            count += 1\n",
    "    return count"
   ]
  },
  {
   "cell_type": "code",
   "execution_count": 48,
   "metadata": {},
   "outputs": [],
   "source": [
    "assert is_valid_passport(\"ecl:gry pid:860033327 eyr:2020 hcl:#fffffd byr:1937 iyr:2017 cid:147 hgt:183cm\")\n",
    "assert not is_valid_passport(\"iyr:2013 ecl:amb cid:350 eyr:2023 pid:028048884 hcl:#cfa07d byr:1929\")\n",
    "assert is_valid_passport(\"hcl:#ae17e1 iyr:2013 eyr:2024 ecl:brn pid:760753108 byr:1931 hgt:179cm\")\n",
    "assert not is_valid_passport(\"hcl:#cfa07d eyr:2025 pid:166559648 iyr:2011 ecl:brn hgt:59in\")\n",
    "\n",
    "test1 = [\"ecl:gry pid:860033327 eyr:2020 hcl:#fffffd byr:1937 iyr:2017 cid:147 hgt:183cm\",\n",
    "\" iyr:2013 ecl:amb cid:350 eyr:2023 pid:028048884 hcl:#cfa07d byr:1929 \",\n",
    "\" hcl:#ae17e1 iyr:2013 cid:350 eyr:2024 ecl:brn pid:760753108 byr:1931 hgt:179cm\",\n",
    "\"hcl:#cfa07d eyr:2025 pid:166559648 iyr:2011 ecl:brn hgt:59in \"]\n",
    "\n",
    "assert count_passports(test1) == 2"
   ]
  },
  {
   "cell_type": "markdown",
   "metadata": {},
   "source": [
    "Ok, so that seems to work, so lets try on real data.\n",
    "\n",
    "First we need to get one passport per line.  I can't think of a better way of munging the text than looking for the delimeters (empty strings) and then splitting on those"
   ]
  },
  {
   "cell_type": "code",
   "execution_count": 51,
   "metadata": {},
   "outputs": [
    {
     "name": "stdout",
     "output_type": "stream",
     "text": [
      "291\n",
      "235\n"
     ]
    }
   ],
   "source": [
    "lines = [line.strip() for line in open(\"day4.txt\").readlines()]\n",
    "lines2 = [\"$$\" if (line == \"\") else line for line in lines]\n",
    "lines3 = \" \".join(lines2).split('$$')\n",
    "print(len(lines3))\n",
    "print(count_passports(lines3))"
   ]
  },
  {
   "cell_type": "markdown",
   "metadata": {},
   "source": [
    "## Part 2 Ignoring values bites us\n",
    "\n",
    "Sigh, we now need to validate the passport data as well.  That's where our first option would have worked better.\n",
    "\n",
    "But never fear, we've got at least a single process for validating a single line of passport, so we can look at the field, and validate it at that point.  \n",
    "\n",
    "What we can do is quick return False if the field doesn't validate, and use some form of validator based on the field info.  At least we don't need to reference any other data, so it's simple enough."
   ]
  },
  {
   "cell_type": "code",
   "execution_count": 64,
   "metadata": {},
   "outputs": [],
   "source": [
    "import re\n",
    "hcl = re.compile(\"#[0-9a-f]{6}\")\n",
    "pid = re.compile(\"\\d{9}\")\n",
    "hgt = re.compile(\"\\d{2,3}(cm|in)\")\n",
    "def validate_field(field, data):\n",
    "    if field == \"byr\":\n",
    "        idata = int(data)\n",
    "        return 1920 <= idata <= 2002\n",
    "    if field == \"iyr\":\n",
    "        idata = int(data)\n",
    "        return 2010 <= idata <= 2020\n",
    "    if field == \"eyr\":\n",
    "        idata = int(data)\n",
    "        return 2020 <= idata <= 2030\n",
    "    if field == \"hgt\":\n",
    "        if not hgt.fullmatch(data): return False\n",
    "        idata = int(data[:-2])\n",
    "        if data[-2:] == \"cm\":\n",
    "            return 150 <= idata <= 193\n",
    "        if data[-2:] == \"in\":\n",
    "            return 59 <= idata <= 76\n",
    "    if field == \"hcl\":\n",
    "        return hcl.fullmatch(data) != None\n",
    "    if field == \"ecl\":\n",
    "        return data in [\"amb\", \"blu\", \"brn\", \"gry\", \"grn\", \"hzl\", \"oth\"]\n",
    "    if field == \"pid\":\n",
    "        return pid.fullmatch(data) != None\n",
    "    if field == \"cid\":\n",
    "        return True\n",
    "    return False\n",
    "\n",
    "\n",
    "assert validate_field(\"byr\", \"2002\")\n",
    "assert validate_field(\"iyr\", \"2010\")\n",
    "assert validate_field(\"eyr\", \"2020\")\n",
    "assert validate_field(\"hgt\", \"179cm\")\n",
    "assert validate_field(\"hgt\", \"76in\")\n",
    "assert validate_field(\"hcl\", \"#fe123a\")\n",
    "assert validate_field(\"hcl\", \"#123abc\")\n",
    "assert not validate_field(\"hcl\", \"#z12345\")\n",
    "assert validate_field(\"ecl\", \"brn\")\n",
    "assert validate_field(\"pid\", \"012345678\")\n",
    "assert validate_field(\"pid\", \"000000000\")\n",
    "assert not validate_field(\"pid\", \"01234567\")"
   ]
  },
  {
   "cell_type": "markdown",
   "metadata": {},
   "source": [
    "Now we can try rewriting is_valid_passport to use that"
   ]
  },
  {
   "cell_type": "code",
   "execution_count": 65,
   "metadata": {},
   "outputs": [],
   "source": [
    "def is_valid_passport(line):\n",
    "    expected = set([\"byr\", \"iyr\", \"eyr\", \"hgt\", \"hcl\", \"ecl\", \"pid\", \"cid\"])\n",
    "    seen = set([\"cid\"])\n",
    "    for kv in line.split():\n",
    "        token,value = kv.split(\":\")\n",
    "        if validate_field(token, value):\n",
    "            seen.add(token)\n",
    "        else:\n",
    "            return False\n",
    "    return seen==expected\n",
    "\n",
    "assert is_valid_passport(\"pid:087499704 hgt:74in ecl:grn iyr:2012 eyr:2030 byr:1980 hcl:#623a2f\")\n",
    "assert is_valid_passport(\"eyr:2029 ecl:blu cid:129 byr:1989 iyr:2014 pid:896056539 hcl:#a97842 hgt:165cm\")\n",
    "assert is_valid_passport(\"hcl:#888785 hgt:164cm byr:2001 iyr:2015 cid:88 pid:545766238 ecl:hzl eyr:2022\")\n",
    "assert is_valid_passport(\"iyr:2010 hgt:158cm hcl:#b6652a ecl:blu byr:1944 eyr:2021 pid:093154719\")\n",
    "\n",
    "assert not is_valid_passport(\"eyr:1972 cid:100 hcl:#18171d ecl:amb hgt:170 pid:186cm iyr:2018 byr:1926\")\n",
    "assert not is_valid_passport(\"iyr:2019 hcl:#602927 eyr:1967 hgt:170cm ecl:grn pid:012533040 byr:1946\")\n",
    "assert not is_valid_passport(\"hcl:dab227 iyr:2012 ecl:brn hgt:182cm pid:021572410 eyr:2020 byr:1992 cid:277\")\n",
    "assert not is_valid_passport(\"hgt:59cm ecl:zzz eyr:2038 hcl:74454a iyr:2023 pid:3556412378 byr:2007\")"
   ]
  },
  {
   "cell_type": "markdown",
   "metadata": {},
   "source": [
    "Great, lets try on the real data!"
   ]
  },
  {
   "cell_type": "code",
   "execution_count": 66,
   "metadata": {},
   "outputs": [
    {
     "name": "stdout",
     "output_type": "stream",
     "text": [
      "291\n",
      "194\n"
     ]
    }
   ],
   "source": [
    "print(len(lines3))\n",
    "print(count_passports(lines3))"
   ]
  }
 ],
 "metadata": {
  "kernelspec": {
   "display_name": "Python 3",
   "language": "python",
   "name": "python3"
  },
  "language_info": {
   "codemirror_mode": {
    "name": "ipython",
    "version": 3
   },
   "file_extension": ".py",
   "mimetype": "text/x-python",
   "name": "python",
   "nbconvert_exporter": "python",
   "pygments_lexer": "ipython3",
   "version": "3.9.0"
  }
 },
 "nbformat": 4,
 "nbformat_minor": 4
}
