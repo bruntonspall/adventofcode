{
 "cells": [
  {
   "cell_type": "markdown",
   "metadata": {},
   "source": [
    "# Day 12 Part 1 - Navigation for fools\n",
    "\n",
    "So this feels quite easy compared to the previous few days.  We basically need to step through the directions keeping track of two variables, our current location, and our heading.  \n",
    "When we get an absolute direction, we just update our location.\n",
    "When we get a L/R we update our heading\n",
    "and when we get a Forward direction, we update our location based on our heading.\n",
    "\n",
    "Having a glance down the data and the examples, it looks highly likely that we'll only have to handle headings on 90 degree chunks, which means we can probably keep our heading as a simple N,E,S,W, or as 0,90,180,270 depending on how I'm feeling.\n",
    "\n",
    "We'll also want to calculate the manhatten distance between two points, x1,y1 and x2,y2, which is simple enough, but is probably worth turning into a function.  I've used tuples a lot so far for coordinates, but I'm going to use the more advanced namedtuple this time, which is a little like a Scala case class.  It allows us to treat the tuple object a bit like an object, with an x and y attribute, without all the overhead of classes.  This is because they are read-only, but if our changes return copies with updated locations, we can simply assign those around if we want (or if we need it part 2, keep a list of all the places we went too...).  "
   ]
  },
  {
   "cell_type": "code",
   "execution_count": 1,
   "metadata": {},
   "outputs": [],
   "source": [
    "import ipytest\n",
    "ipytest.autoconfig()\n",
    "from collections import namedtuple\n",
    "\n",
    "Ship = namedtuple('Ship', ['x', 'y', 'heading'], defaults=(90,))\n",
    "NORTH=0\n",
    "EAST=90\n",
    "SOUTH=180\n",
    "WEST=270\n",
    "\n",
    "def distance(ship1, ship2=Ship(0,0)):\n",
    "    return abs(ship1.x-ship2.x)+abs(ship1.y-ship2.y)\n",
    "\n",
    "assert distance(Ship(0,0), Ship(10,3)) == 13\n",
    "assert distance(Ship(5,0), Ship(15,3)) == 13\n",
    "assert distance(Ship(0,0), Ship(10,-3)) == 13\n",
    "assert distance(Ship(10,3), Ship(0,0)) == 13"
   ]
  },
  {
   "cell_type": "code",
   "execution_count": 2,
   "metadata": {},
   "outputs": [],
   "source": [
    "def rotate(ship, amount):\n",
    "    return Ship(ship.x, ship.y, (ship.heading + amount) % 360)\n",
    "    \n",
    "assert rotate(Ship(0,0), 90) == Ship(0,0,SOUTH)\n",
    "assert rotate(Ship(0,0, SOUTH), 90) == Ship(0,0,WEST)\n",
    "assert rotate(Ship(0,0, WEST), 90) == Ship(0,0,NORTH)\n",
    "assert rotate(Ship(0,0, NORTH), 90) == Ship(0,0,EAST)\n",
    "assert rotate(Ship(0,0), -90) == Ship(0,0,NORTH)\n",
    "assert rotate(Ship(0,0, NORTH), -90) == Ship(0,0,WEST)"
   ]
  },
  {
   "cell_type": "code",
   "execution_count": 3,
   "metadata": {},
   "outputs": [],
   "source": [
    "   \n",
    "def process(ship, instruction):\n",
    "    dist = int(instruction[1:])\n",
    "    if instruction[0]== \"N\":\n",
    "        return Ship(ship.x, ship.y+dist, ship.heading)\n",
    "    if instruction[0]== \"E\":\n",
    "        return Ship(ship.x+dist, ship.y, ship.heading)\n",
    "    if instruction[0]== \"S\":\n",
    "        return Ship(ship.x, ship.y-dist, ship.heading)\n",
    "    if instruction[0]== \"W\":\n",
    "        return Ship(ship.x-dist, ship.y, ship.heading)\n",
    "    if instruction[0]==\"R\":\n",
    "        return rotate(ship, dist)\n",
    "    if instruction[0]==\"L\":\n",
    "        return rotate(ship, -dist)\n",
    "    if instruction[0]==\"F\":\n",
    "        if ship.heading == NORTH:\n",
    "            return Ship(ship.x, ship.y+dist, ship.heading)\n",
    "        if ship.heading == EAST:\n",
    "            return Ship(ship.x+dist, ship.y, ship.heading)\n",
    "        if ship.heading == SOUTH:\n",
    "            return Ship(ship.x, ship.y-dist, ship.heading)\n",
    "        if ship.heading == WEST:\n",
    "            return Ship(ship.x-dist, ship.y, ship.heading)\n",
    "        \n",
    "ship = Ship(0,0)\n",
    "ship = process(ship, \"F10\")\n",
    "assert ship == Ship(10,0,EAST)\n",
    "ship = process(ship, \"N3\")\n",
    "assert ship == Ship(10,3,EAST)\n",
    "ship = process(ship, \"F7\")\n",
    "assert ship == Ship(17,3,EAST)\n",
    "ship = process(ship, \"R90\")\n",
    "assert ship == Ship(17,3,SOUTH)\n",
    "ship = process(ship, \"F11\")\n",
    "assert ship == Ship(17,-8,SOUTH)\n",
    "\n",
    "assert distance(ship) == 25"
   ]
  },
  {
   "cell_type": "markdown",
   "metadata": {},
   "source": [
    "Ok, let's try that on production data"
   ]
  },
  {
   "cell_type": "code",
   "execution_count": 4,
   "metadata": {},
   "outputs": [
    {
     "name": "stdout",
     "output_type": "stream",
     "text": [
      "1687\n"
     ]
    }
   ],
   "source": [
    "directions = [line.strip() for line in open(\"day12.txt\").readlines()]\n",
    "ship = Ship(0,0)\n",
    "for direction in directions:\n",
    "    ship = process(ship, direction)\n",
    "print(distance(ship))"
   ]
  },
  {
   "cell_type": "markdown",
   "metadata": {},
   "source": [
    "## Vexatious vectors\n",
    "\n",
    "Oooh, this is interesting.  I've done lots of standard cartesian directions before, but in this case we are talking about using vectors.\n",
    "\n",
    "In this case, there is a point that is X distance east of the boat, and y distance north of the. boat.  This vector will form a right angled triangle with the length of the vector being the length of the hypotonus.  \n",
    "\n",
    "Luckily, we don't actually need to handle the hypotonus, so no pythagorus for us this time, all we need to do is recognise that we are going to track a vector around the ship, and then when we do the F, we move by multiplying the vector east and north values by the value of the instruction.\n",
    "\n",
    "The trick here is the rotation command.  It feels like we might need to do triganometry, but then I looked at the examples, and thought through the rotations.  Since we are always rotating by 90 degrees, it'll never be a partial rotation.  So something at 7,3 when rotated 90 degrees will become 3, -7.  Rotated another 90 degrees, it'll become -7, -3, and one more time, to -3, 7.\n",
    "\n",
    "What we need to do is work out those translations for both 90 degrees right and 90 degrees left as well.\n",
    "\n",
    "We're also going to need a slightly different model, because instead of a heading we'll need a location and a waypoint (which is a location itself)."
   ]
  },
  {
   "cell_type": "code",
   "execution_count": 5,
   "metadata": {},
   "outputs": [],
   "source": [
    "Position = namedtuple('Position', ['x', 'y'], defaults=(0,0))\n",
    "Ship = namedtuple('Ship', ['loc', 'waypoint'], defaults={Position(), Position()})\n",
    "\n",
    "def distance(p1, p2=Position(0,0)):\n",
    "    return abs(p1.x-p2.x)+abs(p1.y-p2.y)\n",
    "\n",
    "def rotate_right(p1):\n",
    "    return Position(p1.y,-1*p1.x)\n",
    "\n",
    "assert rotate_right(Position(7,3)) == Position(3, -7)\n",
    "assert rotate_right(Position(3,-7)) == Position(-7, -3)\n",
    "assert rotate_right(Position(-7, -3)) == Position(-3, 7)\n",
    "assert rotate_right(Position(-3, 7)) == Position(7, 3)\n",
    "\n",
    "def rotate_left(p1):\n",
    "    return Position(-1*p1.y,p1.x)\n",
    "\n",
    "assert rotate_left(Position( 7,  3)) == Position(-3,  7)\n",
    "assert rotate_left(Position(-3,  7)) == Position(-7, -3)\n",
    "assert rotate_left(Position(-7, -3)) == Position( 3, -7)\n",
    "assert rotate_left(Position( 3, -7)) == Position( 7,  3)\n",
    "\n",
    "def rotate(ship, angle):\n",
    "    wp = ship.waypoint\n",
    "    while angle > 0:\n",
    "        wp = rotate_right(wp)\n",
    "        angle -= 90\n",
    "    while angle < 0:\n",
    "        wp = rotate_left(wp)\n",
    "        angle += 90\n",
    "    return Ship(ship.loc, wp)\n",
    "\n",
    "assert rotate(Ship(Position(0,0), Position(7,3)),90) == Ship(Position(0,0),Position(3, -7))\n",
    "assert rotate(Ship(Position(0,0), Position(7,3)),180) == Ship(Position(0,0),Position(-7, -3))\n",
    "assert rotate(Ship(Position(0,0), Position(7,3)),270) == Ship(Position(0,0),Position(-3, 7))\n",
    "assert rotate(Ship(Position(0,0), Position(7,3)),-90) == Ship(Position(0,0),Position(-3, 7))\n",
    "assert rotate(Ship(Position(0,0), Position(7,3)),-180) == Ship(Position(0,0),Position(-7, -3))\n",
    "assert rotate(Ship(Position(0,0), Position(7,3)),-270) == Ship(Position(0,0),Position(3, -7))\n",
    "\n",
    "\n",
    "def process(ship, instruction):\n",
    "    dist = int(instruction[1:])\n",
    "    if instruction[0]== \"N\":\n",
    "        return Ship(ship.loc, Position(ship.waypoint.x, ship.waypoint.y+dist))\n",
    "    if instruction[0]== \"E\":\n",
    "        return Ship(ship.loc, Position(ship.waypoint.x+dist, ship.waypoint.y))\n",
    "    if instruction[0]== \"S\":\n",
    "        return Ship(ship.loc, Position(ship.waypoint.x, ship.waypoint.y-dist))\n",
    "    if instruction[0]== \"W\":\n",
    "        return Ship(ship.loc, Position(ship.waypoint.x-dist, ship.waypoint.y))\n",
    "    if instruction[0]==\"R\":\n",
    "        return rotate(ship, dist)\n",
    "    if instruction[0]==\"L\":\n",
    "        return rotate(ship, -dist)\n",
    "    if instruction[0]==\"F\":\n",
    "        return Ship(Position(ship.loc.x+(ship.waypoint.x*dist), ship.loc.y+(ship.waypoint.y*dist)), ship.waypoint)\n",
    "        \n",
    "ship = Ship(Position(0,0), Position(10, 1))\n",
    "ship = process(ship, \"F10\")\n",
    "assert ship == Ship(Position(100,10),Position(10, 1))\n",
    "ship = process(ship, \"N3\")\n",
    "assert ship == Ship(Position(100,10),Position(10, 4))\n",
    "ship = process(ship, \"F7\")\n",
    "assert ship == Ship(Position(170,38),Position(10, 4))\n",
    "ship = process(ship, \"R90\")\n",
    "assert ship == Ship(Position(170,38),Position(4, -10))\n",
    "ship = process(ship, \"F11\")\n",
    "assert ship == Ship(Position(214,-72),Position(4, -10))\n",
    "\n",
    "assert distance(ship.loc) == 286"
   ]
  },
  {
   "cell_type": "markdown",
   "metadata": {},
   "source": [
    "Let's try that on the real data and see what works"
   ]
  },
  {
   "cell_type": "code",
   "execution_count": 6,
   "metadata": {},
   "outputs": [
    {
     "name": "stdout",
     "output_type": "stream",
     "text": [
      "20873\n"
     ]
    }
   ],
   "source": [
    "directions = [line.strip() for line in open(\"day12.txt\").readlines()]\n",
    "ship = Ship(Position(0,0),Position(10, 1))\n",
    "for direction in directions:\n",
    "    ship = process(ship, direction)\n",
    "print(distance(ship.loc))"
   ]
  }
 ],
 "metadata": {
  "kernelspec": {
   "display_name": "Python 3",
   "language": "python",
   "name": "python3"
  },
  "language_info": {
   "codemirror_mode": {
    "name": "ipython",
    "version": 3
   },
   "file_extension": ".py",
   "mimetype": "text/x-python",
   "name": "python",
   "nbconvert_exporter": "python",
   "pygments_lexer": "ipython3",
   "version": "3.9.0"
  }
 },
 "nbformat": 4,
 "nbformat_minor": 4
}
