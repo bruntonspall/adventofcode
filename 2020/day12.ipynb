{
 "cells": [
  {
   "cell_type": "markdown",
   "metadata": {},
   "source": [
    "# Day 12 Part 1 - Navigation for fools\n",
    "\n",
    "So this feels quite easy compared to the previous few days.  We basically need to step through the directions keeping track of two variables, our current location, and our heading.  \n",
    "When we get an absolute direction, we just update our location.\n",
    "When we get a L/R we update our heading\n",
    "and when we get a Forward direction, we update our location based on our heading.\n",
    "\n",
    "Having a glance down the data and the examples, it looks highly likely that we'll only have to handle headings on 90 degree chunks, which means we can probably keep our heading as a simple N,E,S,W, or as 0,90,180,270 depending on how I'm feeling.\n",
    "\n",
    "We'll also want to calculate the manhatten distance between two points, x1,y1 and x2,y2, which is simple enough, but is probably worth turning into a function.  I've used tuples a lot so far for coordinates, but I'm going to use the more advanced namedtuple this time, which is a little like a Scala case class.  It allows us to treat the tuple object a bit like an object, with an x and y attribute, without all the overhead of classes.  This is because they are read-only, but if our changes return copies with updated locations, we can simply assign those around if we want (or if we need it part 2, keep a list of all the places we went too...).  "
   ]
  },
  {
   "cell_type": "code",
   "execution_count": 12,
   "metadata": {},
   "outputs": [],
   "source": [
    "import ipytest\n",
    "ipytest.autoconfig()\n",
    "from collections import namedtuple\n",
    "\n",
    "Ship = namedtuple('Ship', ['x', 'y', 'heading'], defaults=(90,))\n",
    "NORTH=0\n",
    "EAST=90\n",
    "SOUTH=180\n",
    "WEST=270\n",
    "\n",
    "def distance(ship1, ship2=Ship(0,0)):\n",
    "    return abs(ship1.x-ship2.x)+abs(ship1.y-ship2.y)\n",
    "\n",
    "assert distance(Ship(0,0), Ship(10,3)) == 13\n",
    "assert distance(Ship(5,0), Ship(15,3)) == 13\n",
    "assert distance(Ship(0,0), Ship(10,-3)) == 13\n",
    "assert distance(Ship(10,3), Ship(0,0)) == 13"
   ]
  },
  {
   "cell_type": "code",
   "execution_count": 13,
   "metadata": {},
   "outputs": [],
   "source": [
    "def rotate(ship, amount):\n",
    "    return Ship(ship.x, ship.y, (ship.heading + amount) % 360)\n",
    "    \n",
    "assert rotate(Ship(0,0), 90) == Ship(0,0,SOUTH)\n",
    "assert rotate(Ship(0,0, SOUTH), 90) == Ship(0,0,WEST)\n",
    "assert rotate(Ship(0,0, WEST), 90) == Ship(0,0,NORTH)\n",
    "assert rotate(Ship(0,0, NORTH), 90) == Ship(0,0,EAST)\n",
    "assert rotate(Ship(0,0), -90) == Ship(0,0,NORTH)\n",
    "assert rotate(Ship(0,0, NORTH), -90) == Ship(0,0,WEST)"
   ]
  },
  {
   "cell_type": "code",
   "execution_count": 15,
   "metadata": {},
   "outputs": [],
   "source": [
    "   \n",
    "def process(ship, instruction):\n",
    "    dist = int(instruction[1:])\n",
    "    if instruction[0]== \"N\":\n",
    "        return Ship(ship.x, ship.y+dist, ship.heading)\n",
    "    if instruction[0]== \"E\":\n",
    "        return Ship(ship.x+dist, ship.y, ship.heading)\n",
    "    if instruction[0]== \"S\":\n",
    "        return Ship(ship.x, ship.y-dist, ship.heading)\n",
    "    if instruction[0]== \"W\":\n",
    "        return Ship(ship.x-dist, ship.y, ship.heading)\n",
    "    if instruction[0]==\"R\":\n",
    "        return rotate(ship, dist)\n",
    "    if instruction[0]==\"L\":\n",
    "        return rotate(ship, -dist)\n",
    "    if instruction[0]==\"F\":\n",
    "        if ship.heading == NORTH:\n",
    "            return Ship(ship.x, ship.y+dist, ship.heading)\n",
    "        if ship.heading == EAST:\n",
    "            return Ship(ship.x+dist, ship.y, ship.heading)\n",
    "        if ship.heading == SOUTH:\n",
    "            return Ship(ship.x, ship.y-dist, ship.heading)\n",
    "        if ship.heading == WEST:\n",
    "            return Ship(ship.x-dist, ship.y, ship.heading)\n",
    "        \n",
    "ship = Ship(0,0)\n",
    "ship = process(ship, \"F10\")\n",
    "assert ship == Ship(10,0,EAST)\n",
    "ship = process(ship, \"N3\")\n",
    "assert ship == Ship(10,3,EAST)\n",
    "ship = process(ship, \"F7\")\n",
    "assert ship == Ship(17,3,EAST)\n",
    "ship = process(ship, \"R90\")\n",
    "assert ship == Ship(17,3,SOUTH)\n",
    "ship = process(ship, \"F11\")\n",
    "assert ship == Ship(17,-8,SOUTH)\n",
    "\n",
    "assert distance(ship) == 25"
   ]
  },
  {
   "cell_type": "markdown",
   "metadata": {},
   "source": [
    "Ok, let's try that on production data"
   ]
  },
  {
   "cell_type": "code",
   "execution_count": null,
   "metadata": {},
   "outputs": [],
   "source": [
    "directions = [line.strip() for line in open(\"day12.txt\").readlines()]\n",
    "ship = Ship(0,0)\n",
    "locations = [][\n",
    "for direction in directions:\n",
    "    ship = "
   ]
  }
 ],
 "metadata": {
  "kernelspec": {
   "display_name": "Python 3",
   "language": "python",
   "name": "python3"
  },
  "language_info": {
   "codemirror_mode": {
    "name": "ipython",
    "version": 3
   },
   "file_extension": ".py",
   "mimetype": "text/x-python",
   "name": "python",
   "nbconvert_exporter": "python",
   "pygments_lexer": "ipython3",
   "version": "3.8.5"
  }
 },
 "nbformat": 4,
 "nbformat_minor": 4
}
