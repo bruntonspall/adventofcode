{
 "cells": [
  {
   "cell_type": "markdown",
   "metadata": {},
   "source": [
    "# Day 10 Tree or List\n",
    "\n",
    "Ok, so my instinct with this one was to create a tree structure.\n",
    "\n",
    "If we had a tree object whereby every possible adaptor was represented, we can apply lots of neat graph  algorithms across the tree to find a given goal, find the distance between nodes, walk the tree and so on.\n",
    "\n",
    "But the rule that you want to use the most number of adapters makes me think that the easiest way to approach this is simply to put them into a list, and step over the list counting the number of +1 and +3 differences.\n",
    "\n",
    "That feels way too easy, and I strongly suspect that the follow up question will be to search to find the shortest chain of adapters that gets to the goal, which will be much easier if we build a tree structure, so we might come back to that idea.\n",
    "\n",
    "(I'll admit that building simple data structures in python is something that I've tried and failed at before.  Because I first learn to program in TurboPascal and C/C++, pointers and references are somewhat native in my experience of building data structures.  Python doesn't really have that, so if we have to build a tree out of dictionaries or named-tuples or something, I'll have to look up the best way to do that)"
   ]
  },
  {
   "cell_type": "code",
   "execution_count": 1,
   "metadata": {},
   "outputs": [],
   "source": [
    "import ipytest\n",
    "ipytest.autoconfig()"
   ]
  },
  {
   "cell_type": "markdown",
   "metadata": {},
   "source": [
    "Ok, lets get started, I think list form is easiest.\n",
    "Taking the worked example, we have `16,10,15,5,1,11,7,19,6,12,4` which if we sort it would be `1,4,5,6,7,10,11,12,15,16,19`.\n",
    "If we add the wall and our adapter (always 0 and n+3 respectively) we end up with:\n",
    "`0,1,4,5,6,7,10,11,12,15,16,19,22`.\n",
    "\n",
    "So all we then do is iterate the list and count from previous to now, and if it's +1 or +3, we add to the count and then multiply them."
   ]
  },
  {
   "cell_type": "code",
   "execution_count": 7,
   "metadata": {},
   "outputs": [],
   "source": [
    "test_data = [16,10,15,5,1,11,7,19,6,12,4]\n",
    "\n",
    "def count_differences(data):\n",
    "    prev = 0\n",
    "    count1 = 0\n",
    "    count3 = 0\n",
    "    for item in sorted(data):\n",
    "        if item - prev == 1:\n",
    "            count1 += 1\n",
    "        if item - prev == 3:\n",
    "            count3 += 1\n",
    "        prev = item\n",
    "    count3 += 1\n",
    "    return count1,count3\n",
    "\n",
    "assert count_differences(test_data) == (7,5)"
   ]
  },
  {
   "cell_type": "markdown",
   "metadata": {},
   "source": [
    "Ok, that works, lets try on the bigger dataset"
   ]
  },
  {
   "cell_type": "code",
   "execution_count": 9,
   "metadata": {},
   "outputs": [],
   "source": [
    "test_data = [int(i.strip()) for i in \"\"\"28\n",
    "33\n",
    "18\n",
    "42\n",
    "31\n",
    "14\n",
    "46\n",
    "20\n",
    "48\n",
    "47\n",
    "24\n",
    "23\n",
    "49\n",
    "45\n",
    "19\n",
    "38\n",
    "39\n",
    "11\n",
    "1\n",
    "32\n",
    "25\n",
    "35\n",
    "8\n",
    "17\n",
    "7\n",
    "9\n",
    "4\n",
    "2\n",
    "34\n",
    "10\n",
    "3\"\"\".split(\"\\n\")]\n",
    "\n",
    "assert count_differences(test_data) == (22,10)"
   ]
  },
  {
   "cell_type": "markdown",
   "metadata": {},
   "source": [
    "Yup, that works, real data"
   ]
  },
  {
   "cell_type": "code",
   "execution_count": 12,
   "metadata": {},
   "outputs": [
    {
     "name": "stdout",
     "output_type": "stream",
     "text": [
      "76*32=2432\n"
     ]
    }
   ],
   "source": [
    "data = [int(i.strip()) for i in open(\"day10.txt\").readlines()]\n",
    "c1,c3 = count_differences(data)\n",
    "print(f\"{c1}*{c3}={c1*c3}\")"
   ]
  }
 ],
 "metadata": {
  "kernelspec": {
   "display_name": "Python 3",
   "language": "python",
   "name": "python3"
  },
  "language_info": {
   "codemirror_mode": {
    "name": "ipython",
    "version": 3
   },
   "file_extension": ".py",
   "mimetype": "text/x-python",
   "name": "python",
   "nbconvert_exporter": "python",
   "pygments_lexer": "ipython3",
   "version": "3.9.0"
  }
 },
 "nbformat": 4,
 "nbformat_minor": 4
}
