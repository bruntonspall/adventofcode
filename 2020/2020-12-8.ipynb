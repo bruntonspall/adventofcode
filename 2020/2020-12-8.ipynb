{
 "cells": [
  {
   "cell_type": "markdown",
   "metadata": {},
   "source": [
    "## Day 8 - Is this revenge of IntCode?\n",
    "\n",
    "My first look at this and I'm beginning to dread that we'll have something similar to IntCode from last year.  I hated my IntCode computer by half way through and it was one of the reasons for dropping out last year, as I spent more time debugging my virtual computer than I did trying to solve the problem.\n",
    "\n",
    "Anyway, let's not do that this time.\n",
    "\n",
    "This part 1 can almost certainly be solved by fairly simple means, let's not overcomplicate things.\n",
    "We load the lines into an list of strings, have a line number, and start at 1.\n",
    "For each string we parse the string, either add to the accumulator, or change the line number, add 1 to the line number and then go again.\n",
    "But we'll add a set of seen lines as we go over them, and check whether we've already seen the line, if we have, print out the value of the accumulator and quit."
   ]
  },
  {
   "cell_type": "code",
   "execution_count": 1,
   "metadata": {},
   "outputs": [],
   "source": [
    "import ipytest\n",
    "ipytest.autoconfig()\n",
    "\n",
    "lines = [\n",
    "    \"nop +0\",\n",
    "\"acc +1\",\n",
    "\"jmp +4\",\n",
    "\"acc +3\",\n",
    "\"jmp -3\",\n",
    "\"acc -99\",\n",
    "\"acc +1\",\n",
    "\"jmp -4\",\n",
    "\"acc +6\"\n",
    "]\n",
    "\n",
    "def parse1(lines):\n",
    "    line = 0\n",
    "    seen = set()\n",
    "    acc = 0\n",
    "    while True:\n",
    "        currentline = lines[line]\n",
    "        seen.add(line)\n",
    "        if currentline[:3] == \"jmp\":\n",
    "            line += int(currentline[4:])\n",
    "        else:\n",
    "            if currentline[:3] == \"acc\":\n",
    "                acc += int(currentline[4:])\n",
    "            # Always increment line after acc or nop\n",
    "            line += 1\n",
    "        if line in seen:\n",
    "            break\n",
    "    return acc\n",
    "\n",
    "assert parse1(lines) == 5"
   ]
  },
  {
   "cell_type": "markdown",
   "metadata": {},
   "source": [
    "Great, that works, let's try that on the real data"
   ]
  },
  {
   "cell_type": "code",
   "execution_count": 2,
   "metadata": {},
   "outputs": [
    {
     "name": "stdout",
     "output_type": "stream",
     "text": [
      "1548\n"
     ]
    }
   ],
   "source": [
    "lines = [line.strip() for line in open('day8.txt')]\n",
    "print(parse1(lines))"
   ]
  },
  {
   "cell_type": "markdown",
   "metadata": {},
   "source": [
    "## Part 2 - Mutate the program\n",
    "\n",
    "This looks horrible at first sight, and it actually is.  What we need to do is mutate each jmp line into a nop line, and rerun the program, keep doing this until we find one that ends properly.\n",
    "\n",
    "In this case, there are now 2 ending conditions, we ran off the end of the program (success) and we hit a loop (fail), so we'll need to return not just the accumulator value, but which one we did.\n",
    "\n",
    "We then need to iterate through each line, swapping a nop for a jmp and a jmp for a nop, and try the program, until we get to the end."
   ]
  },
  {
   "cell_type": "code",
   "execution_count": 3,
   "metadata": {},
   "outputs": [],
   "source": [
    "import ipytest\n",
    "ipytest.autoconfig()\n",
    "\n",
    "lines_loop = [\n",
    "    \"nop +0\",\n",
    "\"acc +1\",\n",
    "\"jmp +4\",\n",
    "\"acc +3\",\n",
    "\"jmp -3\",\n",
    "\"acc -99\",\n",
    "\"acc +1\",\n",
    "\"jmp -4\",\n",
    "\"acc +6\"\n",
    "]\n",
    "\n",
    "lines_end = [\n",
    "    \"nop +0\",\n",
    "\"acc +1\",\n",
    "\"jmp +4\",\n",
    "\"acc +3\",\n",
    "\"jmp -3\",\n",
    "\"acc -99\",\n",
    "\"acc +1\",\n",
    "\"nop -4\",\n",
    "\"acc +6\"\n",
    "]\n",
    "\n",
    "def parse2(lines):\n",
    "    line = 0\n",
    "    seen = set()\n",
    "    acc = 0\n",
    "    while True:\n",
    "        currentline = lines[line]\n",
    "        seen.add(line)\n",
    "        if currentline[:3] == \"jmp\":\n",
    "            line += int(currentline[4:])\n",
    "        else:\n",
    "            if currentline[:3] == \"acc\":\n",
    "                acc += int(currentline[4:])\n",
    "            # Always increment line after acc or nop\n",
    "            line += 1\n",
    "        if line in seen:\n",
    "            return (False,acc)\n",
    "        if line >= len(lines):\n",
    "            return (True,acc)\n",
    "\n",
    "assert parse2(lines_loop) == (False,5)\n",
    "assert parse2(lines_end) == (True,8)"
   ]
  },
  {
   "cell_type": "markdown",
   "metadata": {},
   "source": [
    "Now let's try mutating all the lines on the sample"
   ]
  },
  {
   "cell_type": "code",
   "execution_count": 4,
   "metadata": {},
   "outputs": [],
   "source": [
    "def mutate_lines(lines):\n",
    "    for i,line in enumerate(lines):\n",
    "        newlist = lines.copy()\n",
    "        if line[:3] == \"nop\":\n",
    "            newlist[i] = line.replace(\"nop\", \"jmp\")\n",
    "        elif line[:3] == \"jmp\":\n",
    "            newlist[i] = line.replace(\"jmp\", \"nop\")\n",
    "        ret,acc = parse2(newlist)\n",
    "        if ret:\n",
    "            return (True,acc)\n",
    "    return (False,acc)\n",
    "\n",
    "assert mutate_lines(lines_loop) == (True,8)"
   ]
  },
  {
   "cell_type": "markdown",
   "metadata": {},
   "source": [
    "Great, that works just fine.  Let's try it on the real data"
   ]
  },
  {
   "cell_type": "code",
   "execution_count": 5,
   "metadata": {},
   "outputs": [
    {
     "name": "stdout",
     "output_type": "stream",
     "text": [
      "(True, 1375)\n"
     ]
    }
   ],
   "source": [
    "print(mutate_lines(lines))"
   ]
  }
 ],
 "metadata": {
  "kernelspec": {
   "display_name": "Python 3",
   "language": "python",
   "name": "python3"
  },
  "language_info": {
   "codemirror_mode": {
    "name": "ipython",
    "version": 3
   },
   "file_extension": ".py",
   "mimetype": "text/x-python",
   "name": "python",
   "nbconvert_exporter": "python",
   "pygments_lexer": "ipython3",
   "version": "3.9.0"
  }
 },
 "nbformat": 4,
 "nbformat_minor": 4
}
