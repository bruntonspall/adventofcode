{
 "cells": [
  {
   "cell_type": "markdown",
   "metadata": {},
   "source": [
    "## Day 5 - Boarding Passes\n",
    "\n",
    "This is an interesting one.  There's a lot of words that essentially describe a binary partition tree.  I know that this will be easiest if I use a data structure or something to parse that tree and identify the seat, I just know I'm going to need this in part 2.\n",
    "\n",
    "But, finding the highest seat id in the dataset doesn't actually require us to understand or parse the tree at all.  Instead we can note that all we need to do is sort the list of seat ids.\n",
    "\n",
    "This will work because we are guaranteed due to the BSP's, certain things.\n",
    "`Fx no matter the x will always be higher than Bx`\n",
    "This means that we can say that FF > FB to find the row.  Since the row number is multipled by 8, and there are 8 chairs in any row, we know that the highest seat id will be the largest rowid, and then the largest chairid within that row.\n",
    "Once we've done that, we can convert the words into numbers.\n",
    "\n",
    "I've got some thoughts on the converting rows into numbers.  I have ahunch that the way it's structured, FFFB is very similar to 1110 as a binary code, and that FFBF would be the same as 1101.\n",
    "To prove that, let's think about a plane with just 4 rows.\n",
    "From rear, 3 down to front 1, the codes would be\n",
    "`BB\n",
    "BF\n",
    "FB\n",
    "FF`\n",
    "\n",
    "That feels like a good example so lets test it with the samples given, using either FB and using LR with the same code"
   ]
  },
  {
   "cell_type": "code",
   "execution_count": 1,
   "metadata": {},
   "outputs": [],
   "source": [
    "import pytest\n",
    "import ipytest\n",
    "ipytest.autoconfig()"
   ]
  },
  {
   "cell_type": "code",
   "execution_count": 2,
   "metadata": {},
   "outputs": [],
   "source": [
    "import bitstring\n",
    "\n",
    "def parseseat(seat):\n",
    "    a = bitstring.BitArray()\n",
    "    for c in seat[:7]:\n",
    "        if c == 'B':\n",
    "            a += '0b1'\n",
    "        else:\n",
    "            a += '0b0'\n",
    "    return a.uint\n",
    "\n",
    "assert 44 == parseseat('FBFBBFFRLR')\n",
    "assert 70 == parseseat('BFFFBBFRRR')\n",
    "assert 14 == parseseat('FFFBBBFRRR')\n",
    "assert 102 == parseseat('BBFFBBFRLL')"
   ]
  },
  {
   "cell_type": "markdown",
   "metadata": {},
   "source": [
    "Great, but we want the column id as well, not just the row ID, so lets handle that the same way.\n",
    "\n",
    "We can also note that timesing the first number by 8 is the same as shifting left 3, so this really is just the number in binary, so we can work that out at the same time."
   ]
  },
  {
   "cell_type": "code",
   "execution_count": 3,
   "metadata": {},
   "outputs": [],
   "source": [
    "def parseseat(seat):\n",
    "    a = bitstring.BitArray()\n",
    "    b = bitstring.BitArray()\n",
    "    for c in seat[:7]:\n",
    "        if c == 'B':\n",
    "            a += '0b1'\n",
    "        else:\n",
    "            a += '0b0'\n",
    "    for c in seat[7:]:\n",
    "        if c == 'R':\n",
    "            b += '0b1'\n",
    "        else:\n",
    "            b += '0b0'\n",
    "        \n",
    "    return a.uint,b.uint,(a+b).uint\n",
    "\n",
    "assert (44, 5, 357) == parseseat('FBFBBFFRLR')\n",
    "assert (70,7,567) == parseseat('BFFFBBFRRR')\n",
    "assert (14,7,119) == parseseat('FFFBBBFRRR')\n",
    "assert (102,4,820) == parseseat('BBFFBBFRLL')"
   ]
  },
  {
   "cell_type": "markdown",
   "metadata": {},
   "source": [
    "So now we know that we can turn them into a number easily, we can work out if we want to sort them by parsing them and turning them into numbers, or whether we can just sort them as strings.  It feels easiest to find the highest by simply going through the list, turning it into a number, and then storing the highest we find..."
   ]
  },
  {
   "cell_type": "code",
   "execution_count": 4,
   "metadata": {},
   "outputs": [
    {
     "name": "stdout",
     "output_type": "stream",
     "text": [
      "806\n"
     ]
    }
   ],
   "source": [
    "maxseatid = 0\n",
    "for line in open('day5.txt').readlines():\n",
    "    line = line.strip() # Get rid of those newlines\n",
    "    _,_,id = parseseat(line)\n",
    "    maxseatid = max(id, maxseatid)\n",
    "print(maxseatid)"
   ]
  },
  {
   "cell_type": "markdown",
   "metadata": {},
   "source": [
    "## Part 2 - Find the missing seat\n",
    "\n",
    "This should be fairly easy, get the seat ids, sort them, and then iterate through them looking to see if it is not prev+1, if not, we've found it."
   ]
  },
  {
   "cell_type": "code",
   "execution_count": 5,
   "metadata": {},
   "outputs": [
    {
     "name": "stdout",
     "output_type": "stream",
     "text": [
      "562\n"
     ]
    }
   ],
   "source": [
    "ids = sorted([parseseat(line.strip())[2] for line in open('day5.txt').readlines()])\n",
    "lastid = ids[0]\n",
    "for id in ids[1:]:\n",
    "    if id > lastid+1:\n",
    "        print(lastid+1)\n",
    "    lastid = id\n"
   ]
  },
  {
   "cell_type": "code",
   "execution_count": null,
   "metadata": {},
   "outputs": [],
   "source": []
  }
 ],
 "metadata": {
  "kernelspec": {
   "display_name": "Python 3",
   "language": "python",
   "name": "python3"
  },
  "language_info": {
   "codemirror_mode": {
    "name": "ipython",
    "version": 3
   },
   "file_extension": ".py",
   "mimetype": "text/x-python",
   "name": "python",
   "nbconvert_exporter": "python",
   "pygments_lexer": "ipython3",
   "version": "3.8.5"
  }
 },
 "nbformat": 4,
 "nbformat_minor": 4
}
