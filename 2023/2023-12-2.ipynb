{
 "cells": [
  {
   "cell_type": "markdown",
   "id": "a35a8a26-2850-4b78-8fd5-2ed22aee3d85",
   "metadata": {},
   "source": [
    "# Day 2\n",
    "\n",
    "Ok, this sounds complex, but in reality, we're just filtering the list of games based on whether it's possible given the limitations.\n",
    "We're going to need to parse the structure, which I'll do into a dictionary, and then filter out any that don't meet the criteria.\n",
    "\n",
    "There are multiple draws per line, so we'll want to create a structure that looks a bit like `{Game 1: [{blue: 3, red: 4}, {red 1, green 2, blue 6}, {green 2}]}`."
   ]
  },
  {
   "cell_type": "code",
   "execution_count": 1,
   "id": "cf35d4ec-a3aa-49d5-8c31-62445ab24a94",
   "metadata": {},
   "outputs": [],
   "source": [
    "## Import ipytest and get it setup for use in Python Notebook\n",
    "import pytest\n",
    "import ipytest\n",
    "ipytest.autoconfig()"
   ]
  },
  {
   "cell_type": "code",
   "execution_count": 2,
   "id": "0fa9c661-5fd5-46d6-ae79-e16707c8c2a9",
   "metadata": {},
   "outputs": [],
   "source": [
    "lines = \"\"\"Game 1: 3 blue, 4 red; 1 red, 2 green, 6 blue; 2 green\n",
    "Game 2: 1 blue, 2 green; 3 green, 4 blue, 1 red; 1 green, 1 blue\n",
    "Game 3: 8 green, 6 blue, 20 red; 5 blue, 4 red, 13 green; 5 green, 1 red\n",
    "Game 4: 1 green, 3 red, 6 blue; 3 green, 6 red; 3 green, 15 blue, 14 red\n",
    "Game 5: 6 red, 1 blue, 3 green; 2 blue, 1 red, 2 green\"\"\".split(\"\\n\")\n",
    "\n",
    "def parse_draw(draw):\n",
    "    \"\"\"Take a single draw, divided by commas and turn into a dictionary\"\"\"\n",
    "    ret = {}\n",
    "    for cubes in draw.split(\", \"):\n",
    "        num,name = cubes.split(\" \")\n",
    "        ret[name] = int(num)\n",
    "    return ret\n",
    "\n",
    "assert parse_draw(\"1 red, 2 green, 6 blue\") == {\"red\":1, \"green\":2, \"blue\":6}\n",
    "    \n",
    "def parse_line(line):\n",
    "    \"\"\" Take a game, divide into multiple draws, and return a structure for that\"\"\"\n",
    "    ret = {}\n",
    "    id_s,draws_s = line.split(\":\")\n",
    "    ret[\"id\"] = int(id_s.split(\" \")[-1])\n",
    "    draws = []\n",
    "    for draw in draws_s.split(\"; \"):\n",
    "        draws.append(parse_draw(draw.strip()))\n",
    "    ret[\"draws\"] = draws\n",
    "    return ret\n",
    "\n",
    "assert parse_line(\"Game 1: 3 blue, 4 red; 1 red, 2 green, 6 blue; 2 green\") == {\"id\":1, \"draws\":[\n",
    "    {\"red\":4, \"blue\":3},\n",
    "    {\"red\":1, \"green\":2, \"blue\":6},\n",
    "    {\"green\":2}]}"
   ]
  },
  {
   "cell_type": "markdown",
   "id": "ad858f55-a232-4f7e-83ed-6fd605147507",
   "metadata": {},
   "source": [
    "Right, we have something that can parse each line and turn it into a data structure, so now we need to build some filtering logic"
   ]
  },
  {
   "cell_type": "code",
   "execution_count": 3,
   "id": "d797fa99-6cba-4f01-815c-96daacd6a587",
   "metadata": {},
   "outputs": [],
   "source": [
    "games = [parse_line(line.strip()) for line in lines]\n",
    "\n",
    "def possible_draw(draw, bag):\n",
    "    \"\"\" Is it possible to draw cubes 'draw' out of bag 'bag'\"\"\"\n",
    "    for colour,amount in draw.items():\n",
    "        if colour not in bag or bag[colour] < amount:\n",
    "            return False\n",
    "    return True\n",
    "\n",
    "bag = parse_draw(\"12 red, 13 green, 14 blue\")\n",
    "assert possible_draw(parse_draw(\"3 blue, 4 red\"), bag)\n",
    "assert possible_draw(parse_draw(\"1 red, 2 green, 6 blue\"), bag)\n",
    "assert possible_draw(parse_draw(\"2 green\"), bag)\n",
    "\n",
    "assert possible_draw(parse_draw(\"8 green, 6 blue, 20 red\"), bag) == False\n",
    "\n",
    "def possible_game(game, bag):\n",
    "    \"\"\" Given repeated draws, is this possible?\"\"\"\n",
    "    for draw in game[\"draws\"]:\n",
    "        if not possible_draw(draw, bag):\n",
    "            return False\n",
    "    return True\n",
    "\n",
    "assert possible_game(games[0], bag)\n",
    "assert possible_game(games[1], bag)\n",
    "assert possible_game(games[2], bag) == False"
   ]
  },
  {
   "cell_type": "markdown",
   "id": "882db80a-3647-42be-9596-7d30188edafa",
   "metadata": {},
   "source": [
    "Fantastic, lets sum the ID's"
   ]
  },
  {
   "cell_type": "code",
   "execution_count": 4,
   "id": "bf79198a-3c35-44e0-9d05-87c367b3a154",
   "metadata": {},
   "outputs": [
    {
     "data": {
      "text/plain": [
       "8"
      ]
     },
     "execution_count": 4,
     "metadata": {},
     "output_type": "execute_result"
    }
   ],
   "source": [
    "sum([game[\"id\"] for game in games if possible_game(game, bag)])"
   ]
  },
  {
   "cell_type": "markdown",
   "id": "61ddf0e4-52dc-4e9a-bbd7-148533809ca6",
   "metadata": {},
   "source": [
    "That works, lets do it on real data"
   ]
  },
  {
   "cell_type": "code",
   "execution_count": 5,
   "id": "e56b8be6-5e51-462e-b593-484d0d1dc1f5",
   "metadata": {},
   "outputs": [
    {
     "data": {
      "text/plain": [
       "2101"
      ]
     },
     "execution_count": 5,
     "metadata": {},
     "output_type": "execute_result"
    }
   ],
   "source": [
    "real_games = [parse_line(line.strip()) for line in open(\"day2.txt\").readlines()]\n",
    "sum([game[\"id\"] for game in real_games if possible_game(game, bag)])"
   ]
  },
  {
   "cell_type": "markdown",
   "id": "40a950cb-32b2-4a47-89be-2355577ea2a7",
   "metadata": {},
   "source": [
    "## Part 2\n",
    "Oh, not what I was expecting for part 2.  I built my functions on the assumption that they might change whether cubes were put back in the bag or smething.\n",
    "But actually what we need to do is build the minimal size bag that can meet any given game.  We then calculate the power of a bag, and sum the powers."
   ]
  },
  {
   "cell_type": "code",
   "execution_count": 6,
   "id": "078a6c94-44f6-4993-8ebc-66ea164baf62",
   "metadata": {},
   "outputs": [],
   "source": [
    "from functools import reduce\n",
    "def bag_power(bag):\n",
    "    return reduce(lambda a,b: a*b, bag.values())\n",
    "\n",
    "assert bag_power(parse_draw(\"4 red, 2 green, 6 blue\")) == 48"
   ]
  },
  {
   "cell_type": "markdown",
   "id": "7a7d61cd-7e13-49fe-b356-970c74d3c5e6",
   "metadata": {},
   "source": [
    "Right, can I be smart about working out the smallest bag?\n",
    "\n",
    "We can problem use the reduce function here, which can iterate over a list of values, and returns something that combines the total so far, and the next item.\n",
    "We want to take the maximum of any colour we've seen so far, and also the maximum of any colour we've not seen."
   ]
  },
  {
   "cell_type": "code",
   "execution_count": 7,
   "id": "ecb06b7c-5150-4d21-9da9-4c8d578c65e3",
   "metadata": {},
   "outputs": [],
   "source": [
    "def max_bag(bag, draw):\n",
    "    new_max = {}\n",
    "    for colour,qty in bag.items():\n",
    "        new_max[colour] = qty\n",
    "        if colour in draw and draw[colour] > qty:\n",
    "            new_max[colour] = draw[colour]\n",
    "    for colour,qty in draw.items():\n",
    "        if colour not in new_max or new_max[colour]< qty:\n",
    "            new_max[colour] = qty\n",
    "    return new_max\n",
    "\n",
    "assert reduce(max_bag, games[0][\"draws\"]) == parse_draw(\"4 red, 2 green, 6 blue\")\n",
    "\n",
    "game_powers = [48, 12, 1560, 630, 36]\n",
    "\n",
    "for game,power in zip(games, game_powers):\n",
    "    assert bag_power(reduce(max_bag, game[\"draws\"])) == power"
   ]
  },
  {
   "cell_type": "markdown",
   "id": "146f8da6-f316-4bf5-bf10-7cd499159eb4",
   "metadata": {},
   "source": [
    "Right, that works, lets try in prod!"
   ]
  },
  {
   "cell_type": "code",
   "execution_count": 8,
   "id": "d29a0313-4293-45ed-8747-c55dd37b87b8",
   "metadata": {},
   "outputs": [
    {
     "data": {
      "text/plain": [
       "58269"
      ]
     },
     "execution_count": 8,
     "metadata": {},
     "output_type": "execute_result"
    }
   ],
   "source": [
    "sum([bag_power(reduce(max_bag, game[\"draws\"])) for game in real_games])"
   ]
  }
 ],
 "metadata": {
  "kernelspec": {
   "display_name": "Python 3 (ipykernel)",
   "language": "python",
   "name": "python3"
  },
  "language_info": {
   "codemirror_mode": {
    "name": "ipython",
    "version": 3
   },
   "file_extension": ".py",
   "mimetype": "text/x-python",
   "name": "python",
   "nbconvert_exporter": "python",
   "pygments_lexer": "ipython3",
   "version": "3.10.13"
  }
 },
 "nbformat": 4,
 "nbformat_minor": 5
}
