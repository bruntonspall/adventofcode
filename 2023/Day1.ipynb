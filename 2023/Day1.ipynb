{
 "cells": [
  {
   "cell_type": "markdown",
   "id": "1a142f43-17c1-4eff-bdb4-3bdbb507a6d1",
   "metadata": {},
   "source": [
    "# Day 1\n",
    "Ok, speed running because I'm already 8 days late.\n",
    "\n",
    "We've got to take strings like '1two3four5' and get first and last digits and turn them into a number.\n",
    "This feels like a job for a regex, if we use the \\d digit regular expression, and do a find first and find last, that should get each single digit.  We can try first of all seeing if regexes are greedy enough to consume all the letters."
   ]
  },
  {
   "cell_type": "code",
   "execution_count": 1,
   "id": "7109d686-e9cd-49bf-a4c5-6313d7cd34bf",
   "metadata": {},
   "outputs": [],
   "source": [
    "## Import ipytest and get it setup for use in Python Notebook\n",
    "import pytest\n",
    "import ipytest\n",
    "ipytest.autoconfig()"
   ]
  },
  {
   "cell_type": "code",
   "execution_count": 2,
   "id": "26aace04-7af2-4b99-b9a0-6fd7b88fa455",
   "metadata": {
    "scrolled": true
   },
   "outputs": [],
   "source": [
    "tests = [\n",
    "    (\"1abc2\", 12),\n",
    "    (\"pqr3stu8vwx\", 38),\n",
    "    (\"a1b2c3d4e5f\",15),\n",
    "    (\"treb7uchet\",77)]\n",
    "\n",
    "import re\n",
    "def numbers_from_string(s):\n",
    "    matches = re.findall(\"\\d\",s)\n",
    "    return int(matches[0]+matches[-1])\n",
    "\n",
    "for test in tests:\n",
    "    assert numbers_from_string(test[0]) == test[1]\n",
    "\n",
    "def total(lines):\n",
    "    return sum(map(numbers_from_string, lines))\n",
    "\n",
    "assert total(map(lambda a: a[0], tests)) == 142"
   ]
  },
  {
   "cell_type": "markdown",
   "id": "df39f9d1-11a9-4917-b01c-56dbbe62e216",
   "metadata": {},
   "source": [
    "Ok, lets try this on the actual data"
   ]
  },
  {
   "cell_type": "code",
   "execution_count": 3,
   "id": "745b7907-ae4c-417d-97a9-58737e4bdbfc",
   "metadata": {},
   "outputs": [
    {
     "name": "stdout",
     "output_type": "stream",
     "text": [
      "54159\n"
     ]
    }
   ],
   "source": [
    "lines = [line.strip() for line in open(\"day1.txt\").readlines()]\n",
    "nums = map(numbers_from_string, lines)\n",
    "total = sum(nums)\n",
    "print(total)"
   ]
  },
  {
   "cell_type": "markdown",
   "id": "9df22905-3bdf-4c26-9f31-00aa4797fb88",
   "metadata": {},
   "source": [
    "## Part 2\n",
    "\n",
    "Oh wow, so we need to look for either a numeral or a digit spelled out as one, two, three, four, five, six, seven, eight or nine.\n",
    "\n",
    "New test data, and therefore some new tests.  Our regex can probably still do this, but the convert to int is going to be complex."
   ]
  },
  {
   "cell_type": "code",
   "execution_count": 4,
   "id": "e0b898e5-d294-4809-af10-c2b76c685aa9",
   "metadata": {},
   "outputs": [],
   "source": [
    "tests = [\n",
    "    (\"two1nine\", 29),\n",
    "    (\"eightwothree\", 83),\n",
    "    (\"abcone2threexyz\",13),\n",
    "    (\"xtwone3four\",24),\n",
    "    (\"4nineeightseven2\",42),\n",
    "    (\"zoneight234\",14),\n",
    "    (\"7pqrstsixteen\",76)]\n",
    "\n",
    "test_to_number = {\n",
    "    \"one\":1,\n",
    "    \"1\":1,\n",
    "    \"two\":2,\n",
    "    \"2\":2,\n",
    "    \"three\":3,\n",
    "    \"3\":3,\n",
    "    \"four\":4,\n",
    "    \"4\":4,\n",
    "    \"five\":5,\n",
    "    \"5\":5,\n",
    "    \"six\":6,\n",
    "    \"6\":6,\n",
    "    \"seven\":7,\n",
    "    \"7\":7,\n",
    "    \"eight\":8,\n",
    "    \"8\":8,\n",
    "    \"nine\":9,\n",
    "    \"9\":9}\n",
    "\n",
    "def numbers_from_string(s):\n",
    "    matches = re.findall(\"one|two|three|four|five|six|seven|eight|nine|\\d\",s)\n",
    "    return test_to_number[matches[0]]*10+test_to_number[matches[-1]]\n",
    "\n",
    "for test in tests:\n",
    "    assert numbers_from_string(test[0]) == test[1]\n",
    "\n",
    "\n",
    "def total(lines):\n",
    "    return sum(map(numbers_from_string, lines))\n",
    "\n",
    "assert total(map(lambda a: a[0], tests)) == 281"
   ]
  },
  {
   "cell_type": "markdown",
   "id": "34fb08f9-7451-4a56-8661-db4161b50bcf",
   "metadata": {},
   "source": [
    "I think there's a problem in here, hinted by one of the examples, but not spelt out.  I haven't looked at teh test data in detail, but this is one of those \"my spideysense is tingling\" situations.\n",
    "\n",
    "The way regex's work is that they consume the letters, so on the example \"eightwothree\", the first \"eight\" is matched, and the regex continues on \"wothree\" to find \"three\".  But what if the question was \"eightwo\".  Reading the spec, I'd expect that to return 82, whereas I think it would in fact return 8.\n",
    "\n",
    "Let's fix that with a standalone test before working out our total from the full data\n"
   ]
  },
  {
   "cell_type": "code",
   "execution_count": 5,
   "id": "45f33545-5c30-4ee8-b935-8a1f2aba2b4b",
   "metadata": {},
   "outputs": [],
   "source": [
    "assert numbers_from_string(\"eightwo\") != 82\n",
    "\n",
    "def numbers_from_string(s):\n",
    "    matches = re.findall(\"(?=(one|two|three|four|five|six|seven|eight|nine|\\d))\",s)\n",
    "    return test_to_number[matches[0]]*10+test_to_number[matches[-1]]\n",
    "\n",
    "assert numbers_from_string(\"eightwo\") == 82\n",
    "\n",
    "# Check we didn't break any of our examples\n",
    "for test in tests:\n",
    "    assert numbers_from_string(test[0]) == test[1]"
   ]
  },
  {
   "cell_type": "markdown",
   "id": "21ede651-ba95-44f4-8e8e-2e6115c9cd95",
   "metadata": {},
   "source": [
    "Ok, lets do this on the data again"
   ]
  },
  {
   "cell_type": "code",
   "execution_count": 6,
   "id": "6a978895-d502-466e-8f78-a6ed13563296",
   "metadata": {},
   "outputs": [
    {
     "name": "stdout",
     "output_type": "stream",
     "text": [
      "53866\n"
     ]
    }
   ],
   "source": [
    "lines = [line.strip() for line in open(\"day1.txt\").readlines()]\n",
    "nums = map(numbers_from_string, lines)\n",
    "total = sum(nums)\n",
    "print(total)"
   ]
  }
 ],
 "metadata": {
  "kernelspec": {
   "display_name": "Python 3 (ipykernel)",
   "language": "python",
   "name": "python3"
  },
  "language_info": {
   "codemirror_mode": {
    "name": "ipython",
    "version": 3
   },
   "file_extension": ".py",
   "mimetype": "text/x-python",
   "name": "python",
   "nbconvert_exporter": "python",
   "pygments_lexer": "ipython3",
   "version": "3.10.13"
  }
 },
 "nbformat": 4,
 "nbformat_minor": 5
}
