{
 "cells": [
  {
   "cell_type": "markdown",
   "id": "61db94b4-8ea7-435a-8fc0-ad8b17181b34",
   "metadata": {},
   "source": [
    "# Day 3\n",
    "\n",
    "Let's look at this, it looks horrendous at first glance.\n",
    "\n",
    "We've got a grid of numbers, symbols and dots, and we're looking for all the numbers that are not adjacent to any symbol.\n",
    "\n",
    "That's not a terribly easy thing to work out, because numbers have arbitrary widths.\n",
    "\n",
    "My first thought is that we'll need to find each number in the grid, and then scan around it for a symbol.  Scanning around it might be as simple as having a lookup table of number widths to neighbouring adjancies or similar?\n",
    "i.e. a two digit number would have adjancies (from the first digit) of `[(-1,0), (-1,1), (0, 1), (1, 1), (2,1), (2,0)` etc.  I can probably generate that?\n",
    "\n",
    "But an alternative might be to iterate through every square on the grid, if it's a digit, explore it's surroundings to see if you can find a symbol.  We'd have to handle finding other digits in the same number, but if we assume that my model of numbers starting at the first number, we can start to hold a database of all the numbers we've found."
   ]
  },
  {
   "cell_type": "code",
   "execution_count": 1,
   "id": "4f6a5404-c46a-4148-bdcc-a24a07689a00",
   "metadata": {},
   "outputs": [],
   "source": [
    "## Import ipytest and get it setup for use in Python Notebook\n",
    "import pytest\n",
    "import ipytest\n",
    "ipytest.autoconfig()"
   ]
  },
  {
   "cell_type": "code",
   "execution_count": 2,
   "id": "9a1d3b4d-4a75-43c5-a65d-8caee772a87a",
   "metadata": {},
   "outputs": [],
   "source": [
    "grid = [line.strip() for line in \"\"\"467..114..\n",
    "...*......\n",
    "..35..633.\n",
    "......#...\n",
    "617*......\n",
    ".....+.58.\n",
    "..592.....\n",
    "......755.\n",
    "...$.*....\n",
    ".664.598..\"\"\".split(\"\\n\")]\n",
    "\n",
    "expected = {\n",
    "    (0,0):{\"total\":467, \"adjacent\":True},\n",
    "    (5,0):{\"total\":114, \"adjacent\":False},\n",
    "    (2,2):{\"total\":35, \"adjacent\":True},\n",
    "    (6,2):{\"total\":633, \"adjacent\":True},\n",
    "    (0,4):{\"total\":617, \"adjacent\":True},\n",
    "    (7,5):{\"total\":58, \"adjacent\":False},\n",
    "    (2,6):{\"total\":592, \"adjacent\":True},\n",
    "    (6,7):{\"total\":755, \"adjacent\":True},\n",
    "    (1,9):{\"total\":664, \"adjacent\":True},\n",
    "    (5,9):{\"total\":598, \"adjacent\":True}}\n",
    "\n",
    "\n",
    "def grid_get(grid, coord):\n",
    "    x,y = coord\n",
    "    if y < 0 or y >= len(grid): return \".\"\n",
    "    if x < 0 or x >= len(grid[y]): return \".\"\n",
    "    return grid[y][x]\n",
    "\n",
    "assert grid_get(grid, (0,0)) == \"4\"\n",
    "assert grid_get(grid, (3,0)) == \".\"\n",
    "assert grid_get(grid, (99,0)) == \".\"\n",
    "assert grid_get(grid, (-1,-1)) == \".\"\n",
    "\n",
    "\n",
    "assert grid_get(grid, (5,0)) == \"1\"\n",
    "assert grid_get(grid, (6,0)) == \"1\"\n",
    "assert grid_get(grid, (3,1)) == \"*\"\n",
    "\n",
    "def find_numbers(grid):\n",
    "    numbers = {}\n",
    "    for y,line in enumerate(grid):\n",
    "        for x,cell in enumerate(line):\n",
    "            if cell.isdigit():\n",
    "                # We've found a digit, if we're not the first, then add to existing\n",
    "                startx = x\n",
    "                if not grid_get(grid, (x-1,y)).isdigit():\n",
    "                    numbers[(x,y)] = {\"total\": int(cell), \"adjacent\":False}\n",
    "                else:\n",
    "                    # find the start of the number\n",
    "                    while grid_get(grid, (startx-1,y)).isdigit():\n",
    "                        startx -= 1\n",
    "                    numbers[(startx,y)][\"total\"] = numbers[(startx,y)][\"total\"]*10 + int(cell)\n",
    "                # Check Adjacency\n",
    "                for dy in range(-1,2):\n",
    "                    for dx in range(-1,2):\n",
    "                        if (dx,dy) != (0,0):\n",
    "                            test = grid_get(grid, (x+dx,y+dy))\n",
    "                            if not test.isdigit() and not test == \".\":\n",
    "                                numbers[(startx,y)][\"adjacent\"] = True\n",
    "                                \n",
    "    return numbers\n",
    "                \n",
    "assert find_numbers(grid) == expected"
   ]
  },
  {
   "cell_type": "markdown",
   "id": "5640f2d3-e860-4f6b-9d7c-8fd627cd37f6",
   "metadata": {},
   "source": [
    "What a horrible function.\n",
    "Let's look at what it does.\n",
    "\n",
    "Firstly, it looks at each cell in the grid in turn.\n",
    "It checks whether it's a digit, if it is, then it needs to find out if this is part of an existing number.\n",
    "If it's part of an existing number, it tries to find where it starts, and then it multiplies the total by 10, adds itself.\n",
    "That means that when it's at a line on y0 that reads .12, when it looks at x=1, it'll not find an earlier digit and set 1,0 to 1.  Then at x=2, it'll find the number, look at x=1, find another digit, look at x=0 and not find one, so it'll set 1,0 (instead of 2,0) to 1*10+2.\n",
    "\n",
    "Then comes the even more awkward bit, it looks at all the surrounding grid squares to see if there's a symbol adjacent.  If there is, set the number adjacency to true.\n",
    "We could probably optimise that and only do it if it's not already adjacent and stop once it finds the first adjacent symbol, but that feels like premature optimisation.\n",
    "\n",
    "Let's give it a go at producing our sum"
   ]
  },
  {
   "cell_type": "code",
   "execution_count": 3,
   "id": "45fa25e4-0144-45b5-add3-3ac3200d6d96",
   "metadata": {},
   "outputs": [],
   "source": [
    "def sum_numbers(grid):\n",
    "    return sum([match[\"total\"] for match in find_numbers(grid).values() if match[\"adjacent\"]])\n",
    "\n",
    "assert sum_numbers(grid) == 4361"
   ]
  },
  {
   "cell_type": "markdown",
   "id": "0b1cba68-8879-4854-ad9a-00aa8f814a88",
   "metadata": {},
   "source": [
    "Ok, that seems to work, let's try on real data"
   ]
  },
  {
   "cell_type": "code",
   "execution_count": 4,
   "id": "ee503760-0d9a-423b-83cd-44f0b3e75793",
   "metadata": {},
   "outputs": [
    {
     "name": "stdout",
     "output_type": "stream",
     "text": [
      "532445\n"
     ]
    }
   ],
   "source": [
    "real_grid = [line.strip() for line in open(\"day3.txt\").readlines()]\n",
    "print(sum_numbers(real_grid))"
   ]
  },
  {
   "cell_type": "markdown",
   "id": "96e136d5-8e88-4845-80c4-74029cae0a74",
   "metadata": {},
   "source": [
    "## Part 2\n",
    "\n",
    "Oh my, what an extension to Part 1!\n",
    "\n",
    "So this time, we're less interested in the numbers, but far more interested in gears, which are specific symbols.\n",
    "\n",
    "Luckily, from our side, our mechanism for searching the space should still work, we just need to also look for gears, and put them into the dataset as well.\n",
    "\n",
    "I talked about shortuctting the adjacency search before, which would have been a mistake.  We now need to count adjacency, but only for gears.\n",
    "\n",
    "However, we should probably refactor a few things out first\n",
    "\n",
    "Let's give it a bit of a go"
   ]
  },
  {
   "cell_type": "code",
   "execution_count": 5,
   "id": "6193b19f-e053-4cd3-a200-933cc209e9a8",
   "metadata": {},
   "outputs": [],
   "source": [
    "def find_first_number(grid, x, y):\n",
    "    startx = x\n",
    "    while grid_get(grid, (startx-1,y)).isdigit():\n",
    "        startx -= 1\n",
    "    return startx,y\n",
    "\n",
    "def find_adjacent(grid, x, y, test_func):\n",
    "    neighbours = []\n",
    "    for dy in range(-1,2):\n",
    "        for dx in range(-1,2):\n",
    "            if (dx,dy) != (0,0):\n",
    "                cell = grid_get(grid, (x+dx,y+dy))\n",
    "                if test_func(cell):\n",
    "                    neighbours.append((x+dx, y+dy))\n",
    "    return neighbours\n",
    "\n",
    "\n",
    "def find_numbers(grid):\n",
    "    numbers = {}\n",
    "    for y,line in enumerate(grid):\n",
    "        for x,cell in enumerate(line):\n",
    "            if cell.isdigit():\n",
    "                # We've found a digit, if we're not the first, then add to existing\n",
    "                numx,numy = find_first_number(grid, x, y)\n",
    "                if (x,y) == (numx,numy):\n",
    "                    numbers[(x,y)] = {\"total\": int(cell), \"adjacent\":False}\n",
    "                else:\n",
    "                    numbers[(numx,numy)][\"total\"] = numbers[(numx,numy)][\"total\"]*10 + int(cell)\n",
    "                # Check Adjacency\n",
    "                neighbours = find_adjacent(grid, x, y, lambda cell: not cell.isdigit() and not cell == \".\")\n",
    "                if neighbours:\n",
    "                    numbers[(numx,numy)][\"adjacent\"] = True\n",
    "    return numbers\n",
    "\n",
    "assert find_numbers(grid) == expected\n",
    "\n",
    "def sum_numbers(grid):\n",
    "    return sum([match[\"total\"] for match in find_numbers(grid).values() if match[\"adjacent\"]])\n",
    "\n",
    "assert sum_numbers(grid) == 4361"
   ]
  },
  {
   "cell_type": "markdown",
   "id": "ae9e59b8-1418-432f-99fc-bb638753662a",
   "metadata": {},
   "source": [
    "Right, if that works, let's tweak it to count gears as well.\n",
    "\n",
    "Interesting tidbit.  my first attempt at this didn't work.  The reason is that we don't calculate the totals for numbers until we read them, but when a gear has a number below it, we haven't worked out what the total is yet.\n",
    "So we now go through the grid twice, which feels wasteful, but I couldn't think of a better way to do this"
   ]
  },
  {
   "cell_type": "code",
   "execution_count": 6,
   "id": "373d0ecd-9ffe-4e99-bce4-1caa7e6b5410",
   "metadata": {},
   "outputs": [],
   "source": [
    "gears = {\n",
    "    (3,1): { \"adjacents\":[35, 467], \"ratio\":16345 },\n",
    "    (3,4): { \"adjacents\":[617] },\n",
    "    (5,8): { \"adjacents\": [598, 755], \"ratio\":451490 }\n",
    "}\n",
    "\n",
    "def find_numbers(grid):\n",
    "    numbers = {}\n",
    "    gears = {}\n",
    "    for y,line in enumerate(grid):\n",
    "        for x,cell in enumerate(line):\n",
    "            if cell.isdigit():\n",
    "                # We've found a digit, if we're not the first, then add to existing\n",
    "                numx,numy = find_first_number(grid, x, y)\n",
    "                if (x,y) == (numx,numy):\n",
    "                    numbers[(x,y)] = {\"total\": int(cell), \"adjacent\":False}\n",
    "                else:\n",
    "                    numbers[(numx,numy)][\"total\"] = numbers[(numx,numy)][\"total\"]*10 + int(cell)\n",
    "                # Check Adjacency\n",
    "                neighbours = find_adjacent(grid, x, y, lambda cell: not cell.isdigit() and not cell == \".\")\n",
    "                if neighbours:\n",
    "                    numbers[(numx,numy)][\"adjacent\"] = True\n",
    "    for y,line in enumerate(grid):\n",
    "        for x,cell in enumerate(line):\n",
    "            if cell == \"*\":\n",
    "                # We've found a gear, so find the neighbouring numbers\n",
    "                neighbours = set([find_first_number(grid, n[0], n[1]) for n in find_adjacent(grid, x, y, lambda cell: cell.isdigit())])\n",
    "                adjacents = sorted([numbers[neighbour[0], neighbour[1]][\"total\"] for neighbour in neighbours])\n",
    "                if len(adjacents) == 2:\n",
    "                    gears[(x,y)] = {\"adjacents\":adjacents, \"ratio\": adjacents[0]*adjacents[1]}\n",
    "                else:\n",
    "                    gears[(x,y)] = {\"adjacents\":adjacents}\n",
    "                \n",
    "    return numbers,gears\n",
    "\n",
    "assert find_numbers(grid)[0] == expected\n",
    "\n",
    "def sum_numbers(grid):\n",
    "    return sum([match[\"total\"] for match in find_numbers(grid)[0].values() if match[\"adjacent\"]])\n",
    "\n",
    "assert sum_numbers(grid) == 4361\n",
    "assert find_numbers(grid)[0] == expected\n",
    "assert find_numbers(grid)[1] == gears"
   ]
  },
  {
   "cell_type": "markdown",
   "id": "b1f342a1-5f27-4b59-a16e-a82266b1fc93",
   "metadata": {},
   "source": [
    "Ok, that works, looks horrendous, but works.\n",
    "\n",
    "Let's see if we can get the sums working"
   ]
  },
  {
   "cell_type": "code",
   "execution_count": 7,
   "id": "ded643c1-5440-44ae-bdc7-ec73620e1530",
   "metadata": {},
   "outputs": [],
   "source": [
    "def sum_gears(grid):\n",
    "    return sum([numbers[\"ratio\"] for numbers in find_numbers(grid)[1].values() if \"ratio\" in numbers])\n",
    "\n",
    "assert sum_gears(grid) == 467835"
   ]
  },
  {
   "cell_type": "markdown",
   "id": "634ea123-e052-4fad-aecb-5cd03c5ae2f4",
   "metadata": {},
   "source": [
    "Phew!\n",
    "\n",
    "Let's try that on real data"
   ]
  },
  {
   "cell_type": "code",
   "execution_count": 8,
   "id": "60710fdd-1466-4f60-8f7f-0d6c6e3f81e8",
   "metadata": {},
   "outputs": [
    {
     "name": "stdout",
     "output_type": "stream",
     "text": [
      "79842967\n"
     ]
    }
   ],
   "source": [
    "print(sum_gears(real_grid))"
   ]
  }
 ],
 "metadata": {
  "kernelspec": {
   "display_name": "Python 3 (ipykernel)",
   "language": "python",
   "name": "python3"
  },
  "language_info": {
   "codemirror_mode": {
    "name": "ipython",
    "version": 3
   },
   "file_extension": ".py",
   "mimetype": "text/x-python",
   "name": "python",
   "nbconvert_exporter": "python",
   "pygments_lexer": "ipython3",
   "version": "3.10.13"
  }
 },
 "nbformat": 4,
 "nbformat_minor": 5
}
